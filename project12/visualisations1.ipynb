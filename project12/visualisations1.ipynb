{
 "cells": [
  {
   "cell_type": "markdown",
   "metadata": {},
   "source": [
    "### loading files"
   ]
  },
  {
   "cell_type": "code",
   "execution_count": 1,
   "metadata": {},
   "outputs": [
    {
     "name": "stderr",
     "output_type": "stream",
     "text": [
      "C:\\Users\\nisar\\AppData\\Local\\Temp\\ipykernel_81804\\578204215.py:5: FutureWarning: You are using `torch.load` with `weights_only=False` (the current default value), which uses the default pickle module implicitly. It is possible to construct malicious pickle data which will execute arbitrary code during unpickling (See https://github.com/pytorch/pytorch/blob/main/SECURITY.md#untrusted-models for more details). In a future release, the default value for `weights_only` will be flipped to `True`. This limits the functions that could be executed during unpickling. Arbitrary objects will no longer be allowed to be loaded via this mode unless they are explicitly allowlisted by the user via `torch.serialization.add_safe_globals`. We recommend you start setting `weights_only=True` for any use case where you don't have full control of the loaded file. Please open an issue on GitHub for any issues related to this experimental feature.\n",
      "  labels_tensor = torch.load(\"C:/Users/nisar/github-classroom/uwa-computer-science/project-12-prototype-bio-acoustic-detection-system-soundsentinel/tensors/labels_tensor.pt\")\n"
     ]
    },
    {
     "name": "stdout",
     "output_type": "stream",
     "text": [
      "Original Labels distribution: tensor([1294,   95, 1046,   53,   40], device='cuda:0')\n"
     ]
    },
    {
     "name": "stderr",
     "output_type": "stream",
     "text": [
      "C:\\Users\\nisar\\AppData\\Local\\Temp\\ipykernel_81804\\578204215.py:6: FutureWarning: You are using `torch.load` with `weights_only=False` (the current default value), which uses the default pickle module implicitly. It is possible to construct malicious pickle data which will execute arbitrary code during unpickling (See https://github.com/pytorch/pytorch/blob/main/SECURITY.md#untrusted-models for more details). In a future release, the default value for `weights_only` will be flipped to `True`. This limits the functions that could be executed during unpickling. Arbitrary objects will no longer be allowed to be loaded via this mode unless they are explicitly allowlisted by the user via `torch.serialization.add_safe_globals`. We recommend you start setting `weights_only=True` for any use case where you don't have full control of the loaded file. Please open an issue on GitHub for any issues related to this experimental feature.\n",
      "  spikes_tensor = torch.load(\"C:/Users/nisar/github-classroom/uwa-computer-science/project-12-prototype-bio-acoustic-detection-system-soundsentinel/tensors/spike_data_tensor.pt\")\n"
     ]
    }
   ],
   "source": [
    "import torch\n",
    "import numpy as np\n",
    "\n",
    "# Load tensor\n",
    "labels_tensor = torch.load(\"C:/Users/nisar/github-classroom/uwa-computer-science/project-12-prototype-bio-acoustic-detection-system-soundsentinel/tensors/labels_tensor.pt\")\n",
    "spikes_tensor = torch.load(\"C:/Users/nisar/github-classroom/uwa-computer-science/project-12-prototype-bio-acoustic-detection-system-soundsentinel/tensors/spike_data_tensor.pt\")\n",
    "\n",
    "label_distribution = torch.bincount(labels_tensor)\n",
    "print(f'Original Labels distribution: {label_distribution}')"
   ]
  },
  {
   "cell_type": "markdown",
   "metadata": {},
   "source": [
    "### dataset"
   ]
  },
  {
   "cell_type": "code",
   "execution_count": 2,
   "metadata": {},
   "outputs": [
    {
     "name": "stdout",
     "output_type": "stream",
     "text": [
      "Number of downsampled label 0 samples: 1046\n",
      "Number of target label 1 samples: 1046\n",
      "Balanced dataset length: 2092\n",
      "Filtered Labels distribution after processing: tensor([1046, 1046], device='cuda:0')\n"
     ]
    }
   ],
   "source": [
    "import torch\n",
    "import numpy as np\n",
    "\n",
    "class CCMKDataset(torch.utils.data.Dataset):\n",
    "    def __init__(self, spikes_tensor, labels_tensor, target_label=2):\n",
    "        self.spikes_tensor = spikes_tensor\n",
    "        self.labels_tensor = labels_tensor\n",
    "        self.target_label = target_label\n",
    "\n",
    "        # Step 1: Ignore labels 1, 3, and 4\n",
    "        valid_mask = (self.labels_tensor == 0) | (self.labels_tensor == target_label)\n",
    "        self.spikes_tensor = self.spikes_tensor[valid_mask]\n",
    "        self.labels_tensor = self.labels_tensor[valid_mask]\n",
    "\n",
    "        # Convert the target label (2) to 1 (positive sample)\n",
    "        self.labels_tensor[self.labels_tensor == target_label] = 1\n",
    "\n",
    "        # Step 2: Downsample label 0 (background noise) to match the number of target samples (label 2 -> now 1)\n",
    "        label_0_indices = torch.where(self.labels_tensor == 0)[0]\n",
    "        label_1_indices = torch.where(self.labels_tensor == 1)[0]\n",
    "\n",
    "        # print samples\n",
    "        #print(f\"Number of label 0 samples before downsampling: {len(label_0_indices)}\")\n",
    "        #print(f\"Number of label 1 samples (after converting target label 2 to 1): {len(label_1_indices)}\")\n",
    "\n",
    "        num_samples = min(len(label_1_indices), len(label_0_indices))\n",
    "\n",
    "        # Randomly sample from label 0 and label 1 indices\n",
    "        selected_label_0_indices = torch.tensor(np.random.choice(label_0_indices.cpu(), size=num_samples, replace=False))\n",
    "        selected_label_1_indices = torch.tensor(np.random.choice(label_1_indices.cpu(), size=num_samples, replace=False))\n",
    "\n",
    "        # Combine the downsampled label 0 indices with label 1 indices\n",
    "        balanced_indices = torch.cat([selected_label_0_indices, selected_label_1_indices])\n",
    "\n",
    "        # print data after samples\n",
    "        print(f\"Number of downsampled label 0 samples: {len(selected_label_0_indices)}\")\n",
    "        print(f\"Number of target label 1 samples: {len(selected_label_1_indices)}\")\n",
    "        print(f\"Balanced dataset length: {len(balanced_indices)}\")\n",
    "\n",
    "        # Apply the balanced indices to spikes and labels\n",
    "        self.spikes_tensor = self.spikes_tensor[balanced_indices]\n",
    "        self.labels_tensor = self.labels_tensor[balanced_indices]\n",
    "\n",
    "        # Debugging: Check the distribution of labels after processing\n",
    "        print(f\"Filtered Labels distribution after processing: {torch.bincount(self.labels_tensor.int())}\")\n",
    "\n",
    "    def __len__(self):\n",
    "        return len(self.labels_tensor)\n",
    "\n",
    "    def __getitem__(self, idx):\n",
    "        return self.spikes_tensor[idx], self.labels_tensor[idx]\n",
    "\n",
    "dataset = CCMKDataset(spikes_tensor=spikes_tensor, labels_tensor=labels_tensor)"
   ]
  },
  {
   "cell_type": "markdown",
   "metadata": {},
   "source": [
    "### dataloader and split"
   ]
  },
  {
   "cell_type": "code",
   "execution_count": 3,
   "metadata": {},
   "outputs": [],
   "source": [
    "from torch.utils.data import Dataset, DataLoader, Subset, random_split\n",
    "\n",
    "\n",
    "# Balance the dataset by selecting equal samples from both classes\n",
    "label_0_indices = torch.where(dataset.labels_tensor == 0)[0]\n",
    "label_1_indices = torch.where(dataset.labels_tensor == 1)[0]\n",
    "\n",
    "dataset_0 = torch.utils.data.Subset(dataset, label_0_indices)\n",
    "dataset_1 = torch.utils.data.Subset(dataset, label_1_indices)\n",
    "\n",
    "# Split size\n",
    "train_size_0 = int(0.8 * len(dataset_0))\n",
    "val_size_0 = int(0.1 * len(dataset_0))\n",
    "test_size_0 = len(dataset_0) - train_size_0 - val_size_0\n",
    "\n",
    "train_size_1 = int(0.8 * len(dataset_1))\n",
    "val_size_1 = int(0.1 * len(dataset_1))\n",
    "test_size_1 = len(dataset_1) - train_size_1 - val_size_1\n",
    "\n",
    "# Split the dataset\n",
    "train_dataset_0, val_dataset_0, test_dataset_0 = random_split(dataset_0, [train_size_0, val_size_0, test_size_0], generator=torch.Generator().manual_seed(42))\n",
    "train_dataset_1, val_dataset_1, test_dataset_1 = random_split(dataset_1, [train_size_1, val_size_1, test_size_1], generator=torch.Generator().manual_seed(42))\n",
    "\n",
    "# Combine splits from both classes\n",
    "train_dataset = torch.utils.data.ConcatDataset([train_dataset_0, train_dataset_1])\n",
    "val_dataset = torch.utils.data.ConcatDataset([val_dataset_0, val_dataset_1])\n",
    "test_dataset = torch.utils.data.ConcatDataset([test_dataset_0, test_dataset_1])\n",
    "\n",
    "# Create DataLoaders\n",
    "train_loader = DataLoader(train_dataset, batch_size=32, shuffle=True)\n",
    "val_loader = DataLoader(val_dataset, batch_size=32, shuffle=False)\n",
    "test_loader = DataLoader(test_dataset, batch_size=32, shuffle=False)\n"
   ]
  },
  {
   "cell_type": "code",
   "execution_count": 4,
   "metadata": {},
   "outputs": [
    {
     "name": "stdout",
     "output_type": "stream",
     "text": [
      "Train dataset size: 1672\n",
      "Test dataset size: 212\n",
      "Validation dataset size: 208\n",
      "Batch 1:\n",
      " - Inputs shape: torch.Size([32, 16, 101])\n",
      " - Targets shape: torch.Size([32])\n",
      "Train Labels distribution: tensor([836, 836], device='cuda:0')\n",
      "Validation Labels distribution: tensor([104, 104], device='cuda:0')\n",
      "Test Labels distribution: tensor([106, 106], device='cuda:0')\n"
     ]
    }
   ],
   "source": [
    "# Print the shape of the first sample in the dataset\n",
    "print(f\"Train dataset size: {len(train_dataset)}\")\n",
    "print(f\"Test dataset size: {len(test_dataset)}\")\n",
    "print(f\"Validation dataset size: {len(val_dataset)}\")\n",
    "\n",
    "# Check batch information in the train_loader\n",
    "for batch_idx, (inputs, targets) in enumerate(train_loader):\n",
    "    print(f\"Batch {batch_idx + 1}:\")\n",
    "    print(f\" - Inputs shape: {inputs.shape}\")  # Batch size x Number of channels x Number of time steps\n",
    "    print(f\" - Targets shape: {targets.shape}\")\n",
    "    break  # Only view the first batch\n",
    "\n",
    "# Calculate and print the labels distribution in each loader\n",
    "\n",
    "# Training data label distribution\n",
    "train_labels = torch.cat([batch[1] for batch in train_loader])\n",
    "print(f'Train Labels distribution: {torch.bincount(train_labels.int())}')\n",
    "\n",
    "# Validation data label distribution\n",
    "val_labels = torch.cat([batch[1] for batch in val_loader])\n",
    "print(f'Validation Labels distribution: {torch.bincount(val_labels.int())}')\n",
    "\n",
    "# Test data label distribution\n",
    "test_labels = torch.cat([batch[1] for batch in test_loader])\n",
    "print(f'Test Labels distribution: {torch.bincount(test_labels.int())}')"
   ]
  },
  {
   "cell_type": "code",
   "execution_count": 7,
   "metadata": {},
   "outputs": [
    {
     "name": "stderr",
     "output_type": "stream",
     "text": [
      "\u001b[34m\u001b[1mwandb\u001b[0m: Using wandb-core as the SDK backend. Please refer to https://wandb.me/wandb-core for more information.\n",
      "\u001b[34m\u001b[1mwandb\u001b[0m: Currently logged in as: \u001b[33m18750937507\u001b[0m (\u001b[33m18750937507-uwa\u001b[0m). Use \u001b[1m`wandb login --relogin`\u001b[0m to force relogin\n"
     ]
    },
    {
     "data": {
      "text/plain": [
       "True"
      ]
     },
     "execution_count": 7,
     "metadata": {},
     "output_type": "execute_result"
    }
   ],
   "source": [
    "import wandb\n",
    "wandb.login()"
   ]
  },
  {
   "cell_type": "code",
   "execution_count": 14,
   "metadata": {},
   "outputs": [],
   "source": [
    "import random\n",
    "import numpy as np\n",
    "import torch\n",
    "\n",
    "# Set the random seed for reproducibility\n",
    "seed = 42\n",
    "random.seed(seed)\n",
    "np.random.seed(seed)\n",
    "torch.manual_seed(seed)\n",
    "torch.cuda.manual_seed(seed)"
   ]
  },
  {
   "cell_type": "code",
   "execution_count": 68,
   "metadata": {},
   "outputs": [
    {
     "data": {
      "text/html": [
       "Finishing last run (ID:rztll2ar) before initializing another..."
      ],
      "text/plain": [
       "<IPython.core.display.HTML object>"
      ]
     },
     "metadata": {},
     "output_type": "display_data"
    },
    {
     "data": {
      "text/html": [
       "<style>\n",
       "    table.wandb td:nth-child(1) { padding: 0 10px; text-align: left ; width: auto;} td:nth-child(2) {text-align: left ; width: 100%}\n",
       "    .wandb-row { display: flex; flex-direction: row; flex-wrap: wrap; justify-content: flex-start; width: 100% }\n",
       "    .wandb-col { display: flex; flex-direction: column; flex-basis: 100%; flex: 1; padding: 10px; }\n",
       "    </style>\n",
       "<div class=\"wandb-row\"><div class=\"wandb-col\"><h3>Run history:</h3><br/><table class=\"wandb\"><tr><td>epoch</td><td>▁▂▃▃▄▅▆▆▇█</td></tr><tr><td>train_loss</td><td>█▃▂▃▃▂▃▂▃▁</td></tr><tr><td>val_accuracy</td><td>▅▄▆██▁▇▇▇▇</td></tr><tr><td>val_loss</td><td>▁▂▃▄▂▃▆█▄▅</td></tr></table><br/></div><div class=\"wandb-col\"><h3>Run summary:</h3><br/><table class=\"wandb\"><tr><td>epoch</td><td>10</td></tr><tr><td>train_loss</td><td>0.07729</td></tr><tr><td>val_accuracy</td><td>0.74519</td></tr><tr><td>val_loss</td><td>0.36946</td></tr></table><br/></div></div>"
      ],
      "text/plain": [
       "<IPython.core.display.HTML object>"
      ]
     },
     "metadata": {},
     "output_type": "display_data"
    },
    {
     "data": {
      "text/html": [
       " View run <strong style=\"color:#cdcd00\">my_new_run_32layer_augmented</strong> at: <a href='https://wandb.ai/18750937507-uwa/18750937507-uwa/runs/rztll2ar' target=\"_blank\">https://wandb.ai/18750937507-uwa/18750937507-uwa/runs/rztll2ar</a><br/> View project at: <a href='https://wandb.ai/18750937507-uwa/18750937507-uwa' target=\"_blank\">https://wandb.ai/18750937507-uwa/18750937507-uwa</a><br/>Synced 5 W&B file(s), 0 media file(s), 2 artifact file(s) and 0 other file(s)"
      ],
      "text/plain": [
       "<IPython.core.display.HTML object>"
      ]
     },
     "metadata": {},
     "output_type": "display_data"
    },
    {
     "data": {
      "text/html": [
       "Find logs at: <code>.\\wandb\\run-20240927_132519-rztll2ar\\logs</code>"
      ],
      "text/plain": [
       "<IPython.core.display.HTML object>"
      ]
     },
     "metadata": {},
     "output_type": "display_data"
    },
    {
     "data": {
      "text/html": [
       "Successfully finished last run (ID:rztll2ar). Initializing new run:<br/>"
      ],
      "text/plain": [
       "<IPython.core.display.HTML object>"
      ]
     },
     "metadata": {},
     "output_type": "display_data"
    },
    {
     "data": {
      "text/html": [
       "Tracking run with wandb version 0.18.1"
      ],
      "text/plain": [
       "<IPython.core.display.HTML object>"
      ]
     },
     "metadata": {},
     "output_type": "display_data"
    },
    {
     "data": {
      "text/html": [
       "Run data is saved locally in <code>c:\\Users\\nisar\\github-classroom\\uwa-computer-science\\project-12-prototype-bio-acoustic-detection-system-soundsentinel\\angela19sep\\wandb\\run-20240927_140752-n1v5bykp</code>"
      ],
      "text/plain": [
       "<IPython.core.display.HTML object>"
      ]
     },
     "metadata": {},
     "output_type": "display_data"
    },
    {
     "data": {
      "text/html": [
       "Syncing run <strong><a href='https://wandb.ai/18750937507-uwa/spike-data-visualization/runs/n1v5bykp' target=\"_blank\">cool-sea-12</a></strong> to <a href='https://wandb.ai/18750937507-uwa/spike-data-visualization' target=\"_blank\">Weights & Biases</a> (<a href='https://wandb.me/run' target=\"_blank\">docs</a>)<br/>"
      ],
      "text/plain": [
       "<IPython.core.display.HTML object>"
      ]
     },
     "metadata": {},
     "output_type": "display_data"
    },
    {
     "data": {
      "text/html": [
       " View project at <a href='https://wandb.ai/18750937507-uwa/spike-data-visualization' target=\"_blank\">https://wandb.ai/18750937507-uwa/spike-data-visualization</a>"
      ],
      "text/plain": [
       "<IPython.core.display.HTML object>"
      ]
     },
     "metadata": {},
     "output_type": "display_data"
    },
    {
     "data": {
      "text/html": [
       " View run at <a href='https://wandb.ai/18750937507-uwa/spike-data-visualization/runs/n1v5bykp' target=\"_blank\">https://wandb.ai/18750937507-uwa/spike-data-visualization/runs/n1v5bykp</a>"
      ],
      "text/plain": [
       "<IPython.core.display.HTML object>"
      ]
     },
     "metadata": {},
     "output_type": "display_data"
    },
    {
     "data": {
      "image/png": "[encoded data removed]",
      "text/plain": [
       "<Figure size 1000x400 with 1 Axes>"
      ]
     },
     "metadata": {},
     "output_type": "display_data"
    },
    {
     "data": {
      "image/png": "[encoded data removed]",
      "text/plain": [
       "<Figure size 1000x400 with 1 Axes>"
      ]
     },
     "metadata": {},
     "output_type": "display_data"
    },
    {
     "data": {
      "text/html": [
       " View run <strong style=\"color:#cdcd00\">cool-sea-12</strong> at: <a href='https://wandb.ai/18750937507-uwa/spike-data-visualization/runs/n1v5bykp' target=\"_blank\">https://wandb.ai/18750937507-uwa/spike-data-visualization/runs/n1v5bykp</a><br/> View project at: <a href='https://wandb.ai/18750937507-uwa/spike-data-visualization' target=\"_blank\">https://wandb.ai/18750937507-uwa/spike-data-visualization</a><br/>Synced 5 W&B file(s), 0 media file(s), 2 artifact file(s) and 2 other file(s)"
      ],
      "text/plain": [
       "<IPython.core.display.HTML object>"
      ]
     },
     "metadata": {},
     "output_type": "display_data"
    },
    {
     "data": {
      "text/html": [
       "Find logs at: <code>.\\wandb\\run-20240927_140752-n1v5bykp\\logs</code>"
      ],
      "text/plain": [
       "<IPython.core.display.HTML object>"
      ]
     },
     "metadata": {},
     "output_type": "display_data"
    }
   ],
   "source": [
    "import torch\n",
    "import matplotlib.pyplot as plt\n",
    "import wandb\n",
    "\n",
    "\n",
    "# Initialize WandB project\n",
    "wandb.init(project=\"spike-data-visualization\")\n",
    "\n",
    "# Function to visualize a sample and log it to WandB\n",
    "def visualize_sample(spike_data, label, sample_idx):\n",
    "    # Create figure\n",
    "    fig, ax = plt.subplots(figsize=(10, 4))\n",
    "    \n",
    "    ax.plot(spike_data[sample_idx].cpu().numpy().T)  # Transpose to plot over time\n",
    "    ax.set_title(f\"Sample from Class {label}, Index {sample_idx}\")\n",
    "    ax.set_xlabel('Time Steps')\n",
    "    ax.set_ylabel('Amplitude')\n",
    "\n",
    "    # Log figure to WandB\n",
    "    wandb.log({f\"Class_{label}_Sample_{sample_idx}\": wandb.Image(fig)})\n",
    "\n",
    "    # Show the plot locally\n",
    "    plt.show()\n",
    "\n",
    "    # Close the figure to avoid memory leakage\n",
    "    plt.close(fig)\n",
    "\n",
    "# Choose sample index from class 0 and class 1\n",
    "label_0_indices = torch.where(dataset.labels_tensor == 0)[0]\n",
    "label_1_indices = torch.where(dataset.labels_tensor == 1)[0]\n",
    "\n",
    "# Choose specific indices to visualize\n",
    "sample_idx_0 = label_0_indices[4]  # Specific sample from class 0\n",
    "sample_idx_1 = label_1_indices[0]  # Specific sample from class 1\n",
    "\n",
    "# Visualize class 0 sample and log it to WandB\n",
    "visualize_sample(dataset.spikes_tensor, label=0, sample_idx=sample_idx_0)\n",
    "\n",
    "# Visualize class 1 sample and log it to WandB\n",
    "visualize_sample(dataset.spikes_tensor, label=1, sample_idx=sample_idx_1)\n",
    "\n",
    "# Finish the WandB run\n",
    "wandb.finish()"
   ]
  },
  {
   "cell_type": "markdown",
   "metadata": {},
   "source": [
    "## model1"
   ]
  },
  {
   "cell_type": "code",
   "execution_count": 17,
   "metadata": {},
   "outputs": [
    {
     "name": "stdout",
     "output_type": "stream",
     "text": [
      "SynNet  with shape (16, 1) {\n",
      "    TorchSequential 'seq' with shape (16, 1) {\n",
      "        LinearTorch '0_LinearTorch' with shape (16, 24)\n",
      "        LIFTorch '1_LIFTorch' with shape (24, 24)\n",
      "        TimeStepDropout '2_TimeStepDropout' with shape (24,)\n",
      "        LinearTorch '3_LinearTorch' with shape (24, 24)\n",
      "        LIFTorch '4_LIFTorch' with shape (24, 24)\n",
      "        TimeStepDropout '5_TimeStepDropout' with shape (24,)\n",
      "        LinearTorch '6_LinearTorch' with shape (24, 24)\n",
      "        LIFTorch '7_LIFTorch' with shape (24, 24)\n",
      "        TimeStepDropout '8_TimeStepDropout' with shape (24,)\n",
      "        LinearTorch '9_LinearTorch' with shape (24, 1)\n",
      "        LIFTorch '10_LIFTorch' with shape (1, 1)\n",
      "    }\n",
      "}\n"
     ]
    }
   ],
   "source": [
    "import torch\n",
    "from torch.optim import Adam\n",
    "from torch.nn import MSELoss\n",
    "from rockpool.nn.networks import SynNet\n",
    "\n",
    "# Define dataset characteristics\n",
    "n_channels = 16  # Number of input channels\n",
    "n_classes = 1    # the output of MSELoss is discrete\n",
    "n_time = 101     # Number of time steps\n",
    "batch_size = 32  # Batch size\n",
    "\n",
    "# Initialize the SynNet model and name it model1\n",
    "model1 = SynNet(\n",
    "    p_dropout=0.1,                        # Dropout proportion to use\n",
    "    n_channels=n_channels,                # Number of input channels\n",
    "    n_classes=n_classes,                  # Number of output classes (1 for regression)\n",
    "    size_hidden_layers=[24, 24, 24],      # Number of neurons in each hidden layer\n",
    "    time_constants_per_layer=[2, 4, 8],   # Time constants for each layer\n",
    ")\n",
    "\n",
    "print(model1)"
   ]
  },
  {
   "cell_type": "code",
   "execution_count": 18,
   "metadata": {},
   "outputs": [
    {
     "name": "stdout",
     "output_type": "stream",
     "text": [
      "All layer names: ['1_LIFTorch', '4_LIFTorch', '7_LIFTorch', '10_LIFTorch']\n"
     ]
    }
   ],
   "source": [
    "# Verifying the Layer Structure:\n",
    "print(\"All layer names:\", model1.lif_names)"
   ]
  },
  {
   "cell_type": "code",
   "execution_count": 19,
   "metadata": {},
   "outputs": [
    {
     "name": "stdout",
     "output_type": "stream",
     "text": [
      "Predicted outputs: (tensor([[[0.],\n",
      "         [0.],\n",
      "         [0.],\n",
      "         ...,\n",
      "         [0.],\n",
      "         [0.],\n",
      "         [0.]],\n",
      "\n",
      "        [[0.],\n",
      "         [0.],\n",
      "         [0.],\n",
      "         ...,\n",
      "         [0.],\n",
      "         [0.],\n",
      "         [0.]],\n",
      "\n",
      "        [[0.],\n",
      "         [0.],\n",
      "         [0.],\n",
      "         ...,\n",
      "         [0.],\n",
      "         [0.],\n",
      "         [0.]],\n",
      "\n",
      "        ...,\n",
      "\n",
      "        [[0.],\n",
      "         [0.],\n",
      "         [0.],\n",
      "         ...,\n",
      "         [0.],\n",
      "         [0.],\n",
      "         [0.]],\n",
      "\n",
      "        [[0.],\n",
      "         [0.],\n",
      "         [0.],\n",
      "         ...,\n",
      "         [0.],\n",
      "         [0.],\n",
      "         [0.]],\n",
      "\n",
      "        [[0.],\n",
      "         [0.],\n",
      "         [0.],\n",
      "         ...,\n",
      "         [0.],\n",
      "         [0.],\n",
      "         [0.]]], device='cuda:0', grad_fn=<CopySlices>), {'seq': {'0_LinearTorch': {}, '1_LIFTorch': {'vmem': tensor([ 0.0654, -0.1171,  0.0201, -0.0762, -0.0156, -0.0996, -0.0377, -0.3129,\n",
      "        -0.0186,  0.0873,  0.0178,  0.1244,  0.0580,  0.0980,  0.0502, -0.1543,\n",
      "        -0.0349, -0.0118, -0.0207,  0.1651, -0.0256, -0.1442,  0.0328,  0.0816],\n",
      "       device='cuda:0'), 'isyn': tensor([[ 1.2150e-02],\n",
      "        [-3.8471e-02],\n",
      "        [ 3.0331e-03],\n",
      "        [-2.8684e-02],\n",
      "        [-2.8694e-03],\n",
      "        [-3.7040e-02],\n",
      "        [-5.6536e-03],\n",
      "        [-1.0984e-01],\n",
      "        [-3.0242e-03],\n",
      "        [ 3.0370e-02],\n",
      "        [ 3.2645e-03],\n",
      "        [ 4.3902e-02],\n",
      "        [ 1.1522e-02],\n",
      "        [ 3.4752e-02],\n",
      "        [ 9.4571e-03],\n",
      "        [-5.4286e-02],\n",
      "        [-8.1948e-03],\n",
      "        [-4.2999e-06],\n",
      "        [-2.8646e-03],\n",
      "        [ 5.9851e-02],\n",
      "        [-3.7811e-03],\n",
      "        [-4.5915e-02],\n",
      "        [ 7.1106e-03],\n",
      "        [ 2.7716e-02]], device='cuda:0'), 'spikes': tensor([0., 0., 0., 0., 0., 0., 0., 0., 0., 0., 0., 0., 0., 0., 0., 0., 0., 0., 0., 0., 0., 0., 0., 0.],\n",
      "       device='cuda:0')}, '2_TimeStepDropout': {}, '3_LinearTorch': {}, '4_LIFTorch': {'vmem': tensor([-0.0014, -0.0938, -0.1598,  0.3317,  0.0046,  0.0630,  0.1360, -0.6741,\n",
      "        -0.0018, -0.0080, -0.1403, -0.1667,  0.0030,  0.0584,  0.0500, -0.4894,\n",
      "        -0.0021,  0.0715,  0.0801,  0.1454,  0.0015,  0.0262,  0.0366, -0.3504],\n",
      "       device='cuda:0'), 'isyn': tensor([[-1.2717e-04],\n",
      "        [-3.1596e-02],\n",
      "        [-6.8590e-02],\n",
      "        [ 1.5482e-01],\n",
      "        [ 4.2067e-04],\n",
      "        [ 2.1206e-02],\n",
      "        [ 5.8376e-02],\n",
      "        [-3.1465e-01],\n",
      "        [-1.5737e-04],\n",
      "        [-2.7616e-03],\n",
      "        [-6.0213e-02],\n",
      "        [-7.7813e-02],\n",
      "        [ 3.0788e-04],\n",
      "        [ 1.9694e-02],\n",
      "        [ 2.1463e-02],\n",
      "        [-2.2847e-01],\n",
      "        [-1.9709e-04],\n",
      "        [ 2.4042e-02],\n",
      "        [ 3.4376e-02],\n",
      "        [ 6.7859e-02],\n",
      "        [ 9.4368e-05],\n",
      "        [ 8.7609e-03],\n",
      "        [ 1.5744e-02],\n",
      "        [-1.6358e-01]], device='cuda:0'), 'spikes': tensor([0., 0., 0., 0., 0., 0., 0., 0., 0., 0., 0., 0., 0., 0., 0., 0., 0., 0., 0., 0., 0., 0., 0., 0.],\n",
      "       device='cuda:0')}, '5_TimeStepDropout': {}, '6_LinearTorch': {}, '7_LIFTorch': {'vmem': tensor([ 7.2097e-11, -1.2956e-05, -1.8263e-02,  4.9747e-02,  2.4165e-01,\n",
      "         3.1725e-02,  1.8943e-01,  3.8782e-02,  8.8528e-11, -1.2868e-05,\n",
      "         2.0770e-02,  1.1234e-01,  5.8263e-02,  4.0488e-01,  1.1704e-01,\n",
      "         1.2256e-01,  6.7206e-10,  3.5561e-05, -1.2928e-02, -3.1844e-02,\n",
      "         2.3404e-01,  8.9266e-02,  3.3546e-02,  2.1150e-02], device='cuda:0'), 'isyn': tensor([[ 1.2438e-12],\n",
      "        [-4.3186e-06],\n",
      "        [-7.8271e-03],\n",
      "        [ 2.3215e-02],\n",
      "        [ 1.1693e-01],\n",
      "        [ 1.5611e-02],\n",
      "        [ 9.3968e-02],\n",
      "        [ 1.9315e-02],\n",
      "        [ 2.6969e-12],\n",
      "        [-4.2893e-06],\n",
      "        [ 8.9014e-03],\n",
      "        [ 5.2425e-02],\n",
      "        [ 2.8192e-02],\n",
      "        [ 1.9923e-01],\n",
      "        [ 5.8060e-02],\n",
      "        [ 6.1039e-02],\n",
      "        [ 1.9876e-11],\n",
      "        [ 1.1854e-05],\n",
      "        [-5.5405e-03],\n",
      "        [-1.4861e-02],\n",
      "        [ 1.1324e-01],\n",
      "        [ 4.3925e-02],\n",
      "        [ 1.6641e-02],\n",
      "        [ 1.0533e-02]], device='cuda:0'), 'spikes': tensor([0., 0., 0., 0., 0., 0., 0., 0., 0., 0., 0., 0., 0., 0., 0., 0., 0., 0., 0., 0., 0., 0., 0., 0.],\n",
      "       device='cuda:0')}, '8_TimeStepDropout': {}, '9_LinearTorch': {}, '10_LIFTorch': {'vmem': tensor([3.9689e-10], device='cuda:0'), 'isyn': tensor([[1.1400e-11]], device='cuda:0'), 'spikes': tensor([0.], device='cuda:0')}}}, {})\n",
      "True targets: tensor([1, 0, 1, 0, 0, 1, 1, 0, 0, 0, 0, 1, 1, 1, 0, 1, 0, 0, 0, 0, 1, 1, 0, 0,\n",
      "        0, 0, 0, 0, 0, 1, 1, 1], device='cuda:0')\n"
     ]
    }
   ],
   "source": [
    "# Choose device: CUDA if available, otherwise CPU\n",
    "device = torch.device(\"cuda\" if torch.cuda.is_available() else \"cpu\")\n",
    "\n",
    "# Move the model to the selected device\n",
    "model1.to(device)\n",
    "\n",
    "# Training loop\n",
    "for inputs, targets in train_loader:\n",
    "    # Move inputs and targets to the same device as the model\n",
    "    inputs, targets = inputs.to(device), targets.to(device)\n",
    "    \n",
    "    # Transpose inputs to match the expected shape\n",
    "    inputs = inputs.transpose(1, 2)  # Shape becomes [batch_size, 16, 101]\n",
    "\n",
    "    # Forward pass\n",
    "    outputs = model1(inputs)\n",
    "    print(f\"Predicted outputs: {outputs}\")\n",
    "    print(f\"True targets: {targets}\")\n",
    "    break  # Only process one batch for now"
   ]
  },
  {
   "cell_type": "markdown",
   "metadata": {},
   "source": [
    "###"
   ]
  },
  {
   "cell_type": "markdown",
   "metadata": {},
   "source": [
    "checking the result for specific batch"
   ]
  },
  {
   "cell_type": "code",
   "execution_count": 20,
   "metadata": {},
   "outputs": [
    {
     "name": "stdout",
     "output_type": "stream",
     "text": [
      "Processing Batch 3:\n",
      "Predicted outputs: (tensor([[[0.],\n",
      "         [0.],\n",
      "         [0.],\n",
      "         ...,\n",
      "         [0.],\n",
      "         [0.],\n",
      "         [0.]],\n",
      "\n",
      "        [[0.],\n",
      "         [0.],\n",
      "         [0.],\n",
      "         ...,\n",
      "         [0.],\n",
      "         [0.],\n",
      "         [0.]],\n",
      "\n",
      "        [[0.],\n",
      "         [0.],\n",
      "         [0.],\n",
      "         ...,\n",
      "         [0.],\n",
      "         [0.],\n",
      "         [0.]],\n",
      "\n",
      "        ...,\n",
      "\n",
      "        [[0.],\n",
      "         [0.],\n",
      "         [0.],\n",
      "         ...,\n",
      "         [0.],\n",
      "         [0.],\n",
      "         [0.]],\n",
      "\n",
      "        [[0.],\n",
      "         [0.],\n",
      "         [0.],\n",
      "         ...,\n",
      "         [0.],\n",
      "         [0.],\n",
      "         [0.]],\n",
      "\n",
      "        [[0.],\n",
      "         [0.],\n",
      "         [0.],\n",
      "         ...,\n",
      "         [0.],\n",
      "         [0.],\n",
      "         [0.]]], device='cuda:0', grad_fn=<CopySlices>), {'seq': {'0_LinearTorch': {}, '1_LIFTorch': {'vmem': tensor([ 0.0777, -1.2371,  0.6579, -1.3072, -1.1758, -1.0346, -2.1297, -4.2811,\n",
      "        -0.2411,  0.1873,  0.0111,  0.8486,  0.3539,  0.5935,  0.3635, -2.8252,\n",
      "         0.4755,  0.3435, -1.3976,  0.0238, -0.9246, -1.5221, -0.0312,  0.5001],\n",
      "       device='cuda:0'), 'isyn': tensor([[ 0.7337],\n",
      "        [-0.5110],\n",
      "        [ 0.5154],\n",
      "        [-0.4753],\n",
      "        [-0.3604],\n",
      "        [-0.4291],\n",
      "        [-0.6728],\n",
      "        [-1.6964],\n",
      "        [-0.1869],\n",
      "        [ 0.6937],\n",
      "        [-0.0324],\n",
      "        [ 0.3864],\n",
      "        [ 0.3431],\n",
      "        [ 0.2332],\n",
      "        [ 0.3111],\n",
      "        [-1.1266],\n",
      "        [ 0.2214],\n",
      "        [ 0.1235],\n",
      "        [-0.4330],\n",
      "        [ 0.8597],\n",
      "        [-0.3502],\n",
      "        [-0.5711],\n",
      "        [-0.0244],\n",
      "        [ 0.2540]], device='cuda:0'), 'spikes': tensor([1., 0., 0., 0., 0., 0., 0., 0., 0., 1., 0., 0., 0., 0., 0., 0., 0., 0.,\n",
      "        0., 1., 0., 0., 0., 0.], device='cuda:0')}, '2_TimeStepDropout': {}, '3_LinearTorch': {}, '4_LIFTorch': {'vmem': tensor([-0.5006, -1.9504, -1.6711,  0.8291,  0.5302,  0.8346,  0.9580, -3.0706,\n",
      "        -0.8093, -0.2098,  0.1376,  0.2053,  0.8003,  0.4371,  0.0982, -1.8624,\n",
      "        -0.0056,  0.2648,  0.9246,  0.1048,  0.8433, -0.1544,  0.1883, -1.9726],\n",
      "       device='cuda:0'), 'isyn': tensor([[-0.1069],\n",
      "        [-0.8870],\n",
      "        [-0.7882],\n",
      "        [ 0.7233],\n",
      "        [ 0.2605],\n",
      "        [ 0.4468],\n",
      "        [ 0.9027],\n",
      "        [-1.4771],\n",
      "        [-0.3528],\n",
      "        [-0.0160],\n",
      "        [ 0.0868],\n",
      "        [ 0.0737],\n",
      "        [ 0.4878],\n",
      "        [ 0.2206],\n",
      "        [ 0.0553],\n",
      "        [-0.9129],\n",
      "        [-0.0285],\n",
      "        [ 0.7858],\n",
      "        [ 0.4841],\n",
      "        [ 0.6269],\n",
      "        [ 0.3482],\n",
      "        [-0.1133],\n",
      "        [ 1.0337],\n",
      "        [-0.9786]], device='cuda:0'), 'spikes': tensor([0., 0., 0., 0., 0., 0., 0., 0., 0., 0., 0., 0., 0., 0., 0., 0., 0., 1.,\n",
      "        0., 1., 0., 0., 1., 0.], device='cuda:0')}, '5_TimeStepDropout': {}, '6_LinearTorch': {}, '7_LIFTorch': {'vmem': tensor([ 0.9565, -0.6529, -0.2930,  0.1094,  0.3686,  0.5144, -0.1175, -0.0146,\n",
      "         0.1876, -1.7631,  0.6435,  0.3367,  0.5741,  0.6942, -0.2603,  0.0956,\n",
      "        -0.0863,  0.2650, -0.7263,  0.8378, -0.1475,  0.3947, -0.5369,  0.1211],\n",
      "       device='cuda:0'), 'isyn': tensor([[ 0.5755],\n",
      "        [-0.2958],\n",
      "        [-0.1362],\n",
      "        [ 0.0776],\n",
      "        [ 0.1764],\n",
      "        [ 0.2567],\n",
      "        [-0.0606],\n",
      "        [-0.0090],\n",
      "        [ 0.1447],\n",
      "        [-0.8176],\n",
      "        [ 0.3163],\n",
      "        [ 0.1408],\n",
      "        [ 0.2866],\n",
      "        [ 0.6360],\n",
      "        [-0.1330],\n",
      "        [ 0.0479],\n",
      "        [-0.0661],\n",
      "        [ 0.1222],\n",
      "        [-0.3398],\n",
      "        [ 0.3961],\n",
      "        [-0.0724],\n",
      "        [ 0.1977],\n",
      "        [-0.2727],\n",
      "        [ 0.0615]], device='cuda:0'), 'spikes': tensor([0., 0., 0., 0., 0., 0., 0., 0., 0., 0., 0., 0., 0., 0., 0., 0., 0., 0., 0., 0., 0., 0., 0., 0.],\n",
      "       device='cuda:0')}, '8_TimeStepDropout': {}, '9_LinearTorch': {}, '10_LIFTorch': {'vmem': tensor([-0.1156], device='cuda:0'), 'isyn': tensor([[-0.0535]], device='cuda:0'), 'spikes': tensor([0.], device='cuda:0')}}}, {})\n",
      "True targets: tensor([0, 0, 1, 1, 0, 0, 0, 0, 1, 1, 0, 1, 1, 1, 1, 0, 0, 1, 1, 0, 1, 0, 0, 0,\n",
      "        0, 1, 1, 0, 0, 0, 1, 1], device='cuda:0')\n"
     ]
    }
   ],
   "source": [
    "# Choose device: CUDA if available, otherwise CPU\n",
    "device = torch.device(\"cuda\" if torch.cuda.is_available() else \"cpu\")\n",
    "\n",
    "# Move the model to the selected device\n",
    "model1.to(device)\n",
    "\n",
    "# Specify the batch you want to process (e.g., 3rd batch has index 2)\n",
    "target_batch_index = 2\n",
    "\n",
    "# Training loop with enumeration to find the specific batch\n",
    "for batch_idx, (inputs, targets) in enumerate(train_loader):\n",
    "    if batch_idx == target_batch_index:\n",
    "        # Move inputs and targets to the same device as the model\n",
    "        inputs, targets = inputs.to(device), targets.to(device)\n",
    "\n",
    "        # Transpose inputs to match the expected shape\n",
    "        inputs = inputs.transpose(1, 2)  # Shape becomes [batch_size, 16, 101]\n",
    "\n",
    "        # Forward pass\n",
    "        outputs = model1(inputs)\n",
    "        print(f\"Processing Batch {batch_idx + 1}:\")\n",
    "        print(f\"Predicted outputs: {outputs}\")\n",
    "        print(f\"True targets: {targets}\")\n",
    "        break  # Stop after processing the specified batch\n"
   ]
  },
  {
   "cell_type": "code",
   "execution_count": 31,
   "metadata": {},
   "outputs": [
    {
     "name": "stdout",
     "output_type": "stream",
     "text": [
      "Processing Batch 3:\n",
      "Predicted outputs: tensor([[0., 0., 0.,  ..., 0., 0., 0.],\n",
      "        [0., 0., 0.,  ..., 0., 0., 0.],\n",
      "        [0., 0., 0.,  ..., 0., 0., 0.],\n",
      "        ...,\n",
      "        [0., 0., 0.,  ..., 0., 0., 0.],\n",
      "        [0., 0., 0.,  ..., 0., 0., 0.],\n",
      "        [0., 0., 0.,  ..., 0., 0., 0.]], device='cuda:0',\n",
      "       grad_fn=<SqueezeBackward0>)\n",
      "True targets: tensor([0, 0, 0, 0, 1, 0, 0, 1, 0, 0, 1, 1, 0, 0, 0, 1, 0, 0, 1, 1, 1, 0, 1, 0,\n",
      "        1, 1, 0, 1, 1, 1, 1, 0], device='cuda:0')\n"
     ]
    },
    {
     "data": {
      "image/png": "[encoded data removed]",
      "text/plain": [
       "<Figure size 1000x600 with 1 Axes>"
      ]
     },
     "metadata": {},
     "output_type": "display_data"
    }
   ],
   "source": [
    "import matplotlib.pyplot as plt\n",
    "from matplotlib.lines import Line2D\n",
    "\n",
    "# Choose device: CUDA if available, otherwise CPU\n",
    "device = torch.device(\"cuda\" if torch.cuda.is_available() else \"cpu\")\n",
    "\n",
    "# Move the model to the selected device\n",
    "model1.to(device)\n",
    "\n",
    "# Specify the batch you want to process (e.g., 3rd batch has index 2)\n",
    "target_batch_index = 2\n",
    "\n",
    "# Training loop with enumeration to find the specific batch\n",
    "for batch_idx, (inputs, targets) in enumerate(train_loader):\n",
    "    if batch_idx == target_batch_index:\n",
    "        # Move inputs and targets to the same device as the model\n",
    "        inputs, targets = inputs.to(device), targets.to(device)\n",
    "\n",
    "        # Transpose inputs to match the expected shape\n",
    "        inputs = inputs.transpose(1, 2)  # Shape becomes [batch_size, 16, 101]\n",
    "\n",
    "        # Forward pass\n",
    "        outputs_tuple = model1(inputs)\n",
    "        outputs = outputs_tuple[0]\n",
    "        outputs = outputs.squeeze()  # Remove extra dimensions, if any (e.g., [batch_size, 1] -> [batch_size])\n",
    "\n",
    "        print(f\"Processing Batch {batch_idx + 1}:\")\n",
    "        print(f\"Predicted outputs: {outputs}\")\n",
    "        print(f\"True targets: {targets}\")\n",
    "        \n",
    "        # Convert tensors to CPU for plotting\n",
    "        outputs_cpu = outputs.detach().cpu().numpy()\n",
    "        targets_cpu = targets.detach().cpu().numpy()\n",
    "\n",
    "\n",
    "        x_values = range(len(outputs_cpu))\n",
    "\n",
    "        # Visualization: Compare predicted outputs and true targets\n",
    "        plt.figure(figsize=(10, 6))\n",
    "        plt.plot(outputs_cpu, label='Predicted Outputs', marker='o', linestyle='None', color='b')\n",
    "        plt.plot(targets_cpu, label='True Targets', marker='x', linestyle='None', color='r')\n",
    "\n",
    "        custom_lines = [\n",
    "            Line2D([0], [0], color='b', marker='o', linestyle='None', markersize=10, label='Predicted Outputs'),\n",
    "            Line2D([0], [0], color='r', marker='x', linestyle='None', markersize=10, label='True Targets')\n",
    "        ]\n",
    "        plt.legend(handles=custom_lines)  # Use custom markers for the legend\n",
    "\n",
    "\n",
    "        plt.title(f\"Predicted Outputs vs True Targets for Batch {batch_idx + 1}\")\n",
    "        plt.xlabel(\"Sample Index\")\n",
    "        plt.ylabel(\"Value\")\n",
    "        plt.grid(True)\n",
    "        plt.show()\n",
    "\n",
    "        break\n",
    "\n",
    "        "
   ]
  },
  {
   "cell_type": "markdown",
   "metadata": {},
   "source": [
    "### Training the model"
   ]
  },
  {
   "cell_type": "code",
   "execution_count": 48,
   "metadata": {},
   "outputs": [
    {
     "name": "stdout",
     "output_type": "stream",
     "text": [
      "SynNet  with shape (16, 1) {\n",
      "    TorchSequential 'seq' with shape (16, 1) {\n",
      "        LinearTorch '0_LinearTorch' with shape (16, 32)\n",
      "        LIFTorch '1_LIFTorch' with shape (32, 32)\n",
      "        TimeStepDropout '2_TimeStepDropout' with shape (32,)\n",
      "        LinearTorch '3_LinearTorch' with shape (32, 32)\n",
      "        LIFTorch '4_LIFTorch' with shape (32, 32)\n",
      "        TimeStepDropout '5_TimeStepDropout' with shape (32,)\n",
      "        LinearTorch '6_LinearTorch' with shape (32, 32)\n",
      "        LIFTorch '7_LIFTorch' with shape (32, 32)\n",
      "        TimeStepDropout '8_TimeStepDropout' with shape (32,)\n",
      "        LinearTorch '9_LinearTorch' with shape (32, 1)\n",
      "        LIFTorch '10_LIFTorch' with shape (1, 1)\n",
      "    }\n",
      "}\n"
     ]
    }
   ],
   "source": [
    "# Define dataset characteristics\n",
    "n_channels = 16  # Number of input channels\n",
    "n_classes = 1    # the output of MSELoss is discrite\n",
    "n_time = 101     # Number of time steps\n",
    "batch_size = 32  # Batch size\n",
    "\n",
    "# Initialize the SynNet model\n",
    "model2 = SynNet(\n",
    "    p_dropout = 0.1,                        # Dropout proportion to use\n",
    "    n_channels=n_channels,                # Number of input channels\n",
    "    n_classes=n_classes,                  # Number of output classes (2 for binary classification)\n",
    "    size_hidden_layers=[32, 32, 32],      # Number of neurons in each hidden layer\n",
    "    time_constants_per_layer=[2, 4, 8],   # Time constants for each layer\n",
    ")\n",
    "print(model2)\n",
    "\n"
   ]
  },
  {
   "cell_type": "code",
   "execution_count": 52,
   "metadata": {},
   "outputs": [],
   "source": [
    "model2 = model2.to(device)"
   ]
  },
  {
   "cell_type": "code",
   "execution_count": 64,
   "metadata": {},
   "outputs": [
    {
     "data": {
      "image/png": "[encoded data removed]",
      "text/plain": [
       "<Figure size 640x480 with 1 Axes>"
      ]
     },
     "metadata": {},
     "output_type": "display_data"
    }
   ],
   "source": [
    "import matplotlib.pyplot as plt\n",
    "\n",
    "# Plot synaptic time constants for each LIF layer\n",
    "for lyr_name in model2.lif_names:\n",
    "    tau_syn = model2.seq[lyr_name].tau_syn.detach().cpu().numpy() / 1e-3  # Convert to ms\n",
    "    plt.plot(tau_syn, label=f\"{lyr_name}\")\n",
    "    \n",
    "plt.xlabel(\"Neuron ID\")\n",
    "plt.ylabel(\"Synaptic time constant (ms)\")\n",
    "plt.legend()\n",
    "plt.show()"
   ]
  },
  {
   "cell_type": "code",
   "execution_count": 37,
   "metadata": {},
   "outputs": [],
   "source": [
    "import numpy as np\n",
    "import torch\n",
    "from torch.utils.data import DataLoader\n",
    "\n",
    "# Data augmentation functions\n",
    "\n",
    "# Time shift function：Shifts the event data along the time axis.\n",
    "def time_shift(event_data, max_shift=5):\n",
    "    shift = np.random.randint(-max_shift, max_shift)  # Randomly choose a shift amount\n",
    "    return np.roll(event_data, shift, axis=0)  # Apply shift along the time axis\n",
    "\n",
    "# Add noise function：Adds Gaussian noise to event data.\n",
    "def add_noise(event_data, noise_factor=0.01):\n",
    "    noise = np.random.normal(0, noise_factor, event_data.shape)  # Generate Gaussian noise\n",
    "    return event_data + noise  # Add noise to the data\n",
    "\n",
    "# Random drop function：Randomly drops parts of the event data.\n",
    "def random_drop(event_data, drop_rate=0.1):\n",
    "    mask = np.random.binomial(1, 1 - drop_rate, event_data.shape)  # Generate a mask to randomly drop parts of the data\n",
    "    return event_data * mask  # Apply the mask to the data\n",
    "\n",
    "# Combine augmentation functions\n",
    "def augment_data(event_data, augmentation_funcs):\n",
    "    for func in augmentation_funcs:\n",
    "        event_data = func(event_data)  # Apply each augmentation function in sequence\n",
    "    return event_data\n",
    "\n",
    "\n",
    "\n",
    "# Data loader with augmentation applied to label 1 (event call) samples\n",
    "def augment_train_data(train_loader):\n",
    "    augmentation_funcs = [time_shift, add_noise, random_drop]  # List of augmentation functions to apply\n",
    "\n",
    "    for batch_idx, (data, labels) in enumerate(train_loader):\n",
    "        for i in range(data.shape[0]):  # Iterate over each sample in the batch\n",
    "            if labels[i] == 1:  # Only augment data with label 1 (event call)\n",
    "                # Apply augmentations and convert back to torch.Tensor\n",
    "                augmented_data = augment_data(data[i].cpu().numpy(), augmentation_funcs)  # Apply augmentations\n",
    "                data[i] = torch.from_numpy(augmented_data).to(data[i].device)  # Ensure the tensor is on the same device (CPU or GPU)\n",
    "        yield data, labels  # Yield augmented data and labels for training"
   ]
  },
  {
   "cell_type": "code",
   "execution_count": 49,
   "metadata": {},
   "outputs": [
    {
     "data": {
      "text/html": [
       "Finishing last run (ID:em0ifep0) before initializing another..."
      ],
      "text/plain": [
       "<IPython.core.display.HTML object>"
      ]
     },
     "metadata": {},
     "output_type": "display_data"
    },
    {
     "data": {
      "text/html": [
       " View run <strong style=\"color:#cdcd00\">32layer, augmented_data, outputs.mean,learning_rate=1e-3</strong> at: <a href='https://wandb.ai/18750937507-uwa/SNN_meerkat/runs/em0ifep0' target=\"_blank\">https://wandb.ai/18750937507-uwa/SNN_meerkat/runs/em0ifep0</a><br/> View project at: <a href='https://wandb.ai/18750937507-uwa/SNN_meerkat' target=\"_blank\">https://wandb.ai/18750937507-uwa/SNN_meerkat</a><br/>Synced 5 W&B file(s), 0 media file(s), 0 artifact file(s) and 0 other file(s)"
      ],
      "text/plain": [
       "<IPython.core.display.HTML object>"
      ]
     },
     "metadata": {},
     "output_type": "display_data"
    },
    {
     "data": {
      "text/html": [
       "Find logs at: <code>.\\wandb\\run-20240927_110738-em0ifep0\\logs</code>"
      ],
      "text/plain": [
       "<IPython.core.display.HTML object>"
      ]
     },
     "metadata": {},
     "output_type": "display_data"
    },
    {
     "data": {
      "text/html": [
       "Successfully finished last run (ID:em0ifep0). Initializing new run:<br/>"
      ],
      "text/plain": [
       "<IPython.core.display.HTML object>"
      ]
     },
     "metadata": {},
     "output_type": "display_data"
    },
    {
     "data": {
      "text/html": [
       "Tracking run with wandb version 0.18.1"
      ],
      "text/plain": [
       "<IPython.core.display.HTML object>"
      ]
     },
     "metadata": {},
     "output_type": "display_data"
    },
    {
     "data": {
      "text/html": [
       "Run data is saved locally in <code>c:\\Users\\nisar\\github-classroom\\uwa-computer-science\\project-12-prototype-bio-acoustic-detection-system-soundsentinel\\angela19sep\\wandb\\run-20240927_111118-zpdlwmb8</code>"
      ],
      "text/plain": [
       "<IPython.core.display.HTML object>"
      ]
     },
     "metadata": {},
     "output_type": "display_data"
    },
    {
     "data": {
      "text/html": [
       "Syncing run <strong><a href='https://wandb.ai/18750937507-uwa/SNN_meerkat/runs/zpdlwmb8' target=\"_blank\">32layer, augmented_data, outputs.mean,learning_rate=1e-3</a></strong> to <a href='https://wandb.ai/18750937507-uwa/SNN_meerkat' target=\"_blank\">Weights & Biases</a> (<a href='https://wandb.me/run' target=\"_blank\">docs</a>)<br/>"
      ],
      "text/plain": [
       "<IPython.core.display.HTML object>"
      ]
     },
     "metadata": {},
     "output_type": "display_data"
    },
    {
     "data": {
      "text/html": [
       " View project at <a href='https://wandb.ai/18750937507-uwa/SNN_meerkat' target=\"_blank\">https://wandb.ai/18750937507-uwa/SNN_meerkat</a>"
      ],
      "text/plain": [
       "<IPython.core.display.HTML object>"
      ]
     },
     "metadata": {},
     "output_type": "display_data"
    },
    {
     "data": {
      "text/html": [
       " View run at <a href='https://wandb.ai/18750937507-uwa/SNN_meerkat/runs/zpdlwmb8' target=\"_blank\">https://wandb.ai/18750937507-uwa/SNN_meerkat/runs/zpdlwmb8</a>"
      ],
      "text/plain": [
       "<IPython.core.display.HTML object>"
      ]
     },
     "metadata": {},
     "output_type": "display_data"
    },
    {
     "name": "stdout",
     "output_type": "stream",
     "text": [
      "Epoch 1/10, Training Loss: 0.41585401403454114, Validation Loss: 0.34420426189899445, Validation Accuracy: 57.21%\n",
      "Epoch 2/10, Training Loss: 0.3850978033722572, Validation Loss: 0.6602963422025953, Validation Accuracy: 51.44%\n",
      "Epoch 3/10, Training Loss: 0.3227486585108739, Validation Loss: 0.489239066573126, Validation Accuracy: 55.29%\n",
      "Epoch 4/10, Training Loss: 0.2472345341207846, Validation Loss: 0.5141425110798862, Validation Accuracy: 52.40%\n",
      "Epoch 5/10, Training Loss: 0.1839994289121538, Validation Loss: 0.49485870896439466, Validation Accuracy: 57.69%\n",
      "Epoch 6/10, Training Loss: 0.1380884566537614, Validation Loss: 0.43626939013068167, Validation Accuracy: 66.83%\n",
      "Epoch 7/10, Training Loss: 0.135092889222334, Validation Loss: 0.3272280730307102, Validation Accuracy: 74.04%\n",
      "Epoch 8/10, Training Loss: 0.15322749668134833, Validation Loss: 0.2694496922194958, Validation Accuracy: 77.40%\n",
      "Epoch 9/10, Training Loss: 0.13684562909996734, Validation Loss: 0.34324935930115835, Validation Accuracy: 76.92%\n",
      "Epoch 10/10, Training Loss: 0.11724976492377948, Validation Loss: 0.3807395536984716, Validation Accuracy: 75.00%\n",
      "Training completed\n",
      "Test Accuracy: 76.89%\n"
     ]
    },
    {
     "ename": "OSError",
     "evalue": "[WinError 1314] A required privilege is not held by the client: 'c:\\\\Users\\\\nisar\\\\github-classroom\\\\uwa-computer-science\\\\project-12-prototype-bio-acoustic-detection-system-soundsentinel\\\\angela19sep\\\\model_32layer_augmented.pth' -> 'c:\\\\Users\\\\nisar\\\\github-classroom\\\\uwa-computer-science\\\\project-12-prototype-bio-acoustic-detection-system-soundsentinel\\\\angela19sep\\\\wandb\\\\run-20240927_111118-zpdlwmb8\\\\files\\\\model_32layer_augmented.pth'",
     "output_type": "error",
     "traceback": [
      "\u001b[1;31m---------------------------------------------------------------------------\u001b[0m",
      "\u001b[1;31mOSError\u001b[0m                                   Traceback (most recent call last)",
      "Cell \u001b[1;32mIn[49], line 125\u001b[0m\n\u001b[0;32m    123\u001b[0m \u001b[38;5;66;03m# Optionally save the model using W&B\u001b[39;00m\n\u001b[0;32m    124\u001b[0m torch\u001b[38;5;241m.\u001b[39msave(model2\u001b[38;5;241m.\u001b[39mstate_dict(), \u001b[38;5;124m\"\u001b[39m\u001b[38;5;124mmodel_32layer_augmented.pth\u001b[39m\u001b[38;5;124m\"\u001b[39m)\n\u001b[1;32m--> 125\u001b[0m \u001b[43mwandb\u001b[49m\u001b[38;5;241;43m.\u001b[39;49m\u001b[43msave\u001b[49m\u001b[43m(\u001b[49m\u001b[38;5;124;43m\"\u001b[39;49m\u001b[38;5;124;43mmodel_32layer_augmented.pth\u001b[39;49m\u001b[38;5;124;43m\"\u001b[39;49m\u001b[43m)\u001b[49m\n\u001b[0;32m    127\u001b[0m \u001b[38;5;66;03m# Finish the W&B run\u001b[39;00m\n\u001b[0;32m    128\u001b[0m wandb\u001b[38;5;241m.\u001b[39mfinish()\n",
      "File \u001b[1;32mc:\\Users\\nisar\\miniconda3\\envs\\capstone1\\lib\\site-packages\\wandb\\sdk\\wandb_run.py:403\u001b[0m, in \u001b[0;36m_run_decorator._noop_on_finish.<locals>.decorator_fn.<locals>.wrapper_fn\u001b[1;34m(self, *args, **kwargs)\u001b[0m\n\u001b[0;32m    400\u001b[0m \u001b[38;5;129m@functools\u001b[39m\u001b[38;5;241m.\u001b[39mwraps(func)\n\u001b[0;32m    401\u001b[0m \u001b[38;5;28;01mdef\u001b[39;00m \u001b[38;5;21mwrapper_fn\u001b[39m(\u001b[38;5;28mself\u001b[39m: Type[\u001b[38;5;124m\"\u001b[39m\u001b[38;5;124mRun\u001b[39m\u001b[38;5;124m\"\u001b[39m], \u001b[38;5;241m*\u001b[39margs: Any, \u001b[38;5;241m*\u001b[39m\u001b[38;5;241m*\u001b[39mkwargs: Any) \u001b[38;5;241m-\u001b[39m\u001b[38;5;241m>\u001b[39m Any:\n\u001b[0;32m    402\u001b[0m     \u001b[38;5;28;01mif\u001b[39;00m \u001b[38;5;129;01mnot\u001b[39;00m \u001b[38;5;28mgetattr\u001b[39m(\u001b[38;5;28mself\u001b[39m, \u001b[38;5;124m\"\u001b[39m\u001b[38;5;124m_is_finished\u001b[39m\u001b[38;5;124m\"\u001b[39m, \u001b[38;5;28;01mFalse\u001b[39;00m):\n\u001b[1;32m--> 403\u001b[0m         \u001b[38;5;28;01mreturn\u001b[39;00m \u001b[43mfunc\u001b[49m\u001b[43m(\u001b[49m\u001b[38;5;28;43mself\u001b[39;49m\u001b[43m,\u001b[49m\u001b[43m \u001b[49m\u001b[38;5;241;43m*\u001b[39;49m\u001b[43margs\u001b[49m\u001b[43m,\u001b[49m\u001b[43m \u001b[49m\u001b[38;5;241;43m*\u001b[39;49m\u001b[38;5;241;43m*\u001b[39;49m\u001b[43mkwargs\u001b[49m\u001b[43m)\u001b[49m\n\u001b[0;32m    405\u001b[0m     default_message \u001b[38;5;241m=\u001b[39m (\n\u001b[0;32m    406\u001b[0m         \u001b[38;5;124mf\u001b[39m\u001b[38;5;124m\"\u001b[39m\u001b[38;5;124mRun (\u001b[39m\u001b[38;5;132;01m{\u001b[39;00m\u001b[38;5;28mself\u001b[39m\u001b[38;5;241m.\u001b[39mid\u001b[38;5;132;01m}\u001b[39;00m\u001b[38;5;124m) is finished. The call to `\u001b[39m\u001b[38;5;132;01m{\u001b[39;00mfunc\u001b[38;5;241m.\u001b[39m\u001b[38;5;18m__name__\u001b[39m\u001b[38;5;132;01m}\u001b[39;00m\u001b[38;5;124m` will be ignored. \u001b[39m\u001b[38;5;124m\"\u001b[39m\n\u001b[0;32m    407\u001b[0m         \u001b[38;5;124mf\u001b[39m\u001b[38;5;124m\"\u001b[39m\u001b[38;5;124mPlease make sure that you are using an active run.\u001b[39m\u001b[38;5;124m\"\u001b[39m\n\u001b[0;32m    408\u001b[0m     )\n\u001b[0;32m    409\u001b[0m     resolved_message \u001b[38;5;241m=\u001b[39m message \u001b[38;5;129;01mor\u001b[39;00m default_message\n",
      "File \u001b[1;32mc:\\Users\\nisar\\miniconda3\\envs\\capstone1\\lib\\site-packages\\wandb\\sdk\\wandb_run.py:393\u001b[0m, in \u001b[0;36m_run_decorator._attach.<locals>.wrapper\u001b[1;34m(self, *args, **kwargs)\u001b[0m\n\u001b[0;32m    391\u001b[0m         \u001b[38;5;28;01mraise\u001b[39;00m e\n\u001b[0;32m    392\u001b[0m     \u001b[38;5;28mcls\u001b[39m\u001b[38;5;241m.\u001b[39m_is_attaching \u001b[38;5;241m=\u001b[39m \u001b[38;5;124m\"\u001b[39m\u001b[38;5;124m\"\u001b[39m\n\u001b[1;32m--> 393\u001b[0m \u001b[38;5;28;01mreturn\u001b[39;00m \u001b[43mfunc\u001b[49m\u001b[43m(\u001b[49m\u001b[38;5;28;43mself\u001b[39;49m\u001b[43m,\u001b[49m\u001b[43m \u001b[49m\u001b[38;5;241;43m*\u001b[39;49m\u001b[43margs\u001b[49m\u001b[43m,\u001b[49m\u001b[43m \u001b[49m\u001b[38;5;241;43m*\u001b[39;49m\u001b[38;5;241;43m*\u001b[39;49m\u001b[43mkwargs\u001b[49m\u001b[43m)\u001b[49m\n",
      "File \u001b[1;32mc:\\Users\\nisar\\miniconda3\\envs\\capstone1\\lib\\site-packages\\wandb\\sdk\\wandb_run.py:2032\u001b[0m, in \u001b[0;36mRun.save\u001b[1;34m(self, glob_str, base_path, policy)\u001b[0m\n\u001b[0;32m   2026\u001b[0m     \u001b[38;5;28;01mraise\u001b[39;00m \u001b[38;5;167;01mValueError\u001b[39;00m(\n\u001b[0;32m   2027\u001b[0m         \u001b[38;5;124m'\u001b[39m\u001b[38;5;124mOnly \u001b[39m\u001b[38;5;124m\"\u001b[39m\u001b[38;5;124mlive\u001b[39m\u001b[38;5;124m\"\u001b[39m\u001b[38;5;124m, \u001b[39m\u001b[38;5;124m\"\u001b[39m\u001b[38;5;124mend\u001b[39m\u001b[38;5;124m\"\u001b[39m\u001b[38;5;124m and \u001b[39m\u001b[38;5;124m\"\u001b[39m\u001b[38;5;124mnow\u001b[39m\u001b[38;5;124m\"\u001b[39m\u001b[38;5;124m policies are currently supported.\u001b[39m\u001b[38;5;124m'\u001b[39m\n\u001b[0;32m   2028\u001b[0m     )\n\u001b[0;32m   2030\u001b[0m resolved_base_path \u001b[38;5;241m=\u001b[39m pathlib\u001b[38;5;241m.\u001b[39mPurePath(os\u001b[38;5;241m.\u001b[39mpath\u001b[38;5;241m.\u001b[39mabspath(base_path))\n\u001b[1;32m-> 2032\u001b[0m \u001b[38;5;28;01mreturn\u001b[39;00m \u001b[38;5;28;43mself\u001b[39;49m\u001b[38;5;241;43m.\u001b[39;49m\u001b[43m_save\u001b[49m\u001b[43m(\u001b[49m\n\u001b[0;32m   2033\u001b[0m \u001b[43m    \u001b[49m\u001b[43mresolved_glob_path\u001b[49m\u001b[43m,\u001b[49m\n\u001b[0;32m   2034\u001b[0m \u001b[43m    \u001b[49m\u001b[43mresolved_base_path\u001b[49m\u001b[43m,\u001b[49m\n\u001b[0;32m   2035\u001b[0m \u001b[43m    \u001b[49m\u001b[43mpolicy\u001b[49m\u001b[43m,\u001b[49m\n\u001b[0;32m   2036\u001b[0m \u001b[43m\u001b[49m\u001b[43m)\u001b[49m\n",
      "File \u001b[1;32mc:\\Users\\nisar\\miniconda3\\envs\\capstone1\\lib\\site-packages\\wandb\\sdk\\wandb_run.py:2096\u001b[0m, in \u001b[0;36mRun._save\u001b[1;34m(self, glob_path, base_path, policy)\u001b[0m\n\u001b[0;32m   2091\u001b[0m     \u001b[38;5;28;01mexcept\u001b[39;00m \u001b[38;5;167;01mFileNotFoundError\u001b[39;00m:\n\u001b[0;32m   2092\u001b[0m         \u001b[38;5;66;03m# In Python 3.8, we would pass missing_ok=True, but as of now\u001b[39;00m\n\u001b[0;32m   2093\u001b[0m         \u001b[38;5;66;03m# we support down to Python 3.7.\u001b[39;00m\n\u001b[0;32m   2094\u001b[0m         \u001b[38;5;28;01mpass\u001b[39;00m\n\u001b[1;32m-> 2096\u001b[0m     \u001b[43mtarget_path\u001b[49m\u001b[38;5;241;43m.\u001b[39;49m\u001b[43msymlink_to\u001b[49m\u001b[43m(\u001b[49m\u001b[43msource_path\u001b[49m\u001b[43m)\u001b[49m\n\u001b[0;32m   2098\u001b[0m \u001b[38;5;66;03m# Inform users that new files aren't detected automatically.\u001b[39;00m\n\u001b[0;32m   2099\u001b[0m \u001b[38;5;28;01mif\u001b[39;00m \u001b[38;5;129;01mnot\u001b[39;00m had_symlinked_files \u001b[38;5;129;01mand\u001b[39;00m is_star_glob:\n",
      "File \u001b[1;32mc:\\Users\\nisar\\miniconda3\\envs\\capstone1\\lib\\pathlib.py:1384\u001b[0m, in \u001b[0;36mPath.symlink_to\u001b[1;34m(self, target, target_is_directory)\u001b[0m\n\u001b[0;32m   1382\u001b[0m \u001b[38;5;28;01mif\u001b[39;00m \u001b[38;5;28mself\u001b[39m\u001b[38;5;241m.\u001b[39m_closed:\n\u001b[0;32m   1383\u001b[0m     \u001b[38;5;28mself\u001b[39m\u001b[38;5;241m.\u001b[39m_raise_closed()\n\u001b[1;32m-> 1384\u001b[0m \u001b[38;5;28;43mself\u001b[39;49m\u001b[38;5;241;43m.\u001b[39;49m\u001b[43m_accessor\u001b[49m\u001b[38;5;241;43m.\u001b[39;49m\u001b[43msymlink\u001b[49m\u001b[43m(\u001b[49m\u001b[43mtarget\u001b[49m\u001b[43m,\u001b[49m\u001b[43m \u001b[49m\u001b[38;5;28;43mself\u001b[39;49m\u001b[43m,\u001b[49m\u001b[43m \u001b[49m\u001b[43mtarget_is_directory\u001b[49m\u001b[43m)\u001b[49m\n",
      "\u001b[1;31mOSError\u001b[0m: [WinError 1314] A required privilege is not held by the client: 'c:\\\\Users\\\\nisar\\\\github-classroom\\\\uwa-computer-science\\\\project-12-prototype-bio-acoustic-detection-system-soundsentinel\\\\angela19sep\\\\model_32layer_augmented.pth' -> 'c:\\\\Users\\\\nisar\\\\github-classroom\\\\uwa-computer-science\\\\project-12-prototype-bio-acoustic-detection-system-soundsentinel\\\\angela19sep\\\\wandb\\\\run-20240927_111118-zpdlwmb8\\\\files\\\\model_32layer_augmented.pth'"
     ]
    }
   ],
   "source": [
    "wandb.init(project=\"SNN_meerkat\", config={\n",
    "    \"learning_rate\": 1e-3,\n",
    "    \"epochs\": 10,\n",
    "    \"batch_size\": 32,\n",
    "},name=\"32layer, augmented_data, outputs.mean,learning_rate=1e-3\")\n",
    "\n",
    "# Access hyperparameters\n",
    "learning_rate = wandb.config.learning_rate\n",
    "n_epochs = wandb.config.epochs\n",
    "batch_size = wandb.config.batch_size\n",
    "\n",
    "\n",
    "# Define the loss function and optimizer\n",
    "optimizer = Adam(model2.parameters().astorch(), lr=1e-3)\n",
    "loss_fun = MSELoss()\n",
    "n_epochs = 10\n",
    "\n",
    "def calculate_accuracy(model, data_loader):\n",
    "    model.eval()  # Set the model to evaluation mode\n",
    "    correct = 0\n",
    "    total = 0\n",
    "\n",
    "    with torch.no_grad():  # Disable gradient calculations\n",
    "        for inputs, targets in data_loader:\n",
    "            inputs = inputs.transpose(1, 2)  # Ensure input shape matches model requirements\n",
    "            outputs, _, _ = model(inputs)\n",
    "            outputs = outputs.mean(dim=1)\n",
    "\n",
    "            predictions = torch.round(torch.sigmoid(outputs))  # For binary classification\n",
    "            correct += (predictions == targets.unsqueeze(1)).sum().item()\n",
    "            total += targets.size(0)\n",
    "\n",
    "    accuracy = correct / total\n",
    "    return accuracy\n",
    "\n",
    "# Training and Validation loop\n",
    "for epoch in range(n_epochs):  # Progress bar for epochs\n",
    "    model2.train()  # Set the model to training mode\n",
    "    epoch_loss = 0.0  # Initialize running loss for training\n",
    "\n",
    "    # Training phase\n",
    "    for inputs, targets in augment_train_data(train_loader): # Use augmented data\n",
    "\n",
    "        optimizer.zero_grad()  # Clear gradients\n",
    "        inputs, targets = inputs.to(device), targets.to(device)\n",
    "\n",
    "        # Adjust input dimensions to match model expectations\n",
    "        inputs = inputs.transpose(1, 2)  # [batch_size, n_time, n_channels]\n",
    "\n",
    "        # Forward pass through the network\n",
    "        output, _, _ = model2(inputs)  # Output shape [batch_size, n_time, n_classes]\n",
    "        output = output.mean(dim=1)  # mean spikes over the time dimension [batch_size, n_classes]\n",
    "\n",
    "        # Ensure targets are of float type as required by MSELoss\n",
    "        targets = targets.float().unsqueeze(1)  # Reshape targets to [batch_size, 1]\n",
    "\n",
    "        # Compute the loss\n",
    "        loss = loss_fun(output, targets)\n",
    "\n",
    "        # Backward pass and optimization\n",
    "        loss.backward()  # Compute gradients\n",
    "        optimizer.step()  # Update model parameters\n",
    "\n",
    "        # Accumulate loss for this batch\n",
    "        epoch_loss += loss.item()\n",
    "\n",
    "    # Calculate average training loss for the epoch\n",
    "    avg_train_loss = epoch_loss / len(train_loader)\n",
    "\n",
    "    # Validation phase\n",
    "    model2.eval()  # Set the model to evaluation mode\n",
    "    val_loss = 0.0  # Initialize running loss for validation\n",
    "    with torch.no_grad():  # Disable gradient calculation for validation\n",
    "        for inputs, targets in val_loader:\n",
    "            # Adjust input dimensions to match model expectations\n",
    "            inputs = inputs.transpose(1, 2)  # [batch_size, n_time, n_channels]\n",
    "\n",
    "            # Forward pass through the network\n",
    "            output, _, _ = model2(inputs)\n",
    "            output = output.mean(dim=1)  # mean spikes over the time dimension\n",
    "\n",
    "            # Ensure targets are of float type\n",
    "            targets = targets.float().unsqueeze(1)\n",
    "\n",
    "            # Compute validation loss\n",
    "            loss = loss_fun(output, targets)\n",
    "\n",
    "            # Accumulate validation loss\n",
    "            val_loss += loss.item()\n",
    "\n",
    "    # Calculate average validation loss for the epoch\n",
    "    avg_val_loss = val_loss / len(val_loader)\n",
    "\n",
    "    # Calculate validation accuracy\n",
    "    val_accuracy = calculate_accuracy(model2, val_loader)\n",
    "\n",
    "    # Log training loss, validation loss, and accuracy to W&B\n",
    "    wandb.log({\n",
    "        \"epoch\": epoch + 1,\n",
    "        \"train_loss\": avg_train_loss,\n",
    "        \"val_loss\": avg_val_loss,\n",
    "        \"val_accuracy\": val_accuracy  # Log accuracy\n",
    "    })\n",
    "\n",
    "    # Print training and validation losses, and validation accuracy for the current epoch\n",
    "    print(f'Epoch {epoch + 1}/{n_epochs}, Training Loss: {avg_train_loss}, Validation Loss: {avg_val_loss}, Validation Accuracy: {val_accuracy * 100:.2f}%')\n",
    "\n",
    "# End of training\n",
    "print('Training completed')\n",
    "\n",
    "\n",
    "\n",
    "# Final evaluation on test data (to evaluate generalization after training)\n",
    "test_accuracy = calculate_accuracy(model2, test_loader)\n",
    "\n",
    "# Log test accuracy to W&B\n",
    "wandb.log({\"test_accuracy\": test_accuracy})\n",
    "\n",
    "# Print the final test accuracy\n",
    "print(f'Test Accuracy: {test_accuracy * 100:.2f}%')\n",
    "\n",
    "\n",
    "# Optionally save the model using W&B\n",
    "torch.save(model2.state_dict(), \"model_32layer_augmented.pth\")\n",
    "wandb.save(\"model_32layer_augmented.pth\")\n",
    "\n",
    "# Finish the W&B run\n",
    "wandb.finish()\n",
    "\n"
   ]
  },
  {
   "cell_type": "code",
   "execution_count": 39,
   "metadata": {},
   "outputs": [],
   "source": [
    "import torch\n",
    "\n",
    "# Function to check if a tensor is on CPU or GPU\n",
    "def check_tensor_device(tensor, tensor_name=\"tensor\"):\n",
    "    print(f\"{tensor_name} is on {tensor.device}\")\n",
    "\n",
    "# Function to check if a model is on CPU or GPU\n",
    "def check_model_device(model):\n",
    "    for name, param in model.named_parameters():\n",
    "        print(f\"Parameter {name} is on {param.device}\")"
   ]
  },
  {
   "cell_type": "code",
   "execution_count": 41,
   "metadata": {},
   "outputs": [
    {
     "name": "stdout",
     "output_type": "stream",
     "text": [
      "inputs is on cuda:0\n",
      "targets is on cuda:0\n",
      "outputs is on cuda:0\n"
     ]
    }
   ],
   "source": [
    "check_tensor_device(inputs, \"inputs\")\n",
    "check_tensor_device(targets, \"targets\")\n",
    "check_tensor_device(outputs, \"outputs\")"
   ]
  },
  {
   "cell_type": "code",
   "execution_count": 54,
   "metadata": {},
   "outputs": [
    {
     "name": "stdout",
     "output_type": "stream",
     "text": [
      "model2 is on CPU.\n"
     ]
    }
   ],
   "source": [
    "def is_model_on_gpu(model):\n",
    "    # Check if any attribute of the model has a device or is on GPU\n",
    "    for param in model.parameters():\n",
    "        if isinstance(param, torch.Tensor):\n",
    "            return param.device.type == 'cuda'\n",
    "    return False  # If no tensor found on cuda\n",
    "\n",
    "# Example usage\n",
    "if is_model_on_gpu(model2):\n",
    "    print(\"model2 is on GPU.\")\n",
    "else:\n",
    "    print(\"model2 is on CPU.\")"
   ]
  },
  {
   "cell_type": "code",
   "execution_count": 55,
   "metadata": {},
   "outputs": [],
   "source": [
    "def calculate_sensitivity_specificity(outputs, targets, threshold=0.5):\n",
    "    \"\"\"\n",
    "    Calculate sensitivity and specificity using predicted outputs and ground truth targets.\n",
    "    \n",
    "    Args:\n",
    "    - outputs (torch.Tensor): Model outputs (probabilities after sigmoid).\n",
    "    - targets (torch.Tensor): Ground truth binary labels.\n",
    "    - threshold (float): Custom threshold for converting probabilities to binary predictions.\n",
    "    \n",
    "    Returns:\n",
    "    - sensitivity (float): Sensitivity (Recall).\n",
    "    - specificity (float): Specificity.\n",
    "    \"\"\"\n",
    "    # Apply the threshold to get binary predictions\n",
    "    predictions = torch.where(outputs >= threshold, 1, 0)\n",
    "    \n",
    "    # Calculate True Positives (TP), False Positives (FP), True Negatives (TN), and False Negatives (FN)\n",
    "    TP = torch.sum((predictions == 1) & (targets == 1)).item()\n",
    "    FP = torch.sum((predictions == 1) & (targets == 0)).item()\n",
    "    TN = torch.sum((predictions == 0) & (targets == 0)).item()\n",
    "    FN = torch.sum((predictions == 0) & (targets == 1)).item()\n",
    "    \n",
    "    # Sensitivity (Recall): TP / (TP + FN)\n",
    "    sensitivity = TP / (TP + FN) if (TP + FN) > 0 else 0.0\n",
    "    \n",
    "    # Specificity: TN / (TN + FP)\n",
    "    specificity = TN / (TN + FP) if (TN + FP) > 0 else 0.0\n",
    "    \n",
    "    return sensitivity, specificity\n"
   ]
  },
  {
   "cell_type": "code",
   "execution_count": 59,
   "metadata": {},
   "outputs": [
    {
     "data": {
      "text/html": [
       "Finishing last run (ID:e6bp1ji9) before initializing another..."
      ],
      "text/plain": [
       "<IPython.core.display.HTML object>"
      ]
     },
     "metadata": {},
     "output_type": "display_data"
    },
    {
     "data": {
      "text/html": [
       " View run <strong style=\"color:#cdcd00\">my_new_run_32layer_augmented</strong> at: <a href='https://wandb.ai/18750937507-uwa/18750937507-uwa/runs/e6bp1ji9' target=\"_blank\">https://wandb.ai/18750937507-uwa/18750937507-uwa/runs/e6bp1ji9</a><br/> View project at: <a href='https://wandb.ai/18750937507-uwa/18750937507-uwa' target=\"_blank\">https://wandb.ai/18750937507-uwa/18750937507-uwa</a><br/>Synced 4 W&B file(s), 0 media file(s), 3 artifact file(s) and 0 other file(s)"
      ],
      "text/plain": [
       "<IPython.core.display.HTML object>"
      ]
     },
     "metadata": {},
     "output_type": "display_data"
    },
    {
     "data": {
      "text/html": [
       "Find logs at: <code>.\\wandb\\run-20240927_115929-e6bp1ji9\\logs</code>"
      ],
      "text/plain": [
       "<IPython.core.display.HTML object>"
      ]
     },
     "metadata": {},
     "output_type": "display_data"
    },
    {
     "data": {
      "text/html": [
       "Successfully finished last run (ID:e6bp1ji9). Initializing new run:<br/>"
      ],
      "text/plain": [
       "<IPython.core.display.HTML object>"
      ]
     },
     "metadata": {},
     "output_type": "display_data"
    },
    {
     "data": {
      "text/html": [
       "Tracking run with wandb version 0.18.1"
      ],
      "text/plain": [
       "<IPython.core.display.HTML object>"
      ]
     },
     "metadata": {},
     "output_type": "display_data"
    },
    {
     "data": {
      "text/html": [
       "Run data is saved locally in <code>c:\\Users\\nisar\\github-classroom\\uwa-computer-science\\project-12-prototype-bio-acoustic-detection-system-soundsentinel\\angela19sep\\wandb\\run-20240927_121155-f9dmj7uj</code>"
      ],
      "text/plain": [
       "<IPython.core.display.HTML object>"
      ]
     },
     "metadata": {},
     "output_type": "display_data"
    },
    {
     "data": {
      "text/html": [
       "Syncing run <strong><a href='https://wandb.ai/18750937507-uwa/18750937507-uwa/runs/f9dmj7uj' target=\"_blank\">my_new_run_32layer_augmented</a></strong> to <a href='https://wandb.ai/18750937507-uwa/18750937507-uwa' target=\"_blank\">Weights & Biases</a> (<a href='https://wandb.me/run' target=\"_blank\">docs</a>)<br/>"
      ],
      "text/plain": [
       "<IPython.core.display.HTML object>"
      ]
     },
     "metadata": {},
     "output_type": "display_data"
    },
    {
     "data": {
      "text/html": [
       " View project at <a href='https://wandb.ai/18750937507-uwa/18750937507-uwa' target=\"_blank\">https://wandb.ai/18750937507-uwa/18750937507-uwa</a>"
      ],
      "text/plain": [
       "<IPython.core.display.HTML object>"
      ]
     },
     "metadata": {},
     "output_type": "display_data"
    },
    {
     "data": {
      "text/html": [
       " View run at <a href='https://wandb.ai/18750937507-uwa/18750937507-uwa/runs/f9dmj7uj' target=\"_blank\">https://wandb.ai/18750937507-uwa/18750937507-uwa/runs/f9dmj7uj</a>"
      ],
      "text/plain": [
       "<IPython.core.display.HTML object>"
      ]
     },
     "metadata": {},
     "output_type": "display_data"
    },
    {
     "data": {
      "text/html": [
       " View run <strong style=\"color:#cdcd00\">my_new_run_32layer_augmented</strong> at: <a href='https://wandb.ai/18750937507-uwa/18750937507-uwa/runs/f9dmj7uj' target=\"_blank\">https://wandb.ai/18750937507-uwa/18750937507-uwa/runs/f9dmj7uj</a><br/> View project at: <a href='https://wandb.ai/18750937507-uwa/18750937507-uwa' target=\"_blank\">https://wandb.ai/18750937507-uwa/18750937507-uwa</a><br/>Synced 5 W&B file(s), 0 media file(s), 2 artifact file(s) and 0 other file(s)"
      ],
      "text/plain": [
       "<IPython.core.display.HTML object>"
      ]
     },
     "metadata": {},
     "output_type": "display_data"
    },
    {
     "data": {
      "text/html": [
       "Find logs at: <code>.\\wandb\\run-20240927_121155-f9dmj7uj\\logs</code>"
      ],
      "text/plain": [
       "<IPython.core.display.HTML object>"
      ]
     },
     "metadata": {},
     "output_type": "display_data"
    }
   ],
   "source": [
    "\n",
    "\n",
    "import wandb\n",
    "\n",
    "# Initialize a new WandB run within the same project\n",
    "wandb.init(\n",
    "    project=\"18750937507-uwa\",  # Keep the same project name\n",
    "    name=\"my_new_run_32layer_augmented\",  # Unique run name\n",
    "    config={\n",
    "        \"learning_rate\": 1e-3,\n",
    "        \"epochs\": 10,\n",
    "        \"batch_size\": 32,\n",
    "    }\n",
    ")\n",
    "\n",
    "# Save the model manually\n",
    "model_path = \"model_32layer_augmented.pth\"\n",
    "torch.save(model2.state_dict(), model_path)\n",
    "\n",
    "# Create a new artifact and manually log the file\n",
    "artifact = wandb.Artifact('model_32layer_augmented', type='model')\n",
    "artifact.add_file(model_path)\n",
    "wandb.log_artifact(artifact)\n",
    "\n",
    "# Finish the WandB run\n",
    "wandb.finish()\n"
   ]
  },
  {
   "cell_type": "code",
   "execution_count": 61,
   "metadata": {},
   "outputs": [
    {
     "data": {
      "text/html": [
       "Tracking run with wandb version 0.18.1"
      ],
      "text/plain": [
       "<IPython.core.display.HTML object>"
      ]
     },
     "metadata": {},
     "output_type": "display_data"
    },
    {
     "data": {
      "text/html": [
       "Run data is saved locally in <code>c:\\Users\\nisar\\github-classroom\\uwa-computer-science\\project-12-prototype-bio-acoustic-detection-system-soundsentinel\\angela19sep\\wandb\\run-20240927_121507-9yw9uqhk</code>"
      ],
      "text/plain": [
       "<IPython.core.display.HTML object>"
      ]
     },
     "metadata": {},
     "output_type": "display_data"
    },
    {
     "data": {
      "text/html": [
       "Syncing run <strong><a href='https://wandb.ai/18750937507-uwa/18750937507-uwa/runs/9yw9uqhk' target=\"_blank\">my_new_run_32layer_augmented</a></strong> to <a href='https://wandb.ai/18750937507-uwa/18750937507-uwa' target=\"_blank\">Weights & Biases</a> (<a href='https://wandb.me/run' target=\"_blank\">docs</a>)<br/>"
      ],
      "text/plain": [
       "<IPython.core.display.HTML object>"
      ]
     },
     "metadata": {},
     "output_type": "display_data"
    },
    {
     "data": {
      "text/html": [
       " View project at <a href='https://wandb.ai/18750937507-uwa/18750937507-uwa' target=\"_blank\">https://wandb.ai/18750937507-uwa/18750937507-uwa</a>"
      ],
      "text/plain": [
       "<IPython.core.display.HTML object>"
      ]
     },
     "metadata": {},
     "output_type": "display_data"
    },
    {
     "data": {
      "text/html": [
       " View run at <a href='https://wandb.ai/18750937507-uwa/18750937507-uwa/runs/9yw9uqhk' target=\"_blank\">https://wandb.ai/18750937507-uwa/18750937507-uwa/runs/9yw9uqhk</a>"
      ],
      "text/plain": [
       "<IPython.core.display.HTML object>"
      ]
     },
     "metadata": {},
     "output_type": "display_data"
    },
    {
     "name": "stdout",
     "output_type": "stream",
     "text": [
      "Test Sensitivity: 1.0000, Test Specificity: 0.0000\n"
     ]
    },
    {
     "data": {
      "text/html": [
       "<style>\n",
       "    table.wandb td:nth-child(1) { padding: 0 10px; text-align: left ; width: auto;} td:nth-child(2) {text-align: left ; width: 100%}\n",
       "    .wandb-row { display: flex; flex-direction: row; flex-wrap: wrap; justify-content: flex-start; width: 100% }\n",
       "    .wandb-col { display: flex; flex-direction: column; flex-basis: 100%; flex: 1; padding: 10px; }\n",
       "    </style>\n",
       "<div class=\"wandb-row\"><div class=\"wandb-col\"><h3>Run history:</h3><br/><table class=\"wandb\"><tr><td>test_sensitivity</td><td>▁</td></tr><tr><td>test_specificity</td><td>▁</td></tr></table><br/></div><div class=\"wandb-col\"><h3>Run summary:</h3><br/><table class=\"wandb\"><tr><td>test_sensitivity</td><td>1</td></tr><tr><td>test_specificity</td><td>0</td></tr></table><br/></div></div>"
      ],
      "text/plain": [
       "<IPython.core.display.HTML object>"
      ]
     },
     "metadata": {},
     "output_type": "display_data"
    },
    {
     "data": {
      "text/html": [
       " View run <strong style=\"color:#cdcd00\">my_new_run_32layer_augmented</strong> at: <a href='https://wandb.ai/18750937507-uwa/18750937507-uwa/runs/9yw9uqhk' target=\"_blank\">https://wandb.ai/18750937507-uwa/18750937507-uwa/runs/9yw9uqhk</a><br/> View project at: <a href='https://wandb.ai/18750937507-uwa/18750937507-uwa' target=\"_blank\">https://wandb.ai/18750937507-uwa/18750937507-uwa</a><br/>Synced 5 W&B file(s), 0 media file(s), 4 artifact file(s) and 0 other file(s)"
      ],
      "text/plain": [
       "<IPython.core.display.HTML object>"
      ]
     },
     "metadata": {},
     "output_type": "display_data"
    },
    {
     "data": {
      "text/html": [
       "Find logs at: <code>.\\wandb\\run-20240927_121507-9yw9uqhk\\logs</code>"
      ],
      "text/plain": [
       "<IPython.core.display.HTML object>"
      ]
     },
     "metadata": {},
     "output_type": "display_data"
    }
   ],
   "source": [
    "# Initialize a new WandB run within the same project\n",
    "wandb.init(\n",
    "    project=\"18750937507-uwa\",  # Keep the same project name\n",
    "    name=\"my_new_run_32layer_augmented\",  # Unique run name\n",
    "    config={\n",
    "        \"learning_rate\": 1e-3,\n",
    "        \"epochs\": 10,\n",
    "        \"batch_size\": 32,\n",
    "    }\n",
    ")\n",
    "\n",
    "# Final test evaluation (replace this part of your code)\n",
    "model2.eval()  # Set model to evaluation mode\n",
    "all_outputs = []\n",
    "all_targets = []\n",
    "\n",
    "with torch.no_grad():  # Disable gradient calculation for validation/test\n",
    "    for inputs, targets in test_loader:\n",
    "        # Ensure inputs and targets are on the correct device\n",
    "        inputs, targets = inputs.to(device), targets.to(device)\n",
    "\n",
    "        # Forward pass through the network\n",
    "        inputs = inputs.transpose(1, 2)  # Adjust input dimensions if necessary\n",
    "        outputs, _, _ = model2(inputs)\n",
    "        outputs = outputs.mean(dim=1)  # Average spikes over time\n",
    "\n",
    "        # Store outputs and targets\n",
    "        all_outputs.append(outputs)\n",
    "        all_targets.append(targets)\n",
    "\n",
    "# Concatenate all outputs and targets for the entire test set\n",
    "all_outputs = torch.cat(all_outputs)\n",
    "all_targets = torch.cat(all_targets)\n",
    "\n",
    "# Apply sigmoid to the outputs for binary classification\n",
    "all_outputs = torch.sigmoid(all_outputs)\n",
    "\n",
    "# Calculate sensitivity and specificity\n",
    "sensitivity, specificity = calculate_sensitivity_specificity(all_outputs, all_targets)\n",
    "\n",
    "# Log results to WandB or print them\n",
    "wandb.log({\"test_sensitivity\": sensitivity, \"test_specificity\": specificity})\n",
    "print(f\"Test Sensitivity: {sensitivity:.4f}, Test Specificity: {specificity:.4f}\")\n",
    "\n",
    "# Save the model manually\n",
    "model_path = \"model_32layer_augmented.pth\"\n",
    "torch.save(model2.state_dict(), model_path)\n",
    "\n",
    "# Create a new artifact and manually log the file to WandB\n",
    "artifact = wandb.Artifact('model_32layer_augmented', type='model')\n",
    "artifact.add_file(model_path)\n",
    "wandb.log_artifact(artifact)\n",
    "\n",
    "# Finish the WandB run\n",
    "wandb.finish()"
   ]
  },
  {
   "cell_type": "code",
   "execution_count": 62,
   "metadata": {},
   "outputs": [],
   "source": [
    "def calculate_sensitivity_specificity_at_thresholds(outputs, targets, thresholds):\n",
    "    \"\"\"\n",
    "    Calculate sensitivity and specificity for different thresholds.\n",
    "\n",
    "    Args:\n",
    "    - outputs (torch.Tensor): Model output probabilities after applying sigmoid.\n",
    "    - targets (torch.Tensor): Ground truth binary labels.\n",
    "    - thresholds (list of floats): Thresholds to apply for binary classification.\n",
    "\n",
    "    Returns:\n",
    "    - sensitivities (list of floats): Sensitivity (Recall) values for each threshold.\n",
    "    - specificities (list of floats): Specificity values for each threshold.\n",
    "    \"\"\"\n",
    "    sensitivities = []\n",
    "    specificities = []\n",
    "\n",
    "    for threshold in thresholds:\n",
    "        # Convert outputs to binary predictions using the threshold\n",
    "        predictions = torch.where(outputs >= threshold, 1, 0)\n",
    "\n",
    "        # Calculate True Positives (TP), False Positives (FP), True Negatives (TN), False Negatives (FN)\n",
    "        TP = torch.sum((predictions == 1) & (targets == 1)).item()\n",
    "        FP = torch.sum((predictions == 1) & (targets == 0)).item()\n",
    "        TN = torch.sum((predictions == 0) & (targets == 0)).item()\n",
    "        FN = torch.sum((predictions == 0) & (targets == 1)).item()\n",
    "\n",
    "        # Sensitivity (Recall): TP / (TP + FN)\n",
    "        sensitivity = TP / (TP + FN) if (TP + FN) > 0 else 0.0\n",
    "        sensitivities.append(sensitivity)\n",
    "\n",
    "        # Specificity: TN / (TN + FP)\n",
    "        specificity = TN / (TN + FP) if (TN + FP) > 0 else 0.0\n",
    "        specificities.append(specificity)\n",
    "\n",
    "    return sensitivities, specificities\n"
   ]
  },
  {
   "cell_type": "code",
   "execution_count": 63,
   "metadata": {},
   "outputs": [
    {
     "data": {
      "text/html": [
       "Tracking run with wandb version 0.18.1"
      ],
      "text/plain": [
       "<IPython.core.display.HTML object>"
      ]
     },
     "metadata": {},
     "output_type": "display_data"
    },
    {
     "data": {
      "text/html": [
       "Run data is saved locally in <code>c:\\Users\\nisar\\github-classroom\\uwa-computer-science\\project-12-prototype-bio-acoustic-detection-system-soundsentinel\\angela19sep\\wandb\\run-20240927_123011-zy5wkk7n</code>"
      ],
      "text/plain": [
       "<IPython.core.display.HTML object>"
      ]
     },
     "metadata": {},
     "output_type": "display_data"
    },
    {
     "data": {
      "text/html": [
       "Syncing run <strong><a href='https://wandb.ai/18750937507-uwa/18750937507-uwa/runs/zy5wkk7n' target=\"_blank\">my_new_run_32layer_augmented</a></strong> to <a href='https://wandb.ai/18750937507-uwa/18750937507-uwa' target=\"_blank\">Weights & Biases</a> (<a href='https://wandb.me/run' target=\"_blank\">docs</a>)<br/>"
      ],
      "text/plain": [
       "<IPython.core.display.HTML object>"
      ]
     },
     "metadata": {},
     "output_type": "display_data"
    },
    {
     "data": {
      "text/html": [
       " View project at <a href='https://wandb.ai/18750937507-uwa/18750937507-uwa' target=\"_blank\">https://wandb.ai/18750937507-uwa/18750937507-uwa</a>"
      ],
      "text/plain": [
       "<IPython.core.display.HTML object>"
      ]
     },
     "metadata": {},
     "output_type": "display_data"
    },
    {
     "data": {
      "text/html": [
       " View run at <a href='https://wandb.ai/18750937507-uwa/18750937507-uwa/runs/zy5wkk7n' target=\"_blank\">https://wandb.ai/18750937507-uwa/18750937507-uwa/runs/zy5wkk7n</a>"
      ],
      "text/plain": [
       "<IPython.core.display.HTML object>"
      ]
     },
     "metadata": {},
     "output_type": "display_data"
    },
    {
     "data": {
      "image/png": "[encoded data removed]",
      "text/plain": [
       "<Figure size 640x480 with 1 Axes>"
      ]
     },
     "metadata": {},
     "output_type": "display_data"
    },
    {
     "name": "stdout",
     "output_type": "stream",
     "text": [
      "AUC: -0.5000\n",
      "Test Accuracy: 73.11%\n"
     ]
    },
    {
     "data": {
      "text/html": [
       "<style>\n",
       "    table.wandb td:nth-child(1) { padding: 0 10px; text-align: left ; width: auto;} td:nth-child(2) {text-align: left ; width: 100%}\n",
       "    .wandb-row { display: flex; flex-direction: row; flex-wrap: wrap; justify-content: flex-start; width: 100% }\n",
       "    .wandb-col { display: flex; flex-direction: column; flex-basis: 100%; flex: 1; padding: 10px; }\n",
       "    </style>\n",
       "<div class=\"wandb-row\"><div class=\"wandb-col\"><h3>Run history:</h3><br/><table class=\"wandb\"><tr><td>test_accuracy</td><td>▁</td></tr><tr><td>test_auc</td><td>▁</td></tr></table><br/></div><div class=\"wandb-col\"><h3>Run summary:</h3><br/><table class=\"wandb\"><tr><td>test_accuracy</td><td>0.73113</td></tr><tr><td>test_auc</td><td>-0.5</td></tr></table><br/></div></div>"
      ],
      "text/plain": [
       "<IPython.core.display.HTML object>"
      ]
     },
     "metadata": {},
     "output_type": "display_data"
    },
    {
     "data": {
      "text/html": [
       " View run <strong style=\"color:#cdcd00\">my_new_run_32layer_augmented</strong> at: <a href='https://wandb.ai/18750937507-uwa/18750937507-uwa/runs/zy5wkk7n' target=\"_blank\">https://wandb.ai/18750937507-uwa/18750937507-uwa/runs/zy5wkk7n</a><br/> View project at: <a href='https://wandb.ai/18750937507-uwa/18750937507-uwa' target=\"_blank\">https://wandb.ai/18750937507-uwa/18750937507-uwa</a><br/>Synced 5 W&B file(s), 0 media file(s), 4 artifact file(s) and 0 other file(s)"
      ],
      "text/plain": [
       "<IPython.core.display.HTML object>"
      ]
     },
     "metadata": {},
     "output_type": "display_data"
    },
    {
     "data": {
      "text/html": [
       "Find logs at: <code>.\\wandb\\run-20240927_123011-zy5wkk7n\\logs</code>"
      ],
      "text/plain": [
       "<IPython.core.display.HTML object>"
      ]
     },
     "metadata": {},
     "output_type": "display_data"
    }
   ],
   "source": [
    "wandb.init(\n",
    "    project=\"18750937507-uwa\",  # Keep the same project name\n",
    "    name=\"my_new_run_32layer_augmented\",  # Unique run name\n",
    "    config={\n",
    "        \"learning_rate\": 1e-3,\n",
    "        \"epochs\": 10,\n",
    "        \"batch_size\": 32,\n",
    "    }\n",
    ")\n",
    "\n",
    "# Access hyperparameters\n",
    "learning_rate = wandb.config.learning_rate\n",
    "n_epochs = wandb.config.epochs\n",
    "batch_size = wandb.config.batch_size\n",
    "\n",
    "\n",
    "# Define the loss function and optimizer\n",
    "optimizer = Adam(model2.parameters().astorch(), lr=1e-3)\n",
    "loss_fun = MSELoss()\n",
    "n_epochs = 10\n",
    "\n",
    "def calculate_accuracy(model, data_loader):\n",
    "    model.eval()  # Set the model to evaluation mode\n",
    "    correct = 0\n",
    "    total = 0\n",
    "\n",
    "    with torch.no_grad():  # Disable gradient calculations\n",
    "        for inputs, targets in data_loader:\n",
    "            inputs = inputs.transpose(1, 2)  # Ensure input shape matches model requirements\n",
    "            outputs, _, _ = model(inputs)\n",
    "            outputs = outputs.mean(dim=1)\n",
    "\n",
    "            predictions = torch.round(torch.sigmoid(outputs))  # For binary classification\n",
    "            correct += (predictions == targets.unsqueeze(1)).sum().item()\n",
    "            total += targets.size(0)\n",
    "\n",
    "    accuracy = correct / total\n",
    "    return accuracy\n",
    "\n",
    "# Training and Validation loop\n",
    "for epoch in range(n_epochs):  # Progress bar for epochs\n",
    "    model2.train()  # Set the model to training mode\n",
    "    epoch_loss = 0.0  # Initialize running loss for training\n",
    "\n",
    "    # Training phase\n",
    "    for inputs, targets in augment_train_data(train_loader): # Use augmented data\n",
    "\n",
    "        optimizer.zero_grad()  # Clear gradients\n",
    "        inputs, targets = inputs.to(device), targets.to(device)\n",
    "\n",
    "        # Adjust input dimensions to match model expectations\n",
    "        inputs = inputs.transpose(1, 2)  # [batch_size, n_time, n_channels]\n",
    "\n",
    "        # Forward pass through the network\n",
    "        output, _, _ = model2(inputs)  # Output shape [batch_size, n_time, n_classes]\n",
    "        output = output.mean(dim=1)  # mean spikes over the time dimension [batch_size, n_classes]\n",
    "\n",
    "        # Ensure targets are of float type as required by MSELoss\n",
    "        targets = targets.float().unsqueeze(1)  # Reshape targets to [batch_size, 1]\n",
    "\n",
    "        # Compute the loss\n",
    "        loss = loss_fun(output, targets)\n",
    "\n",
    "        # Backward pass and optimization\n",
    "        loss.backward()  # Compute gradients\n",
    "        optimizer.step()  # Update model parameters\n",
    "\n",
    "        # Accumulate loss for this batch\n",
    "        epoch_loss += loss.item()\n",
    "\n",
    "    # Calculate average training loss for the epoch\n",
    "    avg_train_loss = epoch_loss / len(train_loader)\n",
    "\n",
    "\n",
    "# Final test evaluation (replace this part of your code)\n",
    "model2.eval()  # Set model to evaluation mode\n",
    "all_outputs = []\n",
    "all_targets = []\n",
    "\n",
    "with torch.no_grad():  # Disable gradient calculation for validation/test\n",
    "    for inputs, targets in test_loader:\n",
    "        # Ensure inputs and targets are on the correct device\n",
    "        inputs, targets = inputs.to(device), targets.to(device)\n",
    "\n",
    "        # Forward pass through the network\n",
    "        inputs = inputs.transpose(1, 2)  # Adjust input dimensions if necessary\n",
    "        outputs, _, _ = model2(inputs)\n",
    "        outputs = outputs.mean(dim=1)  # Average spikes over time\n",
    "\n",
    "        # Store outputs and targets\n",
    "        all_outputs.append(outputs)\n",
    "        all_targets.append(targets)\n",
    "\n",
    "# Concatenate all outputs and targets for the entire test set\n",
    "all_outputs = torch.cat(all_outputs)\n",
    "all_targets = torch.cat(all_targets)\n",
    "\n",
    "# Apply sigmoid to the outputs for binary classification\n",
    "all_outputs = torch.sigmoid(all_outputs)\n",
    "\n",
    "# Define the thresholds to evaluate (from 0 to 1)\n",
    "thresholds = np.linspace(0, 1, 100)\n",
    "\n",
    "# Calculate sensitivity and specificity at different thresholds\n",
    "sensitivities, specificities = calculate_sensitivity_specificity_at_thresholds(all_outputs, all_targets, thresholds)\n",
    "\n",
    "# Calculate false positive rate (1 - specificity)\n",
    "false_positive_rates = [1 - spec for spec in specificities]\n",
    "\n",
    "# Plot the ROC curve (Sensitivity vs. 1 - Specificity)\n",
    "plt.plot(false_positive_rates, sensitivities, label='ROC curve')\n",
    "plt.xlabel('False Positive Rate (1 - Specificity)')\n",
    "plt.ylabel('True Positive Rate (Sensitivity)')\n",
    "plt.title('ROC Curve')\n",
    "plt.legend()\n",
    "plt.show()\n",
    "\n",
    "# Calculate AUC using trapezoidal rule\n",
    "auc = np.trapz(sensitivities, false_positive_rates)\n",
    "print(f\"AUC: {auc:.4f}\")\n",
    "\n",
    "# Log AUC to W&B\n",
    "wandb.log({\"test_auc\": auc})\n",
    "\n",
    "# Log test accuracy to W&B\n",
    "test_accuracy = calculate_accuracy(model2, test_loader)\n",
    "wandb.log({\"test_accuracy\": test_accuracy})\n",
    "\n",
    "# Print the final test accuracy\n",
    "print(f'Test Accuracy: {test_accuracy * 100:.2f}%')\n",
    "\n",
    "# Optionally save the model using W&B\n",
    "torch.save(model2.state_dict(), \"model_32layer_augmented.pth\")\n",
    "artifact = wandb.Artifact('model_32layer_augmented', type='model')\n",
    "artifact.add_file(\"model_32layer_augmented.pth\")\n",
    "wandb.log_artifact(artifact)\n",
    "\n",
    "# Finish the W&B run\n",
    "wandb.finish()"
   ]
  },
  {
   "cell_type": "code",
   "execution_count": 67,
   "metadata": {},
   "outputs": [
    {
     "data": {
      "text/html": [
       "Tracking run with wandb version 0.18.1"
      ],
      "text/plain": [
       "<IPython.core.display.HTML object>"
      ]
     },
     "metadata": {},
     "output_type": "display_data"
    },
    {
     "data": {
      "text/html": [
       "Run data is saved locally in <code>c:\\Users\\nisar\\github-classroom\\uwa-computer-science\\project-12-prototype-bio-acoustic-detection-system-soundsentinel\\angela19sep\\wandb\\run-20240927_132519-rztll2ar</code>"
      ],
      "text/plain": [
       "<IPython.core.display.HTML object>"
      ]
     },
     "metadata": {},
     "output_type": "display_data"
    },
    {
     "data": {
      "text/html": [
       "Syncing run <strong><a href='https://wandb.ai/18750937507-uwa/18750937507-uwa/runs/rztll2ar' target=\"_blank\">my_new_run_32layer_augmented</a></strong> to <a href='https://wandb.ai/18750937507-uwa/18750937507-uwa' target=\"_blank\">Weights & Biases</a> (<a href='https://wandb.me/run' target=\"_blank\">docs</a>)<br/>"
      ],
      "text/plain": [
       "<IPython.core.display.HTML object>"
      ]
     },
     "metadata": {},
     "output_type": "display_data"
    },
    {
     "data": {
      "text/html": [
       " View project at <a href='https://wandb.ai/18750937507-uwa/18750937507-uwa' target=\"_blank\">https://wandb.ai/18750937507-uwa/18750937507-uwa</a>"
      ],
      "text/plain": [
       "<IPython.core.display.HTML object>"
      ]
     },
     "metadata": {},
     "output_type": "display_data"
    },
    {
     "data": {
      "text/html": [
       " View run at <a href='https://wandb.ai/18750937507-uwa/18750937507-uwa/runs/rztll2ar' target=\"_blank\">https://wandb.ai/18750937507-uwa/18750937507-uwa/runs/rztll2ar</a>"
      ],
      "text/plain": [
       "<IPython.core.display.HTML object>"
      ]
     },
     "metadata": {},
     "output_type": "display_data"
    },
    {
     "name": "stdout",
     "output_type": "stream",
     "text": [
      "Epoch 1/10, Training Loss: 0.0992658425052211, Validation Loss: 0.3341041462762015, Validation Accuracy: 70.19%\n",
      "Epoch 2/10, Training Loss: 0.08233949345237804, Validation Loss: 0.34384146864925114, Validation Accuracy: 66.35%\n",
      "Epoch 3/10, Training Loss: 0.08156617994437802, Validation Loss: 0.34852720158440725, Validation Accuracy: 74.04%\n",
      "Epoch 4/10, Training Loss: 0.08275952991449607, Validation Loss: 0.36066622992179226, Validation Accuracy: 78.37%\n",
      "Epoch 5/10, Training Loss: 0.08371919063183497, Validation Loss: 0.34483401264463154, Validation Accuracy: 77.88%\n",
      "Epoch 6/10, Training Loss: 0.08142271964758072, Validation Loss: 0.35045540558972527, Validation Accuracy: 58.65%\n",
      "Epoch 7/10, Training Loss: 0.08414049819111824, Validation Loss: 0.3744131409163986, Validation Accuracy: 74.52%\n",
      "Epoch 8/10, Training Loss: 0.08134942839168152, Validation Loss: 0.39202520637107746, Validation Accuracy: 75.48%\n",
      "Epoch 9/10, Training Loss: 0.08502843006039565, Validation Loss: 0.35606147082788603, Validation Accuracy: 74.52%\n",
      "Epoch 10/10, Training Loss: 0.07728559312955388, Validation Loss: 0.3694639591766255, Validation Accuracy: 74.52%\n"
     ]
    },
    {
     "ename": "TypeError",
     "evalue": "'float' object is not iterable",
     "output_type": "error",
     "traceback": [
      "\u001b[1;31m---------------------------------------------------------------------------\u001b[0m",
      "\u001b[1;31mTypeError\u001b[0m                                 Traceback (most recent call last)",
      "Cell \u001b[1;32mIn[67], line 126\u001b[0m\n\u001b[0;32m    122\u001b[0m all_outputs \u001b[38;5;241m=\u001b[39m torch\u001b[38;5;241m.\u001b[39msigmoid(all_outputs)\n\u001b[0;32m    125\u001b[0m \u001b[38;5;66;03m# Calculate sensitivity and specificity at different thresholds\u001b[39;00m\n\u001b[1;32m--> 126\u001b[0m sensitivities, specificities \u001b[38;5;241m=\u001b[39m \u001b[43mcalculate_sensitivity_specificity_at_thresholds\u001b[49m\u001b[43m(\u001b[49m\u001b[43mall_outputs\u001b[49m\u001b[43m,\u001b[49m\u001b[43m \u001b[49m\u001b[43mall_targets\u001b[49m\u001b[43m,\u001b[49m\u001b[43m \u001b[49m\u001b[38;5;241;43m0.5\u001b[39;49m\u001b[43m)\u001b[49m\n\u001b[0;32m    128\u001b[0m \u001b[38;5;66;03m# Calculate false positive rate\u001b[39;00m\n\u001b[0;32m    129\u001b[0m false_positive_rates \u001b[38;5;241m=\u001b[39m [\u001b[38;5;241m1\u001b[39m \u001b[38;5;241m-\u001b[39m spec \u001b[38;5;28;01mfor\u001b[39;00m spec \u001b[38;5;129;01min\u001b[39;00m specificities]\n",
      "Cell \u001b[1;32mIn[67], line 48\u001b[0m, in \u001b[0;36mcalculate_sensitivity_specificity_at_thresholds\u001b[1;34m(outputs, targets, thresholds)\u001b[0m\n\u001b[0;32m     46\u001b[0m sensitivities \u001b[38;5;241m=\u001b[39m []\n\u001b[0;32m     47\u001b[0m specificities \u001b[38;5;241m=\u001b[39m []\n\u001b[1;32m---> 48\u001b[0m \u001b[38;5;28;01mfor\u001b[39;00m threshold \u001b[38;5;129;01min\u001b[39;00m thresholds:\n\u001b[0;32m     49\u001b[0m     predictions \u001b[38;5;241m=\u001b[39m torch\u001b[38;5;241m.\u001b[39mwhere(outputs \u001b[38;5;241m>\u001b[39m\u001b[38;5;241m=\u001b[39m threshold, \u001b[38;5;241m1\u001b[39m, \u001b[38;5;241m0\u001b[39m)\n\u001b[0;32m     50\u001b[0m     TP \u001b[38;5;241m=\u001b[39m torch\u001b[38;5;241m.\u001b[39msum((predictions \u001b[38;5;241m==\u001b[39m \u001b[38;5;241m1\u001b[39m) \u001b[38;5;241m&\u001b[39m (targets \u001b[38;5;241m==\u001b[39m \u001b[38;5;241m1\u001b[39m))\u001b[38;5;241m.\u001b[39mitem()\n",
      "\u001b[1;31mTypeError\u001b[0m: 'float' object is not iterable"
     ]
    }
   ],
   "source": [
    "import torch\n",
    "import numpy as np\n",
    "import matplotlib.pyplot as plt\n",
    "import wandb\n",
    "\n",
    "# Initialize WandB\n",
    "wandb.init(\n",
    "    project=\"18750937507-uwa\",  # Keep the same project name\n",
    "    name=\"my_new_run_32layer_augmented\",  # Unique run name\n",
    "    config={\n",
    "        \"learning_rate\": 1e-3,\n",
    "        \"epochs\": 10,\n",
    "        \"batch_size\": 32,\n",
    "    }\n",
    ")\n",
    "\n",
    "# Access hyperparameters\n",
    "learning_rate = wandb.config.learning_rate\n",
    "n_epochs = wandb.config.epochs\n",
    "batch_size = wandb.config.batch_size\n",
    "\n",
    "\n",
    "# Define the loss function and optimizer\n",
    "optimizer = Adam(model2.parameters().astorch(), lr=1e-3)\n",
    "loss_fun = MSELoss()\n",
    "\n",
    "\n",
    "# Function to calculate accuracy\n",
    "def calculate_accuracy(model, data_loader):\n",
    "    model.eval()\n",
    "    correct = 0\n",
    "    total = 0\n",
    "    with torch.no_grad():\n",
    "        for inputs, targets in data_loader:\n",
    "            inputs, targets = inputs.to(device), targets.to(device)\n",
    "            inputs = inputs.transpose(1, 2)\n",
    "            outputs, _, _ = model(inputs)\n",
    "            outputs = outputs.mean(dim=1)\n",
    "            predictions = torch.round(torch.sigmoid(outputs))\n",
    "            correct += (predictions == targets.unsqueeze(1)).sum().item()\n",
    "            total += targets.size(0)\n",
    "    return correct / total\n",
    "\n",
    "# Function to calculate sensitivity and specificity at different thresholds\n",
    "def calculate_sensitivity_specificity_at_thresholds(outputs, targets, thresholds):\n",
    "    sensitivities = []\n",
    "    specificities = []\n",
    "    for threshold in thresholds:\n",
    "        predictions = torch.where(outputs >= threshold, 1, 0)\n",
    "        TP = torch.sum((predictions == 1) & (targets == 1)).item()\n",
    "        FP = torch.sum((predictions == 1) & (targets == 0)).item()\n",
    "        TN = torch.sum((predictions == 0) & (targets == 0)).item()\n",
    "        FN = torch.sum((predictions == 0) & (targets == 1)).item()\n",
    "        sensitivity = TP / (TP + FN) if (TP + FN) > 0 else 0.0\n",
    "        specificity = TN / (TN + FP) if (TN + FP) > 0 else 0.0\n",
    "        sensitivities.append(sensitivity)\n",
    "        specificities.append(specificity)\n",
    "    return sensitivities, specificities\n",
    "\n",
    "# Training and Validation loop\n",
    "for epoch in range(n_epochs):\n",
    "    model2.train()\n",
    "    epoch_loss = 0.0\n",
    "\n",
    "    for inputs, targets in augment_train_data(train_loader):\n",
    "        optimizer.zero_grad()\n",
    "        inputs, targets = inputs.to(device), targets.to(device)\n",
    "        inputs = inputs.transpose(1, 2)\n",
    "        output, _, _ = model2(inputs)\n",
    "        output = output.mean(dim=1)\n",
    "        targets = targets.float().unsqueeze(1)\n",
    "        loss = loss_fun(output, targets)\n",
    "        loss.backward()\n",
    "        optimizer.step()\n",
    "        epoch_loss += loss.item()\n",
    "\n",
    "    avg_train_loss = epoch_loss / len(train_loader)\n",
    "\n",
    "    # Validation phase\n",
    "    model2.eval()\n",
    "    val_loss = 0.0\n",
    "    with torch.no_grad():\n",
    "        for inputs, targets in val_loader:\n",
    "            inputs, targets = inputs.to(device), targets.to(device)\n",
    "            inputs = inputs.transpose(1, 2)\n",
    "            output, _, _ = model2(inputs)\n",
    "            output = output.mean(dim=1)\n",
    "            targets = targets.float().unsqueeze(1)\n",
    "            loss = loss_fun(output, targets)\n",
    "            val_loss += loss.item()\n",
    "\n",
    "    avg_val_loss = val_loss / len(val_loader)\n",
    "    val_accuracy = calculate_accuracy(model2, val_loader)\n",
    "\n",
    "    # Log training and validation losses, accuracy to W&B\n",
    "    wandb.log({\n",
    "        \"epoch\": epoch + 1,\n",
    "        \"train_loss\": avg_train_loss,\n",
    "        \"val_loss\": avg_val_loss,\n",
    "        \"val_accuracy\": val_accuracy\n",
    "    })\n",
    "\n",
    "    print(f'Epoch {epoch + 1}/{n_epochs}, Training Loss: {avg_train_loss}, Validation Loss: {avg_val_loss}, Validation Accuracy: {val_accuracy * 100:.2f}%')\n",
    "\n",
    "# Final test evaluation to compute AUC and ROC curve\n",
    "model2.eval()\n",
    "all_outputs = []\n",
    "all_targets = []\n",
    "\n",
    "with torch.no_grad():\n",
    "    for inputs, targets in test_loader:\n",
    "        inputs, targets = inputs.to(device), targets.to(device)\n",
    "        inputs = inputs.transpose(1, 2)\n",
    "        outputs, _, _ = model2(inputs)\n",
    "        outputs = outputs.mean(dim=1)\n",
    "        all_outputs.append(outputs)\n",
    "        all_targets.append(targets)\n",
    "\n",
    "# Concatenate all outputs and targets for the entire test set\n",
    "all_outputs = torch.cat(all_outputs)\n",
    "all_targets = torch.cat(all_targets)\n",
    "all_outputs = torch.sigmoid(all_outputs)\n",
    "\n",
    "\n",
    "# Calculate sensitivity and specificity at different thresholds\n",
    "sensitivities, specificities = calculate_sensitivity_specificity_at_thresholds(all_outputs, all_targets, 0.5)\n",
    "\n",
    "# Calculate false positive rate\n",
    "false_positive_rates = [1 - spec for spec in specificities]\n",
    "\n",
    "# Sort false positive rates and sensitivities\n",
    "sorted_indices = np.argsort(false_positive_rates)\n",
    "false_positive_rates = np.array(false_positive_rates)[sorted_indices]\n",
    "sensitivities = np.array(sensitivities)[sorted_indices]\n",
    "\n",
    "# Plot ROC curve\n",
    "plt.plot(false_positive_rates, sensitivities, label='ROC curve')\n",
    "plt.xlabel('False Positive Rate (1 - Specificity)')\n",
    "plt.ylabel('True Positive Rate (Sensitivity)')\n",
    "plt.title('ROC Curve')\n",
    "plt.legend()\n",
    "plt.show()\n",
    "\n",
    "# Calculate AUC using trapezoidal rule\n",
    "auc = np.trapz(sensitivities, false_positive_rates)\n",
    "print(f\"AUC: {auc:.4f}\")\n",
    "\n",
    "# Log AUC and test accuracy to W&B\n",
    "wandb.log({\"test_auc\": auc})\n",
    "test_accuracy = calculate_accuracy(model2, test_loader)\n",
    "wandb.log({\"test_accuracy\": test_accuracy})\n",
    "\n",
    "# Print the final test accuracy\n",
    "print(f'Test Accuracy: {test_accuracy * 100:.2f}%')\n",
    "\n",
    "# Save the model using W&B\n",
    "torch.save(model2.state_dict(), \"model_32layer_augmented.pth\")\n",
    "artifact = wandb.Artifact('model_32layer_augmented', type='model')\n",
    "artifact.add_file(\"model_32layer_augmented.pth\")\n",
    "wandb.log_artifact(artifact)\n",
    "\n",
    "# Finish the W&B run\n",
    "wandb.finish()\n",
    "\n"
   ]
  }
 ],
 "metadata": {
  "kernelspec": {
   "display_name": "capstone1",
   "language": "python",
   "name": "python3"
  },
  "language_info": {
   "codemirror_mode": {
    "name": "ipython",
    "version": 3
   },
   "file_extension": ".py",
   "mimetype": "text/x-python",
   "name": "python",
   "nbconvert_exporter": "python",
   "pygments_lexer": "ipython3",
   "version": "3.8.19"
  }
 },
 "nbformat": 4,
 "nbformat_minor": 2
}
