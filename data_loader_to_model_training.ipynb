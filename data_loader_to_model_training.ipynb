{
 "cells": [
  {
   "cell_type": "code",
   "execution_count": 92,
   "metadata": {},
   "outputs": [
    {
     "name": "stdout",
     "output_type": "stream",
     "text": [
      "Original Labels distribution: tensor([1294,   95, 1046,   53,   40])\n"
     ]
    }
   ],
   "source": [
    "import warnings\n",
    "import torch\n",
    "import numpy as np\n",
    "\n",
    "warnings.filterwarnings(\"ignore\", category=FutureWarning)\n",
    "\n",
    "device = torch.device(\"cuda\" if torch.cuda.is_available() else \"cpu\")\n",
    "\n",
    "# Load tensor\n",
    "spikes_tensor = torch.load(\"tensors/spike_data_tensor.pt\" ,map_location=device)\n",
    "labels_tensor = torch.load(\"tensors/labels_tensor.pt\", map_location=device)\n",
    "\n",
    "label_distribution = torch.bincount(labels_tensor)\n",
    "print(f'Original Labels distribution: {label_distribution}')\n",
    "\n",
    "spikes_tensor = spikes_tensor.to(device)\n",
    "labels_tensor = labels_tensor.to(device)"
   ]
  },
  {
   "cell_type": "code",
   "execution_count": 93,
   "metadata": {},
   "outputs": [],
   "source": [
    "from torch.utils.data import Dataset, DataLoader, Subset, random_split\n",
    "import tonic\n",
    "\n",
    "class CCMKDataset(Dataset):\n",
    "    def __init__(self, spikes_tensor, labels_tensor, nchannels=None, target_label=2, seed=None, device=None):\n",
    "        # Random seed for reproducibility\n",
    "        if seed is not None:\n",
    "            np.random.seed(seed)\n",
    "            torch.manual_seed(seed)\n",
    "        \n",
    "        # Move tensors to the specified device\n",
    "        self.device = device if device else torch.device('cuda' if torch.cuda.is_available() else 'cpu')\n",
    "        self.spikes_tensor = spikes_tensor.to(device)\n",
    "        self.labels_tensor = labels_tensor.to(device)\n",
    "\n",
    "        if nchannels is not None:\n",
    "            self.spikes_tensor = self.spikes_tensor[:, nchannels, :]\n",
    "        \n",
    "        # Ignore labels 1, 3, and 4\n",
    "        valid_mask = (self.labels_tensor == 0) | (self.labels_tensor == target_label)\n",
    "        self.spikes_tensor = self.spikes_tensor[valid_mask]\n",
    "        self.labels_tensor = self.labels_tensor[valid_mask]\n",
    "        \n",
    "        # Convert the target label (2) to 1\n",
    "        self.labels_tensor[self.labels_tensor == target_label] = 1\n",
    "        \n",
    "        # Downsampling: Match the number of label 0 samples to the number of label 1 samples\n",
    "        label_0_indices = torch.where(self.labels_tensor == 0)[0]\n",
    "        label_1_indices = torch.where(self.labels_tensor == 1)[0]\n",
    "        num_samples = min(len(label_1_indices), len(label_0_indices))\n",
    "\n",
    "        # Randomly sample from label 0 and label 1 indices\n",
    "        #CPU\n",
    "        # selected_label_0_indices = torch.tensor(np.random.choice(label_0_indices.cpu(), size=num_samples, replace=False), device=self.device)\n",
    "        # selected_label_1_indices = torch.tensor(np.random.choice(label_1_indices.cpu(), size=num_samples, replace=False), device=self.device)\n",
    "\n",
    "        # GPU\n",
    "        selected_label_0_indices = label_0_indices[torch.randperm(len(label_0_indices))[:num_samples]].to(self.device)\n",
    "        selected_label_1_indices = label_1_indices[torch.randperm(len(label_1_indices))[:num_samples]].to(self.device)\n",
    "\n",
    "\n",
    "        # Combine the downsampled label 0 indices with label 1 indices\n",
    "        balanced_indices = torch.cat([selected_label_0_indices, selected_label_1_indices])\n",
    "\n",
    "        # Apply the balanced indices to spikes and labels\n",
    "        self.spikes_tensor = self.spikes_tensor[balanced_indices]\n",
    "        self.labels_tensor = self.labels_tensor[balanced_indices]\n",
    "\n",
    "        # Debugging: Check the distribution of labels after processing\n",
    "        print(f\"Filtered Labels distribution after processing: {torch.bincount(self.labels_tensor.int().cpu())}\")\n",
    "\n",
    "    def __len__(self):\n",
    "        return len(self.labels_tensor)\n",
    "    \n",
    "    def __getitem__(self, idx):\n",
    "        spike_data = self.spikes_tensor[idx]\n",
    "        label = self.labels_tensor[idx]\n",
    "        return spike_data, label"
   ]
  },
  {
   "cell_type": "markdown",
   "metadata": {},
   "source": [
    "### Dataset and DataLoader Configuration"
   ]
  },
  {
   "cell_type": "code",
   "execution_count": 95,
   "metadata": {},
   "outputs": [
    {
     "name": "stdout",
     "output_type": "stream",
     "text": [
      "Filtered Labels distribution after processing: tensor([1046, 1046])\n"
     ]
    }
   ],
   "source": [
    "dataset = CCMKDataset(spikes_tensor, labels_tensor, nchannels=list(range(16)), seed=42)\n",
    "\n",
    "# Balance the dataset by selecting equal samples from both classes\n",
    "label_0_indices = torch.where(dataset.labels_tensor == 0)[0]\n",
    "label_1_indices = torch.where(dataset.labels_tensor == 1)[0]\n",
    "\n",
    "dataset_0 = torch.utils.data.Subset(dataset, label_0_indices)\n",
    "dataset_1 = torch.utils.data.Subset(dataset, label_1_indices)\n",
    "\n",
    "# Split size\n",
    "train_size_0 = int(0.8 * len(dataset_0))\n",
    "val_size_0 = int(0.1 * len(dataset_0))\n",
    "test_size_0 = len(dataset_0) - train_size_0 - val_size_0\n",
    "\n",
    "train_size_1 = int(0.8 * len(dataset_1))\n",
    "val_size_1 = int(0.1 * len(dataset_1))\n",
    "test_size_1 = len(dataset_1) - train_size_1 - val_size_1\n",
    "\n",
    "# Split the dataset\n",
    "train_dataset_0, val_dataset_0, test_dataset_0 = random_split(dataset_0, [train_size_0, val_size_0, test_size_0], generator=torch.Generator().manual_seed(42))\n",
    "train_dataset_1, val_dataset_1, test_dataset_1 = random_split(dataset_1, [train_size_1, val_size_1, test_size_1], generator=torch.Generator().manual_seed(42))\n",
    "\n",
    "# Combine splits from both classes\n",
    "train_dataset = torch.utils.data.ConcatDataset([train_dataset_0, train_dataset_1])\n",
    "val_dataset = torch.utils.data.ConcatDataset([val_dataset_0, val_dataset_1])\n",
    "test_dataset = torch.utils.data.ConcatDataset([test_dataset_0, test_dataset_1])\n",
    "\n",
    "batch_size = 32\n",
    "# Create DataLoaders\n",
    "train_loader = DataLoader(train_dataset, batch_size=batch_size, shuffle=True)\n",
    "val_loader = DataLoader(val_dataset, batch_size=batch_size, shuffle=False)\n",
    "test_loader = DataLoader(test_dataset, batch_size=batch_size, shuffle=False)\n"
   ]
  },
  {
   "cell_type": "code",
   "execution_count": 96,
   "metadata": {},
   "outputs": [],
   "source": [
    "import os\n",
    "os.makedirs('saved_loaders_bs32', exist_ok=True)\n",
    "\n",
    "torch.save(train_loader, 'saved_loaders_bs32/train_loader.pth')\n",
    "torch.save(val_loader, 'saved_loaders_bs32/val_loader.pth')\n",
    "torch.save(test_loader, 'saved_loaders_bs32/test_loader.pth')"
   ]
  },
  {
   "cell_type": "code",
   "execution_count": 57,
   "metadata": {},
   "outputs": [
    {
     "name": "stdout",
     "output_type": "stream",
     "text": [
      "Dataset length: 2092\n",
      "Shape of the first spikes tensor: torch.Size([16, 101])\n",
      "Label of the first sample: 0\n",
      "Batch 1:\n",
      " - Inputs shape: torch.Size([32, 16, 101])\n",
      " - Targets shape: torch.Size([32])\n",
      "Labels distribution: tensor([836, 836])\n"
     ]
    }
   ],
   "source": [
    "# Adapted from Esther's snn.ipynb notebook\n",
    "\n",
    "# Check the length of the dataset\n",
    "print(f\"Dataset length: {len(dataset)}\")\n",
    "\n",
    "# Get and print the shape of the first sample in the dataset\n",
    "first_spikes, first_label = dataset[0]\n",
    "print(f\"Shape of the first spikes tensor: {first_spikes.shape}\")\n",
    "print(f\"Label of the first sample: {first_label}\")\n",
    "\n",
    "# Check batch information in the dataloader\n",
    "for batch_idx, (inputs, targets) in enumerate(train_loader):\n",
    "    print(f\"Batch {batch_idx + 1}:\")\n",
    "    print(f\" - Inputs shape: {inputs.shape}\")  # Batch size x Number of channels x Number of time steps\n",
    "    print(f\" - Targets shape: {targets.shape}\")\n",
    "    break  # Only view the first batch\n",
    "\n",
    "# Get the distribution of labels\n",
    "labels = torch.cat([batch[1] for batch in train_loader])\n",
    "print(f'Labels distribution: {torch.bincount(labels.int())}')"
   ]
  },
  {
   "cell_type": "code",
   "execution_count": 58,
   "metadata": {},
   "outputs": [
    {
     "name": "stdout",
     "output_type": "stream",
     "text": [
      "Loader: Train Loader, Batch 1:\n",
      " - Inputs shape: torch.Size([32, 16, 101])\n",
      " - Labels shape: torch.Size([32])\n",
      "Loader: Validation Loader, Batch 1:\n",
      " - Inputs shape: torch.Size([32, 16, 101])\n",
      " - Labels shape: torch.Size([32])\n",
      "Loader: Test Loader, Batch 1:\n",
      " - Inputs shape: torch.Size([32, 16, 101])\n",
      " - Labels shape: torch.Size([32])\n"
     ]
    }
   ],
   "source": [
    "# Check the shape of tensors in a DataLoader\n",
    "def check_dataloader_shapes(dataloader, loader_name=\"\"):\n",
    "    for batch_idx, (inputs, labels) in enumerate(dataloader):\n",
    "        print(f\"Loader: {loader_name}, Batch {batch_idx + 1}:\")\n",
    "        print(f\" - Inputs shape: {inputs.shape}\")  \n",
    "        print(f\" - Labels shape: {labels.shape}\")  \n",
    "        break \n",
    "\n",
    "check_dataloader_shapes(train_loader, \"Train Loader\")\n",
    "check_dataloader_shapes(val_loader, \"Validation Loader\")\n",
    "check_dataloader_shapes(test_loader, \"Test Loader\")\n"
   ]
  },
  {
   "cell_type": "markdown",
   "metadata": {},
   "source": [
    "### Network Initialization"
   ]
  },
  {
   "cell_type": "code",
   "execution_count": 59,
   "metadata": {},
   "outputs": [],
   "source": [
    "import torch\n",
    "import numpy as np\n",
    "import random\n",
    "\n",
    "# Reproducibility\n",
    "seed = 42  \n",
    "\n",
    "# Set seed for Python's built-in random module\n",
    "random.seed(seed)\n",
    "\n",
    "# Set seed for NumPy\n",
    "np.random.seed(seed)\n",
    "\n",
    "# Set seed for PyTorch\n",
    "torch.manual_seed(seed)\n",
    "\n",
    "if torch.cuda.is_available():\n",
    "    torch.cuda.manual_seed(seed)\n",
    "    torch.cuda.manual_seed_all(seed)\n",
    "\n",
    "torch.backends.cudnn.deterministic = True\n",
    "torch.backends.cudnn.benchmark = False"
   ]
  },
  {
   "cell_type": "code",
   "execution_count": 91,
   "metadata": {},
   "outputs": [
    {
     "name": "stdout",
     "output_type": "stream",
     "text": [
      "SynNet  with shape (16, 1) {\n",
      "    TorchSequential 'seq' with shape (16, 1) {\n",
      "        LinearTorch '0_LinearTorch' with shape (16, 24)\n",
      "        LIFTorch '1_LIFTorch' with shape (24, 24)\n",
      "        TimeStepDropout '2_TimeStepDropout' with shape (24,)\n",
      "        LinearTorch '3_LinearTorch' with shape (24, 24)\n",
      "        LIFTorch '4_LIFTorch' with shape (24, 24)\n",
      "        TimeStepDropout '5_TimeStepDropout' with shape (24,)\n",
      "        LinearTorch '6_LinearTorch' with shape (24, 24)\n",
      "        LIFTorch '7_LIFTorch' with shape (24, 24)\n",
      "        TimeStepDropout '8_TimeStepDropout' with shape (24,)\n",
      "        LinearTorch '9_LinearTorch' with shape (24, 1)\n",
      "        LIFTorch '10_LIFTorch' with shape (1, 1)\n",
      "    }\n",
      "}\n"
     ]
    }
   ],
   "source": [
    "from rockpool.nn.networks import SynNet\n",
    "from rockpool.nn.modules import LIFTorch as LIFOtherSpiking\n",
    "\n",
    "n_channels = 16  # Number of input channels\n",
    "n_classes = 1    # Number of output classes\n",
    "n_time = 101     # Number of time steps\n",
    "dt = 10e-3       # Time step duration (Should be equal to raster_period in audio processing)\n",
    "\n",
    "model1 = SynNet(\n",
    "    n_channels=n_channels,                        \n",
    "    n_classes=n_classes,\n",
    "    dt=dt,                           \n",
    "    size_hidden_layers=[24, 24, 24],        \n",
    "    time_constants_per_layer=[4, 8, 10], \n",
    "    tau_syn_base=0.02,  # must be larger than dt\n",
    "    tau_mem=0.02,\n",
    "    tau_syn_out=0.02\n",
    ")\n",
    "\n",
    "print(model1)"
   ]
  },
  {
   "cell_type": "markdown",
   "metadata": {},
   "source": [
    "### Train & Validation"
   ]
  },
  {
   "cell_type": "markdown",
   "metadata": {},
   "source": [
    "### Model 1 - Spike output"
   ]
  },
  {
   "cell_type": "code",
   "execution_count": 61,
   "metadata": {},
   "outputs": [],
   "source": [
    "os.environ[\"WANDB_NOTEBOOK_NAME\"] = \"data_loader_to_model_training.ipynb\""
   ]
  },
  {
   "cell_type": "code",
   "execution_count": 62,
   "metadata": {},
   "outputs": [
    {
     "data": {
      "text/html": [
       "Changes to your `wandb` environment variables will be ignored because your `wandb` session has already started. For more information on how to modify your settings with `wandb.init()` arguments, please refer to <a href='https://wandb.me/wandb-init' target=\"_blank\">the W&B docs</a>."
      ],
      "text/plain": [
       "<IPython.core.display.HTML object>"
      ]
     },
     "metadata": {},
     "output_type": "display_data"
    },
    {
     "data": {
      "text/html": [
       "wandb version 0.18.1 is available!  To upgrade, please run:\n",
       " $ pip install wandb --upgrade"
      ],
      "text/plain": [
       "<IPython.core.display.HTML object>"
      ]
     },
     "metadata": {},
     "output_type": "display_data"
    },
    {
     "data": {
      "text/html": [
       "Tracking run with wandb version 0.16.6"
      ],
      "text/plain": [
       "<IPython.core.display.HTML object>"
      ]
     },
     "metadata": {},
     "output_type": "display_data"
    },
    {
     "data": {
      "text/html": [
       "Run data is saved locally in <code>/Users/angelajacinto/Library/CloudStorage/OneDrive-UWA/SEM4/CITS5553/project-12-prototype-bio-acoustic-detection-system-soundsentinel/wandb/run-20240927_154451-gja84bqu</code>"
      ],
      "text/plain": [
       "<IPython.core.display.HTML object>"
      ]
     },
     "metadata": {},
     "output_type": "display_data"
    },
    {
     "data": {
      "text/html": [
       "Syncing run <strong><a href='https://wandb.ai/angelajcnto-the-university-of-western-australia/model1_spikes/runs/gja84bqu' target=\"_blank\">smart-vortex-3</a></strong> to <a href='https://wandb.ai/angelajcnto-the-university-of-western-australia/model1_spikes' target=\"_blank\">Weights & Biases</a> (<a href='https://wandb.me/run' target=\"_blank\">docs</a>)<br/>"
      ],
      "text/plain": [
       "<IPython.core.display.HTML object>"
      ]
     },
     "metadata": {},
     "output_type": "display_data"
    },
    {
     "data": {
      "text/html": [
       " View project at <a href='https://wandb.ai/angelajcnto-the-university-of-western-australia/model1_spikes' target=\"_blank\">https://wandb.ai/angelajcnto-the-university-of-western-australia/model1_spikes</a>"
      ],
      "text/plain": [
       "<IPython.core.display.HTML object>"
      ]
     },
     "metadata": {},
     "output_type": "display_data"
    },
    {
     "data": {
      "text/html": [
       " View run at <a href='https://wandb.ai/angelajcnto-the-university-of-western-australia/model1_spikes/runs/gja84bqu' target=\"_blank\">https://wandb.ai/angelajcnto-the-university-of-western-australia/model1_spikes/runs/gja84bqu</a>"
      ],
      "text/plain": [
       "<IPython.core.display.HTML object>"
      ]
     },
     "metadata": {},
     "output_type": "display_data"
    },
    {
     "name": "stderr",
     "output_type": "stream",
     "text": [
      "  1%|          | 1/100 [00:30<50:57, 30.88s/it]"
     ]
    },
    {
     "name": "stdout",
     "output_type": "stream",
     "text": [
      "Epoch 1/100, Training Loss: 445.8266509433962, Validation Loss: 53.57142857142857\n"
     ]
    },
    {
     "name": "stderr",
     "output_type": "stream",
     "text": [
      "  2%|▏         | 2/100 [00:52<41:35, 25.46s/it]"
     ]
    },
    {
     "name": "stdout",
     "output_type": "stream",
     "text": [
      "Epoch 2/100, Training Loss: 63.727004716981135, Validation Loss: 53.57142857142857\n"
     ]
    },
    {
     "name": "stderr",
     "output_type": "stream",
     "text": [
      "  3%|▎         | 3/100 [01:13<37:30, 23.20s/it]"
     ]
    },
    {
     "name": "stdout",
     "output_type": "stream",
     "text": [
      "Epoch 3/100, Training Loss: 403.5518867924528, Validation Loss: 53.57142857142857\n"
     ]
    },
    {
     "name": "stderr",
     "output_type": "stream",
     "text": [
      "  4%|▍         | 4/100 [01:33<35:26, 22.15s/it]"
     ]
    },
    {
     "name": "stdout",
     "output_type": "stream",
     "text": [
      "Epoch 4/100, Training Loss: 49.823113207547166, Validation Loss: 53.57142857142857\n"
     ]
    },
    {
     "name": "stderr",
     "output_type": "stream",
     "text": [
      "  5%|▌         | 5/100 [01:54<34:13, 21.61s/it]"
     ]
    },
    {
     "name": "stdout",
     "output_type": "stream",
     "text": [
      "Epoch 5/100, Training Loss: 50.0, Validation Loss: 53.57142857142857\n"
     ]
    },
    {
     "name": "stderr",
     "output_type": "stream",
     "text": [
      "  6%|▌         | 6/100 [02:15<33:45, 21.55s/it]"
     ]
    },
    {
     "name": "stdout",
     "output_type": "stream",
     "text": [
      "Epoch 6/100, Training Loss: 50.530660377358494, Validation Loss: 53.57142857142857\n"
     ]
    },
    {
     "name": "stderr",
     "output_type": "stream",
     "text": [
      "  7%|▋         | 7/100 [02:35<32:38, 21.06s/it]"
     ]
    },
    {
     "name": "stdout",
     "output_type": "stream",
     "text": [
      "Epoch 7/100, Training Loss: 49.649174528301884, Validation Loss: 214.66071428571428\n"
     ]
    },
    {
     "name": "stderr",
     "output_type": "stream",
     "text": [
      "  8%|▊         | 8/100 [03:00<34:09, 22.28s/it]"
     ]
    },
    {
     "name": "stdout",
     "output_type": "stream",
     "text": [
      "Epoch 8/100, Training Loss: 70.24174528301887, Validation Loss: 53.57142857142857\n"
     ]
    },
    {
     "name": "stderr",
     "output_type": "stream",
     "text": [
      "  9%|▉         | 9/100 [03:20<32:45, 21.60s/it]"
     ]
    },
    {
     "name": "stdout",
     "output_type": "stream",
     "text": [
      "Epoch 9/100, Training Loss: 50.0, Validation Loss: 53.57142857142857\n"
     ]
    },
    {
     "name": "stderr",
     "output_type": "stream",
     "text": [
      " 10%|█         | 10/100 [03:40<31:33, 21.04s/it]"
     ]
    },
    {
     "name": "stdout",
     "output_type": "stream",
     "text": [
      "Epoch 10/100, Training Loss: 90.05306603773585, Validation Loss: 42.59375\n"
     ]
    },
    {
     "name": "stderr",
     "output_type": "stream",
     "text": [
      " 11%|█         | 11/100 [04:03<31:55, 21.53s/it]"
     ]
    },
    {
     "name": "stdout",
     "output_type": "stream",
     "text": [
      "Epoch 11/100, Training Loss: 52.62146226415094, Validation Loss: 45.651785714285715\n"
     ]
    },
    {
     "name": "stderr",
     "output_type": "stream",
     "text": [
      " 12%|█▏        | 12/100 [04:23<31:14, 21.30s/it]"
     ]
    },
    {
     "name": "stdout",
     "output_type": "stream",
     "text": [
      "Epoch 12/100, Training Loss: 76.09021226415095, Validation Loss: 50.285714285714285\n"
     ]
    },
    {
     "name": "stderr",
     "output_type": "stream",
     "text": [
      " 13%|█▎        | 13/100 [04:45<31:00, 21.38s/it]"
     ]
    },
    {
     "name": "stdout",
     "output_type": "stream",
     "text": [
      "Epoch 13/100, Training Loss: 43.760613207547166, Validation Loss: 39.40625\n"
     ]
    },
    {
     "name": "stderr",
     "output_type": "stream",
     "text": [
      " 14%|█▍        | 14/100 [05:05<30:14, 21.10s/it]"
     ]
    },
    {
     "name": "stdout",
     "output_type": "stream",
     "text": [
      "Epoch 14/100, Training Loss: 47.61143867924528, Validation Loss: 37.5\n"
     ]
    },
    {
     "name": "stderr",
     "output_type": "stream",
     "text": [
      " 15%|█▌        | 15/100 [05:27<29:57, 21.15s/it]"
     ]
    },
    {
     "name": "stdout",
     "output_type": "stream",
     "text": [
      "Epoch 15/100, Training Loss: 47.28596698113208, Validation Loss: 41.74107142857143\n"
     ]
    },
    {
     "name": "stderr",
     "output_type": "stream",
     "text": [
      " 16%|█▌        | 16/100 [05:47<29:04, 20.77s/it]"
     ]
    },
    {
     "name": "stdout",
     "output_type": "stream",
     "text": [
      "Epoch 16/100, Training Loss: 39.185731132075475, Validation Loss: 34.95982142857143\n"
     ]
    },
    {
     "name": "stderr",
     "output_type": "stream",
     "text": [
      " 17%|█▋        | 17/100 [06:08<28:53, 20.89s/it]"
     ]
    },
    {
     "name": "stdout",
     "output_type": "stream",
     "text": [
      "Epoch 17/100, Training Loss: 46.755896226415096, Validation Loss: 34.82142857142857\n"
     ]
    },
    {
     "name": "stderr",
     "output_type": "stream",
     "text": [
      " 18%|█▊        | 18/100 [06:29<28:47, 21.07s/it]"
     ]
    },
    {
     "name": "stdout",
     "output_type": "stream",
     "text": [
      "Epoch 18/100, Training Loss: 41.31367924528302, Validation Loss: 39.674107142857146\n"
     ]
    },
    {
     "name": "stderr",
     "output_type": "stream",
     "text": [
      " 19%|█▉        | 19/100 [06:51<28:47, 21.33s/it]"
     ]
    },
    {
     "name": "stdout",
     "output_type": "stream",
     "text": [
      "Epoch 19/100, Training Loss: 42.19516509433962, Validation Loss: 33.41517857142857\n"
     ]
    },
    {
     "name": "stderr",
     "output_type": "stream",
     "text": [
      " 20%|██        | 20/100 [07:12<28:18, 21.23s/it]"
     ]
    },
    {
     "name": "stdout",
     "output_type": "stream",
     "text": [
      "Epoch 20/100, Training Loss: 36.875, Validation Loss: 33.40625\n"
     ]
    },
    {
     "name": "stderr",
     "output_type": "stream",
     "text": [
      " 21%|██        | 21/100 [07:34<28:01, 21.28s/it]"
     ]
    },
    {
     "name": "stdout",
     "output_type": "stream",
     "text": [
      "Epoch 21/100, Training Loss: 78.81308962264151, Validation Loss: 35.098214285714285\n"
     ]
    },
    {
     "name": "stderr",
     "output_type": "stream",
     "text": [
      " 22%|██▏       | 22/100 [07:55<27:35, 21.22s/it]"
     ]
    },
    {
     "name": "stdout",
     "output_type": "stream",
     "text": [
      "Epoch 22/100, Training Loss: 36.935731132075475, Validation Loss: 34.07142857142857\n"
     ]
    },
    {
     "name": "stderr",
     "output_type": "stream",
     "text": [
      " 23%|██▎       | 23/100 [08:15<27:02, 21.07s/it]"
     ]
    },
    {
     "name": "stdout",
     "output_type": "stream",
     "text": [
      "Epoch 23/100, Training Loss: 36.5436320754717, Validation Loss: 28.651785714285715\n"
     ]
    },
    {
     "name": "stderr",
     "output_type": "stream",
     "text": [
      " 24%|██▍       | 24/100 [08:35<26:03, 20.58s/it]"
     ]
    },
    {
     "name": "stdout",
     "output_type": "stream",
     "text": [
      "Epoch 24/100, Training Loss: 30.225825471698112, Validation Loss: 22.084821428571427\n"
     ]
    },
    {
     "name": "stderr",
     "output_type": "stream",
     "text": [
      " 25%|██▌       | 25/100 [08:55<25:32, 20.44s/it]"
     ]
    },
    {
     "name": "stdout",
     "output_type": "stream",
     "text": [
      "Epoch 25/100, Training Loss: 33.675707547169814, Validation Loss: 26.022321428571427\n"
     ]
    },
    {
     "name": "stderr",
     "output_type": "stream",
     "text": [
      " 26%|██▌       | 26/100 [09:14<24:32, 19.90s/it]"
     ]
    },
    {
     "name": "stdout",
     "output_type": "stream",
     "text": [
      "Epoch 26/100, Training Loss: 26.472877358490567, Validation Loss: 28.647321428571427\n"
     ]
    },
    {
     "name": "stderr",
     "output_type": "stream",
     "text": [
      " 27%|██▋       | 27/100 [09:32<23:50, 19.60s/it]"
     ]
    },
    {
     "name": "stdout",
     "output_type": "stream",
     "text": [
      "Epoch 27/100, Training Loss: 27.0625, Validation Loss: 24.276785714285715\n"
     ]
    },
    {
     "name": "stderr",
     "output_type": "stream",
     "text": [
      " 28%|██▊       | 28/100 [09:51<23:15, 19.38s/it]"
     ]
    },
    {
     "name": "stdout",
     "output_type": "stream",
     "text": [
      "Epoch 28/100, Training Loss: 25.829009433962263, Validation Loss: 23.008928571428573\n"
     ]
    },
    {
     "name": "stderr",
     "output_type": "stream",
     "text": [
      " 29%|██▉       | 29/100 [10:11<22:54, 19.35s/it]"
     ]
    },
    {
     "name": "stdout",
     "output_type": "stream",
     "text": [
      "Epoch 29/100, Training Loss: 25.767688679245282, Validation Loss: 22.1875\n"
     ]
    },
    {
     "name": "stderr",
     "output_type": "stream",
     "text": [
      " 30%|███       | 30/100 [10:31<22:56, 19.66s/it]"
     ]
    },
    {
     "name": "stdout",
     "output_type": "stream",
     "text": [
      "Epoch 30/100, Training Loss: 26.47110849056604, Validation Loss: 23.035714285714285\n"
     ]
    },
    {
     "name": "stderr",
     "output_type": "stream",
     "text": [
      " 31%|███       | 31/100 [10:50<22:12, 19.31s/it]"
     ]
    },
    {
     "name": "stdout",
     "output_type": "stream",
     "text": [
      "Epoch 31/100, Training Loss: 24.982311320754718, Validation Loss: 21.25\n"
     ]
    },
    {
     "name": "stderr",
     "output_type": "stream",
     "text": [
      " 32%|███▏      | 32/100 [11:09<21:49, 19.26s/it]"
     ]
    },
    {
     "name": "stdout",
     "output_type": "stream",
     "text": [
      "Epoch 32/100, Training Loss: 25.13443396226415, Validation Loss: 22.607142857142858\n"
     ]
    },
    {
     "name": "stderr",
     "output_type": "stream",
     "text": [
      " 33%|███▎      | 33/100 [11:28<21:27, 19.22s/it]"
     ]
    },
    {
     "name": "stdout",
     "output_type": "stream",
     "text": [
      "Epoch 33/100, Training Loss: 23.57134433962264, Validation Loss: 20.772321428571427\n"
     ]
    },
    {
     "name": "stderr",
     "output_type": "stream",
     "text": [
      " 34%|███▍      | 34/100 [11:46<20:50, 18.95s/it]"
     ]
    },
    {
     "name": "stdout",
     "output_type": "stream",
     "text": [
      "Epoch 34/100, Training Loss: 23.40801886792453, Validation Loss: 21.625\n"
     ]
    },
    {
     "name": "stderr",
     "output_type": "stream",
     "text": [
      " 35%|███▌      | 35/100 [12:05<20:24, 18.84s/it]"
     ]
    },
    {
     "name": "stdout",
     "output_type": "stream",
     "text": [
      "Epoch 35/100, Training Loss: 22.888561320754718, Validation Loss: 23.25\n"
     ]
    },
    {
     "name": "stderr",
     "output_type": "stream",
     "text": [
      " 36%|███▌      | 36/100 [12:24<20:06, 18.84s/it]"
     ]
    },
    {
     "name": "stdout",
     "output_type": "stream",
     "text": [
      "Epoch 36/100, Training Loss: 24.38561320754717, Validation Loss: 24.473214285714285\n"
     ]
    },
    {
     "name": "stderr",
     "output_type": "stream",
     "text": [
      " 37%|███▋      | 37/100 [12:42<19:42, 18.78s/it]"
     ]
    },
    {
     "name": "stdout",
     "output_type": "stream",
     "text": [
      "Epoch 37/100, Training Loss: 22.525353773584907, Validation Loss: 21.6875\n"
     ]
    },
    {
     "name": "stderr",
     "output_type": "stream",
     "text": [
      " 38%|███▊      | 38/100 [13:01<19:23, 18.76s/it]"
     ]
    },
    {
     "name": "stdout",
     "output_type": "stream",
     "text": [
      "Epoch 38/100, Training Loss: 22.816037735849058, Validation Loss: 20.995535714285715\n"
     ]
    },
    {
     "name": "stderr",
     "output_type": "stream",
     "text": [
      " 39%|███▉      | 39/100 [13:19<18:55, 18.62s/it]"
     ]
    },
    {
     "name": "stdout",
     "output_type": "stream",
     "text": [
      "Epoch 39/100, Training Loss: 24.47700471698113, Validation Loss: 20.71875\n"
     ]
    },
    {
     "name": "stderr",
     "output_type": "stream",
     "text": [
      " 40%|████      | 40/100 [13:38<18:33, 18.57s/it]"
     ]
    },
    {
     "name": "stdout",
     "output_type": "stream",
     "text": [
      "Epoch 40/100, Training Loss: 22.63561320754717, Validation Loss: 22.397321428571427\n"
     ]
    },
    {
     "name": "stderr",
     "output_type": "stream",
     "text": [
      " 41%|████      | 41/100 [13:56<18:17, 18.59s/it]"
     ]
    },
    {
     "name": "stdout",
     "output_type": "stream",
     "text": [
      "Epoch 41/100, Training Loss: 21.18632075471698, Validation Loss: 21.964285714285715\n"
     ]
    },
    {
     "name": "stderr",
     "output_type": "stream",
     "text": [
      " 42%|████▏     | 42/100 [14:14<17:41, 18.30s/it]"
     ]
    },
    {
     "name": "stdout",
     "output_type": "stream",
     "text": [
      "Epoch 42/100, Training Loss: 21.20577830188679, Validation Loss: 21.696428571428573\n"
     ]
    },
    {
     "name": "stderr",
     "output_type": "stream",
     "text": [
      " 43%|████▎     | 43/100 [14:32<17:20, 18.26s/it]"
     ]
    },
    {
     "name": "stdout",
     "output_type": "stream",
     "text": [
      "Epoch 43/100, Training Loss: 21.50766509433962, Validation Loss: 19.232142857142858\n"
     ]
    },
    {
     "name": "stderr",
     "output_type": "stream",
     "text": [
      " 44%|████▍     | 44/100 [14:50<16:49, 18.03s/it]"
     ]
    },
    {
     "name": "stdout",
     "output_type": "stream",
     "text": [
      "Epoch 44/100, Training Loss: 24.23997641509434, Validation Loss: 19.40625\n"
     ]
    },
    {
     "name": "stderr",
     "output_type": "stream",
     "text": [
      " 45%|████▌     | 45/100 [15:08<16:39, 18.17s/it]"
     ]
    },
    {
     "name": "stdout",
     "output_type": "stream",
     "text": [
      "Epoch 45/100, Training Loss: 20.965801886792452, Validation Loss: 19.78125\n"
     ]
    },
    {
     "name": "stderr",
     "output_type": "stream",
     "text": [
      " 46%|████▌     | 46/100 [15:27<16:27, 18.30s/it]"
     ]
    },
    {
     "name": "stdout",
     "output_type": "stream",
     "text": [
      "Epoch 46/100, Training Loss: 21.97700471698113, Validation Loss: 19.004464285714285\n"
     ]
    },
    {
     "name": "stderr",
     "output_type": "stream",
     "text": [
      " 47%|████▋     | 47/100 [15:46<16:26, 18.61s/it]"
     ]
    },
    {
     "name": "stdout",
     "output_type": "stream",
     "text": [
      "Epoch 47/100, Training Loss: 20.91391509433962, Validation Loss: 21.34375\n"
     ]
    },
    {
     "name": "stderr",
     "output_type": "stream",
     "text": [
      " 48%|████▊     | 48/100 [16:05<16:19, 18.84s/it]"
     ]
    },
    {
     "name": "stdout",
     "output_type": "stream",
     "text": [
      "Epoch 48/100, Training Loss: 21.379716981132077, Validation Loss: 20.285714285714285\n"
     ]
    },
    {
     "name": "stderr",
     "output_type": "stream",
     "text": [
      " 49%|████▉     | 49/100 [16:26<16:23, 19.28s/it]"
     ]
    },
    {
     "name": "stdout",
     "output_type": "stream",
     "text": [
      "Epoch 49/100, Training Loss: 20.04422169811321, Validation Loss: 19.071428571428573\n"
     ]
    },
    {
     "name": "stderr",
     "output_type": "stream",
     "text": [
      " 50%|█████     | 50/100 [16:46<16:23, 19.67s/it]"
     ]
    },
    {
     "name": "stdout",
     "output_type": "stream",
     "text": [
      "Epoch 50/100, Training Loss: 21.75117924528302, Validation Loss: 21.34375\n"
     ]
    },
    {
     "name": "stderr",
     "output_type": "stream",
     "text": [
      " 51%|█████     | 51/100 [17:08<16:32, 20.25s/it]"
     ]
    },
    {
     "name": "stdout",
     "output_type": "stream",
     "text": [
      "Epoch 51/100, Training Loss: 22.723466981132077, Validation Loss: 17.848214285714285\n"
     ]
    },
    {
     "name": "stderr",
     "output_type": "stream",
     "text": [
      " 52%|█████▏    | 52/100 [17:30<16:38, 20.79s/it]"
     ]
    },
    {
     "name": "stdout",
     "output_type": "stream",
     "text": [
      "Epoch 52/100, Training Loss: 19.15860849056604, Validation Loss: 20.267857142857142\n"
     ]
    },
    {
     "name": "stderr",
     "output_type": "stream",
     "text": [
      " 53%|█████▎    | 53/100 [17:52<16:38, 21.24s/it]"
     ]
    },
    {
     "name": "stdout",
     "output_type": "stream",
     "text": [
      "Epoch 53/100, Training Loss: 19.786556603773583, Validation Loss: 29.441964285714285\n"
     ]
    },
    {
     "name": "stderr",
     "output_type": "stream",
     "text": [
      " 54%|█████▍    | 54/100 [18:13<16:12, 21.14s/it]"
     ]
    },
    {
     "name": "stdout",
     "output_type": "stream",
     "text": [
      "Epoch 54/100, Training Loss: 21.276533018867923, Validation Loss: 19.5\n"
     ]
    },
    {
     "name": "stderr",
     "output_type": "stream",
     "text": [
      " 55%|█████▌    | 55/100 [18:32<15:28, 20.62s/it]"
     ]
    },
    {
     "name": "stdout",
     "output_type": "stream",
     "text": [
      "Epoch 55/100, Training Loss: 19.889150943396228, Validation Loss: 17.352678571428573\n"
     ]
    },
    {
     "name": "stderr",
     "output_type": "stream",
     "text": [
      " 56%|█████▌    | 56/100 [18:53<15:10, 20.69s/it]"
     ]
    },
    {
     "name": "stdout",
     "output_type": "stream",
     "text": [
      "Epoch 56/100, Training Loss: 20.8001179245283, Validation Loss: 17.46875\n"
     ]
    },
    {
     "name": "stderr",
     "output_type": "stream",
     "text": [
      " 57%|█████▋    | 57/100 [19:14<14:54, 20.81s/it]"
     ]
    },
    {
     "name": "stdout",
     "output_type": "stream",
     "text": [
      "Epoch 57/100, Training Loss: 18.98702830188679, Validation Loss: 21.370535714285715\n"
     ]
    },
    {
     "name": "stderr",
     "output_type": "stream",
     "text": [
      " 58%|█████▊    | 58/100 [19:34<14:17, 20.41s/it]"
     ]
    },
    {
     "name": "stdout",
     "output_type": "stream",
     "text": [
      "Epoch 58/100, Training Loss: 20.15566037735849, Validation Loss: 16.84375\n"
     ]
    },
    {
     "name": "stderr",
     "output_type": "stream",
     "text": [
      " 59%|█████▉    | 59/100 [19:56<14:14, 20.83s/it]"
     ]
    },
    {
     "name": "stdout",
     "output_type": "stream",
     "text": [
      "Epoch 59/100, Training Loss: 19.93514150943396, Validation Loss: 18.571428571428573\n"
     ]
    },
    {
     "name": "stderr",
     "output_type": "stream",
     "text": [
      " 60%|██████    | 60/100 [20:18<14:06, 21.16s/it]"
     ]
    },
    {
     "name": "stdout",
     "output_type": "stream",
     "text": [
      "Epoch 60/100, Training Loss: 18.09551886792453, Validation Loss: 16.294642857142858\n"
     ]
    },
    {
     "name": "stderr",
     "output_type": "stream",
     "text": [
      " 61%|██████    | 61/100 [20:37<13:22, 20.57s/it]"
     ]
    },
    {
     "name": "stdout",
     "output_type": "stream",
     "text": [
      "Epoch 61/100, Training Loss: 21.556603773584907, Validation Loss: 20.9375\n"
     ]
    },
    {
     "name": "stderr",
     "output_type": "stream",
     "text": [
      " 62%|██████▏   | 62/100 [20:56<12:49, 20.25s/it]"
     ]
    },
    {
     "name": "stdout",
     "output_type": "stream",
     "text": [
      "Epoch 62/100, Training Loss: 20.71816037735849, Validation Loss: 19.517857142857142\n"
     ]
    },
    {
     "name": "stderr",
     "output_type": "stream",
     "text": [
      " 63%|██████▎   | 63/100 [21:15<12:09, 19.73s/it]"
     ]
    },
    {
     "name": "stdout",
     "output_type": "stream",
     "text": [
      "Epoch 63/100, Training Loss: 19.6875, Validation Loss: 17.620535714285715\n"
     ]
    },
    {
     "name": "stderr",
     "output_type": "stream",
     "text": [
      " 64%|██████▍   | 64/100 [21:34<11:39, 19.43s/it]"
     ]
    },
    {
     "name": "stdout",
     "output_type": "stream",
     "text": [
      "Epoch 64/100, Training Loss: 17.630306603773583, Validation Loss: 16.90625\n"
     ]
    },
    {
     "name": "stderr",
     "output_type": "stream",
     "text": [
      " 65%|██████▌   | 65/100 [21:55<11:39, 20.00s/it]"
     ]
    },
    {
     "name": "stdout",
     "output_type": "stream",
     "text": [
      "Epoch 65/100, Training Loss: 18.254127358490567, Validation Loss: 22.754464285714285\n"
     ]
    },
    {
     "name": "stderr",
     "output_type": "stream",
     "text": [
      " 66%|██████▌   | 66/100 [22:16<11:31, 20.33s/it]"
     ]
    },
    {
     "name": "stdout",
     "output_type": "stream",
     "text": [
      "Epoch 66/100, Training Loss: 18.285966981132077, Validation Loss: 17.15625\n"
     ]
    },
    {
     "name": "stderr",
     "output_type": "stream",
     "text": [
      " 67%|██████▋   | 67/100 [22:34<10:46, 19.60s/it]"
     ]
    },
    {
     "name": "stdout",
     "output_type": "stream",
     "text": [
      "Epoch 67/100, Training Loss: 17.06308962264151, Validation Loss: 18.357142857142858\n"
     ]
    },
    {
     "name": "stderr",
     "output_type": "stream",
     "text": [
      " 68%|██████▊   | 68/100 [22:52<10:10, 19.08s/it]"
     ]
    },
    {
     "name": "stdout",
     "output_type": "stream",
     "text": [
      "Epoch 68/100, Training Loss: 18.16391509433962, Validation Loss: 22.191964285714285\n"
     ]
    },
    {
     "name": "stderr",
     "output_type": "stream",
     "text": [
      " 69%|██████▉   | 69/100 [23:11<09:53, 19.15s/it]"
     ]
    },
    {
     "name": "stdout",
     "output_type": "stream",
     "text": [
      "Epoch 69/100, Training Loss: 18.433962264150942, Validation Loss: 16.178571428571427\n"
     ]
    },
    {
     "name": "stderr",
     "output_type": "stream",
     "text": [
      " 70%|███████   | 70/100 [23:31<09:43, 19.43s/it]"
     ]
    },
    {
     "name": "stdout",
     "output_type": "stream",
     "text": [
      "Epoch 70/100, Training Loss: 16.94516509433962, Validation Loss: 18.696428571428573\n"
     ]
    },
    {
     "name": "stderr",
     "output_type": "stream",
     "text": [
      " 71%|███████   | 71/100 [23:52<09:35, 19.85s/it]"
     ]
    },
    {
     "name": "stdout",
     "output_type": "stream",
     "text": [
      "Epoch 71/100, Training Loss: 17.66686320754717, Validation Loss: 15.736607142857142\n"
     ]
    },
    {
     "name": "stderr",
     "output_type": "stream",
     "text": [
      " 72%|███████▏  | 72/100 [24:13<09:26, 20.24s/it]"
     ]
    },
    {
     "name": "stdout",
     "output_type": "stream",
     "text": [
      "Epoch 72/100, Training Loss: 17.514740566037737, Validation Loss: 17.589285714285715\n"
     ]
    },
    {
     "name": "stderr",
     "output_type": "stream",
     "text": [
      " 73%|███████▎  | 73/100 [24:33<09:00, 20.02s/it]"
     ]
    },
    {
     "name": "stdout",
     "output_type": "stream",
     "text": [
      "Epoch 73/100, Training Loss: 18.536556603773583, Validation Loss: 16.486607142857142\n"
     ]
    },
    {
     "name": "stderr",
     "output_type": "stream",
     "text": [
      " 74%|███████▍  | 74/100 [25:00<09:34, 22.08s/it]"
     ]
    },
    {
     "name": "stdout",
     "output_type": "stream",
     "text": [
      "Epoch 74/100, Training Loss: 17.06191037735849, Validation Loss: 15.808035714285714\n"
     ]
    },
    {
     "name": "stderr",
     "output_type": "stream",
     "text": [
      " 75%|███████▌  | 75/100 [25:19<08:54, 21.40s/it]"
     ]
    },
    {
     "name": "stdout",
     "output_type": "stream",
     "text": [
      "Epoch 75/100, Training Loss: 17.306603773584907, Validation Loss: 18.098214285714285\n"
     ]
    },
    {
     "name": "stderr",
     "output_type": "stream",
     "text": [
      " 76%|███████▌  | 76/100 [25:37<08:03, 20.16s/it]"
     ]
    },
    {
     "name": "stdout",
     "output_type": "stream",
     "text": [
      "Epoch 76/100, Training Loss: 17.098466981132077, Validation Loss: 16.330357142857142\n"
     ]
    },
    {
     "name": "stderr",
     "output_type": "stream",
     "text": [
      " 77%|███████▋  | 77/100 [25:57<07:43, 20.15s/it]"
     ]
    },
    {
     "name": "stdout",
     "output_type": "stream",
     "text": [
      "Epoch 77/100, Training Loss: 17.6373820754717, Validation Loss: 16.1875\n"
     ]
    },
    {
     "name": "stderr",
     "output_type": "stream",
     "text": [
      " 78%|███████▊  | 78/100 [26:17<07:27, 20.32s/it]"
     ]
    },
    {
     "name": "stdout",
     "output_type": "stream",
     "text": [
      "Epoch 78/100, Training Loss: 17.004716981132077, Validation Loss: 23.133928571428573\n"
     ]
    },
    {
     "name": "stderr",
     "output_type": "stream",
     "text": [
      " 79%|███████▉  | 79/100 [26:36<06:53, 19.67s/it]"
     ]
    },
    {
     "name": "stdout",
     "output_type": "stream",
     "text": [
      "Epoch 79/100, Training Loss: 16.9498820754717, Validation Loss: 15.821428571428571\n"
     ]
    },
    {
     "name": "stderr",
     "output_type": "stream",
     "text": [
      " 80%|████████  | 80/100 [26:53<06:19, 19.00s/it]"
     ]
    },
    {
     "name": "stdout",
     "output_type": "stream",
     "text": [
      "Epoch 80/100, Training Loss: 19.797169811320753, Validation Loss: 16.446428571428573\n"
     ]
    },
    {
     "name": "stderr",
     "output_type": "stream",
     "text": [
      " 81%|████████  | 81/100 [27:11<05:52, 18.56s/it]"
     ]
    },
    {
     "name": "stdout",
     "output_type": "stream",
     "text": [
      "Epoch 81/100, Training Loss: 17.255896226415093, Validation Loss: 19.571428571428573\n"
     ]
    },
    {
     "name": "stderr",
     "output_type": "stream",
     "text": [
      " 82%|████████▏ | 82/100 [27:29<05:30, 18.37s/it]"
     ]
    },
    {
     "name": "stdout",
     "output_type": "stream",
     "text": [
      "Epoch 82/100, Training Loss: 17.212853773584907, Validation Loss: 14.767857142857142\n"
     ]
    },
    {
     "name": "stderr",
     "output_type": "stream",
     "text": [
      " 83%|████████▎ | 83/100 [27:55<05:52, 20.73s/it]"
     ]
    },
    {
     "name": "stdout",
     "output_type": "stream",
     "text": [
      "Epoch 83/100, Training Loss: 16.505896226415093, Validation Loss: 17.34375\n"
     ]
    },
    {
     "name": "stderr",
     "output_type": "stream",
     "text": [
      " 84%|████████▍ | 84/100 [28:18<05:43, 21.44s/it]"
     ]
    },
    {
     "name": "stdout",
     "output_type": "stream",
     "text": [
      "Epoch 84/100, Training Loss: 15.754716981132075, Validation Loss: 23.383928571428573\n"
     ]
    },
    {
     "name": "stderr",
     "output_type": "stream",
     "text": [
      " 85%|████████▌ | 85/100 [28:40<05:22, 21.51s/it]"
     ]
    },
    {
     "name": "stdout",
     "output_type": "stream",
     "text": [
      "Epoch 85/100, Training Loss: 15.705778301886792, Validation Loss: 19.205357142857142\n"
     ]
    },
    {
     "name": "stderr",
     "output_type": "stream",
     "text": [
      " 86%|████████▌ | 86/100 [29:00<04:58, 21.34s/it]"
     ]
    },
    {
     "name": "stdout",
     "output_type": "stream",
     "text": [
      "Epoch 86/100, Training Loss: 16.690448113207548, Validation Loss: 15.651785714285714\n"
     ]
    },
    {
     "name": "stderr",
     "output_type": "stream",
     "text": [
      " 87%|████████▋ | 87/100 [29:23<04:42, 21.70s/it]"
     ]
    },
    {
     "name": "stdout",
     "output_type": "stream",
     "text": [
      "Epoch 87/100, Training Loss: 16.28950471698113, Validation Loss: 16.508928571428573\n"
     ]
    },
    {
     "name": "stderr",
     "output_type": "stream",
     "text": [
      " 88%|████████▊ | 88/100 [29:46<04:26, 22.17s/it]"
     ]
    },
    {
     "name": "stdout",
     "output_type": "stream",
     "text": [
      "Epoch 88/100, Training Loss: 15.227004716981131, Validation Loss: 19.200892857142858\n"
     ]
    },
    {
     "name": "stderr",
     "output_type": "stream",
     "text": [
      " 89%|████████▉ | 89/100 [30:08<04:02, 22.06s/it]"
     ]
    },
    {
     "name": "stdout",
     "output_type": "stream",
     "text": [
      "Epoch 89/100, Training Loss: 15.38620283018868, Validation Loss: 18.09375\n"
     ]
    },
    {
     "name": "stderr",
     "output_type": "stream",
     "text": [
      " 90%|█████████ | 90/100 [30:29<03:38, 21.83s/it]"
     ]
    },
    {
     "name": "stdout",
     "output_type": "stream",
     "text": [
      "Epoch 90/100, Training Loss: 14.931014150943396, Validation Loss: 16.616071428571427\n"
     ]
    },
    {
     "name": "stderr",
     "output_type": "stream",
     "text": [
      " 91%|█████████ | 91/100 [30:51<03:16, 21.85s/it]"
     ]
    },
    {
     "name": "stdout",
     "output_type": "stream",
     "text": [
      "Epoch 91/100, Training Loss: 15.26179245283019, Validation Loss: 15.5\n"
     ]
    },
    {
     "name": "stderr",
     "output_type": "stream",
     "text": [
      " 92%|█████████▏| 92/100 [31:14<02:55, 21.99s/it]"
     ]
    },
    {
     "name": "stdout",
     "output_type": "stream",
     "text": [
      "Epoch 92/100, Training Loss: 17.18691037735849, Validation Loss: 16.727678571428573\n"
     ]
    },
    {
     "name": "stderr",
     "output_type": "stream",
     "text": [
      " 93%|█████████▎| 93/100 [31:35<02:32, 21.80s/it]"
     ]
    },
    {
     "name": "stdout",
     "output_type": "stream",
     "text": [
      "Epoch 93/100, Training Loss: 14.866155660377359, Validation Loss: 15.392857142857142\n"
     ]
    },
    {
     "name": "stderr",
     "output_type": "stream",
     "text": [
      " 94%|█████████▍| 94/100 [31:56<02:09, 21.62s/it]"
     ]
    },
    {
     "name": "stdout",
     "output_type": "stream",
     "text": [
      "Epoch 94/100, Training Loss: 16.81132075471698, Validation Loss: 27.165178571428573\n"
     ]
    },
    {
     "name": "stderr",
     "output_type": "stream",
     "text": [
      " 95%|█████████▌| 95/100 [32:19<01:50, 22.06s/it]"
     ]
    },
    {
     "name": "stdout",
     "output_type": "stream",
     "text": [
      "Epoch 95/100, Training Loss: 16.65860849056604, Validation Loss: 20.40625\n"
     ]
    },
    {
     "name": "stderr",
     "output_type": "stream",
     "text": [
      " 96%|█████████▌| 96/100 [32:41<01:28, 22.02s/it]"
     ]
    },
    {
     "name": "stdout",
     "output_type": "stream",
     "text": [
      "Epoch 96/100, Training Loss: 15.027122641509434, Validation Loss: 19.0\n"
     ]
    },
    {
     "name": "stderr",
     "output_type": "stream",
     "text": [
      " 97%|█████████▋| 97/100 [33:02<01:04, 21.54s/it]"
     ]
    },
    {
     "name": "stdout",
     "output_type": "stream",
     "text": [
      "Epoch 97/100, Training Loss: 14.528301886792454, Validation Loss: 15.513392857142858\n"
     ]
    },
    {
     "name": "stderr",
     "output_type": "stream",
     "text": [
      " 98%|█████████▊| 98/100 [33:23<00:43, 21.62s/it]"
     ]
    },
    {
     "name": "stdout",
     "output_type": "stream",
     "text": [
      "Epoch 98/100, Training Loss: 14.794811320754716, Validation Loss: 22.125\n"
     ]
    },
    {
     "name": "stderr",
     "output_type": "stream",
     "text": [
      " 99%|█████████▉| 99/100 [33:45<00:21, 21.62s/it]"
     ]
    },
    {
     "name": "stdout",
     "output_type": "stream",
     "text": [
      "Epoch 99/100, Training Loss: 15.370283018867925, Validation Loss: 16.276785714285715\n"
     ]
    },
    {
     "name": "stderr",
     "output_type": "stream",
     "text": [
      "100%|██████████| 100/100 [34:06<00:00, 20.47s/it]"
     ]
    },
    {
     "name": "stdout",
     "output_type": "stream",
     "text": [
      "Epoch 100/100, Training Loss: 15.389150943396226, Validation Loss: 17.504464285714285\n"
     ]
    },
    {
     "name": "stderr",
     "output_type": "stream",
     "text": [
      "\n"
     ]
    },
    {
     "data": {
      "application/vnd.jupyter.widget-view+json": {
       "model_id": "bf18e401268941bdadcaaeaf469a977c",
       "version_major": 2,
       "version_minor": 0
      },
      "text/plain": [
       "VBox(children=(Label(value='0.001 MB of 0.001 MB uploaded\\r'), FloatProgress(value=1.0, max=1.0)))"
      ]
     },
     "metadata": {},
     "output_type": "display_data"
    },
    {
     "data": {
      "text/html": [
       "<style>\n",
       "    table.wandb td:nth-child(1) { padding: 0 10px; text-align: left ; width: auto;} td:nth-child(2) {text-align: left ; width: 100%}\n",
       "    .wandb-row { display: flex; flex-direction: row; flex-wrap: wrap; justify-content: flex-start; width: 100% }\n",
       "    .wandb-col { display: flex; flex-direction: column; flex-basis: 100%; flex: 1; padding: 10px; }\n",
       "    </style>\n",
       "<div class=\"wandb-row\"><div class=\"wandb-col\"><h3>Run history:</h3><br/><table class=\"wandb\"><tr><td>epoch</td><td>▁▁▁▁▂▂▂▂▂▃▃▃▃▃▃▄▄▄▄▄▅▅▅▅▅▅▆▆▆▆▆▇▇▇▇▇▇███</td></tr><tr><td>train_loss</td><td>█▇▂▂▂▁▁▁▂▁▁▁▁▁▁▁▁▁▁▁▁▁▁▁▁▁▁▁▁▁▁▁▁▁▁▁▁▁▁▁</td></tr><tr><td>val_loss</td><td>████▇▅▅▅▅▄▄▂▂▂▃▂▂▂▂▂▂▂▁▂▂▁▂▁▂▁▁▁▁▃▁▂▁▃▁▁</td></tr></table><br/></div><div class=\"wandb-col\"><h3>Run summary:</h3><br/><table class=\"wandb\"><tr><td>epoch</td><td>100</td></tr><tr><td>train_loss</td><td>15.38915</td></tr><tr><td>val_loss</td><td>17.50446</td></tr></table><br/></div></div>"
      ],
      "text/plain": [
       "<IPython.core.display.HTML object>"
      ]
     },
     "metadata": {},
     "output_type": "display_data"
    },
    {
     "data": {
      "text/html": [
       " View run <strong style=\"color:#cdcd00\">smart-vortex-3</strong> at: <a href='https://wandb.ai/angelajcnto-the-university-of-western-australia/model1_spikes/runs/gja84bqu' target=\"_blank\">https://wandb.ai/angelajcnto-the-university-of-western-australia/model1_spikes/runs/gja84bqu</a><br/> View project at: <a href='https://wandb.ai/angelajcnto-the-university-of-western-australia/model1_spikes' target=\"_blank\">https://wandb.ai/angelajcnto-the-university-of-western-australia/model1_spikes</a><br/>Synced 6 W&B file(s), 0 media file(s), 0 artifact file(s) and 0 other file(s)"
      ],
      "text/plain": [
       "<IPython.core.display.HTML object>"
      ]
     },
     "metadata": {},
     "output_type": "display_data"
    },
    {
     "data": {
      "text/html": [
       "Find logs at: <code>./wandb/run-20240927_154451-gja84bqu/logs</code>"
      ],
      "text/plain": [
       "<IPython.core.display.HTML object>"
      ]
     },
     "metadata": {},
     "output_type": "display_data"
    },
    {
     "data": {
      "image/png": "[encoded data removed]",
      "text/plain": [
       "<Figure size 640x480 with 1 Axes>"
      ]
     },
     "metadata": {},
     "output_type": "display_data"
    }
   ],
   "source": [
    "from torch.nn import MSELoss\n",
    "from tqdm import trange\n",
    "from torch.optim import Adam\n",
    "import matplotlib.pyplot as plt\n",
    "import numpy as np\n",
    "import pickle\n",
    "import wandb\n",
    "\n",
    "\n",
    "# Initialize W&B\n",
    "wandb.init(\n",
    "    project=\"model1_spikes\",  \n",
    "    config={\n",
    "        \"learning_rate\": 1e-3,\n",
    "        \"architecture\": \"SNN\",\n",
    "        \"dataset\": \"Meerkat calls\",\n",
    "        \"epochs\": 100,\n",
    "        \"target_firing_rate_value\": 10\n",
    "    }\n",
    ")\n",
    "\n",
    "config = wandb.config\n",
    "\n",
    "device = torch.device(\"cuda\" if torch.cuda.is_available() else \"cpu\")\n",
    "model1 = model1.to(device)\n",
    "\n",
    "# Hyperparameters\n",
    "n_epochs = config.epochs\n",
    "learning_rate = config.learning_rate\n",
    "target_firing_rate_value = config.target_firing_rate_value \n",
    "\n",
    "optimizer = Adam(model1.parameters().astorch(), lr=learning_rate)\n",
    "loss_fun = MSELoss()\n",
    "\n",
    "# Store losses for plotting\n",
    "train_losses = []\n",
    "val_losses = []\n",
    "\n",
    "# Store membrane potentials, spikes, syn currents\n",
    "membrane_potentials = []\n",
    "spike_outputs = []\n",
    "synaptic_currents = []\n",
    "\n",
    "# Store predictions and ground truth\n",
    "predictions = []\n",
    "ground_truths = []\n",
    "\n",
    "# Training phase\n",
    "for epoch in trange(n_epochs):\n",
    "    model1.train()\n",
    "    epoch_loss = 0\n",
    "    for batch in train_loader:\n",
    "        inputs, labels = batch\n",
    "        inputs = inputs.permute(0, 2, 1).to(device)\n",
    "\n",
    "        # Inspect the inputs\n",
    "        # print(\"Inputs shape:\", inputs.shape)\n",
    "        # print(\"Inputs mean:\", inputs.mean().item())\n",
    "        # print(\"Inputs max:\", inputs.max().item())\n",
    "        # print(\"Inputs min:\", inputs.min().item())\n",
    "\n",
    "        optimizer.zero_grad()\n",
    "        outputs, _, _ = model1(inputs)\n",
    "        outputs_sum = outputs.sum(dim=1)  # Sum over the time dimension\n",
    "\n",
    "        # target firing rate tensor\n",
    "        target_firing_rate = torch.zeros_like(outputs_sum).to(device)\n",
    "        target_firing_rate[labels == 1] = target_firing_rate_value\n",
    "        target_firing_rate[labels == 0] = 0\n",
    "\n",
    "        # Compute loss\n",
    "        loss = loss_fun(outputs_sum, target_firing_rate)\n",
    "        loss.backward()\n",
    "        optimizer.step()\n",
    "        epoch_loss += loss.item()\n",
    "\n",
    "        if epoch == n_epochs - 1:\n",
    "            predictions.append(outputs_sum.detach().cpu().numpy())  # Final output (spike prediction)\n",
    "            ground_truths.append(labels.cpu().numpy()) \n",
    "        \n",
    "        # Access internal layer membrane potentials and spikes\n",
    "        for lyr_name in model1.lif_names:\n",
    "            lyr = model1.seq[lyr_name]\n",
    "\n",
    "            # Inspect membrane potentials and spikes\n",
    "            # print(f\"Layer {lyr_name}: Membrane potentials mean:\", lyr.vmem.mean().item())\n",
    "            # print(f\"Layer {lyr_name}: Spikes sum:\", lyr.spikes.sum().item())  # Sum of spikes should be > 0 if neurons are firing\n",
    "            \n",
    "            v_mem = lyr.vmem.detach().cpu().numpy()  # Membrane potentials\n",
    "            spikes = lyr.spikes.detach().cpu().numpy()  # Spikes\n",
    "            i_syn = lyr.isyn.detach().cpu().numpy()  # Synaptic currents\n",
    "            \n",
    "            # Store for visualization\n",
    "            membrane_potentials.append(v_mem)\n",
    "            spike_outputs.append(spikes)\n",
    "            synaptic_currents.append(i_syn)\n",
    "\n",
    "    train_losses.append(epoch_loss / len(train_loader))\n",
    "\n",
    "    # Validation phase\n",
    "    model1.eval()\n",
    "    val_loss = 0\n",
    "    with torch.no_grad():\n",
    "        for batch in val_loader:\n",
    "            inputs, labels = batch\n",
    "            inputs = inputs.permute(0, 2, 1).to(device)\n",
    "            outputs, _, _ = model1(inputs)\n",
    "            outputs_sum = outputs.sum(dim=1)\n",
    "            target_firing_rate = torch.zeros_like(outputs_sum).to(device)\n",
    "            target_firing_rate[labels == 1] = target_firing_rate_value\n",
    "            target_firing_rate[labels == 0] = 0\n",
    "            loss = loss_fun(outputs_sum, target_firing_rate)\n",
    "            val_loss += loss.item()\n",
    "\n",
    "    val_losses.append(val_loss / len(val_loader))\n",
    "       \n",
    "    # Log metrics to W&B\n",
    "    wandb.log({\n",
    "        \"epoch\": epoch + 1,\n",
    "        \"train_loss\": train_losses[-1],\n",
    "        \"val_loss\": val_losses[-1]\n",
    "    })\n",
    "\n",
    "    print(f\"Epoch {epoch+1}/{n_epochs}, Training Loss: {train_losses[-1]}, Validation Loss: {val_losses[-1]}\")\n",
    "\n",
    "wandb.finish()\n",
    "\n",
    "predictions = np.concatenate(predictions)\n",
    "ground_truths = np.concatenate(ground_truths)\n",
    "\n",
    "# Save results\n",
    "model1_outputs = {\n",
    "    'train_losses': train_losses,\n",
    "    'val_losses': val_losses,\n",
    "    'membrane_potentials': membrane_potentials,\n",
    "    'spike_outputs': spike_outputs,\n",
    "    'synaptic_currents': synaptic_currents,\n",
    "    'predictions': predictions,  \n",
    "    'ground_truths': ground_truths\n",
    "}\n",
    "\n",
    "with open('model1_spikes.pkl', 'wb') as f:\n",
    "    pickle.dump(model1_outputs, f)\n",
    "    \n",
    "# Plot training and validation loss\n",
    "plt.plot(train_losses, label='Training Loss')\n",
    "plt.plot(val_losses, label='Validation Loss')\n",
    "plt.xlabel('Epoch')\n",
    "plt.ylabel('Loss')\n",
    "plt.legend()\n",
    "plt.show()"
   ]
  },
  {
   "cell_type": "markdown",
   "metadata": {},
   "source": [
    "### Model 2 - Vmem output"
   ]
  },
  {
   "cell_type": "code",
   "execution_count": 87,
   "metadata": {},
   "outputs": [
    {
     "name": "stdout",
     "output_type": "stream",
     "text": [
      "SynNet  with shape (16, 1) {\n",
      "    TorchSequential 'seq' with shape (16, 1) {\n",
      "        LinearTorch '0_LinearTorch' with shape (16, 24)\n",
      "        LIFTorch '1_LIFTorch' with shape (24, 24)\n",
      "        TimeStepDropout '2_TimeStepDropout' with shape (24,)\n",
      "        LinearTorch '3_LinearTorch' with shape (24, 24)\n",
      "        LIFTorch '4_LIFTorch' with shape (24, 24)\n",
      "        TimeStepDropout '5_TimeStepDropout' with shape (24,)\n",
      "        LinearTorch '6_LinearTorch' with shape (24, 24)\n",
      "        LIFTorch '7_LIFTorch' with shape (24, 24)\n",
      "        TimeStepDropout '8_TimeStepDropout' with shape (24,)\n",
      "        LinearTorch '9_LinearTorch' with shape (24, 1)\n",
      "        LIFTorch '10_LIFTorch' with shape (1, 1)\n",
      "    }\n",
      "}\n"
     ]
    }
   ],
   "source": [
    "from rockpool.nn.networks import SynNet\n",
    "from rockpool.nn.modules import LIFTorch as LIFOtherSpiking\n",
    "\n",
    "n_channels = 16  \n",
    "n_classes = 1   \n",
    "n_time = 101\n",
    "dt = 10e-3     \n",
    "\n",
    "model2 = SynNet(\n",
    "    output=\"vmem\",\n",
    "    n_channels=n_channels,                        \n",
    "    n_classes=n_classes,\n",
    "    dt=dt,                           \n",
    "    size_hidden_layers=[24, 24, 24],        \n",
    "    time_constants_per_layer=[4, 8, 10],\n",
    "    tau_syn_base=0.02,  \n",
    "    tau_mem=0.02,\n",
    "    tau_syn_out=0.02\n",
    ")\n",
    "\n",
    "print(model2)"
   ]
  },
  {
   "cell_type": "code",
   "execution_count": 85,
   "metadata": {},
   "outputs": [],
   "source": [
    "import os\n",
    "os.environ[\"WANDB_NOTEBOOK_NAME\"] = \"data_loader_to_model_training.ipynb\""
   ]
  },
  {
   "cell_type": "code",
   "execution_count": 88,
   "metadata": {},
   "outputs": [
    {
     "data": {
      "text/html": [
       "Changes to your `wandb` environment variables will be ignored because your `wandb` session has already started. For more information on how to modify your settings with `wandb.init()` arguments, please refer to <a href='https://wandb.me/wandb-init' target=\"_blank\">the W&B docs</a>."
      ],
      "text/plain": [
       "<IPython.core.display.HTML object>"
      ]
     },
     "metadata": {},
     "output_type": "display_data"
    },
    {
     "data": {
      "application/vnd.jupyter.widget-view+json": {
       "model_id": "3e60ce7ac4554e98a236e0bf9bc4abc6",
       "version_major": 2,
       "version_minor": 0
      },
      "text/plain": [
       "VBox(children=(Label(value='Waiting for wandb.init()...\\r'), FloatProgress(value=0.011168409266732245, max=1.0…"
      ]
     },
     "metadata": {},
     "output_type": "display_data"
    },
    {
     "data": {
      "text/html": [
       "wandb version 0.18.2 is available!  To upgrade, please run:\n",
       " $ pip install wandb --upgrade"
      ],
      "text/plain": [
       "<IPython.core.display.HTML object>"
      ]
     },
     "metadata": {},
     "output_type": "display_data"
    },
    {
     "data": {
      "text/html": [
       "Tracking run with wandb version 0.16.6"
      ],
      "text/plain": [
       "<IPython.core.display.HTML object>"
      ]
     },
     "metadata": {},
     "output_type": "display_data"
    },
    {
     "data": {
      "text/html": [
       "Run data is saved locally in <code>/Users/angelajacinto/Library/CloudStorage/OneDrive-UWA/SEM4/CITS5553/project-12-prototype-bio-acoustic-detection-system-soundsentinel/wandb/run-20240928_124147-i6bfzrq4</code>"
      ],
      "text/plain": [
       "<IPython.core.display.HTML object>"
      ]
     },
     "metadata": {},
     "output_type": "display_data"
    },
    {
     "data": {
      "text/html": [
       "Syncing run <strong><a href='https://wandb.ai/angelajcnto-the-university-of-western-australia/model2_vmem/runs/i6bfzrq4' target=\"_blank\">daily-donkey-2</a></strong> to <a href='https://wandb.ai/angelajcnto-the-university-of-western-australia/model2_vmem' target=\"_blank\">Weights & Biases</a> (<a href='https://wandb.me/run' target=\"_blank\">docs</a>)<br/>"
      ],
      "text/plain": [
       "<IPython.core.display.HTML object>"
      ]
     },
     "metadata": {},
     "output_type": "display_data"
    },
    {
     "data": {
      "text/html": [
       " View project at <a href='https://wandb.ai/angelajcnto-the-university-of-western-australia/model2_vmem' target=\"_blank\">https://wandb.ai/angelajcnto-the-university-of-western-australia/model2_vmem</a>"
      ],
      "text/plain": [
       "<IPython.core.display.HTML object>"
      ]
     },
     "metadata": {},
     "output_type": "display_data"
    },
    {
     "data": {
      "text/html": [
       " View run at <a href='https://wandb.ai/angelajcnto-the-university-of-western-australia/model2_vmem/runs/i6bfzrq4' target=\"_blank\">https://wandb.ai/angelajcnto-the-university-of-western-australia/model2_vmem/runs/i6bfzrq4</a>"
      ],
      "text/plain": [
       "<IPython.core.display.HTML object>"
      ]
     },
     "metadata": {},
     "output_type": "display_data"
    },
    {
     "name": "stderr",
     "output_type": "stream",
     "text": [
      "  1%|          | 1/100 [00:45<1:15:30, 45.76s/it]"
     ]
    },
    {
     "name": "stdout",
     "output_type": "stream",
     "text": [
      "Epoch 1/100, Training Loss: 1.1208778844689422, Validation Loss: 1.3524824380874634\n"
     ]
    },
    {
     "name": "stderr",
     "output_type": "stream",
     "text": [
      "  2%|▏         | 2/100 [01:25<1:08:55, 42.20s/it]"
     ]
    },
    {
     "name": "stdout",
     "output_type": "stream",
     "text": [
      "Epoch 2/100, Training Loss: 1.2151902497939344, Validation Loss: 0.9508904559271676\n"
     ]
    },
    {
     "name": "stderr",
     "output_type": "stream",
     "text": [
      "  3%|▎         | 3/100 [01:59<1:02:04, 38.39s/it]"
     ]
    },
    {
     "name": "stdout",
     "output_type": "stream",
     "text": [
      "Epoch 3/100, Training Loss: 0.9980401970305532, Validation Loss: 0.8615861279623849\n"
     ]
    },
    {
     "name": "stderr",
     "output_type": "stream",
     "text": [
      "  4%|▍         | 4/100 [02:33<59:02, 36.91s/it]  "
     ]
    },
    {
     "name": "stdout",
     "output_type": "stream",
     "text": [
      "Epoch 4/100, Training Loss: 0.8634753497141712, Validation Loss: 0.7465473668915885\n"
     ]
    },
    {
     "name": "stderr",
     "output_type": "stream",
     "text": [
      "  5%|▌         | 5/100 [03:09<57:33, 36.36s/it]"
     ]
    },
    {
     "name": "stdout",
     "output_type": "stream",
     "text": [
      "Epoch 5/100, Training Loss: 0.7893909879450528, Validation Loss: 0.8407786978142602\n"
     ]
    },
    {
     "name": "stderr",
     "output_type": "stream",
     "text": [
      "  6%|▌         | 6/100 [03:45<56:39, 36.17s/it]"
     ]
    },
    {
     "name": "stdout",
     "output_type": "stream",
     "text": [
      "Epoch 6/100, Training Loss: 0.7209479522030309, Validation Loss: 0.6782358012029103\n"
     ]
    },
    {
     "name": "stderr",
     "output_type": "stream",
     "text": [
      "  7%|▋         | 7/100 [04:16<53:48, 34.71s/it]"
     ]
    },
    {
     "name": "stdout",
     "output_type": "stream",
     "text": [
      "Epoch 7/100, Training Loss: 0.6792032746773846, Validation Loss: 0.6875102732862745\n"
     ]
    },
    {
     "name": "stderr",
     "output_type": "stream",
     "text": [
      "  8%|▊         | 8/100 [04:48<51:38, 33.68s/it]"
     ]
    },
    {
     "name": "stdout",
     "output_type": "stream",
     "text": [
      "Epoch 8/100, Training Loss: 0.6584045437147032, Validation Loss: 0.6353981665202549\n"
     ]
    },
    {
     "name": "stderr",
     "output_type": "stream",
     "text": [
      "  9%|▉         | 9/100 [05:19<50:05, 33.03s/it]"
     ]
    },
    {
     "name": "stdout",
     "output_type": "stream",
     "text": [
      "Epoch 9/100, Training Loss: 0.649383786151994, Validation Loss: 0.6853421628475189\n"
     ]
    },
    {
     "name": "stderr",
     "output_type": "stream",
     "text": [
      " 10%|█         | 10/100 [05:56<51:14, 34.16s/it]"
     ]
    },
    {
     "name": "stdout",
     "output_type": "stream",
     "text": [
      "Epoch 10/100, Training Loss: 0.7657227656751309, Validation Loss: 0.7223258816770145\n"
     ]
    },
    {
     "name": "stderr",
     "output_type": "stream",
     "text": [
      " 11%|█         | 11/100 [06:35<52:42, 35.53s/it]"
     ]
    },
    {
     "name": "stdout",
     "output_type": "stream",
     "text": [
      "Epoch 11/100, Training Loss: 0.8056758675935134, Validation Loss: 0.6971410470349448\n"
     ]
    },
    {
     "name": "stderr",
     "output_type": "stream",
     "text": [
      " 12%|█▏        | 12/100 [07:09<51:45, 35.29s/it]"
     ]
    },
    {
     "name": "stdout",
     "output_type": "stream",
     "text": [
      "Epoch 12/100, Training Loss: 0.647716242749736, Validation Loss: 0.6276909517390388\n"
     ]
    },
    {
     "name": "stderr",
     "output_type": "stream",
     "text": [
      " 13%|█▎        | 13/100 [07:43<50:34, 34.88s/it]"
     ]
    },
    {
     "name": "stdout",
     "output_type": "stream",
     "text": [
      "Epoch 13/100, Training Loss: 0.6258881530671749, Validation Loss: 0.6317428648471832\n"
     ]
    },
    {
     "name": "stderr",
     "output_type": "stream",
     "text": [
      " 14%|█▍        | 14/100 [08:13<47:36, 33.22s/it]"
     ]
    },
    {
     "name": "stdout",
     "output_type": "stream",
     "text": [
      "Epoch 14/100, Training Loss: 0.6083590157751767, Validation Loss: 0.5630691477230617\n"
     ]
    },
    {
     "name": "stderr",
     "output_type": "stream",
     "text": [
      " 15%|█▌        | 15/100 [08:42<45:10, 31.89s/it]"
     ]
    },
    {
     "name": "stdout",
     "output_type": "stream",
     "text": [
      "Epoch 15/100, Training Loss: 0.5691542063119277, Validation Loss: 0.6331705152988434\n"
     ]
    },
    {
     "name": "stderr",
     "output_type": "stream",
     "text": [
      " 16%|█▌        | 16/100 [09:12<44:12, 31.57s/it]"
     ]
    },
    {
     "name": "stdout",
     "output_type": "stream",
     "text": [
      "Epoch 16/100, Training Loss: 0.549385204630078, Validation Loss: 0.5749048803533826\n"
     ]
    },
    {
     "name": "stderr",
     "output_type": "stream",
     "text": [
      " 17%|█▋        | 17/100 [09:45<44:03, 31.85s/it]"
     ]
    },
    {
     "name": "stdout",
     "output_type": "stream",
     "text": [
      "Epoch 17/100, Training Loss: 0.5581859097165881, Validation Loss: 0.5313678128378732\n"
     ]
    },
    {
     "name": "stderr",
     "output_type": "stream",
     "text": [
      " 18%|█▊        | 18/100 [10:12<41:44, 30.55s/it]"
     ]
    },
    {
     "name": "stdout",
     "output_type": "stream",
     "text": [
      "Epoch 18/100, Training Loss: 0.6172330998024851, Validation Loss: 0.6444456598588398\n"
     ]
    },
    {
     "name": "stderr",
     "output_type": "stream",
     "text": [
      " 19%|█▉        | 19/100 [10:37<38:37, 28.61s/it]"
     ]
    },
    {
     "name": "stdout",
     "output_type": "stream",
     "text": [
      "Epoch 19/100, Training Loss: 0.6316610141745154, Validation Loss: 0.6342038554804665\n"
     ]
    },
    {
     "name": "stderr",
     "output_type": "stream",
     "text": [
      " 20%|██        | 20/100 [11:01<36:28, 27.36s/it]"
     ]
    },
    {
     "name": "stdout",
     "output_type": "stream",
     "text": [
      "Epoch 20/100, Training Loss: 0.5781085075072523, Validation Loss: 0.5910536221095494\n"
     ]
    },
    {
     "name": "stderr",
     "output_type": "stream",
     "text": [
      " 21%|██        | 21/100 [11:26<34:55, 26.52s/it]"
     ]
    },
    {
     "name": "stdout",
     "output_type": "stream",
     "text": [
      "Epoch 21/100, Training Loss: 0.5922040056507543, Validation Loss: 0.5908461936882564\n"
     ]
    },
    {
     "name": "stderr",
     "output_type": "stream",
     "text": [
      " 22%|██▏       | 22/100 [11:49<33:17, 25.61s/it]"
     ]
    },
    {
     "name": "stdout",
     "output_type": "stream",
     "text": [
      "Epoch 22/100, Training Loss: 0.5235167381898412, Validation Loss: 0.5066512610231128\n"
     ]
    },
    {
     "name": "stderr",
     "output_type": "stream",
     "text": [
      " 23%|██▎       | 23/100 [12:13<32:22, 25.22s/it]"
     ]
    },
    {
     "name": "stdout",
     "output_type": "stream",
     "text": [
      "Epoch 23/100, Training Loss: 0.4958048091744477, Validation Loss: 0.561066461460931\n"
     ]
    },
    {
     "name": "stderr",
     "output_type": "stream",
     "text": [
      " 24%|██▍       | 24/100 [12:36<31:03, 24.53s/it]"
     ]
    },
    {
     "name": "stdout",
     "output_type": "stream",
     "text": [
      "Epoch 24/100, Training Loss: 0.5240735200778494, Validation Loss: 0.5559770677770887\n"
     ]
    },
    {
     "name": "stderr",
     "output_type": "stream",
     "text": [
      " 25%|██▌       | 25/100 [13:00<30:17, 24.24s/it]"
     ]
    },
    {
     "name": "stdout",
     "output_type": "stream",
     "text": [
      "Epoch 25/100, Training Loss: 0.5053268393396206, Validation Loss: 0.6255552811282021\n"
     ]
    },
    {
     "name": "stderr",
     "output_type": "stream",
     "text": [
      " 26%|██▌       | 26/100 [13:24<30:01, 24.35s/it]"
     ]
    },
    {
     "name": "stdout",
     "output_type": "stream",
     "text": [
      "Epoch 26/100, Training Loss: 0.5501947518227235, Validation Loss: 0.5937582680157253\n"
     ]
    },
    {
     "name": "stderr",
     "output_type": "stream",
     "text": [
      " 27%|██▋       | 27/100 [13:48<29:28, 24.23s/it]"
     ]
    },
    {
     "name": "stdout",
     "output_type": "stream",
     "text": [
      "Epoch 27/100, Training Loss: 0.5030234540408512, Validation Loss: 0.5098418465682438\n"
     ]
    },
    {
     "name": "stderr",
     "output_type": "stream",
     "text": [
      " 28%|██▊       | 28/100 [14:13<29:11, 24.32s/it]"
     ]
    },
    {
     "name": "stdout",
     "output_type": "stream",
     "text": [
      "Epoch 28/100, Training Loss: 0.46895731113991646, Validation Loss: 0.6846001126936504\n"
     ]
    },
    {
     "name": "stderr",
     "output_type": "stream",
     "text": [
      " 29%|██▉       | 29/100 [14:37<28:47, 24.34s/it]"
     ]
    },
    {
     "name": "stdout",
     "output_type": "stream",
     "text": [
      "Epoch 29/100, Training Loss: 0.4598257918402834, Validation Loss: 0.5036463269165584\n"
     ]
    },
    {
     "name": "stderr",
     "output_type": "stream",
     "text": [
      " 30%|███       | 30/100 [15:02<28:22, 24.32s/it]"
     ]
    },
    {
     "name": "stdout",
     "output_type": "stream",
     "text": [
      "Epoch 30/100, Training Loss: 0.45475067395084307, Validation Loss: 0.50393089226314\n"
     ]
    },
    {
     "name": "stderr",
     "output_type": "stream",
     "text": [
      " 31%|███       | 31/100 [15:26<27:54, 24.27s/it]"
     ]
    },
    {
     "name": "stdout",
     "output_type": "stream",
     "text": [
      "Epoch 31/100, Training Loss: 0.4649852896636387, Validation Loss: 0.5210098070757729\n"
     ]
    },
    {
     "name": "stderr",
     "output_type": "stream",
     "text": [
      " 32%|███▏      | 32/100 [15:49<27:14, 24.03s/it]"
     ]
    },
    {
     "name": "stdout",
     "output_type": "stream",
     "text": [
      "Epoch 32/100, Training Loss: 0.44642868244423056, Validation Loss: 0.4905978058065687\n"
     ]
    },
    {
     "name": "stderr",
     "output_type": "stream",
     "text": [
      " 33%|███▎      | 33/100 [16:14<27:10, 24.33s/it]"
     ]
    },
    {
     "name": "stdout",
     "output_type": "stream",
     "text": [
      "Epoch 33/100, Training Loss: 0.4857219935588117, Validation Loss: 0.5102072656154633\n"
     ]
    },
    {
     "name": "stderr",
     "output_type": "stream",
     "text": [
      " 34%|███▍      | 34/100 [16:39<27:01, 24.56s/it]"
     ]
    },
    {
     "name": "stdout",
     "output_type": "stream",
     "text": [
      "Epoch 34/100, Training Loss: 0.5196136213698477, Validation Loss: 0.48795859941414427\n"
     ]
    },
    {
     "name": "stderr",
     "output_type": "stream",
     "text": [
      " 35%|███▌      | 35/100 [17:03<26:26, 24.41s/it]"
     ]
    },
    {
     "name": "stdout",
     "output_type": "stream",
     "text": [
      "Epoch 35/100, Training Loss: 0.4393623651198621, Validation Loss: 0.5256308998380389\n"
     ]
    },
    {
     "name": "stderr",
     "output_type": "stream",
     "text": [
      " 36%|███▌      | 36/100 [17:27<25:46, 24.17s/it]"
     ]
    },
    {
     "name": "stdout",
     "output_type": "stream",
     "text": [
      "Epoch 36/100, Training Loss: 0.4564475270937074, Validation Loss: 0.5146974282605308\n"
     ]
    },
    {
     "name": "stderr",
     "output_type": "stream",
     "text": [
      " 37%|███▋      | 37/100 [17:50<25:09, 23.96s/it]"
     ]
    },
    {
     "name": "stdout",
     "output_type": "stream",
     "text": [
      "Epoch 37/100, Training Loss: 0.5330025086987693, Validation Loss: 0.5198542603424617\n"
     ]
    },
    {
     "name": "stderr",
     "output_type": "stream",
     "text": [
      " 38%|███▊      | 38/100 [18:13<24:20, 23.55s/it]"
     ]
    },
    {
     "name": "stdout",
     "output_type": "stream",
     "text": [
      "Epoch 38/100, Training Loss: 0.48836235617691615, Validation Loss: 0.5130973500864846\n"
     ]
    },
    {
     "name": "stderr",
     "output_type": "stream",
     "text": [
      " 39%|███▉      | 39/100 [18:37<24:12, 23.81s/it]"
     ]
    },
    {
     "name": "stdout",
     "output_type": "stream",
     "text": [
      "Epoch 39/100, Training Loss: 0.4278248627230806, Validation Loss: 0.5353896234716687\n"
     ]
    },
    {
     "name": "stderr",
     "output_type": "stream",
     "text": [
      " 40%|████      | 40/100 [19:01<23:48, 23.81s/it]"
     ]
    },
    {
     "name": "stdout",
     "output_type": "stream",
     "text": [
      "Epoch 40/100, Training Loss: 0.4360233387857113, Validation Loss: 0.5210971044642585\n"
     ]
    },
    {
     "name": "stderr",
     "output_type": "stream",
     "text": [
      " 41%|████      | 41/100 [19:26<23:48, 24.21s/it]"
     ]
    },
    {
     "name": "stdout",
     "output_type": "stream",
     "text": [
      "Epoch 41/100, Training Loss: 0.41252313216902176, Validation Loss: 0.558040269783565\n"
     ]
    },
    {
     "name": "stderr",
     "output_type": "stream",
     "text": [
      " 42%|████▏     | 42/100 [19:51<23:32, 24.36s/it]"
     ]
    },
    {
     "name": "stdout",
     "output_type": "stream",
     "text": [
      "Epoch 42/100, Training Loss: 0.5117104396505175, Validation Loss: 0.5696062530790057\n"
     ]
    },
    {
     "name": "stderr",
     "output_type": "stream",
     "text": [
      " 43%|████▎     | 43/100 [20:15<23:06, 24.33s/it]"
     ]
    },
    {
     "name": "stdout",
     "output_type": "stream",
     "text": [
      "Epoch 43/100, Training Loss: 0.40989614404597374, Validation Loss: 0.48183333022253855\n"
     ]
    },
    {
     "name": "stderr",
     "output_type": "stream",
     "text": [
      " 44%|████▍     | 44/100 [20:39<22:29, 24.10s/it]"
     ]
    },
    {
     "name": "stdout",
     "output_type": "stream",
     "text": [
      "Epoch 44/100, Training Loss: 0.37674422154449067, Validation Loss: 0.5745566529887063\n"
     ]
    },
    {
     "name": "stderr",
     "output_type": "stream",
     "text": [
      " 45%|████▌     | 45/100 [21:03<22:03, 24.05s/it]"
     ]
    },
    {
     "name": "stdout",
     "output_type": "stream",
     "text": [
      "Epoch 45/100, Training Loss: 0.38487751866286657, Validation Loss: 0.47390866705349516\n"
     ]
    },
    {
     "name": "stderr",
     "output_type": "stream",
     "text": [
      " 46%|████▌     | 46/100 [21:27<21:33, 23.96s/it]"
     ]
    },
    {
     "name": "stdout",
     "output_type": "stream",
     "text": [
      "Epoch 46/100, Training Loss: 0.3928313308729316, Validation Loss: 0.49470283516815733\n"
     ]
    },
    {
     "name": "stderr",
     "output_type": "stream",
     "text": [
      " 47%|████▋     | 47/100 [21:51<21:08, 23.93s/it]"
     ]
    },
    {
     "name": "stdout",
     "output_type": "stream",
     "text": [
      "Epoch 47/100, Training Loss: 0.4080530790225515, Validation Loss: 0.48855899061475483\n"
     ]
    },
    {
     "name": "stderr",
     "output_type": "stream",
     "text": [
      " 48%|████▊     | 48/100 [22:15<20:49, 24.02s/it]"
     ]
    },
    {
     "name": "stdout",
     "output_type": "stream",
     "text": [
      "Epoch 48/100, Training Loss: 0.3933631219672707, Validation Loss: 0.4963644721678325\n"
     ]
    },
    {
     "name": "stderr",
     "output_type": "stream",
     "text": [
      " 49%|████▉     | 49/100 [22:39<20:26, 24.04s/it]"
     ]
    },
    {
     "name": "stdout",
     "output_type": "stream",
     "text": [
      "Epoch 49/100, Training Loss: 0.4289663374986289, Validation Loss: 0.7248235110725675\n"
     ]
    },
    {
     "name": "stderr",
     "output_type": "stream",
     "text": [
      " 50%|█████     | 50/100 [23:03<19:56, 23.94s/it]"
     ]
    },
    {
     "name": "stdout",
     "output_type": "stream",
     "text": [
      "Epoch 50/100, Training Loss: 0.6043513394751638, Validation Loss: 0.6545566810028893\n"
     ]
    },
    {
     "name": "stderr",
     "output_type": "stream",
     "text": [
      " 51%|█████     | 51/100 [23:25<19:14, 23.55s/it]"
     ]
    },
    {
     "name": "stdout",
     "output_type": "stream",
     "text": [
      "Epoch 51/100, Training Loss: 0.5179076526524886, Validation Loss: 0.732545439686094\n"
     ]
    },
    {
     "name": "stderr",
     "output_type": "stream",
     "text": [
      " 52%|█████▏    | 52/100 [23:48<18:39, 23.31s/it]"
     ]
    },
    {
     "name": "stdout",
     "output_type": "stream",
     "text": [
      "Epoch 52/100, Training Loss: 0.5206798953267763, Validation Loss: 0.5327527246304921\n"
     ]
    },
    {
     "name": "stderr",
     "output_type": "stream",
     "text": [
      " 53%|█████▎    | 53/100 [24:11<18:12, 23.24s/it]"
     ]
    },
    {
     "name": "stdout",
     "output_type": "stream",
     "text": [
      "Epoch 53/100, Training Loss: 0.5081875442333941, Validation Loss: 0.5282950827053615\n"
     ]
    },
    {
     "name": "stderr",
     "output_type": "stream",
     "text": [
      " 54%|█████▍    | 54/100 [24:35<17:57, 23.42s/it]"
     ]
    },
    {
     "name": "stdout",
     "output_type": "stream",
     "text": [
      "Epoch 54/100, Training Loss: 0.48546877784549064, Validation Loss: 0.5387833075863975\n"
     ]
    },
    {
     "name": "stderr",
     "output_type": "stream",
     "text": [
      " 55%|█████▌    | 55/100 [25:00<17:54, 23.88s/it]"
     ]
    },
    {
     "name": "stdout",
     "output_type": "stream",
     "text": [
      "Epoch 55/100, Training Loss: 0.47059525127680796, Validation Loss: 0.4596640190907887\n"
     ]
    },
    {
     "name": "stderr",
     "output_type": "stream",
     "text": [
      " 56%|█████▌    | 56/100 [25:22<17:10, 23.43s/it]"
     ]
    },
    {
     "name": "stdout",
     "output_type": "stream",
     "text": [
      "Epoch 56/100, Training Loss: 0.4731111042904404, Validation Loss: 0.45009860396385193\n"
     ]
    },
    {
     "name": "stderr",
     "output_type": "stream",
     "text": [
      " 57%|█████▋    | 57/100 [25:45<16:44, 23.35s/it]"
     ]
    },
    {
     "name": "stdout",
     "output_type": "stream",
     "text": [
      "Epoch 57/100, Training Loss: 0.40284752058533, Validation Loss: 0.4720481293542044\n"
     ]
    },
    {
     "name": "stderr",
     "output_type": "stream",
     "text": [
      " 58%|█████▊    | 58/100 [26:07<16:00, 22.88s/it]"
     ]
    },
    {
     "name": "stdout",
     "output_type": "stream",
     "text": [
      "Epoch 58/100, Training Loss: 0.4131754101166185, Validation Loss: 0.4606912987572806\n"
     ]
    },
    {
     "name": "stderr",
     "output_type": "stream",
     "text": [
      " 59%|█████▉    | 59/100 [26:29<15:29, 22.67s/it]"
     ]
    },
    {
     "name": "stdout",
     "output_type": "stream",
     "text": [
      "Epoch 59/100, Training Loss: 0.36531066613377267, Validation Loss: 0.4584594688245228\n"
     ]
    },
    {
     "name": "stderr",
     "output_type": "stream",
     "text": [
      " 60%|██████    | 60/100 [26:52<15:04, 22.61s/it]"
     ]
    },
    {
     "name": "stdout",
     "output_type": "stream",
     "text": [
      "Epoch 60/100, Training Loss: 0.37285500568039015, Validation Loss: 0.505004284637315\n"
     ]
    },
    {
     "name": "stderr",
     "output_type": "stream",
     "text": [
      " 61%|██████    | 61/100 [27:15<14:48, 22.77s/it]"
     ]
    },
    {
     "name": "stdout",
     "output_type": "stream",
     "text": [
      "Epoch 61/100, Training Loss: 0.4034293904057089, Validation Loss: 0.5236851807151522\n"
     ]
    },
    {
     "name": "stderr",
     "output_type": "stream",
     "text": [
      " 62%|██████▏   | 62/100 [27:38<14:30, 22.91s/it]"
     ]
    },
    {
     "name": "stdout",
     "output_type": "stream",
     "text": [
      "Epoch 62/100, Training Loss: 0.4151721807583323, Validation Loss: 0.5310501647847039\n"
     ]
    },
    {
     "name": "stderr",
     "output_type": "stream",
     "text": [
      " 63%|██████▎   | 63/100 [28:01<14:02, 22.77s/it]"
     ]
    },
    {
     "name": "stdout",
     "output_type": "stream",
     "text": [
      "Epoch 63/100, Training Loss: 0.374267244816951, Validation Loss: 0.4471768332379205\n"
     ]
    },
    {
     "name": "stderr",
     "output_type": "stream",
     "text": [
      " 64%|██████▍   | 64/100 [28:23<13:31, 22.54s/it]"
     ]
    },
    {
     "name": "stdout",
     "output_type": "stream",
     "text": [
      "Epoch 64/100, Training Loss: 0.3623087886931761, Validation Loss: 0.42164723787988934\n"
     ]
    },
    {
     "name": "stderr",
     "output_type": "stream",
     "text": [
      " 65%|██████▌   | 65/100 [28:45<13:07, 22.51s/it]"
     ]
    },
    {
     "name": "stdout",
     "output_type": "stream",
     "text": [
      "Epoch 65/100, Training Loss: 0.378671278087598, Validation Loss: 0.3911927895886557\n"
     ]
    },
    {
     "name": "stderr",
     "output_type": "stream",
     "text": [
      " 66%|██████▌   | 66/100 [29:07<12:40, 22.35s/it]"
     ]
    },
    {
     "name": "stdout",
     "output_type": "stream",
     "text": [
      "Epoch 66/100, Training Loss: 0.36575631544275106, Validation Loss: 0.4849634915590286\n"
     ]
    },
    {
     "name": "stderr",
     "output_type": "stream",
     "text": [
      " 67%|██████▋   | 67/100 [29:30<12:21, 22.46s/it]"
     ]
    },
    {
     "name": "stdout",
     "output_type": "stream",
     "text": [
      "Epoch 67/100, Training Loss: 0.3551899722584014, Validation Loss: 0.42653352873665945\n"
     ]
    },
    {
     "name": "stderr",
     "output_type": "stream",
     "text": [
      " 68%|██████▊   | 68/100 [29:52<11:57, 22.42s/it]"
     ]
    },
    {
     "name": "stdout",
     "output_type": "stream",
     "text": [
      "Epoch 68/100, Training Loss: 0.36701736613264624, Validation Loss: 0.45617902278900146\n"
     ]
    },
    {
     "name": "stderr",
     "output_type": "stream",
     "text": [
      " 69%|██████▉   | 69/100 [30:14<11:35, 22.42s/it]"
     ]
    },
    {
     "name": "stdout",
     "output_type": "stream",
     "text": [
      "Epoch 69/100, Training Loss: 0.41888146102428436, Validation Loss: 0.4277863566364561\n"
     ]
    },
    {
     "name": "stderr",
     "output_type": "stream",
     "text": [
      " 70%|███████   | 70/100 [30:37<11:11, 22.38s/it]"
     ]
    },
    {
     "name": "stdout",
     "output_type": "stream",
     "text": [
      "Epoch 70/100, Training Loss: 0.3388134555996589, Validation Loss: 0.44223685349736896\n"
     ]
    },
    {
     "name": "stderr",
     "output_type": "stream",
     "text": [
      " 71%|███████   | 71/100 [30:58<10:39, 22.04s/it]"
     ]
    },
    {
     "name": "stdout",
     "output_type": "stream",
     "text": [
      "Epoch 71/100, Training Loss: 0.3341622694202189, Validation Loss: 0.3997160004717963\n"
     ]
    },
    {
     "name": "stderr",
     "output_type": "stream",
     "text": [
      " 72%|███████▏  | 72/100 [31:21<10:23, 22.27s/it]"
     ]
    },
    {
     "name": "stdout",
     "output_type": "stream",
     "text": [
      "Epoch 72/100, Training Loss: 0.35224008124391987, Validation Loss: 0.4301984863621848\n"
     ]
    },
    {
     "name": "stderr",
     "output_type": "stream",
     "text": [
      " 73%|███████▎  | 73/100 [31:44<10:08, 22.54s/it]"
     ]
    },
    {
     "name": "stdout",
     "output_type": "stream",
     "text": [
      "Epoch 73/100, Training Loss: 0.3570236510263299, Validation Loss: 0.4245919372354235\n"
     ]
    },
    {
     "name": "stderr",
     "output_type": "stream",
     "text": [
      " 74%|███████▍  | 74/100 [32:07<09:49, 22.66s/it]"
     ]
    },
    {
     "name": "stdout",
     "output_type": "stream",
     "text": [
      "Epoch 74/100, Training Loss: 0.34352367722763205, Validation Loss: 0.5056929162570408\n"
     ]
    },
    {
     "name": "stderr",
     "output_type": "stream",
     "text": [
      " 75%|███████▌  | 75/100 [32:29<09:25, 22.60s/it]"
     ]
    },
    {
     "name": "stdout",
     "output_type": "stream",
     "text": [
      "Epoch 75/100, Training Loss: 0.3556412750819944, Validation Loss: 0.46337643691471647\n"
     ]
    },
    {
     "name": "stderr",
     "output_type": "stream",
     "text": [
      " 76%|███████▌  | 76/100 [32:51<08:55, 22.30s/it]"
     ]
    },
    {
     "name": "stdout",
     "output_type": "stream",
     "text": [
      "Epoch 76/100, Training Loss: 0.3709691746054955, Validation Loss: 0.48145066520997454\n"
     ]
    },
    {
     "name": "stderr",
     "output_type": "stream",
     "text": [
      " 77%|███████▋  | 77/100 [33:13<08:29, 22.17s/it]"
     ]
    },
    {
     "name": "stdout",
     "output_type": "stream",
     "text": [
      "Epoch 77/100, Training Loss: 0.3239212754481244, Validation Loss: 0.41501274917806896\n"
     ]
    },
    {
     "name": "stderr",
     "output_type": "stream",
     "text": [
      " 78%|███████▊  | 78/100 [33:34<08:02, 21.95s/it]"
     ]
    },
    {
     "name": "stdout",
     "output_type": "stream",
     "text": [
      "Epoch 78/100, Training Loss: 0.31762583982550874, Validation Loss: 0.4498780774218695\n"
     ]
    },
    {
     "name": "stderr",
     "output_type": "stream",
     "text": [
      " 79%|███████▉  | 79/100 [33:56<07:40, 21.93s/it]"
     ]
    },
    {
     "name": "stdout",
     "output_type": "stream",
     "text": [
      "Epoch 79/100, Training Loss: 0.30843487831781496, Validation Loss: 0.4497634491750172\n"
     ]
    },
    {
     "name": "stderr",
     "output_type": "stream",
     "text": [
      " 80%|████████  | 80/100 [34:19<07:21, 22.07s/it]"
     ]
    },
    {
     "name": "stdout",
     "output_type": "stream",
     "text": [
      "Epoch 80/100, Training Loss: 0.35375465565132647, Validation Loss: 0.40117666125297546\n"
     ]
    },
    {
     "name": "stderr",
     "output_type": "stream",
     "text": [
      " 81%|████████  | 81/100 [34:41<07:03, 22.31s/it]"
     ]
    },
    {
     "name": "stdout",
     "output_type": "stream",
     "text": [
      "Epoch 81/100, Training Loss: 0.31454962864518166, Validation Loss: 0.37642507893698557\n"
     ]
    },
    {
     "name": "stderr",
     "output_type": "stream",
     "text": [
      " 82%|████████▏ | 82/100 [35:03<06:40, 22.23s/it]"
     ]
    },
    {
     "name": "stdout",
     "output_type": "stream",
     "text": [
      "Epoch 82/100, Training Loss: 0.31303621997248454, Validation Loss: 0.4687908504690443\n"
     ]
    },
    {
     "name": "stderr",
     "output_type": "stream",
     "text": [
      " 83%|████████▎ | 83/100 [35:27<06:21, 22.47s/it]"
     ]
    },
    {
     "name": "stdout",
     "output_type": "stream",
     "text": [
      "Epoch 83/100, Training Loss: 0.3341081717385436, Validation Loss: 0.4301993485007967\n"
     ]
    },
    {
     "name": "stderr",
     "output_type": "stream",
     "text": [
      " 84%|████████▍ | 84/100 [35:48<05:54, 22.13s/it]"
     ]
    },
    {
     "name": "stdout",
     "output_type": "stream",
     "text": [
      "Epoch 84/100, Training Loss: 0.3122768191234121, Validation Loss: 0.3874449346746717\n"
     ]
    },
    {
     "name": "stderr",
     "output_type": "stream",
     "text": [
      " 85%|████████▌ | 85/100 [36:10<05:30, 22.00s/it]"
     ]
    },
    {
     "name": "stdout",
     "output_type": "stream",
     "text": [
      "Epoch 85/100, Training Loss: 0.31519160714914213, Validation Loss: 0.45778721145221163\n"
     ]
    },
    {
     "name": "stderr",
     "output_type": "stream",
     "text": [
      " 86%|████████▌ | 86/100 [36:33<05:13, 22.41s/it]"
     ]
    },
    {
     "name": "stdout",
     "output_type": "stream",
     "text": [
      "Epoch 86/100, Training Loss: 0.3206851028327672, Validation Loss: 0.4426252416202\n"
     ]
    },
    {
     "name": "stderr",
     "output_type": "stream",
     "text": [
      " 87%|████████▋ | 87/100 [36:54<04:46, 22.00s/it]"
     ]
    },
    {
     "name": "stdout",
     "output_type": "stream",
     "text": [
      "Epoch 87/100, Training Loss: 0.3204833731617568, Validation Loss: 0.51227724977902\n"
     ]
    },
    {
     "name": "stderr",
     "output_type": "stream",
     "text": [
      " 88%|████████▊ | 88/100 [37:15<04:20, 21.71s/it]"
     ]
    },
    {
     "name": "stdout",
     "output_type": "stream",
     "text": [
      "Epoch 88/100, Training Loss: 0.3145634818751857, Validation Loss: 0.45463218646390097\n"
     ]
    },
    {
     "name": "stderr",
     "output_type": "stream",
     "text": [
      " 89%|████████▉ | 89/100 [37:39<04:04, 22.26s/it]"
     ]
    },
    {
     "name": "stdout",
     "output_type": "stream",
     "text": [
      "Epoch 89/100, Training Loss: 0.3021735525074995, Validation Loss: 0.46327814885548185\n"
     ]
    },
    {
     "name": "stderr",
     "output_type": "stream",
     "text": [
      " 90%|█████████ | 90/100 [38:02<03:45, 22.52s/it]"
     ]
    },
    {
     "name": "stdout",
     "output_type": "stream",
     "text": [
      "Epoch 90/100, Training Loss: 0.30743894501114793, Validation Loss: 0.4628810797418867\n"
     ]
    },
    {
     "name": "stderr",
     "output_type": "stream",
     "text": [
      " 91%|█████████ | 91/100 [38:25<03:24, 22.77s/it]"
     ]
    },
    {
     "name": "stdout",
     "output_type": "stream",
     "text": [
      "Epoch 91/100, Training Loss: 0.3046161559111667, Validation Loss: 0.5282526016235352\n"
     ]
    },
    {
     "name": "stderr",
     "output_type": "stream",
     "text": [
      " 92%|█████████▏| 92/100 [38:43<02:51, 21.40s/it]"
     ]
    },
    {
     "name": "stdout",
     "output_type": "stream",
     "text": [
      "Epoch 92/100, Training Loss: 0.3002954997684596, Validation Loss: 0.4119169754641397\n"
     ]
    },
    {
     "name": "stderr",
     "output_type": "stream",
     "text": [
      " 93%|█████████▎| 93/100 [39:01<02:21, 20.25s/it]"
     ]
    },
    {
     "name": "stdout",
     "output_type": "stream",
     "text": [
      "Epoch 93/100, Training Loss: 0.2945889745540214, Validation Loss: 0.4403412129197802\n"
     ]
    },
    {
     "name": "stderr",
     "output_type": "stream",
     "text": [
      " 94%|█████████▍| 94/100 [39:21<02:00, 20.16s/it]"
     ]
    },
    {
     "name": "stdout",
     "output_type": "stream",
     "text": [
      "Epoch 94/100, Training Loss: 0.34166442462295854, Validation Loss: 0.44467083896909443\n"
     ]
    },
    {
     "name": "stderr",
     "output_type": "stream",
     "text": [
      " 95%|█████████▌| 95/100 [39:43<01:44, 20.82s/it]"
     ]
    },
    {
     "name": "stdout",
     "output_type": "stream",
     "text": [
      "Epoch 95/100, Training Loss: 0.3092688054970975, Validation Loss: 0.3910312865461622\n"
     ]
    },
    {
     "name": "stderr",
     "output_type": "stream",
     "text": [
      " 96%|█████████▌| 96/100 [40:02<01:21, 20.34s/it]"
     ]
    },
    {
     "name": "stdout",
     "output_type": "stream",
     "text": [
      "Epoch 96/100, Training Loss: 0.3128182554863534, Validation Loss: 0.4796553467001234\n"
     ]
    },
    {
     "name": "stderr",
     "output_type": "stream",
     "text": [
      " 97%|█████████▋| 97/100 [40:23<01:01, 20.50s/it]"
     ]
    },
    {
     "name": "stdout",
     "output_type": "stream",
     "text": [
      "Epoch 97/100, Training Loss: 0.29628632569088126, Validation Loss: 0.4345031018768038\n"
     ]
    },
    {
     "name": "stderr",
     "output_type": "stream",
     "text": [
      " 98%|█████████▊| 98/100 [40:44<00:41, 20.60s/it]"
     ]
    },
    {
     "name": "stdout",
     "output_type": "stream",
     "text": [
      "Epoch 98/100, Training Loss: 0.3158428604310414, Validation Loss: 0.40683896626744953\n"
     ]
    },
    {
     "name": "stderr",
     "output_type": "stream",
     "text": [
      " 99%|█████████▉| 99/100 [41:04<00:20, 20.29s/it]"
     ]
    },
    {
     "name": "stdout",
     "output_type": "stream",
     "text": [
      "Epoch 99/100, Training Loss: 0.33850131619651364, Validation Loss: 0.3896751957280295\n"
     ]
    },
    {
     "name": "stderr",
     "output_type": "stream",
     "text": [
      "100%|██████████| 100/100 [41:24<00:00, 24.84s/it]"
     ]
    },
    {
     "name": "stdout",
     "output_type": "stream",
     "text": [
      "Epoch 100/100, Training Loss: 0.31106300160007655, Validation Loss: 0.40478735097817015\n"
     ]
    },
    {
     "name": "stderr",
     "output_type": "stream",
     "text": [
      "\n"
     ]
    },
    {
     "data": {
      "application/vnd.jupyter.widget-view+json": {
       "model_id": "8fbf3ec19c0f406b8a71bd8fe56b3a01",
       "version_major": 2,
       "version_minor": 0
      },
      "text/plain": [
       "VBox(children=(Label(value='0.001 MB of 0.001 MB uploaded\\r'), FloatProgress(value=1.0, max=1.0)))"
      ]
     },
     "metadata": {},
     "output_type": "display_data"
    },
    {
     "data": {
      "text/html": [
       "<style>\n",
       "    table.wandb td:nth-child(1) { padding: 0 10px; text-align: left ; width: auto;} td:nth-child(2) {text-align: left ; width: 100%}\n",
       "    .wandb-row { display: flex; flex-direction: row; flex-wrap: wrap; justify-content: flex-start; width: 100% }\n",
       "    .wandb-col { display: flex; flex-direction: column; flex-basis: 100%; flex: 1; padding: 10px; }\n",
       "    </style>\n",
       "<div class=\"wandb-row\"><div class=\"wandb-col\"><h3>Run history:</h3><br/><table class=\"wandb\"><tr><td>epoch</td><td>▁▁▁▁▂▂▂▂▂▃▃▃▃▃▃▄▄▄▄▄▅▅▅▅▅▅▆▆▆▆▆▇▇▇▇▇▇███</td></tr><tr><td>train_loss</td><td>█▇▅▄▅▄▃▄▄▃▃▂▂▃▂▂▂▂▂▂▃▃▃▂▂▂▂▂▁▁▁▁▁▁▁▁▁▁▁▁</td></tr><tr><td>val_loss</td><td>█▄▃▃▃▃▂▃▂▂▂▃▂▂▂▂▂▂▂▃▄▂▁▂▂▁▁▁▁▂▁▁▂▁▂▂▁▁▁▁</td></tr></table><br/></div><div class=\"wandb-col\"><h3>Run summary:</h3><br/><table class=\"wandb\"><tr><td>epoch</td><td>100</td></tr><tr><td>train_loss</td><td>0.31106</td></tr><tr><td>val_loss</td><td>0.40479</td></tr></table><br/></div></div>"
      ],
      "text/plain": [
       "<IPython.core.display.HTML object>"
      ]
     },
     "metadata": {},
     "output_type": "display_data"
    },
    {
     "data": {
      "text/html": [
       " View run <strong style=\"color:#cdcd00\">daily-donkey-2</strong> at: <a href='https://wandb.ai/angelajcnto-the-university-of-western-australia/model2_vmem/runs/i6bfzrq4' target=\"_blank\">https://wandb.ai/angelajcnto-the-university-of-western-australia/model2_vmem/runs/i6bfzrq4</a><br/> View project at: <a href='https://wandb.ai/angelajcnto-the-university-of-western-australia/model2_vmem' target=\"_blank\">https://wandb.ai/angelajcnto-the-university-of-western-australia/model2_vmem</a><br/>Synced 6 W&B file(s), 0 media file(s), 0 artifact file(s) and 0 other file(s)"
      ],
      "text/plain": [
       "<IPython.core.display.HTML object>"
      ]
     },
     "metadata": {},
     "output_type": "display_data"
    },
    {
     "data": {
      "text/html": [
       "Find logs at: <code>./wandb/run-20240928_124147-i6bfzrq4/logs</code>"
      ],
      "text/plain": [
       "<IPython.core.display.HTML object>"
      ]
     },
     "metadata": {},
     "output_type": "display_data"
    },
    {
     "data": {
      "image/png": "[encoded data removed]",
      "text/plain": [
       "<Figure size 640x480 with 1 Axes>"
      ]
     },
     "metadata": {},
     "output_type": "display_data"
    }
   ],
   "source": [
    "from torch.nn import MSELoss\n",
    "from tqdm import trange\n",
    "from torch.optim import Adam\n",
    "import matplotlib.pyplot as plt\n",
    "import numpy as np\n",
    "import pickle\n",
    "\n",
    "wandb.init(\n",
    "    project=\"model2_vmem\",  \n",
    "    config={\n",
    "        \"learning_rate\": 1e-3,\n",
    "        \"architecture\": \"SNN\",\n",
    "        \"dataset\": \"Meerkat calls\",\n",
    "        \"epochs\": 100,\n",
    "        \"target_class_potential\": 1,\n",
    "        \"non_target_class_potential\": -1\n",
    "    }\n",
    ")\n",
    "\n",
    "config = wandb.config\n",
    "\n",
    "device = torch.device(\"cuda\" if torch.cuda.is_available() else \"cpu\")\n",
    "model2 = model2.to(device)\n",
    "\n",
    "# Hyperparameters\n",
    "n_epochs = config.epochs\n",
    "learning_rate = config.learning_rate\n",
    "target_class_potential = config.target_class_potential\n",
    "non_target_class_potential = config.non_target_class_potential\n",
    "\n",
    "optimizer = Adam(model2.parameters().astorch(), lr=learning_rate)\n",
    "loss_fun = MSELoss()\n",
    "\n",
    "# Store losses for plotting\n",
    "train_losses = []\n",
    "val_losses = []\n",
    "\n",
    "# Store membrane potentials, spikes, syn currents\n",
    "membrane_potentials = []\n",
    "spike_outputs = []\n",
    "synaptic_currents = []\n",
    "\n",
    "# Store predictions and ground truth\n",
    "predictions = []\n",
    "ground_truths = []\n",
    "\n",
    "# Training phase\n",
    "for epoch in trange(n_epochs):\n",
    "    model2.train()\n",
    "    epoch_loss = 0\n",
    "    for batch in train_loader:\n",
    "        inputs, labels = batch\n",
    "        inputs = inputs.permute(0, 2, 1).to(device)\n",
    "\n",
    "        # Inspect the inputs\n",
    "        # print(\"Inputs shape:\", inputs.shape)\n",
    "        # print(\"Inputs mean:\", inputs.mean().item())\n",
    "        # print(\"Inputs max:\", inputs.max().item())\n",
    "        # print(\"Inputs min:\", inputs.min().item())\n",
    "\n",
    "        optimizer.zero_grad()\n",
    "        outputs, _, _ = model2(inputs, record=True)\n",
    "        outputs_vmem = outputs[:, -1, :]  # Last time step along the time axis\n",
    "\n",
    "        # target membrane potential values\n",
    "        target_membrane_potential = torch.zeros_like(outputs_vmem).to(device)\n",
    "        target_membrane_potential[labels == 1] = target_class_potential  # Target class\n",
    "        target_membrane_potential[labels == 0] = non_target_class_potential  # Non-target class\n",
    "\n",
    "        # Compute loss\n",
    "        loss = loss_fun(outputs_vmem, target_membrane_potential)\n",
    "        loss.backward()\n",
    "        optimizer.step()\n",
    "        epoch_loss += loss.item()\n",
    "\n",
    "        if epoch == n_epochs - 1:\n",
    "            predictions.append(outputs_vmem.detach().cpu().numpy())  # Final output (membrane potential prediction)\n",
    "            ground_truths.append(labels.cpu().numpy()) \n",
    "        \n",
    "        # Access internal layer membrane potentials and spikes\n",
    "        for lyr_name in model2.lif_names:\n",
    "            lyr = model2.seq[lyr_name]\n",
    "\n",
    "            # Inspect membrane potentials and spikes\n",
    "            # print(f\"Layer {lyr_name}: Membrane potentials mean:\", lyr.vmem.mean().item())\n",
    "            # print(f\"Layer {lyr_name}: Spikes sum:\", lyr.spikes.sum().item())  # Sum of spikes should be > 0 if neurons are firing\n",
    "            \n",
    "            v_mem = lyr.vmem.detach().cpu().numpy()  # Membrane potentials\n",
    "            spikes = lyr.spikes.detach().cpu().numpy()  # Spikes\n",
    "            i_syn = lyr.isyn.detach().cpu().numpy()  # Synaptic currents\n",
    "            \n",
    "            # Store for visualization\n",
    "            membrane_potentials.append(v_mem)\n",
    "            spike_outputs.append(spikes)\n",
    "            synaptic_currents.append(i_syn)\n",
    "\n",
    "    train_losses.append(epoch_loss / len(train_loader))\n",
    "\n",
    "    # Validation phase\n",
    "    model2.eval()\n",
    "    val_loss = 0\n",
    "    with torch.no_grad():\n",
    "        for batch in val_loader:\n",
    "            inputs, labels = batch\n",
    "            inputs = inputs.permute(0, 2, 1).to(device)\n",
    "            outputs, _, _ = model2(inputs, record=True)\n",
    "            outputs_vmem = outputs[:, -1, :]\n",
    "            target_membrane_potential = torch.zeros_like(outputs_vmem).to(device)\n",
    "            target_membrane_potential[labels == 1] = target_class_potential\n",
    "            target_membrane_potential[labels == 0] = non_target_class_potential\n",
    "            loss = loss_fun(outputs_vmem, target_membrane_potential)\n",
    "            val_loss += loss.item()\n",
    "\n",
    "    val_losses.append(val_loss / len(val_loader))\n",
    "\n",
    "    wandb.log({\n",
    "    \"epoch\": epoch + 1,\n",
    "    \"train_loss\": train_losses[-1],\n",
    "    \"val_loss\": val_losses[-1]\n",
    "})\n",
    "\n",
    "    print(f\"Epoch {epoch+1}/{n_epochs}, Training Loss: {train_losses[-1]}, Validation Loss: {val_losses[-1]}\")\n",
    "\n",
    "wandb.finish()\n",
    "\n",
    "predictions = np.concatenate(predictions)\n",
    "ground_truths = np.concatenate(ground_truths)\n",
    "\n",
    "# Save results\n",
    "model2_outputs = {\n",
    "    'train_losses': train_losses,\n",
    "    'val_losses': val_losses,\n",
    "    'membrane_potentials': membrane_potentials,\n",
    "    'spike_outputs': spike_outputs,\n",
    "    'synaptic_currents': synaptic_currents,\n",
    "    'predictions': predictions,  \n",
    "    'ground_truths': ground_truths\n",
    "}\n",
    "\n",
    "with open('model2_vmem_4810.pkl', 'wb') as f:\n",
    "    pickle.dump(model2_outputs, f)\n",
    "    \n",
    "# Plot training and validation loss\n",
    "plt.plot(train_losses, label='Training Loss')\n",
    "plt.plot(val_losses, label='Validation Loss')\n",
    "plt.xlabel('Epoch')\n",
    "plt.ylabel('Loss')\n",
    "plt.legend()\n",
    "plt.show()\n"
   ]
  },
  {
   "cell_type": "code",
   "execution_count": 105,
   "metadata": {},
   "outputs": [
    {
     "name": "stdout",
     "output_type": "stream",
     "text": [
      "Shape of predicted_labels: (1672,)\n",
      "Shape of ground_truths: (1672,)\n",
      "Model accuracy: 91.75%\n"
     ]
    }
   ],
   "source": [
    "import pickle\n",
    "import numpy as np\n",
    "\n",
    "with open('model2_vmem_4810.pkl', 'rb') as f:\n",
    "    model2_outputs = pickle.load(f)\n",
    "\n",
    "predictions = model2_outputs['predictions']  \n",
    "ground_truths = model2_outputs['ground_truths']  \n",
    "\n",
    "# Convert the predictions to binary labels (1 for target class, 0 for non-target class)\n",
    "predicted_labels = np.where(predictions > 0, 1, 0)   \n",
    "predicted_labels = predicted_labels.flatten()\n",
    "\n",
    "# Flatten the ground truths array (from 2D to 1D)\n",
    "ground_truths = np.array(ground_truths).flatten()\n",
    "\n",
    "# Debugging\n",
    "print(f\"Shape of predicted_labels: {predicted_labels.shape}\")\n",
    "print(f\"Shape of ground_truths: {ground_truths.shape}\")\n",
    "\n",
    "correct_predictions = (predicted_labels == ground_truths).sum()\n",
    "total_predictions = ground_truths.shape[0]\n",
    "\n",
    "accuracy = (correct_predictions / total_predictions) * 100\n",
    "print(f\"Model accuracy: {accuracy:.2f}%\")"
   ]
  }
 ],
 "metadata": {
  "kernelspec": {
   "display_name": "capstone",
   "language": "python",
   "name": "python3"
  },
  "language_info": {
   "codemirror_mode": {
    "name": "ipython",
    "version": 3
   },
   "file_extension": ".py",
   "mimetype": "text/x-python",
   "name": "python",
   "nbconvert_exporter": "python",
   "pygments_lexer": "ipython3",
   "version": "3.8.18"
  }
 },
 "nbformat": 4,
 "nbformat_minor": 2
}
