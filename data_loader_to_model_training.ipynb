{
 "cells": [
  {
   "cell_type": "code",
   "execution_count": 1,
   "metadata": {},
   "outputs": [
    {
     "name": "stdout",
     "output_type": "stream",
     "text": [
      "Original Labels distribution: tensor([1294,   95, 1046,   53,   40])\n"
     ]
    },
    {
     "name": "stderr",
     "output_type": "stream",
     "text": [
      "/var/folders/ww/sdpjdv8n5bxg6ylcbh7qm0vc0000gn/T/ipykernel_42624/556641388.py:4: FutureWarning: You are using `torch.load` with `weights_only=False` (the current default value), which uses the default pickle module implicitly. It is possible to construct malicious pickle data which will execute arbitrary code during unpickling (See https://github.com/pytorch/pytorch/blob/main/SECURITY.md#untrusted-models for more details). In a future release, the default value for `weights_only` will be flipped to `True`. This limits the functions that could be executed during unpickling. Arbitrary objects will no longer be allowed to be loaded via this mode unless they are explicitly allowlisted by the user via `torch.serialization.add_safe_globals`. We recommend you start setting `weights_only=True` for any use case where you don't have full control of the loaded file. Please open an issue on GitHub for any issues related to this experimental feature.\n",
      "  spikes_tensor = torch.load(\"tensors/spike_data_tensor.pt\" ,map_location=torch.device('cpu'))\n",
      "/var/folders/ww/sdpjdv8n5bxg6ylcbh7qm0vc0000gn/T/ipykernel_42624/556641388.py:5: FutureWarning: You are using `torch.load` with `weights_only=False` (the current default value), which uses the default pickle module implicitly. It is possible to construct malicious pickle data which will execute arbitrary code during unpickling (See https://github.com/pytorch/pytorch/blob/main/SECURITY.md#untrusted-models for more details). In a future release, the default value for `weights_only` will be flipped to `True`. This limits the functions that could be executed during unpickling. Arbitrary objects will no longer be allowed to be loaded via this mode unless they are explicitly allowlisted by the user via `torch.serialization.add_safe_globals`. We recommend you start setting `weights_only=True` for any use case where you don't have full control of the loaded file. Please open an issue on GitHub for any issues related to this experimental feature.\n",
      "  labels_tensor = torch.load(\"tensors/labels_tensor.pt\", map_location=torch.device('cpu'))\n"
     ]
    }
   ],
   "source": [
    "import torch\n",
    "import numpy as np\n",
    "# Load tensor\n",
    "spikes_tensor = torch.load(\"tensors/spike_data_tensor.pt\" ,map_location=torch.device('cpu'))\n",
    "labels_tensor = torch.load(\"tensors/labels_tensor.pt\", map_location=torch.device('cpu'))\n",
    "\n",
    "label_distribution = torch.bincount(labels_tensor)\n",
    "print(f'Original Labels distribution: {label_distribution}')"
   ]
  },
  {
   "cell_type": "code",
   "execution_count": 2,
   "metadata": {},
   "outputs": [
    {
     "name": "stderr",
     "output_type": "stream",
     "text": [
      "/opt/anaconda3/envs/capstone/lib/python3.8/site-packages/tqdm/auto.py:21: TqdmWarning: IProgress not found. Please update jupyter and ipywidgets. See https://ipywidgets.readthedocs.io/en/stable/user_install.html\n",
      "  from .autonotebook import tqdm as notebook_tqdm\n"
     ]
    }
   ],
   "source": [
    "from torch.utils.data import Dataset, DataLoader, Subset\n",
    "import tonic\n",
    "\n",
    "class CCMKDataset(Dataset):\n",
    "    def __init__(self, spikes_tensor, labels_tensor, seed=None, **kwargs):\n",
    "        # Set default values\n",
    "        nchannels = kwargs.get('nchannels', None)\n",
    "        target_label = kwargs.get('target_label', 2)\n",
    "        device = kwargs.get('device', torch.device('cuda' if torch.cuda.is_available() else 'cpu'))\n",
    "        \n",
    "        # Random seed for reproducibility\n",
    "        if seed is not None:\n",
    "            np.random.seed(seed)\n",
    "            torch.manual_seed(seed)\n",
    "        \n",
    "        # Move tensors to the specified device\n",
    "        self.spikes_tensor = spikes_tensor.to(device)\n",
    "        self.labels_tensor = labels_tensor.to(device)\n",
    "\n",
    "        # If nchannels is specified\n",
    "        if nchannels is not None:\n",
    "            self.spikes_tensor = self.spikes_tensor[:, nchannels, :]\n",
    "        \n",
    "        # Ignore labels 1, 3, and 4\n",
    "        valid_mask = (self.labels_tensor == 0) | (self.labels_tensor == target_label)\n",
    "        self.spikes_tensor = self.spikes_tensor[valid_mask]\n",
    "        self.labels_tensor = self.labels_tensor[valid_mask]\n",
    "        \n",
    "        # Convert the target label (2) to 1\n",
    "        self.labels_tensor[self.labels_tensor == target_label] = 1\n",
    "        \n",
    "        # Downsampling: Match the number of label 0 samples to the number of label 1 samples\n",
    "        label_0_indices = torch.where(self.labels_tensor == 0)[0]\n",
    "        label_1_indices = torch.where(self.labels_tensor == 1)[0]\n",
    "        \n",
    "        # Determine the number of samples to match (downsample label 0)\n",
    "        num_samples = min(len(label_1_indices), len(label_0_indices))\n",
    "        \n",
    "        # Randomly sample from label 0 and label 1 indices\n",
    "        selected_label_0_indices = np.random.choice(label_0_indices.cpu(), size=num_samples, replace=False)\n",
    "        selected_label_1_indices = np.random.choice(label_1_indices.cpu(), size=num_samples, replace=False)\n",
    "\n",
    "        selected_label_0_indices = torch.tensor(selected_label_0_indices, device=device)\n",
    "        selected_label_1_indices = torch.tensor(selected_label_1_indices, device=device)\n",
    "\n",
    "        # Combine the downsampled label 0 indices with label 1 indices\n",
    "        balanced_indices = torch.cat([selected_label_0_indices, selected_label_1_indices])\n",
    "\n",
    "        # Apply the balanced indices to filter spikes and labels\n",
    "        self.spikes_tensor = self.spikes_tensor[balanced_indices]\n",
    "        self.labels_tensor = self.labels_tensor[balanced_indices]\n",
    "\n",
    "    def __len__(self):\n",
    "        return len(self.labels_tensor)\n",
    "    \n",
    "    def __getitem__(self, idx):\n",
    "        spike_data = self.spikes_tensor[idx]\n",
    "        label = self.labels_tensor[idx]\n",
    "        return spike_data, label"
   ]
  },
  {
   "cell_type": "markdown",
   "metadata": {},
   "source": [
    "### Dataset and DataLoader Configuration"
   ]
  },
  {
   "cell_type": "code",
   "execution_count": 32,
   "metadata": {},
   "outputs": [],
   "source": [
    "import numpy as np\n",
    "from sklearn.model_selection import train_test_split\n",
    "\n",
    "# Dataset arguments\n",
    "dataset_kwargs = dict(\n",
    "    nchannels= list(range(16)),\n",
    "    target_label= 2,      \n",
    "    device=torch.device('cuda' if torch.cuda.is_available() else 'cpu'),  \n",
    "    seed=42 \n",
    ")\n",
    "\n",
    "# Instantiate dataset \n",
    "dataset = CCMKDataset(spikes_tensor, labels_tensor, **dataset_kwargs)\n",
    "\n",
    "# Balance the dataset by selecting equal samples from both classes\n",
    "label_0_indices = torch.where(dataset.labels_tensor == 0)[0]\n",
    "label_1_indices = torch.where(dataset.labels_tensor == 1)[0]\n",
    "\n",
    "# Determine the number of samples to match\n",
    "num_samples = min(len(label_1_indices), len(label_0_indices))\n",
    "\n",
    "# Randomly sample from label 0 and label 1 indices\n",
    "selected_label_0_indices = np.random.choice(label_0_indices.cpu(), size=num_samples, replace=False)\n",
    "selected_label_1_indices = np.random.choice(label_1_indices.cpu(), size=num_samples, replace=False)\n",
    "\n",
    "# Combine the downsampled label 0 indices with label 1 indices\n",
    "balanced_indices = torch.cat([torch.tensor(selected_label_0_indices), torch.tensor(selected_label_1_indices)])\n",
    "\n",
    "# Shuffle the balanced indices\n",
    "balanced_indices = balanced_indices[torch.randperm(len(balanced_indices))]\n",
    "\n",
    "# Manually split balanced indices\n",
    "train_val_label_0, test_label_0 = train_test_split(selected_label_0_indices, test_size=0.20, random_state=42)\n",
    "train_val_label_1, test_label_1 = train_test_split(selected_label_1_indices, test_size=0.20, random_state=42)\n",
    "\n",
    "train_label_0, val_label_0 = train_test_split(train_val_label_0, test_size=0.10, random_state=42)\n",
    "train_label_1, val_label_1 = train_test_split(train_val_label_1, test_size=0.10, random_state=42)\n",
    "\n",
    "# Combine splits back together\n",
    "train_indices = torch.cat([torch.tensor(train_label_0), torch.tensor(train_label_1)])\n",
    "val_indices = torch.cat([torch.tensor(val_label_0), torch.tensor(val_label_1)])\n",
    "test_indices = torch.cat([torch.tensor(test_label_0), torch.tensor(test_label_1)])\n",
    "\n",
    "# Create final subsets for training, validation, and test\n",
    "train_dataset = Subset(dataset, train_indices)\n",
    "val_dataset = Subset(dataset, val_indices)\n",
    "test_dataset = Subset(dataset, test_indices)\n",
    "\n",
    "# DataLoader arguments (unchanged)\n",
    "dataloader_kwargs = dict(\n",
    "    batch_size=32,\n",
    "    shuffle=True,\n",
    "    drop_last=False,\n",
    "    pin_memory=True,\n",
    "    collate_fn=tonic.collation.PadTensors(batch_first=True),\n",
    "    num_workers=0, \n",
    ")\n",
    "\n",
    "# Create DataLoaders\n",
    "train_loader = DataLoader(train_dataset, **dataloader_kwargs)\n",
    "val_loader = DataLoader(val_dataset, **dataloader_kwargs)\n",
    "test_loader = DataLoader(test_dataset, **dataloader_kwargs)"
   ]
  },
  {
   "cell_type": "code",
   "execution_count": 36,
   "metadata": {},
   "outputs": [
    {
     "name": "stdout",
     "output_type": "stream",
     "text": [
      "Dataset length: 2092\n",
      "Shape of the first spikes tensor: torch.Size([16, 101])\n",
      "Label of the first sample: 0\n",
      "Batch 1:\n",
      " - Inputs shape: torch.Size([32, 16, 101])\n",
      " - Targets shape: torch.Size([32])\n",
      "Labels distribution: tensor([210, 210])\n"
     ]
    }
   ],
   "source": [
    "# Adapted from Esther's snn.ipynb notebook\n",
    "\n",
    "# Check the length of the dataset\n",
    "print(f\"Dataset length: {len(dataset)}\")\n",
    "\n",
    "# Get and print the shape of the first sample in the dataset\n",
    "first_spikes, first_label = dataset[0]\n",
    "print(f\"Shape of the first spikes tensor: {first_spikes.shape}\")\n",
    "print(f\"Label of the first sample: {first_label}\")\n",
    "\n",
    "# Check batch information in the dataloader\n",
    "for batch_idx, (inputs, targets) in enumerate(train_loader):\n",
    "    print(f\"Batch {batch_idx + 1}:\")\n",
    "    print(f\" - Inputs shape: {inputs.shape}\")  # Batch size x Number of channels x Number of time steps\n",
    "    print(f\" - Targets shape: {targets.shape}\")\n",
    "    break  # Only view the first batch\n",
    "\n",
    "# Get the distribution of labels\n",
    "labels = torch.cat([batch[1] for batch in test_loader])\n",
    "print(f'Labels distribution: {torch.bincount(labels.int())}')"
   ]
  },
  {
   "cell_type": "markdown",
   "metadata": {},
   "source": [
    "### Network Initialization"
   ]
  },
  {
   "cell_type": "code",
   "execution_count": 37,
   "metadata": {},
   "outputs": [
    {
     "name": "stdout",
     "output_type": "stream",
     "text": [
      "dt = 9.838646202282566e-06 seconds\n"
     ]
    }
   ],
   "source": [
    "# Sampling frequency\n",
    "fs = 101640 \n",
    "\n",
    "# Calculate the time step\n",
    "dt = 1 / fs\n",
    "print(f\"dt = {dt} seconds\")"
   ]
  },
  {
   "cell_type": "code",
   "execution_count": 38,
   "metadata": {},
   "outputs": [
    {
     "name": "stdout",
     "output_type": "stream",
     "text": [
      "SynNet  with shape (16, 2) {\n",
      "    TorchSequential 'seq' with shape (16, 2) {\n",
      "        LinearTorch '0_LinearTorch' with shape (16, 24)\n",
      "        LIFTorch '1_LIFTorch' with shape (24, 24)\n",
      "        TimeStepDropout '2_TimeStepDropout' with shape (24,)\n",
      "        LinearTorch '3_LinearTorch' with shape (24, 24)\n",
      "        LIFTorch '4_LIFTorch' with shape (24, 24)\n",
      "        TimeStepDropout '5_TimeStepDropout' with shape (24,)\n",
      "        LinearTorch '6_LinearTorch' with shape (24, 24)\n",
      "        LIFTorch '7_LIFTorch' with shape (24, 24)\n",
      "        TimeStepDropout '8_TimeStepDropout' with shape (24,)\n",
      "        LinearTorch '9_LinearTorch' with shape (24, 2)\n",
      "        LIFTorch '10_LIFTorch' with shape (2, 2)\n",
      "    }\n",
      "}\n"
     ]
    }
   ],
   "source": [
    "from rockpool.nn.networks import SynNet\n",
    "from rockpool.nn.modules import LIFTorch as LIFOtherSpiking\n",
    "\n",
    "net = SynNet(\n",
    "    n_channels=16,                        \n",
    "    n_classes=2,                           \n",
    "    size_hidden_layers=[24, 24, 24],        \n",
    "    time_constants_per_layer=[2, 4, 8],\n",
    "    dt=dt,     \n",
    "    #output=\"vmem\",                        \n",
    "    #neuron_model=LIFOtherSpiking           \n",
    ")\n",
    "\n",
    "print(net)"
   ]
  }
 ],
 "metadata": {
  "kernelspec": {
   "display_name": "capstone",
   "language": "python",
   "name": "python3"
  },
  "language_info": {
   "codemirror_mode": {
    "name": "ipython",
    "version": 3
   },
   "file_extension": ".py",
   "mimetype": "text/x-python",
   "name": "python",
   "nbconvert_exporter": "python",
   "pygments_lexer": "ipython3",
   "version": "3.8.18"
  }
 },
 "nbformat": 4,
 "nbformat_minor": 2
}
