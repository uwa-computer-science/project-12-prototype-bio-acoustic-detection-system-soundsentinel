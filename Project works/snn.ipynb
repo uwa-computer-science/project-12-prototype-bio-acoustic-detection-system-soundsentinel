{
  "cells": [
    {
      "cell_type": "code",
      "execution_count": null,
      "metadata": {
        "id": "hdAtTAqBIM_7"
      },
      "outputs": [],
      "source": [
        "import torch\n",
        "import numpy as np\n",
        "\n",
        "from google.colab import drive\n",
        "drive.mount('/content/drive')\n",
        "# Load tensor\n",
        "labels_tensor = torch.load(\"/content/drive/My Drive/labels_tensor.pt\")\n",
        "spikes_tensor = torch.load(\"/content/drive/My Drive/spike_data_tensor.pt\")\n",
        "\n",
        "label_distribution = torch.bincount(labels_tensor)\n",
        "print(f'Original Labels distribution: {label_distribution}')\n"
      ]
    },
    {
      "cell_type": "code",
      "execution_count": null,
      "metadata": {
        "colab": {
          "base_uri": "https://localhost:8080/"
        },
        "id": "5JcAV8A8IDc0",
        "outputId": "9cdab575-6e46-4548-c7be-94b66492c75f"
      },
      "outputs": [
        {
          "name": "stdout",
          "output_type": "stream",
          "text": [
            "Filtered Labels distribution after processing: tensor([1046, 1046])\n",
            "Inputs shape: torch.Size([32, 16, 101]), Targets shape: torch.Size([32])\n",
            "Labels distribution: tensor([1046, 1046])\n"
          ]
        }
      ],
      "source": [
        "import torch\n",
        "import numpy as np\n",
        "\n",
        "class CCMKDataset(torch.utils.data.Dataset):\n",
        "    def __init__(self, spikes_tensor, labels_tensor, target_label=2):\n",
        "        self.spikes_tensor = spikes_tensor\n",
        "        self.labels_tensor = labels_tensor\n",
        "        self.target_label = target_label\n",
        "\n",
        "        # Calculate the total number of target samples, i.e., those with label 2\n",
        "        target_samples_count = (self.labels_tensor == target_label).sum().item()\n",
        "        # Calculate the total number of non-target samples (labels 1, 3, and 4)\n",
        "        non_target_samples_count = (self.labels_tensor == 1).sum().item() + \\\n",
        "                                   (self.labels_tensor == 3).sum().item() + \\\n",
        "                                   (self.labels_tensor == 4).sum().item()\n",
        "\n",
        "        # Determine how many samples to randomly select from label 0 to balance the dataset\n",
        "        required_samples_from_label_0 = target_samples_count - non_target_samples_count\n",
        "\n",
        "        # Ensure we don't try to select more samples than are available in label 0\n",
        "        available_label_0_samples = (self.labels_tensor == 0).sum().item()\n",
        "        if required_samples_from_label_0 > available_label_0_samples:\n",
        "            required_samples_from_label_0 = available_label_0_samples\n",
        "\n",
        "        # Randomly select the required number of samples from label 0 (background noise)\n",
        "        selected_background_noise = torch.where(self.labels_tensor == 0)[0]\n",
        "        selected_background_noise = np.random.choice(selected_background_noise.cpu(), required_samples_from_label_0, replace=False)\n",
        "        selected_background_noise = torch.tensor(selected_background_noise)  # Convert back to tensor\n",
        "\n",
        "        # Combine selected label 0 samples with all non-target samples (labels 1, 3, 4)\n",
        "        selected_non_target_mask = torch.cat([torch.where(self.labels_tensor == 1)[0],\n",
        "                                              torch.where(self.labels_tensor == 3)[0],\n",
        "                                              torch.where(self.labels_tensor == 4)[0],\n",
        "                                              selected_background_noise])\n",
        "\n",
        "        # Filter spikes and labels based on the selected indices\n",
        "        self.filtered_spikes = torch.cat([self.spikes_tensor[selected_non_target_mask],\n",
        "                                          self.spikes_tensor[self.labels_tensor == target_label]])\n",
        "\n",
        "        # Convert all non-target labels (0, 1, 3, 4) to 0 (negative sample)\n",
        "        # Convert target label 2 to 1 (positive sample)\n",
        "        self.filtered_labels = torch.cat([torch.zeros(len(selected_non_target_mask)),  # Set non-targets to 0\n",
        "                                          torch.ones(target_samples_count)])  # Set targets to 1\n",
        "\n",
        "        # Debugging: Check the distribution of labels after processing\n",
        "        print(f\"Filtered Labels distribution after processing: {torch.bincount(self.filtered_labels.int())}\")\n",
        "\n",
        "    def __len__(self):\n",
        "        return len(self.filtered_labels)\n",
        "\n",
        "    def __getitem__(self, idx):\n",
        "        return self.filtered_spikes[idx], self.filtered_labels[idx]\n",
        "\n",
        "\n",
        "# Create the dataset\n",
        "dataset = CCMKDataset(spikes_tensor=spikes_tensor, labels_tensor=labels_tensor)\n",
        "\n",
        "# Create a DataLoader to batch the data\n",
        "dataloader = torch.utils.data.DataLoader(dataset, batch_size=32, shuffle=True)\n"
      ]
    },
    {
      "cell_type": "code",
      "execution_count": null,
      "metadata": {
        "colab": {
          "background_save": true
        },
        "id": "0NEsRdRsIfoZ",
        "outputId": "786b3381-9d77-48c5-9bac-4e22a11b39ff"
      },
      "outputs": [
        {
          "name": "stdout",
          "output_type": "stream",
          "text": [
            "Dataset length: 2092\n",
            "Shape of the first spikes tensor: torch.Size([16, 101])\n",
            "Label of the first sample: 0.0\n",
            "Batch 1:\n",
            " - Inputs shape: torch.Size([32, 16, 101])\n",
            " - Targets shape: torch.Size([32])\n",
            "Labels distribution: tensor([1046, 1046])\n"
          ]
        }
      ],
      "source": [
        "# Check the length of the dataset\n",
        "print(f\"Dataset length: {len(dataset)}\")\n",
        "\n",
        "# Get and print the shape of the first sample in the dataset\n",
        "first_spikes, first_label = dataset[0]\n",
        "print(f\"Shape of the first spikes tensor: {first_spikes.shape}\")\n",
        "print(f\"Label of the first sample: {first_label}\")\n",
        "\n",
        "# Check batch information in the dataloader\n",
        "for batch_idx, (inputs, targets) in enumerate(dataloader):\n",
        "    print(f\"Batch {batch_idx + 1}:\")\n",
        "    print(f\" - Inputs shape: {inputs.shape}\")  # Batch size x Number of channels x Number of time steps\n",
        "    print(f\" - Targets shape: {targets.shape}\")\n",
        "    break  # Only view the first batch\n",
        "#batch size=32\n",
        "#number of channels=16\n",
        "#snumber of time steps=101\n",
        "\n",
        "labels = torch.cat([batch[1] for batch in dataloader])\n",
        "print(f'Labels distribution: {torch.bincount(labels.int())}')"
      ]
    },
    {
      "cell_type": "code",
      "execution_count": null,
      "metadata": {
        "id": "9TC3Rm-EPVD2"
      },
      "outputs": [],
      "source": []
    },
    {
      "cell_type": "code",
      "execution_count": null,
      "metadata": {
        "colab": {
          "base_uri": "https://localhost:8080/"
        },
        "id": "wSchFUyyIlqK",
        "outputId": "a668e92f-c5df-4395-f677-86dc9a79da3f"
      },
      "outputs": [
        {
          "name": "stdout",
          "output_type": "stream",
          "text": [
            "Collecting rockpool\n",
            "  Downloading rockpool-2.8.tar.gz (501 kB)\n",
            "\u001b[2K     \u001b[90m━━━━━━━━━━━━━━━━━━━━━━━━━━━━━━━━━━━━━━━━\u001b[0m \u001b[32m501.4/501.4 kB\u001b[0m \u001b[31m7.9 MB/s\u001b[0m eta \u001b[36m0:00:00\u001b[0m\n",
            "\u001b[?25h  Preparing metadata (setup.py) ... \u001b[?25l\u001b[?25hdone\n",
            "Requirement already satisfied: numpy in /usr/local/lib/python3.10/dist-packages (from rockpool) (1.26.4)\n",
            "Requirement already satisfied: scipy in /usr/local/lib/python3.10/dist-packages (from rockpool) (1.13.1)\n",
            "Building wheels for collected packages: rockpool\n",
            "  Building wheel for rockpool (setup.py) ... \u001b[?25l\u001b[?25hdone\n",
            "  Created wheel for rockpool: filename=rockpool-2.8-py3-none-any.whl size=602817 sha256=040f6a0b22bd692a944a5aacbb2d8e7a99526a3c9c2ef4357f856b5c16ebf701\n",
            "  Stored in directory: /root/.cache/pip/wheels/86/da/b5/d6b52866a6c79c247eb46105b77bb3dab82eb3f567594ccc85\n",
            "Successfully built rockpool\n",
            "Installing collected packages: rockpool\n",
            "Successfully installed rockpool-2.8\n"
          ]
        }
      ],
      "source": [
        "!pip install rockpool\n"
      ]
    },
    {
      "cell_type": "code",
      "source": [
        "import torch\n",
        "from torch.optim import Adam\n",
        "from torch.nn import CrossEntropyLoss\n",
        "from rockpool.nn.networks import SynNet\n",
        "from tqdm.notebook import trange  # For progress bar\n",
        "\n",
        "# Define dataset characteristics\n",
        "n_channels = 16  # Number of input channels\n",
        "n_classes = 2    # Number of output classes (assuming a binary classification task)\n",
        "n_time = 101     # Number of time steps\n",
        "batch_size = 32  # Batch size\n",
        "\n",
        "# Initialize the SynNet model\n",
        "net = SynNet(\n",
        "    n_channels=n_channels,                # Number of input channels\n",
        "    n_classes=n_classes,                  # Number of output classes (2 for binary classification)\n",
        "    size_hidden_layers=[24, 24, 24],      # Number of neurons in each hidden layer\n",
        "    time_constants_per_layer=[2, 4, 8],   # Time constants for each layer\n",
        ")\n",
        "\n",
        "# Define the loss function and optimizer\n",
        "optimizer = Adam(net.parameters().astorch(), lr=1e-3)\n",
        "loss_fun = CrossEntropyLoss()  # Use CrossEntropyLoss for classification tasks\n"
      ],
      "metadata": {
        "id": "vwpnXLa5Yl0i"
      },
      "execution_count": null,
      "outputs": []
    },
    {
      "cell_type": "code",
      "execution_count": null,
      "metadata": {
        "colab": {
          "background_save": true,
          "base_uri": "https://localhost:8080/",
          "height": 170,
          "referenced_widgets": [
            "b357d93b97e54d1baf08c716764d223e",
            "56b7105553414546a6046d4a1ec7edac",
            "1b928fb813df46edb74fae2f4f83af28",
            "42b2403bd0214310a6aafca7f1508f9c",
            "d57c691759744b52ab5331c6ccbbf560",
            "7dc982f8532442fe8f98cfa5fe48b638",
            "6b04c4a8e0e049ad9042e0ff5d1ba14e",
            "0a116d25e6b5438c823729527a2ba76e",
            "fe9321a2c47a4732ae7a39188078630b",
            "2e98497590f54214b0f4e4f929981d55",
            "457d4eaf47d246eb93523154ebb16d79"
          ]
        },
        "id": "AoeqW_JTNjW7",
        "outputId": "8f96c486-d38e-41ba-b773-b066165e1c10"
      },
      "outputs": [
        {
          "data": {
            "application/vnd.jupyter.widget-view+json": {
              "model_id": "b357d93b97e54d1baf08c716764d223e",
              "version_major": 2,
              "version_minor": 0
            },
            "text/plain": [
              "  0%|          | 0/10 [00:00<?, ?it/s]"
            ]
          },
          "metadata": {},
          "output_type": "display_data"
        },
        {
          "name": "stdout",
          "output_type": "stream",
          "text": [
            "Epoch 1, Loss: 0.6555271744728088\n",
            "Epoch 2, Loss: 0.6422403233520912\n",
            "Epoch 3, Loss: 0.5844872684189768\n",
            "Epoch 4, Loss: 0.5483888220606428\n",
            "Epoch 5, Loss: 0.5298814606485944\n",
            "Epoch 6, Loss: 0.5434634170748971\n",
            "Epoch 7, Loss: 0.5179341286420822\n",
            "Epoch 8, Loss: 0.5232368012269338\n",
            "Epoch 9, Loss: 0.5206198380752043\n",
            "Epoch 10, Loss: 0.5180452371185477\n",
            "Training completed\n"
          ]
        }
      ],
      "source": [
        "n_epochs = 10    # Number of epochs for training\n",
        "\n",
        "for epoch in trange(n_epochs):\n",
        "    running_loss = 0.0\n",
        "    for inputs, targets in dataloader:\n",
        "        optimizer.zero_grad()  # Clear the gradients\n",
        "\n",
        "        # Transpose the input tensor to match the expected shape [batch_size, n_time, n_channels]\n",
        "        inputs = inputs.transpose(1, 2)  # Now the shape is [batch_size, n_time, n_channels]\n",
        "\n",
        "        # Forward pass through the network\n",
        "        output, _, _ = net(inputs)  # The output has the shape [batch_size, n_time, n_classes]\n",
        "\n",
        "        # Select the output from the last time step\n",
        "        output = output[:, -1, :]  # Now the shape is [batch_size, n_classes]\n",
        "\n",
        "        # Ensure targets are of type Long\n",
        "        targets = targets.long()  # Convert targets to Long type\n",
        "\n",
        "        # Compute the loss\n",
        "        loss = loss_fun(output, targets)  # Targets should have shape [batch_size]\n",
        "\n",
        "        # Backward pass and optimization\n",
        "        loss.backward()  # Compute gradients\n",
        "        optimizer.step()  # Update model parameters\n",
        "\n",
        "        # Accumulate the loss\n",
        "        running_loss += loss.item()\n",
        "\n",
        "    # Print average loss for this epoch\n",
        "    print(f'Epoch {epoch + 1}, Loss: {running_loss / len(dataloader)}')\n",
        "\n",
        "print('Training completed')\n"
      ]
    }
  ],
  "metadata": {
    "colab": {
      "provenance": []
    },
    "kernelspec": {
      "display_name": "Python 3",
      "name": "python3"
    },
    "language_info": {
      "name": "python"
    },
    "widgets": {
      "application/vnd.jupyter.widget-state+json": {
        "0a116d25e6b5438c823729527a2ba76e": {
          "model_module": "@jupyter-widgets/base",
          "model_module_version": "1.2.0",
          "model_name": "LayoutModel",
          "state": {
            "_model_module": "@jupyter-widgets/base",
            "_model_module_version": "1.2.0",
            "_model_name": "LayoutModel",
            "_view_count": null,
            "_view_module": "@jupyter-widgets/base",
            "_view_module_version": "1.2.0",
            "_view_name": "LayoutView",
            "align_content": null,
            "align_items": null,
            "align_self": null,
            "border": null,
            "bottom": null,
            "display": null,
            "flex": null,
            "flex_flow": null,
            "grid_area": null,
            "grid_auto_columns": null,
            "grid_auto_flow": null,
            "grid_auto_rows": null,
            "grid_column": null,
            "grid_gap": null,
            "grid_row": null,
            "grid_template_areas": null,
            "grid_template_columns": null,
            "grid_template_rows": null,
            "height": null,
            "justify_content": null,
            "justify_items": null,
            "left": null,
            "margin": null,
            "max_height": null,
            "max_width": null,
            "min_height": null,
            "min_width": null,
            "object_fit": null,
            "object_position": null,
            "order": null,
            "overflow": null,
            "overflow_x": null,
            "overflow_y": null,
            "padding": null,
            "right": null,
            "top": null,
            "visibility": null,
            "width": null
          }
        },
        "1b928fb813df46edb74fae2f4f83af28": {
          "model_module": "@jupyter-widgets/controls",
          "model_module_version": "1.5.0",
          "model_name": "FloatProgressModel",
          "state": {
            "_dom_classes": [],
            "_model_module": "@jupyter-widgets/controls",
            "_model_module_version": "1.5.0",
            "_model_name": "FloatProgressModel",
            "_view_count": null,
            "_view_module": "@jupyter-widgets/controls",
            "_view_module_version": "1.5.0",
            "_view_name": "ProgressView",
            "bar_style": "",
            "description": "",
            "description_tooltip": null,
            "layout": "IPY_MODEL_0a116d25e6b5438c823729527a2ba76e",
            "max": 10,
            "min": 0,
            "orientation": "horizontal",
            "style": "IPY_MODEL_fe9321a2c47a4732ae7a39188078630b",
            "value": 7
          }
        },
        "2e98497590f54214b0f4e4f929981d55": {
          "model_module": "@jupyter-widgets/base",
          "model_module_version": "1.2.0",
          "model_name": "LayoutModel",
          "state": {
            "_model_module": "@jupyter-widgets/base",
            "_model_module_version": "1.2.0",
            "_model_name": "LayoutModel",
            "_view_count": null,
            "_view_module": "@jupyter-widgets/base",
            "_view_module_version": "1.2.0",
            "_view_name": "LayoutView",
            "align_content": null,
            "align_items": null,
            "align_self": null,
            "border": null,
            "bottom": null,
            "display": null,
            "flex": null,
            "flex_flow": null,
            "grid_area": null,
            "grid_auto_columns": null,
            "grid_auto_flow": null,
            "grid_auto_rows": null,
            "grid_column": null,
            "grid_gap": null,
            "grid_row": null,
            "grid_template_areas": null,
            "grid_template_columns": null,
            "grid_template_rows": null,
            "height": null,
            "justify_content": null,
            "justify_items": null,
            "left": null,
            "margin": null,
            "max_height": null,
            "max_width": null,
            "min_height": null,
            "min_width": null,
            "object_fit": null,
            "object_position": null,
            "order": null,
            "overflow": null,
            "overflow_x": null,
            "overflow_y": null,
            "padding": null,
            "right": null,
            "top": null,
            "visibility": null,
            "width": null
          }
        },
        "42b2403bd0214310a6aafca7f1508f9c": {
          "model_module": "@jupyter-widgets/controls",
          "model_module_version": "1.5.0",
          "model_name": "HTMLModel",
          "state": {
            "_dom_classes": [],
            "_model_module": "@jupyter-widgets/controls",
            "_model_module_version": "1.5.0",
            "_model_name": "HTMLModel",
            "_view_count": null,
            "_view_module": "@jupyter-widgets/controls",
            "_view_module_version": "1.5.0",
            "_view_name": "HTMLView",
            "description": "",
            "description_tooltip": null,
            "layout": "IPY_MODEL_2e98497590f54214b0f4e4f929981d55",
            "placeholder": "​",
            "style": "IPY_MODEL_457d4eaf47d246eb93523154ebb16d79",
            "value": " 7/10 [05:08&lt;02:12, 44.09s/it]"
          }
        },
        "457d4eaf47d246eb93523154ebb16d79": {
          "model_module": "@jupyter-widgets/controls",
          "model_module_version": "1.5.0",
          "model_name": "DescriptionStyleModel",
          "state": {
            "_model_module": "@jupyter-widgets/controls",
            "_model_module_version": "1.5.0",
            "_model_name": "DescriptionStyleModel",
            "_view_count": null,
            "_view_module": "@jupyter-widgets/base",
            "_view_module_version": "1.2.0",
            "_view_name": "StyleView",
            "description_width": ""
          }
        },
        "56b7105553414546a6046d4a1ec7edac": {
          "model_module": "@jupyter-widgets/controls",
          "model_module_version": "1.5.0",
          "model_name": "HTMLModel",
          "state": {
            "_dom_classes": [],
            "_model_module": "@jupyter-widgets/controls",
            "_model_module_version": "1.5.0",
            "_model_name": "HTMLModel",
            "_view_count": null,
            "_view_module": "@jupyter-widgets/controls",
            "_view_module_version": "1.5.0",
            "_view_name": "HTMLView",
            "description": "",
            "description_tooltip": null,
            "layout": "IPY_MODEL_7dc982f8532442fe8f98cfa5fe48b638",
            "placeholder": "​",
            "style": "IPY_MODEL_6b04c4a8e0e049ad9042e0ff5d1ba14e",
            "value": " 70%"
          }
        },
        "6b04c4a8e0e049ad9042e0ff5d1ba14e": {
          "model_module": "@jupyter-widgets/controls",
          "model_module_version": "1.5.0",
          "model_name": "DescriptionStyleModel",
          "state": {
            "_model_module": "@jupyter-widgets/controls",
            "_model_module_version": "1.5.0",
            "_model_name": "DescriptionStyleModel",
            "_view_count": null,
            "_view_module": "@jupyter-widgets/base",
            "_view_module_version": "1.2.0",
            "_view_name": "StyleView",
            "description_width": ""
          }
        },
        "7dc982f8532442fe8f98cfa5fe48b638": {
          "model_module": "@jupyter-widgets/base",
          "model_module_version": "1.2.0",
          "model_name": "LayoutModel",
          "state": {
            "_model_module": "@jupyter-widgets/base",
            "_model_module_version": "1.2.0",
            "_model_name": "LayoutModel",
            "_view_count": null,
            "_view_module": "@jupyter-widgets/base",
            "_view_module_version": "1.2.0",
            "_view_name": "LayoutView",
            "align_content": null,
            "align_items": null,
            "align_self": null,
            "border": null,
            "bottom": null,
            "display": null,
            "flex": null,
            "flex_flow": null,
            "grid_area": null,
            "grid_auto_columns": null,
            "grid_auto_flow": null,
            "grid_auto_rows": null,
            "grid_column": null,
            "grid_gap": null,
            "grid_row": null,
            "grid_template_areas": null,
            "grid_template_columns": null,
            "grid_template_rows": null,
            "height": null,
            "justify_content": null,
            "justify_items": null,
            "left": null,
            "margin": null,
            "max_height": null,
            "max_width": null,
            "min_height": null,
            "min_width": null,
            "object_fit": null,
            "object_position": null,
            "order": null,
            "overflow": null,
            "overflow_x": null,
            "overflow_y": null,
            "padding": null,
            "right": null,
            "top": null,
            "visibility": null,
            "width": null
          }
        },
        "b357d93b97e54d1baf08c716764d223e": {
          "model_module": "@jupyter-widgets/controls",
          "model_module_version": "1.5.0",
          "model_name": "HBoxModel",
          "state": {
            "_dom_classes": [],
            "_model_module": "@jupyter-widgets/controls",
            "_model_module_version": "1.5.0",
            "_model_name": "HBoxModel",
            "_view_count": null,
            "_view_module": "@jupyter-widgets/controls",
            "_view_module_version": "1.5.0",
            "_view_name": "HBoxView",
            "box_style": "",
            "children": [
              "IPY_MODEL_56b7105553414546a6046d4a1ec7edac",
              "IPY_MODEL_1b928fb813df46edb74fae2f4f83af28",
              "IPY_MODEL_42b2403bd0214310a6aafca7f1508f9c"
            ],
            "layout": "IPY_MODEL_d57c691759744b52ab5331c6ccbbf560"
          }
        },
        "d57c691759744b52ab5331c6ccbbf560": {
          "model_module": "@jupyter-widgets/base",
          "model_module_version": "1.2.0",
          "model_name": "LayoutModel",
          "state": {
            "_model_module": "@jupyter-widgets/base",
            "_model_module_version": "1.2.0",
            "_model_name": "LayoutModel",
            "_view_count": null,
            "_view_module": "@jupyter-widgets/base",
            "_view_module_version": "1.2.0",
            "_view_name": "LayoutView",
            "align_content": null,
            "align_items": null,
            "align_self": null,
            "border": null,
            "bottom": null,
            "display": null,
            "flex": null,
            "flex_flow": null,
            "grid_area": null,
            "grid_auto_columns": null,
            "grid_auto_flow": null,
            "grid_auto_rows": null,
            "grid_column": null,
            "grid_gap": null,
            "grid_row": null,
            "grid_template_areas": null,
            "grid_template_columns": null,
            "grid_template_rows": null,
            "height": null,
            "justify_content": null,
            "justify_items": null,
            "left": null,
            "margin": null,
            "max_height": null,
            "max_width": null,
            "min_height": null,
            "min_width": null,
            "object_fit": null,
            "object_position": null,
            "order": null,
            "overflow": null,
            "overflow_x": null,
            "overflow_y": null,
            "padding": null,
            "right": null,
            "top": null,
            "visibility": null,
            "width": null
          }
        },
        "fe9321a2c47a4732ae7a39188078630b": {
          "model_module": "@jupyter-widgets/controls",
          "model_module_version": "1.5.0",
          "model_name": "ProgressStyleModel",
          "state": {
            "_model_module": "@jupyter-widgets/controls",
            "_model_module_version": "1.5.0",
            "_model_name": "ProgressStyleModel",
            "_view_count": null,
            "_view_module": "@jupyter-widgets/base",
            "_view_module_version": "1.2.0",
            "_view_name": "StyleView",
            "bar_color": null,
            "description_width": ""
          }
        }
      }
    }
  },
  "nbformat": 4,
  "nbformat_minor": 0
}