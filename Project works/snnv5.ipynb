{
  "cells": [
    {
      "cell_type": "code",
      "execution_count": 3,
      "metadata": {
        "colab": {
          "base_uri": "https://localhost:8080/",
          "height": 53
        },
        "id": "hdAtTAqBIM_7",
        "outputId": "c49eb6d9-a330-4a83-c73c-eb96a8419d1f"
      },
      "outputs": [
        {
          "data": {
            "text/plain": [
              "'\\nv2:\\ndataset:\\nignoring labels 1, 3, and 4, retaining only labels 0 (background noise) and label 2 (target class).\\nbackground noise (label 0) is downsampled to ensure it matches the number of samples with label 2\\nsplit the dataset using torch.utils.data.random_split, into 80% for the training set, 10% for the test set, and 10% for the validation set\\nmodel:\\nloss function modified to (MSE) loss\\noutput: sums the spikes along time dimension\\nvisualize the internal activity\\n\\nv3:\\nsplit the dataset using random_split\\nData Augmentation: for train_loader label 1\\n  time_shift: Shifts the event data along the time axis.\\n  add_noise: Adds Gaussian noise to event data.\\n  random_drop: Randomly drops parts of the event data.\\nadd Weights and Biases to track training results\\ntry differnt output: \\noutput = output.sum(dim=1) ,targets.float().unsqueeze(1)\\noutput = output.mean(dim=1) \\nand synnet with different hidden layer\\nthe best model is synnet with 32 hidden layer use augmented data,and mean around each time series. the accuracy rate is 80%\\n\\nv4: \\noutput = output.sum(dim=1) +target firing rate tensor\\nadjust data augmentation parameter(smaller)\\n\\n\\nv5:\\nsynnet:  dt=10e-3,tau_syn_base/tau_mem/tau_syn_out=0.02\\ntry output=\"vmem\"\\n \\n'"
            ]
          },
          "execution_count": 3,
          "metadata": {},
          "output_type": "execute_result"
        }
      ],
      "source": [
        "\"\"\"\n",
        "v2:\n",
        "dataset:\n",
        "ignoring labels 1, 3, and 4, retaining only labels 0 (background noise) and label 2 (target class).\n",
        "background noise (label 0) is downsampled to ensure it matches the number of samples with label 2\n",
        "split the dataset using torch.utils.data.random_split, into 80% for the training set, 10% for the test set, and 10% for the validation set\n",
        "model:\n",
        "loss function modified to (MSE) loss\n",
        "output: sums the spikes along time dimension\n",
        "visualize the internal activity\n",
        "\n",
        "v3:\n",
        "split the dataset using random_split\n",
        "Data Augmentation: for train_loader label 1\n",
        "  time_shift: Shifts the event data along the time axis.\n",
        "  add_noise: Adds Gaussian noise to event data.\n",
        "  random_drop: Randomly drops parts of the event data.\n",
        "add Weights and Biases to track training results\n",
        "try differnt output: \n",
        "output = output.sum(dim=1) ,targets.float().unsqueeze(1)\n",
        "output = output.mean(dim=1) \n",
        "and synnet with different hidden layer\n",
        "the best model is synnet with 32 hidden layer use augmented data,and mean around each time series. the accuracy rate is 80%\n",
        "\n",
        "v4: \n",
        "output = output.sum(dim=1) +target firing rate tensor\n",
        "adjust data augmentation parameter(smaller)\n",
        "\n",
        "\n",
        "v5:\n",
        "synnet:  dt=10e-3,tau_syn_base/tau_mem/tau_syn_out=0.02\n",
        "try output=\"vmem\"\n",
        " \n",
        "\"\"\"\n",
        "\n"
      ]
    },
    {
      "cell_type": "code",
      "execution_count": 4,
      "metadata": {
        "colab": {
          "base_uri": "https://localhost:8080/"
        },
        "id": "XZE_AoYPs1Jr",
        "outputId": "cf024937-d09a-480e-f854-6d5d3d8ef60b"
      },
      "outputs": [
        {
          "name": "stdout",
          "output_type": "stream",
          "text": [
            "Original Labels distribution: tensor([1294,   95, 1046,   53,   40])\n"
          ]
        },
        {
          "name": "stderr",
          "output_type": "stream",
          "text": [
            "C:\\Users\\dines\\AppData\\Local\\Temp\\ipykernel_33984\\240507397.py:5: FutureWarning: You are using `torch.load` with `weights_only=False` (the current default value), which uses the default pickle module implicitly. It is possible to construct malicious pickle data which will execute arbitrary code during unpickling (See https://github.com/pytorch/pytorch/blob/main/SECURITY.md#untrusted-models for more details). In a future release, the default value for `weights_only` will be flipped to `True`. This limits the functions that could be executed during unpickling. Arbitrary objects will no longer be allowed to be loaded via this mode unless they are explicitly allowlisted by the user via `torch.serialization.add_safe_globals`. We recommend you start setting `weights_only=True` for any use case where you don't have full control of the loaded file. Please open an issue on GitHub for any issues related to this experimental feature.\n",
            "  labels_tensor = torch.load(\"C:/Users/dines/Capstone Project/tensors/labels_tensor.pt\")\n",
            "C:\\Users\\dines\\AppData\\Local\\Temp\\ipykernel_33984\\240507397.py:6: FutureWarning: You are using `torch.load` with `weights_only=False` (the current default value), which uses the default pickle module implicitly. It is possible to construct malicious pickle data which will execute arbitrary code during unpickling (See https://github.com/pytorch/pytorch/blob/main/SECURITY.md#untrusted-models for more details). In a future release, the default value for `weights_only` will be flipped to `True`. This limits the functions that could be executed during unpickling. Arbitrary objects will no longer be allowed to be loaded via this mode unless they are explicitly allowlisted by the user via `torch.serialization.add_safe_globals`. We recommend you start setting `weights_only=True` for any use case where you don't have full control of the loaded file. Please open an issue on GitHub for any issues related to this experimental feature.\n",
            "  spikes_tensor = torch.load(\"C:/Users/dines/Capstone Project/tensors/spike_data_tensor.pt\")\n"
          ]
        }
      ],
      "source": [
        "import torch\n",
        "import numpy as np\n",
        "\n",
        "# Load tensor\n",
        "labels_tensor = torch.load(\"C:/Users/dines/Capstone Project/tensors/labels_tensor.pt\")\n",
        "spikes_tensor = torch.load(\"C:/Users/dines/Capstone Project/tensors/spike_data_tensor.pt\")\n",
        "\n",
        "label_distribution = torch.bincount(labels_tensor)\n",
        "print(f'Original Labels distribution: {label_distribution}')\n"
      ]
    },
    {
      "cell_type": "markdown",
      "metadata": {
        "id": "UH-3VSb4ve9A"
      },
      "source": [
        "# dataset"
      ]
    },
    {
      "cell_type": "code",
      "execution_count": 5,
      "metadata": {
        "colab": {
          "base_uri": "https://localhost:8080/"
        },
        "id": "n9nSAyTIsrym",
        "outputId": "70a1de29-9f90-47cc-ff5c-c4dbc426f359"
      },
      "outputs": [
        {
          "name": "stdout",
          "output_type": "stream",
          "text": [
            "Number of downsampled label 0 samples: 1046\n",
            "Number of target label 1 samples: 1046\n",
            "Balanced dataset length: 2092\n",
            "Filtered Labels distribution after processing: tensor([1046, 1046])\n"
          ]
        }
      ],
      "source": [
        "import torch\n",
        "import numpy as np\n",
        "\n",
        "class CCMKDataset(torch.utils.data.Dataset):\n",
        "    def __init__(self, spikes_tensor, labels_tensor, target_label=2):\n",
        "        self.spikes_tensor = spikes_tensor\n",
        "        self.labels_tensor = labels_tensor\n",
        "        self.target_label = target_label\n",
        "\n",
        "        # Step 1: Ignore labels 1, 3, and 4\n",
        "        valid_mask = (self.labels_tensor == 0) | (self.labels_tensor == target_label)\n",
        "        self.spikes_tensor = self.spikes_tensor[valid_mask]\n",
        "        self.labels_tensor = self.labels_tensor[valid_mask]\n",
        "\n",
        "        # Convert the target label (2) to 1 (positive sample)\n",
        "        self.labels_tensor[self.labels_tensor == target_label] = 1\n",
        "\n",
        "        # Step 2: Downsample label 0 (background noise) to match the number of target samples (label 2 -> now 1)\n",
        "        label_0_indices = torch.where(self.labels_tensor == 0)[0]\n",
        "        label_1_indices = torch.where(self.labels_tensor == 1)[0]\n",
        "\n",
        "        # print samples\n",
        "        #print(f\"Number of label 0 samples before downsampling: {len(label_0_indices)}\")\n",
        "        #print(f\"Number of label 1 samples (after converting target label 2 to 1): {len(label_1_indices)}\")\n",
        "\n",
        "        num_samples = min(len(label_1_indices), len(label_0_indices))\n",
        "\n",
        "        # Randomly sample from label 0 and label 1 indices\n",
        "        selected_label_0_indices = torch.tensor(np.random.choice(label_0_indices.cpu(), size=num_samples, replace=False))\n",
        "        selected_label_1_indices = torch.tensor(np.random.choice(label_1_indices.cpu(), size=num_samples, replace=False))\n",
        "\n",
        "        # Combine the downsampled label 0 indices with label 1 indices\n",
        "        balanced_indices = torch.cat([selected_label_0_indices, selected_label_1_indices])\n",
        "\n",
        "        # print data after samples\n",
        "        print(f\"Number of downsampled label 0 samples: {len(selected_label_0_indices)}\")\n",
        "        print(f\"Number of target label 1 samples: {len(selected_label_1_indices)}\")\n",
        "        print(f\"Balanced dataset length: {len(balanced_indices)}\")\n",
        "\n",
        "        # Apply the balanced indices to spikes and labels\n",
        "        self.spikes_tensor = self.spikes_tensor[balanced_indices]\n",
        "        self.labels_tensor = self.labels_tensor[balanced_indices]\n",
        "\n",
        "        # Debugging: Check the distribution of labels after processing\n",
        "        print(f\"Filtered Labels distribution after processing: {torch.bincount(self.labels_tensor.int())}\")\n",
        "\n",
        "    def __len__(self):\n",
        "        return len(self.labels_tensor)\n",
        "\n",
        "    def __getitem__(self, idx):\n",
        "        return self.spikes_tensor[idx], self.labels_tensor[idx]\n",
        "\n",
        "dataset = CCMKDataset(spikes_tensor=spikes_tensor, labels_tensor=labels_tensor)\n"
      ]
    },
    {
      "cell_type": "markdown",
      "metadata": {
        "id": "Eax4dl-9vh0y"
      },
      "source": [
        "# split and dataloader"
      ]
    },
    {
      "cell_type": "code",
      "execution_count": 6,
      "metadata": {
        "id": "k-RVmFtMsrym"
      },
      "outputs": [],
      "source": [
        "from torch.utils.data import Dataset, DataLoader, Subset, random_split\n",
        "\n",
        "\n",
        "# Balance the dataset by selecting equal samples from both classes\n",
        "label_0_indices = torch.where(dataset.labels_tensor == 0)[0]\n",
        "label_1_indices = torch.where(dataset.labels_tensor == 1)[0]\n",
        "\n",
        "dataset_0 = torch.utils.data.Subset(dataset, label_0_indices)\n",
        "dataset_1 = torch.utils.data.Subset(dataset, label_1_indices)\n",
        "\n",
        "# Split size\n",
        "train_size_0 = int(0.8 * len(dataset_0))\n",
        "val_size_0 = int(0.1 * len(dataset_0))\n",
        "test_size_0 = len(dataset_0) - train_size_0 - val_size_0\n",
        "\n",
        "train_size_1 = int(0.8 * len(dataset_1))\n",
        "val_size_1 = int(0.1 * len(dataset_1))\n",
        "test_size_1 = len(dataset_1) - train_size_1 - val_size_1\n",
        "\n",
        "# Split the dataset\n",
        "train_dataset_0, val_dataset_0, test_dataset_0 = random_split(dataset_0, [train_size_0, val_size_0, test_size_0], generator=torch.Generator().manual_seed(42))\n",
        "train_dataset_1, val_dataset_1, test_dataset_1 = random_split(dataset_1, [train_size_1, val_size_1, test_size_1], generator=torch.Generator().manual_seed(42))\n",
        "\n",
        "# Combine splits from both classes\n",
        "train_dataset = torch.utils.data.ConcatDataset([train_dataset_0, train_dataset_1])\n",
        "val_dataset = torch.utils.data.ConcatDataset([val_dataset_0, val_dataset_1])\n",
        "test_dataset = torch.utils.data.ConcatDataset([test_dataset_0, test_dataset_1])\n",
        "\n",
        "# Create DataLoaders\n",
        "train_loader = DataLoader(train_dataset, batch_size=32, shuffle=True)\n",
        "val_loader = DataLoader(val_dataset, batch_size=32, shuffle=False)\n",
        "test_loader = DataLoader(test_dataset, batch_size=32, shuffle=False)\n"
      ]
    },
    {
      "cell_type": "code",
      "execution_count": 7,
      "metadata": {
        "colab": {
          "base_uri": "https://localhost:8080/"
        },
        "id": "KlUuFzqAZCLl",
        "outputId": "daf3ee57-22ac-4e8e-918f-8acaa5c1c176"
      },
      "outputs": [
        {
          "name": "stdout",
          "output_type": "stream",
          "text": [
            "Train dataset size: 1672\n",
            "Test dataset size: 212\n",
            "Validation dataset size: 208\n",
            "Batch 1:\n",
            " - Inputs shape: torch.Size([32, 16, 101])\n",
            " - Targets shape: torch.Size([32])\n",
            "Train Labels distribution: tensor([836, 836])\n",
            "Validation Labels distribution: tensor([104, 104])\n",
            "Test Labels distribution: tensor([106, 106])\n"
          ]
        }
      ],
      "source": [
        "# Print the shape of the first sample in the dataset\n",
        "print(f\"Train dataset size: {len(train_dataset)}\")\n",
        "print(f\"Test dataset size: {len(test_dataset)}\")\n",
        "print(f\"Validation dataset size: {len(val_dataset)}\")\n",
        "\n",
        "# Check batch information in the train_loader\n",
        "for batch_idx, (inputs, targets) in enumerate(train_loader):\n",
        "    print(f\"Batch {batch_idx + 1}:\")\n",
        "    print(f\" - Inputs shape: {inputs.shape}\")  # Batch size x Number of channels x Number of time steps\n",
        "    print(f\" - Targets shape: {targets.shape}\")\n",
        "    break  # Only view the first batch\n",
        "\n",
        "# Calculate and print the labels distribution in each loader\n",
        "\n",
        "# Training data label distribution\n",
        "train_labels = torch.cat([batch[1] for batch in train_loader])\n",
        "print(f'Train Labels distribution: {torch.bincount(train_labels.int())}')\n",
        "\n",
        "# Validation data label distribution\n",
        "val_labels = torch.cat([batch[1] for batch in val_loader])\n",
        "print(f'Validation Labels distribution: {torch.bincount(val_labels.int())}')\n",
        "\n",
        "# Test data label distribution\n",
        "test_labels = torch.cat([batch[1] for batch in test_loader])\n",
        "print(f'Test Labels distribution: {torch.bincount(test_labels.int())}')\n"
      ]
    },
    {
      "cell_type": "markdown",
      "metadata": {
        "id": "PElTL2thvyw4"
      },
      "source": [
        "# model-vmem"
      ]
    },
    {
      "cell_type": "code",
      "execution_count": 8,
      "metadata": {},
      "outputs": [
        {
          "name": "stderr",
          "output_type": "stream",
          "text": [
            "c:\\Users\\dines\\miniconda3\\envs\\capstone\\lib\\site-packages\\rockpool\\nn\\networks\\__init__.py:15: UserWarning: This module needs to be ported to teh v2 API.\n",
            "  warnings.warn(f\"{err}\")\n",
            "c:\\Users\\dines\\miniconda3\\envs\\capstone\\lib\\site-packages\\rockpool\\nn\\networks\\__init__.py:20: UserWarning: This module needs to be ported to the v2 API.\n",
            "  warnings.warn(f\"{err}\")\n"
          ]
        },
        {
          "name": "stdout",
          "output_type": "stream",
          "text": [
            "(self, n_classes: int, n_channels: int, size_hidden_layers: List = [60], time_constants_per_layer: List = [10], tau_syn_base: float = 0.002, tau_mem: float = 0.002, tau_syn_out: float = 0.002, quantize_time_constants: bool = True, threshold: float = 1.0, threshold_out: Union[float, List[float]] = None, train_threshold: bool = False, neuron_model: Type = <class 'rockpool.nn.modules.torch.lif_torch.LIFTorch'>, max_spikes_per_dt: int = 31, max_spikes_per_dt_out: int = 1, p_dropout: float = 0.0, dt: float = 0.001, output: str = 'spikes', *args, **kwargs)\n"
          ]
        }
      ],
      "source": [
        "import inspect\n",
        "from rockpool.nn.networks import SynNet\n",
        "\n",
        "synnet_signature = inspect.signature(SynNet.__init__)\n",
        "print(synnet_signature)\n"
      ]
    },
    {
      "cell_type": "code",
      "execution_count": 9,
      "metadata": {
        "colab": {
          "base_uri": "https://localhost:8080/"
        },
        "id": "vwpnXLa5Yl0i",
        "outputId": "e6a7cff4-1299-486c-bfc8-2b976a4b5858"
      },
      "outputs": [
        {
          "name": "stdout",
          "output_type": "stream",
          "text": [
            "SynNet  with shape (16, 1) {\n",
            "    TorchSequential 'seq' with shape (16, 1) {\n",
            "        LinearTorch '0_LinearTorch' with shape (16, 24)\n",
            "        LIFTorch '1_LIFTorch' with shape (24, 24)\n",
            "        TimeStepDropout '2_TimeStepDropout' with shape (24,)\n",
            "        LinearTorch '3_LinearTorch' with shape (24, 24)\n",
            "        LIFTorch '4_LIFTorch' with shape (24, 24)\n",
            "        TimeStepDropout '5_TimeStepDropout' with shape (24,)\n",
            "        LinearTorch '6_LinearTorch' with shape (24, 24)\n",
            "        LIFTorch '7_LIFTorch' with shape (24, 24)\n",
            "        TimeStepDropout '8_TimeStepDropout' with shape (24,)\n",
            "        LinearTorch '9_LinearTorch' with shape (24, 1)\n",
            "        LIFTorch '10_LIFTorch' with shape (1, 1)\n",
            "    }\n",
            "}\n"
          ]
        }
      ],
      "source": [
        "import torch\n",
        "from torch.optim import Adam\n",
        "from torch.nn import MSELoss\n",
        "from rockpool.nn.networks import SynNet\n",
        "\n",
        "# Define dataset characteristics\n",
        "n_channels = 16  # Number of input channels\n",
        "n_classes = 1    # the output of MSELoss is discrite\n",
        "dt=10e-3          #rasterization time-step\n",
        "n_time = 100    # Number of time steps 1/10e-3\n",
        "batch_size = 32  # Batch size\n",
        "\n",
        "# Initialize the SynNet model\n",
        "net = SynNet(\n",
        "    output=\"vmem\",                        # Use the membrane potential as the output of the network\n",
        "    p_dropout = 0.1,                      # Dropout proportion to use\n",
        "    n_channels=16,                # Number of input channels\n",
        "    n_classes=1,                  # Number of output classes \n",
        "    size_hidden_layers=[24, 24, 24],      # Number of neurons in each hidden layer\n",
        "    time_constants_per_layer=[2, 4, 8],   # Time constants for each layer\n",
        "    dt=10e-3,\n",
        "    tau_syn_base=0.02,         # at least 2 times more than dt, how long it takes for the synaptic current to decay to a certain fraction  of its peak value.\n",
        "    tau_mem=0.02,\n",
        "    tau_syn_out=0.02)\n",
        "print(net)\n",
        "\n",
        "\n"
      ]
    },
    {
      "cell_type": "code",
      "execution_count": 10,
      "metadata": {
        "colab": {
          "base_uri": "https://localhost:8080/",
          "height": 398
        },
        "id": "1GxXaAausryn",
        "outputId": "1604ca80-2546-4b50-caa5-6adb324bb58e"
      },
      "outputs": [
        {
          "data": {
            "image/png": "[encoded data removed]",
            "text/plain": [
              "<Figure size 640x480 with 1 Axes>"
            ]
          },
          "metadata": {},
          "output_type": "display_data"
        }
      ],
      "source": [
        "import matplotlib.pyplot as plt\n",
        "\n",
        "# Plot synaptic time constants for each LIF layer\n",
        "for lyr_name in net.lif_names:\n",
        "    tau_syn = net.seq[lyr_name].tau_syn.detach().cpu().numpy() / 1e-3  # Convert to ms\n",
        "    plt.plot(tau_syn, label=f\"{lyr_name}\")\n",
        "    \n",
        "plt.xlabel(\"Neuron ID\")\n",
        "plt.ylabel(\"Synaptic time constant (ms)\")\n",
        "plt.legend()\n",
        "plt.show()"
      ]
    },
    {
      "cell_type": "code",
      "execution_count": 11,
      "metadata": {},
      "outputs": [],
      "source": [
        "\n",
        "def set_seed(seed):\n",
        "    random.seed(seed)              # Set seed for Python random module\n",
        "    np.random.seed(seed)           # Set seed for NumPy\n",
        "    torch.manual_seed(seed)        # Set seed for PyTorch\n",
        "    if torch.cuda.is_available():\n",
        "        torch.cuda.manual_seed(seed)        # Set seed for CUDA\n",
        "        torch.cuda.manual_seed_all(seed)    # Set seed for all GPUs\n",
        "    torch.backends.cudnn.deterministic = True\n",
        "    torch.backends.cudnn.benchmark = False\n",
        "\n"
      ]
    },
    {
      "cell_type": "code",
      "execution_count": 12,
      "metadata": {},
      "outputs": [],
      "source": [
        "import torch\n",
        "from torch.optim import Adam\n",
        "from torch.nn import MSELoss\n",
        "from rockpool.nn.networks import SynNet\n",
        "from tqdm import trange\n",
        "import random \n",
        "import numpy as np"
      ]
    },
    {
      "cell_type": "code",
      "execution_count": 13,
      "metadata": {},
      "outputs": [
        {
          "name": "stderr",
          "output_type": "stream",
          "text": [
            "\u001b[34m\u001b[1mwandb\u001b[0m: Using wandb-core as the SDK backend. Please refer to https://wandb.me/wandb-core for more information.\n",
            "\u001b[34m\u001b[1mwandb\u001b[0m: Currently logged in as: \u001b[33m18750937507\u001b[0m (\u001b[33m18750937507-uwa\u001b[0m). Use \u001b[1m`wandb login --relogin`\u001b[0m to force relogin\n",
            "\u001b[34m\u001b[1mwandb\u001b[0m: \u001b[33mWARNING\u001b[0m If you're specifying your api key in code, ensure this code is not shared publicly.\n",
            "\u001b[34m\u001b[1mwandb\u001b[0m: \u001b[33mWARNING\u001b[0m Consider setting the WANDB_API_KEY environment variable, or running `wandb login` from the command line.\n",
            "\u001b[34m\u001b[1mwandb\u001b[0m: Appending key for api.wandb.ai to your netrc file: C:\\Users\\dines\\_netrc\n"
          ]
        },
        {
          "data": {
            "text/plain": [
              "True"
            ]
          },
          "execution_count": 13,
          "metadata": {},
          "output_type": "execute_result"
        }
      ],
      "source": [
        "import wandb\n",
        "# Initialize a new W&B run\n",
        "wandb.login(key=\"2ac9bb7cd9b60300ecd28184faa02b29add8e82b\")\n",
        "#wandb.init(project=\"SNN_meerkat\", name=\"run_with_new_lr\")"
      ]
    },
    {
      "cell_type": "code",
      "execution_count": 17,
      "metadata": {},
      "outputs": [
        {
          "name": "stdout",
          "output_type": "stream",
          "text": [
            "vmem_label_0 min: -0.29860177636146545, max: 3.3914458751678467, mean: 0.06312297284603119\n",
            "vmem_label_1 min: -0.3849411606788635, max: 4.67923641204834, mean: 0.09487350285053253\n"
          ]
        }
      ],
      "source": [
        "# Initialize lists to store vmem for different labels\n",
        "vmem_label_0 = []\n",
        "vmem_label_1 = []\n",
        "optimizer = Adam(net.parameters().astorch(), lr=1e-4)\n",
        "# Training loop\n",
        "for inputs, targets in train_loader:\n",
        "    optimizer.zero_grad()\n",
        "    \n",
        "    # Adjust input dimensions\n",
        "    inputs = inputs.transpose(1, 2)\n",
        "\n",
        "    # Forward pass\n",
        "    outputs, _, _ = net(inputs, record=True)\n",
        "\n",
        "    # Get the vmem from the last LIF layer\n",
        "    vmem = net._record_dict[net.label_last_LIF][\"vmem\"]\n",
        "\n",
        "    # Separate vmem values by labels\n",
        "    vmem_0 = vmem[targets == 0].detach().cpu().numpy()\n",
        "    vmem_1 = vmem[targets == 1].detach().cpu().numpy()\n",
        "\n",
        "    # Store the vmem values for each label\n",
        "    vmem_label_0.append(vmem_0)\n",
        "    vmem_label_1.append(vmem_1)\n",
        "\n",
        "# Concatenate to form a single array for each label\n",
        "vmem_label_0 = np.concatenate(vmem_label_0, axis=0)\n",
        "vmem_label_1 = np.concatenate(vmem_label_1, axis=0)\n",
        "\n",
        "# Check the minimum, maximum, and average values for each label\n",
        "print(f\"vmem_label_0 min: {vmem_label_0.min()}, max: {vmem_label_0.max()}, mean: {vmem_label_0.mean()}\")\n",
        "print(f\"vmem_label_1 min: {vmem_label_1.min()}, max: {vmem_label_1.max()}, mean: {vmem_label_1.mean()}\")\n"
      ]
    },
    {
      "cell_type": "code",
      "execution_count": 21,
      "metadata": {},
      "outputs": [
        {
          "data": {
            "text/html": [
              "Finishing last run (ID:imbhi57d) before initializing another..."
            ],
            "text/plain": [
              "<IPython.core.display.HTML object>"
            ]
          },
          "metadata": {},
          "output_type": "display_data"
        },
        {
          "data": {
            "application/vnd.jupyter.widget-view+json": {
              "model_id": "f177a8cabce8465b9060ca332f256579",
              "version_major": 2,
              "version_minor": 0
            },
            "text/plain": [
              "VBox(children=(Label(value='0.003 MB of 0.003 MB uploaded\\r'), FloatProgress(value=1.0, max=1.0)))"
            ]
          },
          "metadata": {},
          "output_type": "display_data"
        },
        {
          "data": {
            "text/html": [
              " View run <strong style=\"color:#cdcd00\">vmem</strong> at: <a href='https://wandb.ai/18750937507-uwa/snn_v5/runs/imbhi57d' target=\"_blank\">https://wandb.ai/18750937507-uwa/snn_v5/runs/imbhi57d</a><br/> View project at: <a href='https://wandb.ai/18750937507-uwa/snn_v5' target=\"_blank\">https://wandb.ai/18750937507-uwa/snn_v5</a><br/>Synced 5 W&B file(s), 0 media file(s), 0 artifact file(s) and 0 other file(s)"
            ],
            "text/plain": [
              "<IPython.core.display.HTML object>"
            ]
          },
          "metadata": {},
          "output_type": "display_data"
        },
        {
          "data": {
            "text/html": [
              "Find logs at: <code>.\\wandb\\run-20240926_215407-imbhi57d\\logs</code>"
            ],
            "text/plain": [
              "<IPython.core.display.HTML object>"
            ]
          },
          "metadata": {},
          "output_type": "display_data"
        },
        {
          "data": {
            "text/html": [
              "Successfully finished last run (ID:imbhi57d). Initializing new run:<br/>"
            ],
            "text/plain": [
              "<IPython.core.display.HTML object>"
            ]
          },
          "metadata": {},
          "output_type": "display_data"
        },
        {
          "data": {
            "text/html": [
              "Tracking run with wandb version 0.18.1"
            ],
            "text/plain": [
              "<IPython.core.display.HTML object>"
            ]
          },
          "metadata": {},
          "output_type": "display_data"
        },
        {
          "data": {
            "text/html": [
              "Run data is saved locally in <code>c:\\Users\\dines\\Capstone Project\\wandb\\run-20240926_215453-ee9uwprg</code>"
            ],
            "text/plain": [
              "<IPython.core.display.HTML object>"
            ]
          },
          "metadata": {},
          "output_type": "display_data"
        },
        {
          "data": {
            "text/html": [
              "Syncing run <strong><a href='https://wandb.ai/18750937507-uwa/snn_v5/runs/ee9uwprg' target=\"_blank\">vmem</a></strong> to <a href='https://wandb.ai/18750937507-uwa/snn_v5' target=\"_blank\">Weights & Biases</a> (<a href='https://wandb.me/run' target=\"_blank\">docs</a>)<br/>"
            ],
            "text/plain": [
              "<IPython.core.display.HTML object>"
            ]
          },
          "metadata": {},
          "output_type": "display_data"
        },
        {
          "data": {
            "text/html": [
              " View project at <a href='https://wandb.ai/18750937507-uwa/snn_v5' target=\"_blank\">https://wandb.ai/18750937507-uwa/snn_v5</a>"
            ],
            "text/plain": [
              "<IPython.core.display.HTML object>"
            ]
          },
          "metadata": {},
          "output_type": "display_data"
        },
        {
          "data": {
            "text/html": [
              " View run at <a href='https://wandb.ai/18750937507-uwa/snn_v5/runs/ee9uwprg' target=\"_blank\">https://wandb.ai/18750937507-uwa/snn_v5/runs/ee9uwprg</a>"
            ],
            "text/plain": [
              "<IPython.core.display.HTML object>"
            ]
          },
          "metadata": {},
          "output_type": "display_data"
        },
        {
          "name": "stdout",
          "output_type": "stream",
          "text": [
            "Epoch 1/10, Training Loss: 0.758547121904931, Validation Loss: 1.9540163917200906, Validation Accuracy: 66.35%\n",
            "Epoch 2/10, Training Loss: 0.7756495579796018, Validation Loss: 2.5393102935382297, Validation Accuracy: 63.94%\n",
            "Epoch 3/10, Training Loss: 0.7805092073274109, Validation Loss: 3.4915447746004378, Validation Accuracy: 62.02%\n",
            "Epoch 4/10, Training Loss: 0.509133942284674, Validation Loss: 2.6951927287237987, Validation Accuracy: 62.02%\n",
            "Epoch 5/10, Training Loss: 0.8020151046649465, Validation Loss: 2.6159481150763377, Validation Accuracy: 62.98%\n",
            "Epoch 6/10, Training Loss: 0.5921049683161501, Validation Loss: 2.962100548403604, Validation Accuracy: 62.02%\n",
            "Epoch 7/10, Training Loss: 0.5942276291689783, Validation Loss: 2.8159684198243276, Validation Accuracy: 62.98%\n",
            "Epoch 8/10, Training Loss: 0.5467017512276487, Validation Loss: 3.9095545070511952, Validation Accuracy: 63.94%\n",
            "Epoch 9/10, Training Loss: 0.7219273968125289, Validation Loss: 4.1907609190259665, Validation Accuracy: 56.73%\n",
            "Epoch 10/10, Training Loss: 0.5425209824769002, Validation Loss: 3.638455791132791, Validation Accuracy: 59.13%\n",
            "Test Accuracy: 55.66%\n"
          ]
        },
        {
          "data": {
            "application/vnd.jupyter.widget-view+json": {
              "model_id": "9be69fd3b3af4784881157fa7f809671",
              "version_major": 2,
              "version_minor": 0
            },
            "text/plain": [
              "VBox(children=(Label(value='0.002 MB of 0.002 MB uploaded\\r'), FloatProgress(value=1.0, max=1.0)))"
            ]
          },
          "metadata": {},
          "output_type": "display_data"
        },
        {
          "data": {
            "text/html": [
              "<style>\n",
              "    table.wandb td:nth-child(1) { padding: 0 10px; text-align: left ; width: auto;} td:nth-child(2) {text-align: left ; width: 100%}\n",
              "    .wandb-row { display: flex; flex-direction: row; flex-wrap: wrap; justify-content: flex-start; width: 100% }\n",
              "    .wandb-col { display: flex; flex-direction: column; flex-basis: 100%; flex: 1; padding: 10px; }\n",
              "    </style>\n",
              "<div class=\"wandb-row\"><div class=\"wandb-col\"><h3>Run history:</h3><br/><table class=\"wandb\"><tr><td>epoch</td><td>▁▂▃▃▄▅▆▆▇█</td></tr><tr><td>test_accuracy</td><td>▁</td></tr><tr><td>train_loss</td><td>▇▇▇▁█▃▃▂▆▂</td></tr><tr><td>val_accuracy</td><td>█▆▅▅▆▅▆▆▁▃</td></tr><tr><td>val_loss</td><td>▁▃▆▃▃▄▄▇█▆</td></tr></table><br/></div><div class=\"wandb-col\"><h3>Run summary:</h3><br/><table class=\"wandb\"><tr><td>epoch</td><td>10</td></tr><tr><td>test_accuracy</td><td>0.5566</td></tr><tr><td>train_loss</td><td>0.54252</td></tr><tr><td>val_accuracy</td><td>0.59135</td></tr><tr><td>val_loss</td><td>3.63846</td></tr></table><br/></div></div>"
            ],
            "text/plain": [
              "<IPython.core.display.HTML object>"
            ]
          },
          "metadata": {},
          "output_type": "display_data"
        },
        {
          "data": {
            "text/html": [
              " View run <strong style=\"color:#cdcd00\">vmem</strong> at: <a href='https://wandb.ai/18750937507-uwa/snn_v5/runs/ee9uwprg' target=\"_blank\">https://wandb.ai/18750937507-uwa/snn_v5/runs/ee9uwprg</a><br/> View project at: <a href='https://wandb.ai/18750937507-uwa/snn_v5' target=\"_blank\">https://wandb.ai/18750937507-uwa/snn_v5</a><br/>Synced 5 W&B file(s), 0 media file(s), 2 artifact file(s) and 0 other file(s)"
            ],
            "text/plain": [
              "<IPython.core.display.HTML object>"
            ]
          },
          "metadata": {},
          "output_type": "display_data"
        },
        {
          "data": {
            "text/html": [
              "Find logs at: <code>.\\wandb\\run-20240926_215453-ee9uwprg\\logs</code>"
            ],
            "text/plain": [
              "<IPython.core.display.HTML object>"
            ]
          },
          "metadata": {},
          "output_type": "display_data"
        }
      ],
      "source": [
        "# outputs.sum(dim=1),target firing rate tensor\n",
        "\n",
        "\n",
        "wandb.init(project=\"SNN_v5\", config={\n",
        "    \"learning_rate\": 1e-4,\n",
        "    \"epochs\": 10,\n",
        "    \"batch_size\": 32,\n",
        "}, name=\"vmem\")\n",
        "\n",
        "# Access hyperparameters\n",
        "learning_rate = wandb.config.learning_rate\n",
        "n_epochs = wandb.config.epochs\n",
        "batch_size = wandb.config.batch_size\n",
        "\n",
        "# Define the loss function and optimizer\n",
        "optimizer = Adam(net.parameters().astorch(), lr=learning_rate)\n",
        "loss_fun = MSELoss()\n",
        "n_epochs = 10 #change to 100 later\n",
        "seed = 42\n",
        "set_seed(seed)\n",
        "\n",
        "target_vmem_value = 0.6  \n",
        "background_vmem_value = -0.3 \n",
        "\n",
        "\n",
        "# Function to calculate accuracy \n",
        "def calculate_accuracy_vmem(model, data_loader, target_vmem_value):\n",
        "    model.eval()  # Set the model to evaluation mode\n",
        "    correct = 0\n",
        "    total = 0\n",
        "\n",
        "    with torch.no_grad():  # Disable gradient calculations\n",
        "        for inputs, targets in data_loader:\n",
        "            inputs = inputs.transpose(1, 2)  # Ensure input shape matches model requirements\n",
        "\n",
        "            outputs, _, _ = net(inputs, record=True)\n",
        "        \n",
        "            vmem = net._record_dict[net.label_last_LIF][\"vmem\"]\n",
        "            outputs = vmem.sum(dim=1)\n",
        "\n",
        "            # Create target vmem\n",
        "            target_vmem = torch.zeros_like(outputs).to(outputs.device)\n",
        "            target_vmem[targets == 1] = target_vmem_value  \n",
        "            target_vmem[targets == 0] = background_vmem_value  \n",
        "\n",
        "            # Use sigmoid activation and classify as 1 if output is above 0.5\n",
        "            predictions = (torch.sigmoid(outputs) > 0.5).float()  \n",
        "\n",
        "\n",
        "            # Compare predictions with target firing rate (binary form)\n",
        "            binary_target = (target_vmem == target_vmem_value).float()\n",
        "\n",
        "            correct += (predictions == binary_target).sum().item()\n",
        "            total += targets.size(0)\n",
        "\n",
        "    accuracy = correct / total\n",
        "    return accuracy\n",
        "\n",
        "# Training and Validation loop\n",
        "for epoch in range(n_epochs):\n",
        "    net.train()  # Set the model to training mode\n",
        "    epoch_loss = 0.0  # Initialize running loss for training\n",
        "\n",
        "    # Training phase\n",
        "    for inputs, targets in train_loader:\n",
        "        optimizer.zero_grad()  # Clear gradients\n",
        "\n",
        "        # Adjust input dimensions to match model expectations\n",
        "        inputs = inputs.transpose(1, 2)\n",
        "\n",
        "        # Forward pass through the network\n",
        "        outputs, _, _ = net(inputs, record=True)  # Output shape [batch_size, n_time, n_classes]\n",
        "        #print(net._record_dict)  \n",
        "              \n",
        "        vmem = net._record_dict[net.label_last_LIF][\"vmem\"]\n",
        "        outputs_sum = vmem.sum(dim=1)  # Sum spikes over the time dimension\n",
        "\n",
        "        # Create target vmem\n",
        "        target_vmem = torch.zeros_like(outputs_sum).to(outputs.device)\n",
        "        target_vmem[targets == 1] = target_vmem_value  \n",
        "        target_vmem[targets == 0] = background_vmem_value  \n",
        "\n",
        "        # Compute the loss using target firing rate\n",
        "        loss = loss_fun(outputs_sum, target_vmem)\n",
        "\n",
        "        # Backward pass and optimization\n",
        "        loss.backward()\n",
        "        optimizer.step()\n",
        "\n",
        "        # Accumulate loss for this batch\n",
        "        epoch_loss += loss.item()\n",
        "\n",
        "    # Calculate average training loss for the epoch\n",
        "    avg_train_loss = epoch_loss / len(train_loader)\n",
        "\n",
        "    # Validation phase\n",
        "    net.eval()  # Set the model to evaluation mode\n",
        "    val_loss = 0.0  # Initialize running loss for validation\n",
        "    with torch.no_grad():\n",
        "        for inputs, targets in val_loader:\n",
        "            inputs = inputs.transpose(1, 2)\n",
        "            outputs, _, _ = net(inputs, record=True)\n",
        "            vmem = net._record_dict[net.label_last_LIF][\"vmem\"]\n",
        "            outputs_sum = vmem.sum(dim=1)\n",
        "\n",
        "            # Create target vmem\n",
        "            target_vmem = torch.zeros_like(outputs_sum).to(outputs.device)\n",
        "            target_vmem[targets == 1] = target_vmem_value  \n",
        "            target_vmem[targets == 0] = background_vmem_value  \n",
        "\n",
        "            # Compute validation loss\n",
        "            loss = loss_fun(outputs_sum, target_vmem)\n",
        "\n",
        "            # Accumulate validation loss\n",
        "            val_loss += loss.item()\n",
        "\n",
        "    # Calculate average validation loss for the epoch\n",
        "    avg_val_loss = val_loss / len(val_loader)\n",
        "\n",
        "    # Calculate validation accuracy\n",
        "    val_accuracy = calculate_accuracy_vmem(net, val_loader,target_vmem_value)\n",
        "\n",
        "    # Log training loss, validation loss, and accuracy to W&B\n",
        "    wandb.log({\n",
        "        \"epoch\": epoch + 1,\n",
        "        \"train_loss\": avg_train_loss,\n",
        "        \"val_loss\": avg_val_loss,\n",
        "        \"val_accuracy\": val_accuracy\n",
        "    })\n",
        "\n",
        "    # Print training and validation losses, and validation accuracy for the current epoch\n",
        "    print(f'Epoch {epoch + 1}/{n_epochs}, Training Loss: {avg_train_loss}, Validation Loss: {avg_val_loss}, Validation Accuracy: {val_accuracy * 100:.2f}%')\n",
        "\n",
        "# Final evaluation on test data\n",
        "test_accuracy = calculate_accuracy_vmem(net, test_loader, target_vmem_value)\n",
        "\n",
        "# Log test accuracy to W&B\n",
        "wandb.log({\"test_accuracy\": test_accuracy})\n",
        "\n",
        "# Print the final test accuracy\n",
        "print(f'Test Accuracy: {test_accuracy * 100:.2f}%')\n",
        "\n",
        "artifact = wandb.Artifact('model_vmem', type='model')\n",
        "artifact.add_file(\"model_vmem.pth\")\n",
        "wandb.log_artifact(artifact)\n",
        "\n",
        "# Finish the W&B run\n",
        "wandb.finish()\n"
      ]
    },
    {
      "cell_type": "code",
      "execution_count": 19,
      "metadata": {},
      "outputs": [
        {
          "name": "stdout",
          "output_type": "stream",
          "text": [
            "c:\\Users\\dines\\Capstone Project\\wandb\\run-20240926_210736-87r3ocoh\\files\n"
          ]
        }
      ],
      "source": [
        "print(wandb.run.dir)  # Check the W&B run directory\n"
      ]
    },
    {
      "cell_type": "code",
      "execution_count": 22,
      "metadata": {},
      "outputs": [
        {
          "ename": "NameError",
          "evalue": "name 'layer_vmems' is not defined",
          "output_type": "error",
          "traceback": [
            "\u001b[1;31m---------------------------------------------------------------------------\u001b[0m",
            "\u001b[1;31mNameError\u001b[0m                                 Traceback (most recent call last)",
            "Cell \u001b[1;32mIn[22], line 5\u001b[0m\n\u001b[0;32m      2\u001b[0m \u001b[38;5;28;01mimport\u001b[39;00m \u001b[38;5;21;01mmatplotlib\u001b[39;00m\u001b[38;5;21;01m.\u001b[39;00m\u001b[38;5;21;01mpyplot\u001b[39;00m \u001b[38;5;28;01mas\u001b[39;00m \u001b[38;5;21;01mplt\u001b[39;00m\n\u001b[0;32m      4\u001b[0m \u001b[38;5;66;03m# Convert each layer's vmems to a numpy array for processing\u001b[39;00m\n\u001b[1;32m----> 5\u001b[0m \u001b[38;5;28;01mfor\u001b[39;00m layer_name \u001b[38;5;129;01min\u001b[39;00m \u001b[43mlayer_vmems\u001b[49m:\n\u001b[0;32m      6\u001b[0m     \u001b[38;5;66;03m# Concatenate along the batch dimension to get a single numpy array\u001b[39;00m\n\u001b[0;32m      7\u001b[0m     layer_vmems[layer_name] \u001b[38;5;241m=\u001b[39m np\u001b[38;5;241m.\u001b[39mconcatenate(layer_vmems[layer_name], axis\u001b[38;5;241m=\u001b[39m\u001b[38;5;241m0\u001b[39m)  \u001b[38;5;66;03m# Shape: (n_batches*batch_size, n_time, n_neurons_per_layer)\u001b[39;00m\n\u001b[0;32m      8\u001b[0m     \u001b[38;5;28mprint\u001b[39m(\u001b[38;5;124mf\u001b[39m\u001b[38;5;124m\"\u001b[39m\u001b[38;5;132;01m{\u001b[39;00mlayer_name\u001b[38;5;132;01m}\u001b[39;00m\u001b[38;5;124m final vmem shape: \u001b[39m\u001b[38;5;132;01m{\u001b[39;00mlayer_vmems[layer_name]\u001b[38;5;241m.\u001b[39mshape\u001b[38;5;132;01m}\u001b[39;00m\u001b[38;5;124m\"\u001b[39m)\n",
            "\u001b[1;31mNameError\u001b[0m: name 'layer_vmems' is not defined"
          ]
        }
      ],
      "source": [
        "import numpy as np\n",
        "import matplotlib.pyplot as plt\n",
        "\n",
        "# Convert each layer's vmems to a numpy array for processing\n",
        "for layer_name in layer_vmems:\n",
        "    # Concatenate along the batch dimension to get a single numpy array\n",
        "    layer_vmems[layer_name] = np.concatenate(layer_vmems[layer_name], axis=0)  # Shape: (n_batches*batch_size, n_time, n_neurons_per_layer)\n",
        "    print(f\"{layer_name} final vmem shape: {layer_vmems[layer_name].shape}\")"
      ]
    },
    {
      "cell_type": "markdown",
      "metadata": {},
      "source": [
        "# model-spikes"
      ]
    },
    {
      "cell_type": "code",
      "execution_count": null,
      "metadata": {},
      "outputs": [],
      "source": [
        "import torch\n",
        "from torch.optim import Adam\n",
        "from torch.nn import MSELoss\n",
        "from rockpool.nn.networks import SynNet\n",
        "\n",
        "# Define dataset characteristics\n",
        "n_channels = 16  # Number of input channels\n",
        "n_classes = 1    # the output of MSELoss is discrite\n",
        "dt=10e-3          #rasterization time-step\n",
        "n_time = 100    # Number of time steps 1/10e-3\n",
        "batch_size = 32  # Batch size\n",
        "\n",
        "# Initialize the SynNet model\n",
        "net.s = SynNet(\n",
        "    p_dropout = 0.1,                      # Dropout proportion to use\n",
        "    n_channels=16,                # Number of input channels\n",
        "    n_classes=1,                  # Number of output classes \n",
        "    size_hidden_layers=[24, 24, 24],      # Number of neurons in each hidden layer\n",
        "    time_constants_per_layer=[2, 4, 8],   # Time constants for each layer\n",
        "    dt=10e-3,\n",
        "    tau_syn_base=0.02,         # at least 2 times more than dt, how long it takes for the synaptic current to decay to a certain fraction  of its peak value.\n",
        "    tau_mem=0.02,\n",
        "    tau_syn_out=0.02)\n",
        "print(net.s)"
      ]
    },
    {
      "cell_type": "code",
      "execution_count": 96,
      "metadata": {},
      "outputs": [
        {
          "data": {
            "text/html": [
              "Tracking run with wandb version 0.18.1"
            ],
            "text/plain": [
              "<IPython.core.display.HTML object>"
            ]
          },
          "metadata": {},
          "output_type": "display_data"
        },
        {
          "data": {
            "text/html": [
              "Run data is saved locally in <code>/Users/xiaoyuliu/Documents/school/capstone/project-12-prototype-bio-acoustic-detection-system-soundsentinel/wandb/run-20240925_153030-i1c9nkxb</code>"
            ],
            "text/plain": [
              "<IPython.core.display.HTML object>"
            ]
          },
          "metadata": {},
          "output_type": "display_data"
        },
        {
          "data": {
            "text/html": [
              "Syncing run <strong><a href='https://wandb.ai/18750937507-uwa/snn_v5/runs/i1c9nkxb' target=\"_blank\">1e-4</a></strong> to <a href='https://wandb.ai/18750937507-uwa/snn_v5' target=\"_blank\">Weights & Biases</a> (<a href='https://wandb.me/run' target=\"_blank\">docs</a>)<br/>"
            ],
            "text/plain": [
              "<IPython.core.display.HTML object>"
            ]
          },
          "metadata": {},
          "output_type": "display_data"
        },
        {
          "data": {
            "text/html": [
              " View project at <a href='https://wandb.ai/18750937507-uwa/snn_v5' target=\"_blank\">https://wandb.ai/18750937507-uwa/snn_v5</a>"
            ],
            "text/plain": [
              "<IPython.core.display.HTML object>"
            ]
          },
          "metadata": {},
          "output_type": "display_data"
        },
        {
          "data": {
            "text/html": [
              " View run at <a href='https://wandb.ai/18750937507-uwa/snn_v5/runs/i1c9nkxb' target=\"_blank\">https://wandb.ai/18750937507-uwa/snn_v5/runs/i1c9nkxb</a>"
            ],
            "text/plain": [
              "<IPython.core.display.HTML object>"
            ]
          },
          "metadata": {},
          "output_type": "display_data"
        },
        {
          "name": "stdout",
          "output_type": "stream",
          "text": [
            "Epoch 1/100, Training Loss: 58.04127358490566, Validation Loss: 60.433035714285715, Validation Accuracy: 58.65%\n",
            "Epoch 2/100, Training Loss: 53.01533018867924, Validation Loss: 60.0, Validation Accuracy: 59.62%\n",
            "Epoch 3/100, Training Loss: 47.54599056603774, Validation Loss: 46.888392857142854, Validation Accuracy: 63.94%\n",
            "Epoch 4/100, Training Loss: 48.12264150943396, Validation Loss: 54.848214285714285, Validation Accuracy: 65.87%\n",
            "Epoch 5/100, Training Loss: 43.50235849056604, Validation Loss: 52.0, Validation Accuracy: 68.75%\n",
            "Epoch 6/100, Training Loss: 41.935731132075475, Validation Loss: 40.004464285714285, Validation Accuracy: 68.75%\n",
            "Epoch 7/100, Training Loss: 39.15507075471698, Validation Loss: 44.52232142857143, Validation Accuracy: 71.15%\n",
            "Epoch 8/100, Training Loss: 37.56780660377358, Validation Loss: 41.5625, Validation Accuracy: 71.63%\n",
            "Epoch 9/100, Training Loss: 36.518278301886795, Validation Loss: 53.64732142857143, Validation Accuracy: 74.04%\n",
            "Epoch 10/100, Training Loss: 34.303066037735846, Validation Loss: 55.419642857142854, Validation Accuracy: 73.08%\n",
            "Epoch 11/100, Training Loss: 34.19634433962264, Validation Loss: 50.02232142857143, Validation Accuracy: 74.52%\n",
            "Epoch 12/100, Training Loss: 34.3060141509434, Validation Loss: 40.392857142857146, Validation Accuracy: 75.00%\n",
            "Epoch 13/100, Training Loss: 32.718160377358494, Validation Loss: 43.75, Validation Accuracy: 74.04%\n",
            "Epoch 14/100, Training Loss: 31.35495283018868, Validation Loss: 60.99107142857143, Validation Accuracy: 74.04%\n",
            "Epoch 15/100, Training Loss: 32.0377358490566, Validation Loss: 61.441964285714285, Validation Accuracy: 74.52%\n",
            "Epoch 16/100, Training Loss: 30.764740566037737, Validation Loss: 61.86607142857143, Validation Accuracy: 73.56%\n",
            "Epoch 17/100, Training Loss: 31.5748820754717, Validation Loss: 49.19642857142857, Validation Accuracy: 74.52%\n",
            "Epoch 18/100, Training Loss: 30.275353773584907, Validation Loss: 48.107142857142854, Validation Accuracy: 74.52%\n",
            "Epoch 19/100, Training Loss: 29.722287735849058, Validation Loss: 46.53125, Validation Accuracy: 75.00%\n",
            "Epoch 20/100, Training Loss: 30.11320754716981, Validation Loss: 44.910714285714285, Validation Accuracy: 75.00%\n",
            "Epoch 21/100, Training Loss: 29.652122641509433, Validation Loss: 39.120535714285715, Validation Accuracy: 76.44%\n",
            "Epoch 22/100, Training Loss: 28.837853773584907, Validation Loss: 47.183035714285715, Validation Accuracy: 74.04%\n",
            "Epoch 23/100, Training Loss: 29.932783018867923, Validation Loss: 38.200892857142854, Validation Accuracy: 75.48%\n",
            "Epoch 24/100, Training Loss: 28.130306603773583, Validation Loss: 41.026785714285715, Validation Accuracy: 75.00%\n",
            "Epoch 25/100, Training Loss: 27.806603773584907, Validation Loss: 37.705357142857146, Validation Accuracy: 77.40%\n",
            "Epoch 26/100, Training Loss: 28.275353773584907, Validation Loss: 43.95982142857143, Validation Accuracy: 75.00%\n",
            "Epoch 27/100, Training Loss: 27.839622641509433, Validation Loss: 38.30357142857143, Validation Accuracy: 75.00%\n",
            "Epoch 28/100, Training Loss: 26.754127358490567, Validation Loss: 47.86607142857143, Validation Accuracy: 74.04%\n",
            "Epoch 29/100, Training Loss: 28.38384433962264, Validation Loss: 35.13392857142857, Validation Accuracy: 77.40%\n",
            "Epoch 30/100, Training Loss: 26.952830188679247, Validation Loss: 58.10267857142857, Validation Accuracy: 75.00%\n",
            "Epoch 31/100, Training Loss: 26.816037735849058, Validation Loss: 36.183035714285715, Validation Accuracy: 75.96%\n",
            "Epoch 32/100, Training Loss: 26.611438679245282, Validation Loss: 35.276785714285715, Validation Accuracy: 76.44%\n",
            "Epoch 33/100, Training Loss: 26.548938679245282, Validation Loss: 38.34375, Validation Accuracy: 76.44%\n",
            "Epoch 34/100, Training Loss: 26.44634433962264, Validation Loss: 51.60267857142857, Validation Accuracy: 76.44%\n",
            "Epoch 35/100, Training Loss: 26.28007075471698, Validation Loss: 36.70982142857143, Validation Accuracy: 77.40%\n",
            "Epoch 36/100, Training Loss: 25.60318396226415, Validation Loss: 31.816964285714285, Validation Accuracy: 77.88%\n",
            "Epoch 37/100, Training Loss: 26.72110849056604, Validation Loss: 30.366071428571427, Validation Accuracy: 77.88%\n",
            "Epoch 38/100, Training Loss: 25.819575471698112, Validation Loss: 46.732142857142854, Validation Accuracy: 77.40%\n",
            "Epoch 39/100, Training Loss: 25.82075471698113, Validation Loss: 46.607142857142854, Validation Accuracy: 76.92%\n",
            "Epoch 40/100, Training Loss: 24.87558962264151, Validation Loss: 36.674107142857146, Validation Accuracy: 78.37%\n",
            "Epoch 41/100, Training Loss: 25.504716981132077, Validation Loss: 32.513392857142854, Validation Accuracy: 79.33%\n",
            "Epoch 42/100, Training Loss: 23.973466981132077, Validation Loss: 33.64732142857143, Validation Accuracy: 77.40%\n",
            "Epoch 43/100, Training Loss: 25.25235849056604, Validation Loss: 39.950892857142854, Validation Accuracy: 77.40%\n",
            "Epoch 44/100, Training Loss: 24.52299528301887, Validation Loss: 42.183035714285715, Validation Accuracy: 77.88%\n",
            "Epoch 45/100, Training Loss: 25.0813679245283, Validation Loss: 34.85267857142857, Validation Accuracy: 77.40%\n",
            "Epoch 46/100, Training Loss: 24.659198113207548, Validation Loss: 38.986607142857146, Validation Accuracy: 78.85%\n",
            "Epoch 47/100, Training Loss: 24.360849056603772, Validation Loss: 26.924107142857142, Validation Accuracy: 78.37%\n",
            "Epoch 48/100, Training Loss: 23.46639150943396, Validation Loss: 29.205357142857142, Validation Accuracy: 77.88%\n",
            "Epoch 49/100, Training Loss: 24.73172169811321, Validation Loss: 26.875, Validation Accuracy: 78.85%\n",
            "Epoch 50/100, Training Loss: 23.71108490566038, Validation Loss: 31.183035714285715, Validation Accuracy: 78.85%\n",
            "Epoch 51/100, Training Loss: 24.17747641509434, Validation Loss: 50.013392857142854, Validation Accuracy: 79.33%\n",
            "Epoch 52/100, Training Loss: 23.19870283018868, Validation Loss: 33.816964285714285, Validation Accuracy: 79.33%\n",
            "Epoch 53/100, Training Loss: 23.4498820754717, Validation Loss: 34.89732142857143, Validation Accuracy: 78.37%\n",
            "Epoch 54/100, Training Loss: 24.192216981132077, Validation Loss: 43.017857142857146, Validation Accuracy: 78.85%\n",
            "Epoch 55/100, Training Loss: 23.46992924528302, Validation Loss: 29.941964285714285, Validation Accuracy: 79.33%\n",
            "Epoch 56/100, Training Loss: 23.08372641509434, Validation Loss: 35.857142857142854, Validation Accuracy: 78.85%\n",
            "Epoch 57/100, Training Loss: 24.36320754716981, Validation Loss: 37.495535714285715, Validation Accuracy: 78.37%\n",
            "Epoch 58/100, Training Loss: 23.775943396226417, Validation Loss: 41.13392857142857, Validation Accuracy: 78.85%\n",
            "Epoch 59/100, Training Loss: 23.6875, Validation Loss: 35.017857142857146, Validation Accuracy: 78.85%\n",
            "Epoch 60/100, Training Loss: 23.56073113207547, Validation Loss: 30.897321428571427, Validation Accuracy: 78.85%\n",
            "Epoch 61/100, Training Loss: 22.672759433962263, Validation Loss: 36.96875, Validation Accuracy: 78.85%\n",
            "Epoch 62/100, Training Loss: 23.047759433962263, Validation Loss: 32.183035714285715, Validation Accuracy: 78.37%\n",
            "Epoch 63/100, Training Loss: 24.02004716981132, Validation Loss: 33.3125, Validation Accuracy: 78.37%\n",
            "Epoch 64/100, Training Loss: 23.07075471698113, Validation Loss: 35.42857142857143, Validation Accuracy: 77.40%\n",
            "Epoch 65/100, Training Loss: 22.75766509433962, Validation Loss: 38.424107142857146, Validation Accuracy: 78.37%\n",
            "Epoch 66/100, Training Loss: 22.33313679245283, Validation Loss: 37.013392857142854, Validation Accuracy: 78.85%\n",
            "Epoch 67/100, Training Loss: 22.837264150943398, Validation Loss: 40.07142857142857, Validation Accuracy: 77.88%\n",
            "Epoch 68/100, Training Loss: 23.317806603773583, Validation Loss: 37.058035714285715, Validation Accuracy: 78.85%\n",
            "Epoch 69/100, Training Loss: 21.942216981132077, Validation Loss: 27.816964285714285, Validation Accuracy: 79.81%\n",
            "Epoch 70/100, Training Loss: 21.92570754716981, Validation Loss: 32.95982142857143, Validation Accuracy: 76.44%\n",
            "Epoch 71/100, Training Loss: 24.22995283018868, Validation Loss: 31.196428571428573, Validation Accuracy: 76.92%\n",
            "Epoch 72/100, Training Loss: 23.50884433962264, Validation Loss: 40.169642857142854, Validation Accuracy: 76.92%\n",
            "Epoch 73/100, Training Loss: 22.045990566037737, Validation Loss: 29.522321428571427, Validation Accuracy: 78.37%\n",
            "Epoch 74/100, Training Loss: 21.79186320754717, Validation Loss: 36.879464285714285, Validation Accuracy: 77.40%\n",
            "Epoch 75/100, Training Loss: 22.005306603773583, Validation Loss: 36.705357142857146, Validation Accuracy: 76.44%\n",
            "Epoch 76/100, Training Loss: 22.26120283018868, Validation Loss: 27.53125, Validation Accuracy: 78.85%\n",
            "Epoch 77/100, Training Loss: 22.97995283018868, Validation Loss: 23.049107142857142, Validation Accuracy: 79.81%\n",
            "Epoch 78/100, Training Loss: 21.60141509433962, Validation Loss: 27.25, Validation Accuracy: 79.81%\n",
            "Epoch 79/100, Training Loss: 21.62382075471698, Validation Loss: 31.151785714285715, Validation Accuracy: 77.40%\n",
            "Epoch 80/100, Training Loss: 20.857900943396228, Validation Loss: 34.482142857142854, Validation Accuracy: 77.88%\n",
            "Epoch 81/100, Training Loss: 21.265330188679247, Validation Loss: 33.71875, Validation Accuracy: 77.88%\n",
            "Epoch 82/100, Training Loss: 22.826650943396228, Validation Loss: 25.205357142857142, Validation Accuracy: 79.33%\n",
            "Epoch 83/100, Training Loss: 21.65625, Validation Loss: 32.191964285714285, Validation Accuracy: 78.37%\n",
            "Epoch 84/100, Training Loss: 21.66450471698113, Validation Loss: 30.21875, Validation Accuracy: 77.40%\n",
            "Epoch 85/100, Training Loss: 22.12617924528302, Validation Loss: 32.566964285714285, Validation Accuracy: 77.88%\n",
            "Epoch 86/100, Training Loss: 20.462264150943398, Validation Loss: 27.772321428571427, Validation Accuracy: 77.88%\n",
            "Epoch 87/100, Training Loss: 21.649764150943398, Validation Loss: 32.232142857142854, Validation Accuracy: 77.88%\n",
            "Epoch 88/100, Training Loss: 21.47818396226415, Validation Loss: 27.482142857142858, Validation Accuracy: 78.85%\n",
            "Epoch 89/100, Training Loss: 20.840212264150942, Validation Loss: 35.25892857142857, Validation Accuracy: 76.44%\n",
            "Epoch 90/100, Training Loss: 23.15507075471698, Validation Loss: 22.424107142857142, Validation Accuracy: 79.33%\n",
            "Epoch 91/100, Training Loss: 21.40742924528302, Validation Loss: 28.892857142857142, Validation Accuracy: 78.37%\n",
            "Epoch 92/100, Training Loss: 21.26945754716981, Validation Loss: 32.941964285714285, Validation Accuracy: 77.40%\n",
            "Epoch 93/100, Training Loss: 20.225825471698112, Validation Loss: 31.227678571428573, Validation Accuracy: 76.92%\n",
            "Epoch 94/100, Training Loss: 22.473466981132077, Validation Loss: 26.339285714285715, Validation Accuracy: 78.85%\n",
            "Epoch 95/100, Training Loss: 20.618514150943398, Validation Loss: 37.13392857142857, Validation Accuracy: 74.52%\n",
            "Epoch 96/100, Training Loss: 21.121462264150942, Validation Loss: 31.058035714285715, Validation Accuracy: 77.40%\n",
            "Epoch 97/100, Training Loss: 20.89563679245283, Validation Loss: 24.933035714285715, Validation Accuracy: 77.88%\n",
            "Epoch 98/100, Training Loss: 20.78007075471698, Validation Loss: 42.433035714285715, Validation Accuracy: 74.04%\n",
            "Epoch 99/100, Training Loss: 21.317216981132077, Validation Loss: 37.486607142857146, Validation Accuracy: 76.44%\n",
            "Epoch 100/100, Training Loss: 20.673349056603772, Validation Loss: 38.09375, Validation Accuracy: 75.96%\n",
            "Test Accuracy: 76.89%\n"
          ]
        },
        {
          "data": {
            "text/html": [
              "<style>\n",
              "    table.wandb td:nth-child(1) { padding: 0 10px; text-align: left ; width: auto;} td:nth-child(2) {text-align: left ; width: 100%}\n",
              "    .wandb-row { display: flex; flex-direction: row; flex-wrap: wrap; justify-content: flex-start; width: 100% }\n",
              "    .wandb-col { display: flex; flex-direction: column; flex-basis: 100%; flex: 1; padding: 10px; }\n",
              "    </style>\n",
              "<div class=\"wandb-row\"><div class=\"wandb-col\"><h3>Run history:</h3><br/><table class=\"wandb\"><tr><td>epoch</td><td>▁▁▁▁▂▂▂▃▃▃▃▃▃▄▄▄▄▄▄▄▅▅▅▅▅▅▆▆▆▆▆▆▇▇▇▇▇███</td></tr><tr><td>test_accuracy</td><td>▁</td></tr><tr><td>train_loss</td><td>█▆▅▅▄▄▃▃▃▃▂▂▂▂▂▂▂▂▂▂▂▂▂▂▂▁▂▁▂▁▁▁▁▁▁▁▁▁▁▁</td></tr><tr><td>val_accuracy</td><td>▁▃▃▄▅▄▄▄▅▆▅▄▆▆▆▇▆█▇▇▇▇▇▇▇▇▇▆▆▆██▆▇▇▇▇▇▇▆</td></tr><tr><td>val_loss</td><td>██▅▇▆▄█▅▅▅▅▅▃▃▂▃▄▁▂▂▂▃▄▃▃▂▃▃▂▂▁▂▂▂▂▃▂▂▁▃</td></tr></table><br/></div><div class=\"wandb-col\"><h3>Run summary:</h3><br/><table class=\"wandb\"><tr><td>epoch</td><td>100</td></tr><tr><td>test_accuracy</td><td>0.76887</td></tr><tr><td>train_loss</td><td>20.67335</td></tr><tr><td>val_accuracy</td><td>0.75962</td></tr><tr><td>val_loss</td><td>38.09375</td></tr></table><br/></div></div>"
            ],
            "text/plain": [
              "<IPython.core.display.HTML object>"
            ]
          },
          "metadata": {},
          "output_type": "display_data"
        },
        {
          "data": {
            "text/html": [
              " View run <strong style=\"color:#cdcd00\">1e-4</strong> at: <a href='https://wandb.ai/18750937507-uwa/snn_v5/runs/i1c9nkxb' target=\"_blank\">https://wandb.ai/18750937507-uwa/snn_v5/runs/i1c9nkxb</a><br/> View project at: <a href='https://wandb.ai/18750937507-uwa/snn_v5' target=\"_blank\">https://wandb.ai/18750937507-uwa/snn_v5</a><br/>Synced 5 W&B file(s), 0 media file(s), 0 artifact file(s) and 0 other file(s)"
            ],
            "text/plain": [
              "<IPython.core.display.HTML object>"
            ]
          },
          "metadata": {},
          "output_type": "display_data"
        },
        {
          "data": {
            "text/html": [
              "Find logs at: <code>./wandb/run-20240925_153030-i1c9nkxb/logs</code>"
            ],
            "text/plain": [
              "<IPython.core.display.HTML object>"
            ]
          },
          "metadata": {},
          "output_type": "display_data"
        }
      ],
      "source": [
        "\n",
        "wandb.init(project=\"SNN_v5\", config={\n",
        "    \"learning_rate\": 1e-4,\n",
        "    \"epochs\": 100,\n",
        "    \"batch_size\": 32,\n",
        "}, name=\"1e-4\")\n",
        "\n",
        "# Access hyperparameters\n",
        "learning_rate = wandb.config.learning_rate\n",
        "n_epochs = wandb.config.epochs\n",
        "batch_size = wandb.config.batch_size\n",
        "\n",
        "# Define the loss function and optimizer\n",
        "optimizer = Adam(net.s.parameters().astorch(), lr=learning_rate)\n",
        "loss_fun = MSELoss()\n",
        "n_epochs = 100\n",
        "set_seed(seed)\n",
        "\n",
        "# Function to calculate accuracy using target firing rate\n",
        "def calculate_accuracy_sum_gt(model, data_loader, target_firing_rate_value=10):\n",
        "    model.eval()  # Set the model to evaluation mode\n",
        "    correct = 0\n",
        "    total = 0\n",
        "\n",
        "    with torch.no_grad():  # Disable gradient calculations\n",
        "        for inputs, targets in data_loader:\n",
        "            inputs = inputs.transpose(1, 2)  # Ensure input shape matches model requirements\n",
        "            outputs, _, _ = model(inputs)\n",
        "            outputs = outputs.sum(dim=1)\n",
        "\n",
        "            # Create target firing rate tensor\n",
        "            target_firing_rate = torch.zeros_like(outputs).to(outputs.device)\n",
        "            target_firing_rate[targets == 1] = target_firing_rate_value\n",
        "            target_firing_rate[targets == 0] = 0\n",
        "\n",
        "            # Use sigmoid activation and round predictions for binary classification\n",
        "            predictions = torch.round(torch.sigmoid(outputs))\n",
        "\n",
        "            # Compare predictions with target firing rate (binary form)\n",
        "            binary_target = (target_firing_rate == target_firing_rate_value).float()\n",
        "\n",
        "            correct += (predictions == binary_target).sum().item()\n",
        "            total += targets.size(0)\n",
        "\n",
        "    accuracy = correct / total\n",
        "    return accuracy\n",
        "\n",
        "# Training and Validation loop\n",
        "for epoch in range(n_epochs):\n",
        "    net.s.train()  # Set the model to training mode\n",
        "    epoch_loss = 0.0  # Initialize running loss for training\n",
        "\n",
        "    # Training phase\n",
        "    for inputs, targets in train_loader:\n",
        "        optimizer.zero_grad()  # Clear gradients\n",
        "\n",
        "        # Adjust input dimensions to match model expectations\n",
        "        inputs = inputs.transpose(1, 2)\n",
        "\n",
        "        # Forward pass through the network\n",
        "        outputs, _, _ = net.s(inputs)  # Output shape [batch_size, n_time, n_classes]\n",
        "        outputs_sum = outputs.sum(dim=1)  # Sum spikes over the time dimension\n",
        "\n",
        "        # Create target firing rate tensor\n",
        "        target_firing_rate = torch.zeros_like(outputs_sum).to(outputs.device)\n",
        "        target_firing_rate[targets == 1] = 10  # Set firing rate for positive class\n",
        "        target_firing_rate[targets == 0] = 0   # Set firing rate for negative class\n",
        "\n",
        "        # Compute the loss using target firing rate\n",
        "        loss = loss_fun(outputs_sum, target_firing_rate)\n",
        "\n",
        "        # Backward pass and optimization\n",
        "        loss.backward()\n",
        "        optimizer.step()\n",
        "\n",
        "        # Accumulate loss for this batch\n",
        "        epoch_loss += loss.item()\n",
        "\n",
        "    # Calculate average training loss for the epoch\n",
        "    avg_train_loss = epoch_loss / len(train_loader)\n",
        "\n",
        "    # Validation phase\n",
        "    net.s.eval()  # Set the model to evaluation mode\n",
        "    val_loss = 0.0  # Initialize running loss for validation\n",
        "    with torch.no_grad():\n",
        "        for inputs, targets in val_loader:\n",
        "            inputs = inputs.transpose(1, 2)\n",
        "            outputs, _, _ = net.s(inputs)\n",
        "            outputs_sum = outputs.sum(dim=1)\n",
        "\n",
        "            # Create target firing rate tensor for validation\n",
        "            target_firing_rate = torch.zeros_like(outputs_sum).to(outputs.device)\n",
        "            target_firing_rate[targets == 1] = 10  # Firing rate for positive class\n",
        "            target_firing_rate[targets == 0] = 0   # Firing rate for negative class\n",
        "\n",
        "            # Compute validation loss\n",
        "            loss = loss_fun(outputs_sum, target_firing_rate)\n",
        "\n",
        "            # Accumulate validation loss\n",
        "            val_loss += loss.item()\n",
        "\n",
        "    # Calculate average validation loss for the epoch\n",
        "    avg_val_loss = val_loss / len(val_loader)\n",
        "\n",
        "    # Calculate validation accuracy\n",
        "    val_accuracy = calculate_accuracy_sum_gt(net.s, val_loader)\n",
        "\n",
        "    # Log training loss, validation loss, and accuracy to W&B\n",
        "    wandb.log({\n",
        "        \"epoch\": epoch + 1,\n",
        "        \"train_loss\": avg_train_loss,\n",
        "        \"val_loss\": avg_val_loss,\n",
        "        \"val_accuracy\": val_accuracy\n",
        "    })\n",
        "\n",
        "    # Print training and validation losses, and validation accuracy for the current epoch\n",
        "    print(f'Epoch {epoch + 1}/{n_epochs}, Training Loss: {avg_train_loss}, Validation Loss: {avg_val_loss}, Validation Accuracy: {val_accuracy * 100:.2f}%')\n",
        "\n",
        "# Final evaluation on test data\n",
        "test_accuracy = calculate_accuracy_sum_gt(net.s, test_loader)\n",
        "\n",
        "# Log test accuracy to W&B\n",
        "wandb.log({\"test_accuracy\": test_accuracy})\n",
        "\n",
        "# Print the final test accuracy\n",
        "print(f'Test Accuracy: {test_accuracy * 100:.2f}%')\n",
        "\n",
        "# Save the model\n",
        "torch.save(net.s.state_dict(), \"model_sum_gt_1e-4.pth\")\n",
        "wandb.save(\"model_sum_gt_1e.pth\")\n",
        "\n",
        "# Finish the W&B run\n",
        "wandb.finish()\n"
      ]
    },
    {
      "cell_type": "markdown",
      "metadata": {},
      "source": [
        "training and validation loss are similar through epochs, and validation accuracy drops and fluctuates\n",
        "test accuracy is higher than validation accuracy"
      ]
    },
    {
      "cell_type": "markdown",
      "metadata": {
        "id": "893okgXHEAt3"
      },
      "source": []
    },
    {
      "cell_type": "code",
      "execution_count": null,
      "metadata": {
        "id": "trl2Cl_8zURu"
      },
      "outputs": [],
      "source": [
        "# Data augmentation\n",
        "# Time shift function：Shifts the event data along the time axis.\n",
        "# Add noise function：Adds Gaussian noise to event data.\n",
        "# Random drop function：Randomly drops parts of the event data.\n",
        "\n"
      ]
    },
    {
      "cell_type": "code",
      "execution_count": 52,
      "metadata": {
        "id": "WHw08seNzS-q"
      },
      "outputs": [],
      "source": [
        "import numpy as np\n",
        "import torch\n",
        "from torch.utils.data import DataLoader\n",
        "\n",
        "# Data augmentation functions\n",
        "\n",
        "# Time shift function：Shifts the event data along the time axis.\n",
        "def time_shift(event_data, max_shift=2):\n",
        "    shift = np.random.randint(-max_shift, max_shift)  # Randomly choose a shift amount\n",
        "    return np.roll(event_data, shift, axis=0)  # Apply shift along the time axis\n",
        "\n",
        "# Add noise function：Adds Gaussian noise to event data.\n",
        "def add_noise(event_data, noise_factor=0.001):\n",
        "    noise = np.random.normal(0, noise_factor, event_data.shape)  # poison noise\n",
        "    return event_data + noise  # Add noise to the data\n",
        "\n",
        "# Random drop function：Randomly drops parts of the event data.\n",
        "def random_drop(event_data, drop_rate=0.05):\n",
        "    mask = np.random.binomial(1, 1 - drop_rate, event_data.shape)  # Generate a mask to randomly drop parts of the data\n",
        "    return event_data * mask  # Apply the mask to the data\n",
        "\n",
        "augmentation_funcs = [time_shift, add_noise, random_drop]\n",
        "\n",
        "# Combine augmentation functions\n",
        "def augment_data(event_data, augmentation_funcs):\n",
        "    for func in augmentation_funcs:\n",
        "        event_data = func(event_data)  # Apply each augmentation function in sequence\n",
        "    return event_data\n",
        "\n",
        "# Data loader with augmentation applied to label 1 (event call) samples\n",
        "def augment_train_data(train_loader):\n",
        "    for batch_idx, (data, labels) in enumerate(train_loader):\n",
        "        for i in range(data.shape[0]):\n",
        "            if labels[i] == 1:  # Only augment data with label 1\n",
        "                augmented_data = augment_data(data[i].numpy(), augmentation_funcs)\n",
        "                data[i] = torch.from_numpy(augmented_data).to(data[i].device)\n",
        "        yield data, labels\n",
        "\n"
      ]
    },
    {
      "cell_type": "code",
      "execution_count": 46,
      "metadata": {
        "colab": {
          "base_uri": "https://localhost:8080/"
        },
        "id": "AGjZIP-KOyXQ",
        "outputId": "ad3359a4-6dec-4077-b2d6-518c4de7358b"
      },
      "outputs": [
        {
          "name": "stdout",
          "output_type": "stream",
          "text": [
            "Train Labels distribution: tensor([836, 836])\n"
          ]
        }
      ],
      "source": [
        "train_loader_augmented=augment_train_data(train_loader)\n",
        "train_labels_augmented = torch.cat([batch[1] for batch in train_loader_augmented])\n",
        "print(f'Train Labels distribution: {torch.bincount(train_labels_augmented.int())}')"
      ]
    },
    {
      "cell_type": "code",
      "execution_count": 47,
      "metadata": {},
      "outputs": [
        {
          "data": {
            "text/html": [
              "Tracking run with wandb version 0.18.1"
            ],
            "text/plain": [
              "<IPython.core.display.HTML object>"
            ]
          },
          "metadata": {},
          "output_type": "display_data"
        },
        {
          "data": {
            "text/html": [
              "Run data is saved locally in <code>/Users/xiaoyuliu/Documents/school/capstone/project-12-prototype-bio-acoustic-detection-system-soundsentinel/wandb/run-20240919_230646-qi4t38sq</code>"
            ],
            "text/plain": [
              "<IPython.core.display.HTML object>"
            ]
          },
          "metadata": {},
          "output_type": "display_data"
        },
        {
          "data": {
            "text/html": [
              "Syncing run <strong><a href='https://wandb.ai/18750937507-uwa/SNN_meerkat/runs/qi4t38sq' target=\"_blank\">sum,gt,augment</a></strong> to <a href='https://wandb.ai/18750937507-uwa/SNN_meerkat' target=\"_blank\">Weights & Biases</a> (<a href='https://wandb.me/run' target=\"_blank\">docs</a>)<br/>"
            ],
            "text/plain": [
              "<IPython.core.display.HTML object>"
            ]
          },
          "metadata": {},
          "output_type": "display_data"
        },
        {
          "data": {
            "text/html": [
              " View project at <a href='https://wandb.ai/18750937507-uwa/SNN_meerkat' target=\"_blank\">https://wandb.ai/18750937507-uwa/SNN_meerkat</a>"
            ],
            "text/plain": [
              "<IPython.core.display.HTML object>"
            ]
          },
          "metadata": {},
          "output_type": "display_data"
        },
        {
          "data": {
            "text/html": [
              " View run at <a href='https://wandb.ai/18750937507-uwa/SNN_meerkat/runs/qi4t38sq' target=\"_blank\">https://wandb.ai/18750937507-uwa/SNN_meerkat/runs/qi4t38sq</a>"
            ],
            "text/plain": [
              "<IPython.core.display.HTML object>"
            ]
          },
          "metadata": {},
          "output_type": "display_data"
        },
        {
          "name": "stdout",
          "output_type": "stream",
          "text": [
            "Epoch 1/10, Training Loss: 43.63030660377358, Validation Loss: 33.642857142857146, Validation Accuracy: 80.29%\n",
            "Epoch 2/10, Training Loss: 42.772995283018865, Validation Loss: 55.191964285714285, Validation Accuracy: 76.92%\n",
            "Epoch 3/10, Training Loss: 43.56367924528302, Validation Loss: 57.004464285714285, Validation Accuracy: 74.04%\n",
            "Epoch 4/10, Training Loss: 46.10495283018868, Validation Loss: 37.10267857142857, Validation Accuracy: 75.00%\n",
            "Epoch 5/10, Training Loss: 41.89858490566038, Validation Loss: 35.642857142857146, Validation Accuracy: 74.04%\n",
            "Epoch 6/10, Training Loss: 37.491745283018865, Validation Loss: 33.004464285714285, Validation Accuracy: 75.48%\n",
            "Epoch 7/10, Training Loss: 38.722877358490564, Validation Loss: 44.816964285714285, Validation Accuracy: 63.94%\n",
            "Epoch 8/10, Training Loss: 38.7435141509434, Validation Loss: 34.66517857142857, Validation Accuracy: 75.00%\n",
            "Epoch 9/10, Training Loss: 34.69516509433962, Validation Loss: 32.620535714285715, Validation Accuracy: 76.92%\n",
            "Epoch 10/10, Training Loss: 34.65094339622642, Validation Loss: 29.986607142857142, Validation Accuracy: 79.81%\n",
            "Test Accuracy: 82.08%\n"
          ]
        },
        {
          "data": {
            "text/html": [
              "<style>\n",
              "    table.wandb td:nth-child(1) { padding: 0 10px; text-align: left ; width: auto;} td:nth-child(2) {text-align: left ; width: 100%}\n",
              "    .wandb-row { display: flex; flex-direction: row; flex-wrap: wrap; justify-content: flex-start; width: 100% }\n",
              "    .wandb-col { display: flex; flex-direction: column; flex-basis: 100%; flex: 1; padding: 10px; }\n",
              "    </style>\n",
              "<div class=\"wandb-row\"><div class=\"wandb-col\"><h3>Run history:</h3><br/><table class=\"wandb\"><tr><td>epoch</td><td>▁▂▃▃▄▅▆▆▇█</td></tr><tr><td>test_accuracy</td><td>▁</td></tr><tr><td>train_loss</td><td>▆▆▆█▅▃▃▄▁▁</td></tr><tr><td>val_accuracy</td><td>█▇▅▆▅▆▁▆▇█</td></tr><tr><td>val_loss</td><td>▂██▃▂▂▅▂▂▁</td></tr></table><br/></div><div class=\"wandb-col\"><h3>Run summary:</h3><br/><table class=\"wandb\"><tr><td>epoch</td><td>10</td></tr><tr><td>test_accuracy</td><td>0.82075</td></tr><tr><td>train_loss</td><td>34.65094</td></tr><tr><td>val_accuracy</td><td>0.79808</td></tr><tr><td>val_loss</td><td>29.98661</td></tr></table><br/></div></div>"
            ],
            "text/plain": [
              "<IPython.core.display.HTML object>"
            ]
          },
          "metadata": {},
          "output_type": "display_data"
        },
        {
          "data": {
            "text/html": [
              " View run <strong style=\"color:#cdcd00\">sum,gt,augment</strong> at: <a href='https://wandb.ai/18750937507-uwa/SNN_meerkat/runs/qi4t38sq' target=\"_blank\">https://wandb.ai/18750937507-uwa/SNN_meerkat/runs/qi4t38sq</a><br/> View project at: <a href='https://wandb.ai/18750937507-uwa/SNN_meerkat' target=\"_blank\">https://wandb.ai/18750937507-uwa/SNN_meerkat</a><br/>Synced 5 W&B file(s), 0 media file(s), 0 artifact file(s) and 1 other file(s)"
            ],
            "text/plain": [
              "<IPython.core.display.HTML object>"
            ]
          },
          "metadata": {},
          "output_type": "display_data"
        },
        {
          "data": {
            "text/html": [
              "Find logs at: <code>./wandb/run-20240919_230646-qi4t38sq/logs</code>"
            ],
            "text/plain": [
              "<IPython.core.display.HTML object>"
            ]
          },
          "metadata": {},
          "output_type": "display_data"
        }
      ],
      "source": [
        "# outputs.sum(dim=1),target firing rate tensor，augment\n",
        "\n",
        "\n",
        "wandb.init(project=\"SNN_meerkat\", config={\n",
        "    \"learning_rate\": 1e-3,\n",
        "    \"epochs\": 10,\n",
        "    \"batch_size\": 32,\n",
        "}, name=\"sum,gt,augment\")\n",
        "\n",
        "# Access hyperparameters\n",
        "learning_rate = wandb.config.learning_rate\n",
        "n_epochs = wandb.config.epochs\n",
        "batch_size = wandb.config.batch_size\n",
        "\n",
        "# Define the loss function and optimizer\n",
        "optimizer = Adam(net.parameters().astorch(), lr=learning_rate)\n",
        "loss_fun = MSELoss()\n",
        "n_epochs = 10\n",
        "set_seed(seed)\n",
        "\n",
        "\n",
        "\n",
        "# Training and Validation loop\n",
        "for epoch in range(n_epochs):\n",
        "    net.train()  # Set the model to training mode\n",
        "    epoch_loss = 0.0  # Initialize running loss for training\n",
        "\n",
        "    # Training phase\n",
        "    for inputs, targets in augment_train_data(train_loader):\n",
        "        optimizer.zero_grad()  # Clear gradients\n",
        "\n",
        "        # Adjust input dimensions to match model expectations\n",
        "        inputs = inputs.transpose(1, 2)\n",
        "\n",
        "        # Forward pass through the network\n",
        "        outputs, _, _ = net(inputs)  # Output shape [batch_size, n_time, n_classes]\n",
        "        outputs_sum = outputs.sum(dim=1)  # Sum spikes over the time dimension\n",
        "\n",
        "        # Create target firing rate tensor\n",
        "        target_firing_rate = torch.zeros_like(outputs_sum).to(outputs.device)\n",
        "        target_firing_rate[targets == 1] = 10  # Set firing rate for positive class\n",
        "        target_firing_rate[targets == 0] = 0   # Set firing rate for negative class\n",
        "\n",
        "        # Compute the loss using target firing rate\n",
        "        loss = loss_fun(outputs_sum, target_firing_rate)\n",
        "\n",
        "        # Backward pass and optimization\n",
        "        loss.backward()\n",
        "        optimizer.step()\n",
        "\n",
        "        # Accumulate loss for this batch\n",
        "        epoch_loss += loss.item()\n",
        "\n",
        "    # Calculate average training loss for the epoch\n",
        "    avg_train_loss = epoch_loss / len(train_loader)\n",
        "\n",
        "    # Validation phase\n",
        "    net.eval()  # Set the model to evaluation mode\n",
        "    val_loss = 0.0  # Initialize running loss for validation\n",
        "    with torch.no_grad():\n",
        "        for inputs, targets in val_loader:\n",
        "            inputs = inputs.transpose(1, 2)\n",
        "            outputs, _, _ = net(inputs)\n",
        "            outputs_sum = outputs.sum(dim=1)\n",
        "\n",
        "            # Create target firing rate tensor for validation\n",
        "            target_firing_rate = torch.zeros_like(outputs_sum).to(outputs.device)\n",
        "            target_firing_rate[targets == 1] = 10  # Firing rate for positive class\n",
        "            target_firing_rate[targets == 0] = 0   # Firing rate for negative class\n",
        "\n",
        "            # Compute validation loss\n",
        "            loss = loss_fun(outputs_sum, target_firing_rate)\n",
        "\n",
        "            # Accumulate validation loss\n",
        "            val_loss += loss.item()\n",
        "\n",
        "    # Calculate average validation loss for the epoch\n",
        "    avg_val_loss = val_loss / len(val_loader)\n",
        "\n",
        "    # Calculate validation accuracy\n",
        "    val_accuracy = calculate_accuracy_sum_gt(net, val_loader)\n",
        "\n",
        "    # Log training loss, validation loss, and accuracy to W&B\n",
        "    wandb.log({\n",
        "        \"epoch\": epoch + 1,\n",
        "        \"train_loss\": avg_train_loss,\n",
        "        \"val_loss\": avg_val_loss,\n",
        "        \"val_accuracy\": val_accuracy\n",
        "    })\n",
        "\n",
        "    # Print training and validation losses, and validation accuracy for the current epoch\n",
        "    print(f'Epoch {epoch + 1}/{n_epochs}, Training Loss: {avg_train_loss}, Validation Loss: {avg_val_loss}, Validation Accuracy: {val_accuracy * 100:.2f}%')\n",
        "\n",
        "# Final evaluation on test data\n",
        "test_accuracy = calculate_accuracy_sum_gt(net, test_loader)\n",
        "\n",
        "# Log test accuracy to W&B\n",
        "wandb.log({\"test_accuracy\": test_accuracy})\n",
        "\n",
        "# Print the final test accuracy\n",
        "print(f'Test Accuracy: {test_accuracy * 100:.2f}%')\n",
        "\n",
        "# Save the model\n",
        "torch.save(net.state_dict(), \"model_sum_gt_augment.pth\")\n",
        "wandb.save(\"model_sum_gt_augment.pth\")\n",
        "\n",
        "# Finish the W&B run\n",
        "wandb.finish()\n"
      ]
    },
    {
      "cell_type": "markdown",
      "metadata": {},
      "source": [
        "# synnet with more hidden layer"
      ]
    },
    {
      "cell_type": "code",
      "execution_count": 50,
      "metadata": {},
      "outputs": [
        {
          "name": "stdout",
          "output_type": "stream",
          "text": [
            "SynNet  with shape (16, 1) {\n",
            "    TorchSequential 'seq' with shape (16, 1) {\n",
            "        LinearTorch '0_LinearTorch' with shape (16, 32)\n",
            "        LIFTorch '1_LIFTorch' with shape (32, 32)\n",
            "        TimeStepDropout '2_TimeStepDropout' with shape (32,)\n",
            "        LinearTorch '3_LinearTorch' with shape (32, 32)\n",
            "        LIFTorch '4_LIFTorch' with shape (32, 32)\n",
            "        TimeStepDropout '5_TimeStepDropout' with shape (32,)\n",
            "        LinearTorch '6_LinearTorch' with shape (32, 32)\n",
            "        LIFTorch '7_LIFTorch' with shape (32, 32)\n",
            "        TimeStepDropout '8_TimeStepDropout' with shape (32,)\n",
            "        LinearTorch '9_LinearTorch' with shape (32, 1)\n",
            "        LIFTorch '10_LIFTorch' with shape (1, 1)\n",
            "    }\n",
            "}\n"
          ]
        }
      ],
      "source": [
        "# Define dataset characteristics\n",
        "n_channels = 16  # Number of input channels\n",
        "n_classes = 1    # the output of MSELoss is discrite\n",
        "n_time = 101     # Number of time steps\n",
        "batch_size = 32  # Batch size\n",
        "\n",
        "# Initialize the SynNet model\n",
        "net_32 = SynNet(\n",
        "    p_dropout = 0.1,                        # Dropout proportion to use\n",
        "    n_channels=n_channels,                # Number of input channels\n",
        "    n_classes=n_classes,                  # Number of output classes (2 for binary classification)\n",
        "    size_hidden_layers=[32, 32, 32],      # Number of neurons in each hidden layer\n",
        "    time_constants_per_layer=[2, 4, 8],   # Time constants for each layer\n",
        ")\n",
        "print(net_32)"
      ]
    },
    {
      "cell_type": "code",
      "execution_count": 51,
      "metadata": {},
      "outputs": [
        {
          "data": {
            "text/html": [
              "Tracking run with wandb version 0.18.1"
            ],
            "text/plain": [
              "<IPython.core.display.HTML object>"
            ]
          },
          "metadata": {},
          "output_type": "display_data"
        },
        {
          "data": {
            "text/html": [
              "Run data is saved locally in <code>/Users/xiaoyuliu/Documents/school/capstone/project-12-prototype-bio-acoustic-detection-system-soundsentinel/wandb/run-20240919_231515-9tmdle16</code>"
            ],
            "text/plain": [
              "<IPython.core.display.HTML object>"
            ]
          },
          "metadata": {},
          "output_type": "display_data"
        },
        {
          "data": {
            "text/html": [
              "Syncing run <strong><a href='https://wandb.ai/18750937507-uwa/SNN_meerkat/runs/9tmdle16' target=\"_blank\">sum,gt,32layer</a></strong> to <a href='https://wandb.ai/18750937507-uwa/SNN_meerkat' target=\"_blank\">Weights & Biases</a> (<a href='https://wandb.me/run' target=\"_blank\">docs</a>)<br/>"
            ],
            "text/plain": [
              "<IPython.core.display.HTML object>"
            ]
          },
          "metadata": {},
          "output_type": "display_data"
        },
        {
          "data": {
            "text/html": [
              " View project at <a href='https://wandb.ai/18750937507-uwa/SNN_meerkat' target=\"_blank\">https://wandb.ai/18750937507-uwa/SNN_meerkat</a>"
            ],
            "text/plain": [
              "<IPython.core.display.HTML object>"
            ]
          },
          "metadata": {},
          "output_type": "display_data"
        },
        {
          "data": {
            "text/html": [
              " View run at <a href='https://wandb.ai/18750937507-uwa/SNN_meerkat/runs/9tmdle16' target=\"_blank\">https://wandb.ai/18750937507-uwa/SNN_meerkat/runs/9tmdle16</a>"
            ],
            "text/plain": [
              "<IPython.core.display.HTML object>"
            ]
          },
          "metadata": {},
          "output_type": "display_data"
        },
        {
          "name": "stdout",
          "output_type": "stream",
          "text": [
            "Epoch 1/10, Training Loss: 64.84198113207547, Validation Loss: 162.03125, Validation Accuracy: 65.38%\n",
            "Epoch 2/10, Training Loss: 54.41391509433962, Validation Loss: 54.504464285714285, Validation Accuracy: 55.29%\n",
            "Epoch 3/10, Training Loss: 50.520636792452834, Validation Loss: 53.64732142857143, Validation Accuracy: 61.06%\n",
            "Epoch 4/10, Training Loss: 43.540683962264154, Validation Loss: 68.21875, Validation Accuracy: 70.67%\n",
            "Epoch 5/10, Training Loss: 41.97995283018868, Validation Loss: 52.02232142857143, Validation Accuracy: 64.90%\n",
            "Epoch 6/10, Training Loss: 40.787146226415096, Validation Loss: 46.20982142857143, Validation Accuracy: 67.79%\n",
            "Epoch 7/10, Training Loss: 40.295400943396224, Validation Loss: 44.4375, Validation Accuracy: 72.12%\n",
            "Epoch 8/10, Training Loss: 40.45754716981132, Validation Loss: 72.74553571428571, Validation Accuracy: 75.48%\n",
            "Epoch 9/10, Training Loss: 38.29716981132076, Validation Loss: 64.05357142857143, Validation Accuracy: 72.60%\n",
            "Epoch 10/10, Training Loss: 37.12735849056604, Validation Loss: 43.424107142857146, Validation Accuracy: 73.08%\n",
            "Test Accuracy: 76.42%\n"
          ]
        },
        {
          "data": {
            "text/html": [
              "<style>\n",
              "    table.wandb td:nth-child(1) { padding: 0 10px; text-align: left ; width: auto;} td:nth-child(2) {text-align: left ; width: 100%}\n",
              "    .wandb-row { display: flex; flex-direction: row; flex-wrap: wrap; justify-content: flex-start; width: 100% }\n",
              "    .wandb-col { display: flex; flex-direction: column; flex-basis: 100%; flex: 1; padding: 10px; }\n",
              "    </style>\n",
              "<div class=\"wandb-row\"><div class=\"wandb-col\"><h3>Run history:</h3><br/><table class=\"wandb\"><tr><td>epoch</td><td>▁▂▃▃▄▅▆▆▇█</td></tr><tr><td>test_accuracy</td><td>▁</td></tr><tr><td>train_loss</td><td>█▅▄▃▂▂▂▂▁▁</td></tr><tr><td>val_accuracy</td><td>▄▁▃▆▄▅▇█▇▇</td></tr><tr><td>val_loss</td><td>█▂▂▂▂▁▁▃▂▁</td></tr></table><br/></div><div class=\"wandb-col\"><h3>Run summary:</h3><br/><table class=\"wandb\"><tr><td>epoch</td><td>10</td></tr><tr><td>test_accuracy</td><td>0.76415</td></tr><tr><td>train_loss</td><td>37.12736</td></tr><tr><td>val_accuracy</td><td>0.73077</td></tr><tr><td>val_loss</td><td>43.42411</td></tr></table><br/></div></div>"
            ],
            "text/plain": [
              "<IPython.core.display.HTML object>"
            ]
          },
          "metadata": {},
          "output_type": "display_data"
        },
        {
          "data": {
            "text/html": [
              " View run <strong style=\"color:#cdcd00\">sum,gt,32layer</strong> at: <a href='https://wandb.ai/18750937507-uwa/SNN_meerkat/runs/9tmdle16' target=\"_blank\">https://wandb.ai/18750937507-uwa/SNN_meerkat/runs/9tmdle16</a><br/> View project at: <a href='https://wandb.ai/18750937507-uwa/SNN_meerkat' target=\"_blank\">https://wandb.ai/18750937507-uwa/SNN_meerkat</a><br/>Synced 5 W&B file(s), 0 media file(s), 0 artifact file(s) and 1 other file(s)"
            ],
            "text/plain": [
              "<IPython.core.display.HTML object>"
            ]
          },
          "metadata": {},
          "output_type": "display_data"
        },
        {
          "data": {
            "text/html": [
              "Find logs at: <code>./wandb/run-20240919_231515-9tmdle16/logs</code>"
            ],
            "text/plain": [
              "<IPython.core.display.HTML object>"
            ]
          },
          "metadata": {},
          "output_type": "display_data"
        }
      ],
      "source": [
        "wandb.init(project=\"SNN_meerkat\", config={\n",
        "    \"learning_rate\": 1e-3,\n",
        "    \"epochs\": 10,\n",
        "    \"batch_size\": 32,\n",
        "},name=\"sum,gt,32layer\")\n",
        "\n",
        "# Access hyperparameters\n",
        "learning_rate = wandb.config.learning_rate\n",
        "n_epochs = wandb.config.epochs\n",
        "batch_size = wandb.config.batch_size\n",
        "\n",
        "\n",
        "# Define the loss function and optimizer\n",
        "optimizer = Adam(net_32.parameters().astorch(), lr=1e-3)\n",
        "loss_fun = MSELoss()\n",
        "n_epochs = 30\n",
        "set_seed(seed)\n",
        "\n",
        "# Function to calculate accuracy using target firing rate\n",
        "def calculate_accuracy_sum_gt(model, data_loader, target_firing_rate_value=10):\n",
        "    model.eval()  # Set the model to evaluation mode\n",
        "    correct = 0\n",
        "    total = 0\n",
        "\n",
        "    with torch.no_grad():  # Disable gradient calculations\n",
        "        for inputs, targets in data_loader:\n",
        "            inputs = inputs.transpose(1, 2)  # Ensure input shape matches model requirements\n",
        "            outputs, _, _ = model(inputs)\n",
        "            outputs = outputs.sum(dim=1)\n",
        "\n",
        "            # Create target firing rate tensor\n",
        "            target_firing_rate = torch.zeros_like(outputs).to(outputs.device)\n",
        "            target_firing_rate[targets == 1] = target_firing_rate_value\n",
        "            target_firing_rate[targets == 0] = 0\n",
        "\n",
        "            # Use sigmoid activation and round predictions for binary classification\n",
        "            predictions = torch.round(torch.sigmoid(outputs))\n",
        "\n",
        "            # Compare predictions with target firing rate (binary form)\n",
        "            binary_target = (target_firing_rate == target_firing_rate_value).float()\n",
        "\n",
        "            correct += (predictions == binary_target).sum().item()\n",
        "            total += targets.size(0)\n",
        "\n",
        "    accuracy = correct / total\n",
        "    return accuracy\n",
        "\n",
        "# Training and Validation loop\n",
        "for epoch in range(n_epochs):\n",
        "    net_32.train()  # Set the model to training mode\n",
        "    epoch_loss = 0.0  # Initialize running loss for training\n",
        "\n",
        "    # Training phase\n",
        "    for inputs, targets in train_loader:\n",
        "        optimizer.zero_grad()  # Clear gradients\n",
        "\n",
        "        # Adjust input dimensions to match model expectations\n",
        "        inputs = inputs.transpose(1, 2)\n",
        "\n",
        "        # Forward pass through the network\n",
        "        outputs, _, _ = net_32(inputs)  # Output shape [batch_size, n_time, n_classes]\n",
        "        outputs_sum = outputs.sum(dim=1)  # Sum spikes over the time dimension\n",
        "\n",
        "        # Create target firing rate tensor\n",
        "        target_firing_rate = torch.zeros_like(outputs_sum).to(outputs.device)\n",
        "        target_firing_rate[targets == 1] = 10  # Set firing rate for positive class\n",
        "        target_firing_rate[targets == 0] = 0   # Set firing rate for negative class\n",
        "\n",
        "        # Compute the loss using target firing rate\n",
        "        loss = loss_fun(outputs_sum, target_firing_rate)\n",
        "\n",
        "        # Backward pass and optimization\n",
        "        loss.backward()\n",
        "        optimizer.step()\n",
        "\n",
        "        # Accumulate loss for this batch\n",
        "        epoch_loss += loss.item()\n",
        "\n",
        "    # Calculate average training loss for the epoch\n",
        "    avg_train_loss = epoch_loss / len(train_loader)\n",
        "\n",
        "    # Validation phase\n",
        "    net_32.eval()  # Set the model to evaluation mode\n",
        "    val_loss = 0.0  # Initialize running loss for validation\n",
        "    with torch.no_grad():\n",
        "        for inputs, targets in val_loader:\n",
        "            inputs = inputs.transpose(1, 2)\n",
        "            outputs, _, _ = net_32(inputs)\n",
        "            outputs_sum = outputs.sum(dim=1)\n",
        "\n",
        "            # Create target firing rate tensor for validation\n",
        "            target_firing_rate = torch.zeros_like(outputs_sum).to(outputs.device)\n",
        "            target_firing_rate[targets == 1] = 10  # Firing rate for positive class\n",
        "            target_firing_rate[targets == 0] = 0   # Firing rate for negative class\n",
        "\n",
        "            # Compute validation loss\n",
        "            loss = loss_fun(outputs_sum, target_firing_rate)\n",
        "\n",
        "            # Accumulate validation loss\n",
        "            val_loss += loss.item()\n",
        "\n",
        "    # Calculate average validation loss for the epoch\n",
        "    avg_val_loss = val_loss / len(val_loader)\n",
        "\n",
        "    # Calculate validation accuracy\n",
        "    val_accuracy = calculate_accuracy_sum_gt(net_32, val_loader)\n",
        "\n",
        "    # Log training loss, validation loss, and accuracy to W&B\n",
        "    wandb.log({\n",
        "        \"epoch\": epoch + 1,\n",
        "        \"train_loss\": avg_train_loss,\n",
        "        \"val_loss\": avg_val_loss,\n",
        "        \"val_accuracy\": val_accuracy\n",
        "    })\n",
        "\n",
        "    # Print training and validation losses, and validation accuracy for the current epoch\n",
        "    print(f'Epoch {epoch + 1}/{n_epochs}, Training Loss: {avg_train_loss}, Validation Loss: {avg_val_loss}, Validation Accuracy: {val_accuracy * 100:.2f}%')\n",
        "\n",
        "# Final evaluation on test data\n",
        "test_accuracy = calculate_accuracy_sum_gt(net_32, test_loader)\n",
        "\n",
        "# Log test accuracy to W&B\n",
        "wandb.log({\"test_accuracy\": test_accuracy})\n",
        "\n",
        "# Print the final test accuracy\n",
        "print(f'Test Accuracy: {test_accuracy * 100:.2f}%')\n",
        "\n",
        "# Save the model\n",
        "torch.save(net_32.state_dict(), \"model_sum_32.pth\")\n",
        "wandb.save(\"model_sum_32.pth\")\n",
        "\n",
        "# Finish the W&B run\n",
        "wandb.finish()\n",
        "\n"
      ]
    },
    {
      "cell_type": "code",
      "execution_count": 53,
      "metadata": {},
      "outputs": [
        {
          "data": {
            "text/html": [
              "Tracking run with wandb version 0.18.1"
            ],
            "text/plain": [
              "<IPython.core.display.HTML object>"
            ]
          },
          "metadata": {},
          "output_type": "display_data"
        },
        {
          "data": {
            "text/html": [
              "Run data is saved locally in <code>/Users/xiaoyuliu/Documents/school/capstone/project-12-prototype-bio-acoustic-detection-system-soundsentinel/wandb/run-20240919_231724-gtq946vp</code>"
            ],
            "text/plain": [
              "<IPython.core.display.HTML object>"
            ]
          },
          "metadata": {},
          "output_type": "display_data"
        },
        {
          "data": {
            "text/html": [
              "Syncing run <strong><a href='https://wandb.ai/18750937507-uwa/SNN_meerkat/runs/gtq946vp' target=\"_blank\">sum,gt,32layer,augment</a></strong> to <a href='https://wandb.ai/18750937507-uwa/SNN_meerkat' target=\"_blank\">Weights & Biases</a> (<a href='https://wandb.me/run' target=\"_blank\">docs</a>)<br/>"
            ],
            "text/plain": [
              "<IPython.core.display.HTML object>"
            ]
          },
          "metadata": {},
          "output_type": "display_data"
        },
        {
          "data": {
            "text/html": [
              " View project at <a href='https://wandb.ai/18750937507-uwa/SNN_meerkat' target=\"_blank\">https://wandb.ai/18750937507-uwa/SNN_meerkat</a>"
            ],
            "text/plain": [
              "<IPython.core.display.HTML object>"
            ]
          },
          "metadata": {},
          "output_type": "display_data"
        },
        {
          "data": {
            "text/html": [
              " View run at <a href='https://wandb.ai/18750937507-uwa/SNN_meerkat/runs/gtq946vp' target=\"_blank\">https://wandb.ai/18750937507-uwa/SNN_meerkat/runs/gtq946vp</a>"
            ],
            "text/plain": [
              "<IPython.core.display.HTML object>"
            ]
          },
          "metadata": {},
          "output_type": "display_data"
        },
        {
          "name": "stdout",
          "output_type": "stream",
          "text": [
            "Epoch 1/10, Training Loss: 51.545400943396224, Validation Loss: 43.142857142857146, Validation Accuracy: 75.00%\n",
            "Epoch 2/10, Training Loss: 56.68514150943396, Validation Loss: 53.245535714285715, Validation Accuracy: 49.04%\n",
            "Epoch 3/10, Training Loss: 59.549528301886795, Validation Loss: 49.330357142857146, Validation Accuracy: 55.29%\n",
            "Epoch 4/10, Training Loss: 49.51002358490566, Validation Loss: 48.99107142857143, Validation Accuracy: 63.46%\n",
            "Epoch 5/10, Training Loss: 48.696933962264154, Validation Loss: 47.933035714285715, Validation Accuracy: 65.38%\n",
            "Epoch 6/10, Training Loss: 45.73997641509434, Validation Loss: 56.473214285714285, Validation Accuracy: 64.90%\n",
            "Epoch 7/10, Training Loss: 57.9622641509434, Validation Loss: 48.84375, Validation Accuracy: 55.77%\n",
            "Epoch 8/10, Training Loss: 45.308372641509436, Validation Loss: 50.92857142857143, Validation Accuracy: 60.10%\n",
            "Epoch 9/10, Training Loss: 48.21521226415094, Validation Loss: 46.5625, Validation Accuracy: 63.94%\n",
            "Epoch 10/10, Training Loss: 45.959316037735846, Validation Loss: 51.575892857142854, Validation Accuracy: 53.85%\n",
            "Test Accuracy: 55.66%\n"
          ]
        },
        {
          "data": {
            "text/html": [
              "<style>\n",
              "    table.wandb td:nth-child(1) { padding: 0 10px; text-align: left ; width: auto;} td:nth-child(2) {text-align: left ; width: 100%}\n",
              "    .wandb-row { display: flex; flex-direction: row; flex-wrap: wrap; justify-content: flex-start; width: 100% }\n",
              "    .wandb-col { display: flex; flex-direction: column; flex-basis: 100%; flex: 1; padding: 10px; }\n",
              "    </style>\n",
              "<div class=\"wandb-row\"><div class=\"wandb-col\"><h3>Run history:</h3><br/><table class=\"wandb\"><tr><td>epoch</td><td>▁▂▃▃▄▅▆▆▇█</td></tr><tr><td>test_accuracy</td><td>▁</td></tr><tr><td>train_loss</td><td>▄▇█▃▃▁▇▁▂▁</td></tr><tr><td>val_accuracy</td><td>█▁▃▅▅▅▃▄▅▂</td></tr><tr><td>val_loss</td><td>▁▆▄▄▄█▄▅▃▅</td></tr></table><br/></div><div class=\"wandb-col\"><h3>Run summary:</h3><br/><table class=\"wandb\"><tr><td>epoch</td><td>10</td></tr><tr><td>test_accuracy</td><td>0.5566</td></tr><tr><td>train_loss</td><td>45.95932</td></tr><tr><td>val_accuracy</td><td>0.53846</td></tr><tr><td>val_loss</td><td>51.57589</td></tr></table><br/></div></div>"
            ],
            "text/plain": [
              "<IPython.core.display.HTML object>"
            ]
          },
          "metadata": {},
          "output_type": "display_data"
        },
        {
          "data": {
            "text/html": [
              " View run <strong style=\"color:#cdcd00\">sum,gt,32layer,augment</strong> at: <a href='https://wandb.ai/18750937507-uwa/SNN_meerkat/runs/gtq946vp' target=\"_blank\">https://wandb.ai/18750937507-uwa/SNN_meerkat/runs/gtq946vp</a><br/> View project at: <a href='https://wandb.ai/18750937507-uwa/SNN_meerkat' target=\"_blank\">https://wandb.ai/18750937507-uwa/SNN_meerkat</a><br/>Synced 5 W&B file(s), 0 media file(s), 0 artifact file(s) and 1 other file(s)"
            ],
            "text/plain": [
              "<IPython.core.display.HTML object>"
            ]
          },
          "metadata": {},
          "output_type": "display_data"
        },
        {
          "data": {
            "text/html": [
              "Find logs at: <code>./wandb/run-20240919_231724-gtq946vp/logs</code>"
            ],
            "text/plain": [
              "<IPython.core.display.HTML object>"
            ]
          },
          "metadata": {},
          "output_type": "display_data"
        }
      ],
      "source": [
        "wandb.init(project=\"SNN_meerkat\", config={\n",
        "    \"learning_rate\": 1e-3,\n",
        "    \"epochs\": 10,\n",
        "    \"batch_size\": 32,\n",
        "},name=\"sum,gt,32layer,augment\")\n",
        "\n",
        "# Access hyperparameters\n",
        "learning_rate = wandb.config.learning_rate\n",
        "n_epochs = wandb.config.epochs\n",
        "batch_size = wandb.config.batch_size\n",
        "\n",
        "\n",
        "# Define the loss function and optimizer\n",
        "optimizer = Adam(net_32.parameters().astorch(), lr=1e-3)\n",
        "loss_fun = MSELoss()\n",
        "n_epochs = 10\n",
        "set_seed(seed)\n",
        "\n",
        "\n",
        "\n",
        "# Training and Validation loop\n",
        "for epoch in range(n_epochs):\n",
        "    net_32.train()  # Set the model to training mode\n",
        "    epoch_loss = 0.0  # Initialize running loss for training\n",
        "\n",
        "    # Training phase\n",
        "    for inputs, targets in augment_train_data(train_loader):\n",
        "        optimizer.zero_grad()  # Clear gradients\n",
        "\n",
        "        # Adjust input dimensions to match model expectations\n",
        "        inputs = inputs.transpose(1, 2)\n",
        "\n",
        "        # Forward pass through the network\n",
        "        outputs, _, _ = net_32(inputs)  # Output shape [batch_size, n_time, n_classes]\n",
        "        outputs_sum = outputs.sum(dim=1)  # Sum spikes over the time dimension\n",
        "\n",
        "        # Create target firing rate tensor\n",
        "        target_firing_rate = torch.zeros_like(outputs_sum).to(outputs.device)\n",
        "        target_firing_rate[targets == 1] = 10  # Set firing rate for positive class\n",
        "        target_firing_rate[targets == 0] = 0   # Set firing rate for negative class\n",
        "\n",
        "        # Compute the loss using target firing rate\n",
        "        loss = loss_fun(outputs_sum, target_firing_rate)\n",
        "\n",
        "        # Backward pass and optimization\n",
        "        loss.backward()\n",
        "        optimizer.step()\n",
        "\n",
        "        # Accumulate loss for this batch\n",
        "        epoch_loss += loss.item()\n",
        "\n",
        "    # Calculate average training loss for the epoch\n",
        "    avg_train_loss = epoch_loss / len(train_loader)\n",
        "\n",
        "    # Validation phase\n",
        "    net_32.eval()  # Set the model to evaluation mode\n",
        "    val_loss = 0.0  # Initialize running loss for validation\n",
        "    with torch.no_grad():\n",
        "        for inputs, targets in val_loader:\n",
        "            inputs = inputs.transpose(1, 2)\n",
        "            outputs, _, _ = net_32(inputs)\n",
        "            outputs_sum = outputs.sum(dim=1)\n",
        "\n",
        "            # Create target firing rate tensor for validation\n",
        "            target_firing_rate = torch.zeros_like(outputs_sum).to(outputs.device)\n",
        "            target_firing_rate[targets == 1] = 10  # Firing rate for positive class\n",
        "            target_firing_rate[targets == 0] = 0   # Firing rate for negative class\n",
        "\n",
        "            # Compute validation loss\n",
        "            loss = loss_fun(outputs_sum, target_firing_rate)\n",
        "\n",
        "            # Accumulate validation loss\n",
        "            val_loss += loss.item()\n",
        "\n",
        "    # Calculate average validation loss for the epoch\n",
        "    avg_val_loss = val_loss / len(val_loader)\n",
        "\n",
        "    # Calculate validation accuracy\n",
        "    val_accuracy = calculate_accuracy_sum_gt(net_32, val_loader)\n",
        "\n",
        "    # Log training loss, validation loss, and accuracy to W&B\n",
        "    wandb.log({\n",
        "        \"epoch\": epoch + 1,\n",
        "        \"train_loss\": avg_train_loss,\n",
        "        \"val_loss\": avg_val_loss,\n",
        "        \"val_accuracy\": val_accuracy\n",
        "    })\n",
        "\n",
        "    # Print training and validation losses, and validation accuracy for the current epoch\n",
        "    print(f'Epoch {epoch + 1}/{n_epochs}, Training Loss: {avg_train_loss}, Validation Loss: {avg_val_loss}, Validation Accuracy: {val_accuracy * 100:.2f}%')\n",
        "\n",
        "# Final evaluation on test data\n",
        "test_accuracy = calculate_accuracy_sum_gt(net_32, test_loader)\n",
        "\n",
        "# Log test accuracy to W&B\n",
        "wandb.log({\"test_accuracy\": test_accuracy})\n",
        "\n",
        "# Print the final test accuracy\n",
        "print(f'Test Accuracy: {test_accuracy * 100:.2f}%')\n",
        "\n",
        "# Save the model\n",
        "torch.save(net_32.state_dict(), \"model_sum_32.pth\")\n",
        "wandb.save(\"model_sum_32.pth\")\n",
        "\n",
        "# Finish the W&B run\n",
        "wandb.finish()\n",
        "\n"
      ]
    },
    {
      "cell_type": "code",
      "execution_count": 60,
      "metadata": {},
      "outputs": [
        {
          "data": {
            "text/html": [
              "Tracking run with wandb version 0.18.1"
            ],
            "text/plain": [
              "<IPython.core.display.HTML object>"
            ]
          },
          "metadata": {},
          "output_type": "display_data"
        },
        {
          "data": {
            "text/html": [
              "Run data is saved locally in <code>/Users/xiaoyuliu/Documents/school/capstone/project-12-prototype-bio-acoustic-detection-system-soundsentinel/wandb/run-20240917_150018-vohnr0f7</code>"
            ],
            "text/plain": [
              "<IPython.core.display.HTML object>"
            ]
          },
          "metadata": {},
          "output_type": "display_data"
        },
        {
          "data": {
            "text/html": [
              "Syncing run <strong><a href='https://wandb.ai/18750937507-uwa/SNN_meerkat/runs/vohnr0f7' target=\"_blank\">32layer, augmented_data, outputs.mean,learning_rate=1e-4</a></strong> to <a href='https://wandb.ai/18750937507-uwa/SNN_meerkat' target=\"_blank\">Weights & Biases</a> (<a href='https://wandb.me/run' target=\"_blank\">docs</a>)<br/>"
            ],
            "text/plain": [
              "<IPython.core.display.HTML object>"
            ]
          },
          "metadata": {},
          "output_type": "display_data"
        },
        {
          "data": {
            "text/html": [
              " View project at <a href='https://wandb.ai/18750937507-uwa/SNN_meerkat' target=\"_blank\">https://wandb.ai/18750937507-uwa/SNN_meerkat</a>"
            ],
            "text/plain": [
              "<IPython.core.display.HTML object>"
            ]
          },
          "metadata": {},
          "output_type": "display_data"
        },
        {
          "data": {
            "text/html": [
              " View run at <a href='https://wandb.ai/18750937507-uwa/SNN_meerkat/runs/vohnr0f7' target=\"_blank\">https://wandb.ai/18750937507-uwa/SNN_meerkat/runs/vohnr0f7</a>"
            ],
            "text/plain": [
              "<IPython.core.display.HTML object>"
            ]
          },
          "metadata": {},
          "output_type": "display_data"
        },
        {
          "name": "stdout",
          "output_type": "stream",
          "text": [
            "Epoch 1/10, Training Loss: 0.1021600252474254, Validation Loss: 0.26871928333171774, Validation Accuracy: 84.13%\n",
            "Epoch 2/10, Training Loss: 0.09652927820131464, Validation Loss: 0.25976357316332205, Validation Accuracy: 81.73%\n",
            "Epoch 3/10, Training Loss: 0.09373572356296035, Validation Loss: 0.26413463934191633, Validation Accuracy: 83.17%\n",
            "Epoch 4/10, Training Loss: 0.09605242301411224, Validation Loss: 0.2624313802059208, Validation Accuracy: 80.29%\n",
            "Epoch 5/10, Training Loss: 0.1035680463713295, Validation Loss: 0.2693499071257455, Validation Accuracy: 80.29%\n",
            "Epoch 6/10, Training Loss: 0.09407506890173228, Validation Loss: 0.2604817295713084, Validation Accuracy: 75.00%\n",
            "Epoch 7/10, Training Loss: 0.09762089910372249, Validation Loss: 0.30404669924506117, Validation Accuracy: 79.33%\n",
            "Epoch 8/10, Training Loss: 0.09325886995724912, Validation Loss: 0.2740780668599265, Validation Accuracy: 80.29%\n",
            "Epoch 9/10, Training Loss: 0.1008986473645804, Validation Loss: 0.2699350163872753, Validation Accuracy: 79.81%\n",
            "Epoch 10/10, Training Loss: 0.08856957367146914, Validation Loss: 0.25909399959657875, Validation Accuracy: 71.63%\n",
            "Training completed\n",
            "Test Accuracy: 76.42%\n"
          ]
        },
        {
          "data": {
            "text/html": [
              "<style>\n",
              "    table.wandb td:nth-child(1) { padding: 0 10px; text-align: left ; width: auto;} td:nth-child(2) {text-align: left ; width: 100%}\n",
              "    .wandb-row { display: flex; flex-direction: row; flex-wrap: wrap; justify-content: flex-start; width: 100% }\n",
              "    .wandb-col { display: flex; flex-direction: column; flex-basis: 100%; flex: 1; padding: 10px; }\n",
              "    </style>\n",
              "<div class=\"wandb-row\"><div class=\"wandb-col\"><h3>Run history:</h3><br/><table class=\"wandb\"><tr><td>epoch</td><td>▁▂▃▃▄▅▆▆▇█</td></tr><tr><td>test_accuracy</td><td>▁</td></tr><tr><td>train_loss</td><td>▇▅▃▄█▄▅▃▇▁</td></tr><tr><td>val_accuracy</td><td>█▇▇▆▆▃▅▆▆▁</td></tr><tr><td>val_loss</td><td>▂▁▂▂▃▁█▃▃▁</td></tr></table><br/></div><div class=\"wandb-col\"><h3>Run summary:</h3><br/><table class=\"wandb\"><tr><td>epoch</td><td>10</td></tr><tr><td>test_accuracy</td><td>0.76415</td></tr><tr><td>train_loss</td><td>0.08857</td></tr><tr><td>val_accuracy</td><td>0.71635</td></tr><tr><td>val_loss</td><td>0.25909</td></tr></table><br/></div></div>"
            ],
            "text/plain": [
              "<IPython.core.display.HTML object>"
            ]
          },
          "metadata": {},
          "output_type": "display_data"
        },
        {
          "data": {
            "text/html": [
              " View run <strong style=\"color:#cdcd00\">32layer, augmented_data, outputs.mean,learning_rate=1e-4</strong> at: <a href='https://wandb.ai/18750937507-uwa/SNN_meerkat/runs/vohnr0f7' target=\"_blank\">https://wandb.ai/18750937507-uwa/SNN_meerkat/runs/vohnr0f7</a><br/> View project at: <a href='https://wandb.ai/18750937507-uwa/SNN_meerkat' target=\"_blank\">https://wandb.ai/18750937507-uwa/SNN_meerkat</a><br/>Synced 5 W&B file(s), 0 media file(s), 2 artifact file(s) and 1 other file(s)"
            ],
            "text/plain": [
              "<IPython.core.display.HTML object>"
            ]
          },
          "metadata": {},
          "output_type": "display_data"
        },
        {
          "data": {
            "text/html": [
              "Find logs at: <code>./wandb/run-20240917_150018-vohnr0f7/logs</code>"
            ],
            "text/plain": [
              "<IPython.core.display.HTML object>"
            ]
          },
          "metadata": {},
          "output_type": "display_data"
        }
      ],
      "source": [
        "wandb.init(project=\"SNN_meerkat\", config={\n",
        "    \"learning_rate\": 1e-4,\n",
        "    \"epochs\": 10,\n",
        "    \"batch_size\": 32,\n",
        "},name=\"32layer, augmented_data, outputs.mean,learning_rate=1e-4\")\n",
        "\n",
        "# Access hyperparameters\n",
        "learning_rate = wandb.config.learning_rate\n",
        "n_epochs = wandb.config.epochs\n",
        "batch_size = wandb.config.batch_size\n",
        "\n",
        "\n",
        "# Define the loss function and optimizer\n",
        "optimizer = Adam(net_32.parameters().astorch(), lr=1e-4)\n",
        "loss_fun = MSELoss()\n",
        "n_epochs = 10\n",
        "\n",
        "def calculate_accuracy(model, data_loader):\n",
        "    model.eval()  # Set the model to evaluation mode\n",
        "    correct = 0\n",
        "    total = 0\n",
        "\n",
        "    with torch.no_grad():  # Disable gradient calculations\n",
        "        for inputs, targets in data_loader:\n",
        "            inputs = inputs.transpose(1, 2)  # Ensure input shape matches model requirements\n",
        "            outputs, _, _ = model(inputs)\n",
        "            outputs = outputs.mean(dim=1)\n",
        "\n",
        "            predictions = torch.round(torch.sigmoid(outputs))  # For binary classification\n",
        "            correct += (predictions == targets.unsqueeze(1)).sum().item()\n",
        "            total += targets.size(0)\n",
        "\n",
        "    accuracy = correct / total\n",
        "    return accuracy\n",
        "\n",
        "# Training and Validation loop\n",
        "for epoch in range(n_epochs):  # Progress bar for epochs\n",
        "    net_32.train()  # Set the model to training mode\n",
        "    epoch_loss = 0.0  # Initialize running loss for training\n",
        "\n",
        "    # Training phase\n",
        "    for inputs, targets in augment_train_data(train_loader): # Use augmented data\n",
        "\n",
        "        optimizer.zero_grad()  # Clear gradients\n",
        "\n",
        "        # Adjust input dimensions to match model expectations\n",
        "        inputs = inputs.transpose(1, 2)  # [batch_size, n_time, n_channels]\n",
        "\n",
        "        # Forward pass through the network\n",
        "        output, _, _ = net_32(inputs)  # Output shape [batch_size, n_time, n_classes]\n",
        "        output = output.mean(dim=1)  # mean spikes over the time dimension [batch_size, n_classes]\n",
        "\n",
        "        # Ensure targets are of float type as required by MSELoss\n",
        "        targets = targets.float().unsqueeze(1)  # Reshape targets to [batch_size, 1]\n",
        "\n",
        "        # Compute the loss\n",
        "        loss = loss_fun(output, targets)\n",
        "\n",
        "        # Backward pass and optimization\n",
        "        loss.backward()  # Compute gradients\n",
        "        optimizer.step()  # Update model parameters\n",
        "\n",
        "        # Accumulate loss for this batch\n",
        "        epoch_loss += loss.item()\n",
        "\n",
        "    # Calculate average training loss for the epoch\n",
        "    avg_train_loss = epoch_loss / len(train_loader)\n",
        "\n",
        "    # Validation phase\n",
        "    net_32.eval()  # Set the model to evaluation mode\n",
        "    val_loss = 0.0  # Initialize running loss for validation\n",
        "    with torch.no_grad():  # Disable gradient calculation for validation\n",
        "        for inputs, targets in val_loader:\n",
        "            # Adjust input dimensions to match model expectations\n",
        "            inputs = inputs.transpose(1, 2)  # [batch_size, n_time, n_channels]\n",
        "\n",
        "            # Forward pass through the network\n",
        "            output, _, _ = net_32(inputs)\n",
        "            output = output.mean(dim=1)  # mean spikes over the time dimension\n",
        "\n",
        "            # Ensure targets are of float type\n",
        "            targets = targets.float().unsqueeze(1)\n",
        "\n",
        "            # Compute validation loss\n",
        "            loss = loss_fun(output, targets)\n",
        "\n",
        "            # Accumulate validation loss\n",
        "            val_loss += loss.item()\n",
        "\n",
        "    # Calculate average validation loss for the epoch\n",
        "    avg_val_loss = val_loss / len(val_loader)\n",
        "\n",
        "    # Calculate validation accuracy\n",
        "    val_accuracy = calculate_accuracy(net_32, val_loader)\n",
        "\n",
        "    # Log training loss, validation loss, and accuracy to W&B\n",
        "    wandb.log({\n",
        "        \"epoch\": epoch + 1,\n",
        "        \"train_loss\": avg_train_loss,\n",
        "        \"val_loss\": avg_val_loss,\n",
        "        \"val_accuracy\": val_accuracy  # Log accuracy\n",
        "    })\n",
        "\n",
        "    # Print training and validation losses, and validation accuracy for the current epoch\n",
        "    print(f'Epoch {epoch + 1}/{n_epochs}, Training Loss: {avg_train_loss}, Validation Loss: {avg_val_loss}, Validation Accuracy: {val_accuracy * 100:.2f}%')\n",
        "\n",
        "# End of training\n",
        "print('Training completed')\n",
        "\n",
        "\n",
        "\n",
        "# Final evaluation on test data (to evaluate generalization after training)\n",
        "test_accuracy = calculate_accuracy(net_32, test_loader)\n",
        "\n",
        "# Log test accuracy to W&B\n",
        "wandb.log({\"test_accuracy\": test_accuracy})\n",
        "\n",
        "# Print the final test accuracy\n",
        "print(f'Test Accuracy: {test_accuracy * 100:.2f}%')\n",
        "\n",
        "\n",
        "# Optionally save the model using W&B\n",
        "torch.save(net_32.state_dict(), \"model_32layer_augmented_1e-4.pth\")\n",
        "wandb.save(\"model_32layer_augmented_1e-4.pth\")\n",
        "\n",
        "# Finish the W&B run\n",
        "wandb.finish()\n",
        "\n"
      ]
    }
  ],
  "metadata": {
    "colab": {
      "provenance": []
    },
    "kernelspec": {
      "display_name": "Python 3",
      "name": "python3"
    },
    "language_info": {
      "codemirror_mode": {
        "name": "ipython",
        "version": 3
      },
      "file_extension": ".py",
      "mimetype": "text/x-python",
      "name": "python",
      "nbconvert_exporter": "python",
      "pygments_lexer": "ipython3",
      "version": "3.8.19"
    }
  },
  "nbformat": 4,
  "nbformat_minor": 0
}
