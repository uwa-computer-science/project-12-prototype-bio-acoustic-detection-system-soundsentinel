{
  "cells": [
    {
      "cell_type": "code",
      "execution_count": null,
      "metadata": {
        "colab": {
          "base_uri": "https://localhost:8080/",
          "height": 53
        },
        "id": "hdAtTAqBIM_7",
        "outputId": "c49eb6d9-a330-4a83-c73c-eb96a8419d1f"
      },
      "outputs": [
        {
          "data": {
            "application/vnd.google.colaboratory.intrinsic+json": {
              "type": "string"
            },
            "text/plain": [
              "'\\ndataset: \\nignoring labels 1, 3, and 4, retaining only labels 0 (background noise) and label 2 (target class). \\nbackground noise (label 0) is downsampled to ensure it matches the number of samples with label 2 \\nsplit the dataset using torch.utils.data.random_split, into 80% for the training set, 10% for the test set, and 10% for the validation set\\nmodel:\\nloss function modified to (MSE) loss \\noutput: sums the spikes along time dimension \\nvisualize the internal activity \\n'"
            ]
          },
          "execution_count": 3,
          "metadata": {},
          "output_type": "execute_result"
        }
      ],
      "source": [
        "\"\"\"\n",
        "v2:\n",
        "dataset:\n",
        "ignoring labels 1, 3, and 4, retaining only labels 0 (background noise) and label 2 (target class).\n",
        "background noise (label 0) is downsampled to ensure it matches the number of samples with label 2\n",
        "split the dataset using torch.utils.data.random_split, into 80% for the training set, 10% for the test set, and 10% for the validation set\n",
        "model:\n",
        "loss function modified to (MSE) loss\n",
        "output: sums the spikes along time dimension\n",
        "visualize the internal activity\n",
        "\n",
        "v3:\n",
        "split the dataset using random_split\n",
        "Data Augmentation: for train_loader label 1\n",
        "  time_shift: Shifts the event data along the time axis.\n",
        "  add_noise: Adds Gaussian noise to event data.\n",
        "  random_drop: Randomly drops parts of the event data.\n",
        "add Weights and Biases to track training results\n",
        "\n",
        "try differnt output: \n",
        "output = output.sum(dim=1) \n",
        "output = output.mean(dim=1) \n",
        "and synnet with different hidden layer\n",
        "\n",
        "the best model is synnet with 32 hidden layer use augmented data,and mean around each time series. the accuracy rate is 80%\n",
        "\n",
        "\"\"\"\n",
        "\n"
      ]
    },
    {
      "cell_type": "code",
      "execution_count": 9,
      "metadata": {
        "colab": {
          "base_uri": "https://localhost:8080/"
        },
        "id": "XZE_AoYPs1Jr",
        "outputId": "cf024937-d09a-480e-f854-6d5d3d8ef60b"
      },
      "outputs": [
        {
          "name": "stdout",
          "output_type": "stream",
          "text": [
            "Original Labels distribution: tensor([1294,   95, 1046,   53,   40])\n"
          ]
        },
        {
          "name": "stderr",
          "output_type": "stream",
          "text": [
            "/var/folders/kd/vt_v73sx4y5b36zjny3pbn380000gn/T/ipykernel_99291/4283774041.py:5: FutureWarning: You are using `torch.load` with `weights_only=False` (the current default value), which uses the default pickle module implicitly. It is possible to construct malicious pickle data which will execute arbitrary code during unpickling (See https://github.com/pytorch/pytorch/blob/main/SECURITY.md#untrusted-models for more details). In a future release, the default value for `weights_only` will be flipped to `True`. This limits the functions that could be executed during unpickling. Arbitrary objects will no longer be allowed to be loaded via this mode unless they are explicitly allowlisted by the user via `torch.serialization.add_safe_globals`. We recommend you start setting `weights_only=True` for any use case where you don't have full control of the loaded file. Please open an issue on GitHub for any issues related to this experimental feature.\n",
            "  labels_tensor = torch.load(\"/Users/xiaoyuliu/Documents/school/capstone/tensors/labels_tensor.pt\")\n",
            "/var/folders/kd/vt_v73sx4y5b36zjny3pbn380000gn/T/ipykernel_99291/4283774041.py:6: FutureWarning: You are using `torch.load` with `weights_only=False` (the current default value), which uses the default pickle module implicitly. It is possible to construct malicious pickle data which will execute arbitrary code during unpickling (See https://github.com/pytorch/pytorch/blob/main/SECURITY.md#untrusted-models for more details). In a future release, the default value for `weights_only` will be flipped to `True`. This limits the functions that could be executed during unpickling. Arbitrary objects will no longer be allowed to be loaded via this mode unless they are explicitly allowlisted by the user via `torch.serialization.add_safe_globals`. We recommend you start setting `weights_only=True` for any use case where you don't have full control of the loaded file. Please open an issue on GitHub for any issues related to this experimental feature.\n",
            "  spikes_tensor = torch.load(\"/Users/xiaoyuliu/Documents/school/capstone/tensors/spike_data_tensor.pt\")\n"
          ]
        }
      ],
      "source": [
        "import torch\n",
        "import numpy as np\n",
        "\n",
        "# Load tensor\n",
        "labels_tensor = torch.load(\"/Users/xiaoyuliu/Documents/school/capstone/tensors/labels_tensor.pt\")\n",
        "spikes_tensor = torch.load(\"/Users/xiaoyuliu/Documents/school/capstone/tensors/spike_data_tensor.pt\")\n",
        "\n",
        "label_distribution = torch.bincount(labels_tensor)\n",
        "print(f'Original Labels distribution: {label_distribution}')\n"
      ]
    },
    {
      "cell_type": "markdown",
      "metadata": {
        "id": "UH-3VSb4ve9A"
      },
      "source": [
        "# dataset"
      ]
    },
    {
      "cell_type": "code",
      "execution_count": 10,
      "metadata": {
        "colab": {
          "base_uri": "https://localhost:8080/"
        },
        "id": "n9nSAyTIsrym",
        "outputId": "70a1de29-9f90-47cc-ff5c-c4dbc426f359"
      },
      "outputs": [
        {
          "name": "stdout",
          "output_type": "stream",
          "text": [
            "Number of downsampled label 0 samples: 1046\n",
            "Number of target label 1 samples: 1046\n",
            "Balanced dataset length: 2092\n",
            "Filtered Labels distribution after processing: tensor([1046, 1046])\n"
          ]
        }
      ],
      "source": [
        "import torch\n",
        "import numpy as np\n",
        "\n",
        "class CCMKDataset(torch.utils.data.Dataset):\n",
        "    def __init__(self, spikes_tensor, labels_tensor, target_label=2):\n",
        "        self.spikes_tensor = spikes_tensor\n",
        "        self.labels_tensor = labels_tensor\n",
        "        self.target_label = target_label\n",
        "\n",
        "        # Step 1: Ignore labels 1, 3, and 4\n",
        "        valid_mask = (self.labels_tensor == 0) | (self.labels_tensor == target_label)\n",
        "        self.spikes_tensor = self.spikes_tensor[valid_mask]\n",
        "        self.labels_tensor = self.labels_tensor[valid_mask]\n",
        "\n",
        "        # Convert the target label (2) to 1 (positive sample)\n",
        "        self.labels_tensor[self.labels_tensor == target_label] = 1\n",
        "\n",
        "        # Step 2: Downsample label 0 (background noise) to match the number of target samples (label 2 -> now 1)\n",
        "        label_0_indices = torch.where(self.labels_tensor == 0)[0]\n",
        "        label_1_indices = torch.where(self.labels_tensor == 1)[0]\n",
        "\n",
        "        # print samples\n",
        "        #print(f\"Number of label 0 samples before downsampling: {len(label_0_indices)}\")\n",
        "        #print(f\"Number of label 1 samples (after converting target label 2 to 1): {len(label_1_indices)}\")\n",
        "\n",
        "        num_samples = min(len(label_1_indices), len(label_0_indices))\n",
        "\n",
        "        # Randomly sample from label 0 and label 1 indices\n",
        "        selected_label_0_indices = torch.tensor(np.random.choice(label_0_indices.cpu(), size=num_samples, replace=False))\n",
        "        selected_label_1_indices = torch.tensor(np.random.choice(label_1_indices.cpu(), size=num_samples, replace=False))\n",
        "\n",
        "        # Combine the downsampled label 0 indices with label 1 indices\n",
        "        balanced_indices = torch.cat([selected_label_0_indices, selected_label_1_indices])\n",
        "\n",
        "        # print data after samples\n",
        "        print(f\"Number of downsampled label 0 samples: {len(selected_label_0_indices)}\")\n",
        "        print(f\"Number of target label 1 samples: {len(selected_label_1_indices)}\")\n",
        "        print(f\"Balanced dataset length: {len(balanced_indices)}\")\n",
        "\n",
        "        # Apply the balanced indices to spikes and labels\n",
        "        self.spikes_tensor = self.spikes_tensor[balanced_indices]\n",
        "        self.labels_tensor = self.labels_tensor[balanced_indices]\n",
        "\n",
        "        # Debugging: Check the distribution of labels after processing\n",
        "        print(f\"Filtered Labels distribution after processing: {torch.bincount(self.labels_tensor.int())}\")\n",
        "\n",
        "    def __len__(self):\n",
        "        return len(self.labels_tensor)\n",
        "\n",
        "    def __getitem__(self, idx):\n",
        "        return self.spikes_tensor[idx], self.labels_tensor[idx]\n",
        "\n",
        "dataset = CCMKDataset(spikes_tensor=spikes_tensor, labels_tensor=labels_tensor)\n"
      ]
    },
    {
      "cell_type": "markdown",
      "metadata": {
        "id": "Eax4dl-9vh0y"
      },
      "source": [
        "# split and dataloader"
      ]
    },
    {
      "cell_type": "code",
      "execution_count": 11,
      "metadata": {
        "id": "k-RVmFtMsrym"
      },
      "outputs": [],
      "source": [
        "from torch.utils.data import Dataset, DataLoader, Subset, random_split\n",
        "\n",
        "\n",
        "# Balance the dataset by selecting equal samples from both classes\n",
        "label_0_indices = torch.where(dataset.labels_tensor == 0)[0]\n",
        "label_1_indices = torch.where(dataset.labels_tensor == 1)[0]\n",
        "\n",
        "dataset_0 = torch.utils.data.Subset(dataset, label_0_indices)\n",
        "dataset_1 = torch.utils.data.Subset(dataset, label_1_indices)\n",
        "\n",
        "# Split size\n",
        "train_size_0 = int(0.8 * len(dataset_0))\n",
        "val_size_0 = int(0.1 * len(dataset_0))\n",
        "test_size_0 = len(dataset_0) - train_size_0 - val_size_0\n",
        "\n",
        "train_size_1 = int(0.8 * len(dataset_1))\n",
        "val_size_1 = int(0.1 * len(dataset_1))\n",
        "test_size_1 = len(dataset_1) - train_size_1 - val_size_1\n",
        "\n",
        "# Split the dataset\n",
        "train_dataset_0, val_dataset_0, test_dataset_0 = random_split(dataset_0, [train_size_0, val_size_0, test_size_0], generator=torch.Generator().manual_seed(42))\n",
        "train_dataset_1, val_dataset_1, test_dataset_1 = random_split(dataset_1, [train_size_1, val_size_1, test_size_1], generator=torch.Generator().manual_seed(42))\n",
        "\n",
        "# Combine splits from both classes\n",
        "train_dataset = torch.utils.data.ConcatDataset([train_dataset_0, train_dataset_1])\n",
        "val_dataset = torch.utils.data.ConcatDataset([val_dataset_0, val_dataset_1])\n",
        "test_dataset = torch.utils.data.ConcatDataset([test_dataset_0, test_dataset_1])\n",
        "\n",
        "# Create DataLoaders\n",
        "train_loader = DataLoader(train_dataset, batch_size=32, shuffle=True)\n",
        "val_loader = DataLoader(val_dataset, batch_size=32, shuffle=False)\n",
        "test_loader = DataLoader(test_dataset, batch_size=32, shuffle=False)\n"
      ]
    },
    {
      "cell_type": "code",
      "execution_count": 12,
      "metadata": {
        "colab": {
          "base_uri": "https://localhost:8080/"
        },
        "id": "KlUuFzqAZCLl",
        "outputId": "daf3ee57-22ac-4e8e-918f-8acaa5c1c176"
      },
      "outputs": [
        {
          "name": "stdout",
          "output_type": "stream",
          "text": [
            "Train dataset size: 1672\n",
            "Test dataset size: 212\n",
            "Validation dataset size: 208\n",
            "Batch 1:\n",
            " - Inputs shape: torch.Size([32, 16, 101])\n",
            " - Targets shape: torch.Size([32])\n",
            "Train Labels distribution: tensor([836, 836])\n",
            "Validation Labels distribution: tensor([104, 104])\n",
            "Test Labels distribution: tensor([106, 106])\n"
          ]
        }
      ],
      "source": [
        "# Print the shape of the first sample in the dataset\n",
        "print(f\"Train dataset size: {len(train_dataset)}\")\n",
        "print(f\"Test dataset size: {len(test_dataset)}\")\n",
        "print(f\"Validation dataset size: {len(val_dataset)}\")\n",
        "\n",
        "# Check batch information in the train_loader\n",
        "for batch_idx, (inputs, targets) in enumerate(train_loader):\n",
        "    print(f\"Batch {batch_idx + 1}:\")\n",
        "    print(f\" - Inputs shape: {inputs.shape}\")  # Batch size x Number of channels x Number of time steps\n",
        "    print(f\" - Targets shape: {targets.shape}\")\n",
        "    break  # Only view the first batch\n",
        "\n",
        "# Calculate and print the labels distribution in each loader\n",
        "\n",
        "# Training data label distribution\n",
        "train_labels = torch.cat([batch[1] for batch in train_loader])\n",
        "print(f'Train Labels distribution: {torch.bincount(train_labels.int())}')\n",
        "\n",
        "# Validation data label distribution\n",
        "val_labels = torch.cat([batch[1] for batch in val_loader])\n",
        "print(f'Validation Labels distribution: {torch.bincount(val_labels.int())}')\n",
        "\n",
        "# Test data label distribution\n",
        "test_labels = torch.cat([batch[1] for batch in test_loader])\n",
        "print(f'Test Labels distribution: {torch.bincount(test_labels.int())}')\n"
      ]
    },
    {
      "cell_type": "markdown",
      "metadata": {
        "id": "PElTL2thvyw4"
      },
      "source": [
        "# model"
      ]
    },
    {
      "cell_type": "code",
      "execution_count": 13,
      "metadata": {
        "colab": {
          "base_uri": "https://localhost:8080/"
        },
        "id": "vwpnXLa5Yl0i",
        "outputId": "e6a7cff4-1299-486c-bfc8-2b976a4b5858"
      },
      "outputs": [
        {
          "name": "stdout",
          "output_type": "stream",
          "text": [
            "SynNet  with shape (16, 1) {\n",
            "    TorchSequential 'seq' with shape (16, 1) {\n",
            "        LinearTorch '0_LinearTorch' with shape (16, 24)\n",
            "        LIFTorch '1_LIFTorch' with shape (24, 24)\n",
            "        TimeStepDropout '2_TimeStepDropout' with shape (24,)\n",
            "        LinearTorch '3_LinearTorch' with shape (24, 24)\n",
            "        LIFTorch '4_LIFTorch' with shape (24, 24)\n",
            "        TimeStepDropout '5_TimeStepDropout' with shape (24,)\n",
            "        LinearTorch '6_LinearTorch' with shape (24, 24)\n",
            "        LIFTorch '7_LIFTorch' with shape (24, 24)\n",
            "        TimeStepDropout '8_TimeStepDropout' with shape (24,)\n",
            "        LinearTorch '9_LinearTorch' with shape (24, 1)\n",
            "        LIFTorch '10_LIFTorch' with shape (1, 1)\n",
            "    }\n",
            "}\n"
          ]
        }
      ],
      "source": [
        "import torch\n",
        "from torch.optim import Adam\n",
        "from torch.nn import MSELoss\n",
        "from rockpool.nn.networks import SynNet\n",
        "\n",
        "# Define dataset characteristics\n",
        "n_channels = 16  # Number of input channels\n",
        "n_classes = 1    # the output of MSELoss is discrite\n",
        "n_time = 101     # Number of time steps\n",
        "batch_size = 32  # Batch size\n",
        "\n",
        "# Initialize the SynNet model\n",
        "net = SynNet(\n",
        "    p_dropout = 0.1,                        # Dropout proportion to use\n",
        "    n_channels=n_channels,                # Number of input channels\n",
        "    n_classes=n_classes,                  # Number of output classes (2 for binary classification)\n",
        "    size_hidden_layers=[24, 24, 24],      # Number of neurons in each hidden layer\n",
        "    time_constants_per_layer=[2, 4, 8],   # Time constants for each layer\n",
        ")\n",
        "print(net)\n",
        "\n",
        "\n"
      ]
    },
    {
      "cell_type": "code",
      "execution_count": 7,
      "metadata": {
        "colab": {
          "base_uri": "https://localhost:8080/",
          "height": 398
        },
        "id": "1GxXaAausryn",
        "outputId": "1604ca80-2546-4b50-caa5-6adb324bb58e"
      },
      "outputs": [
        {
          "data": {
            "image/png": "[encoded data removed]",
            "text/plain": [
              "<Figure size 3600x1200 with 1 Axes>"
            ]
          },
          "metadata": {},
          "output_type": "display_data"
        }
      ],
      "source": [
        "\n",
        "# - Import the matplotlib plotting library\n",
        "import matplotlib.pyplot as plt\n",
        "plt.rcParams[\"figure.figsize\"] = [12, 4]\n",
        "plt.rcParams[\"figure.dpi\"] = 300\n",
        "\n",
        "# - Plot the synaptic time constants for each layer\n",
        "for lyr in net.lif_names[:-1]:\n",
        "    plt.plot(net.seq[lyr].tau_syn / 1e-3, label = f\"Layer {lyr}\")\n",
        "\n",
        "plt.xlabel('Neuron ID')\n",
        "plt.ylabel('Synaptic time constant (ms)')\n",
        "plt.legend();"
      ]
    },
    {
      "cell_type": "markdown",
      "metadata": {
        "id": "Y-D1lQYzsryn"
      },
      "source": [
        "# Training loop"
      ]
    },
    {
      "cell_type": "code",
      "execution_count": 25,
      "metadata": {
        "colab": {
          "base_uri": "https://localhost:8080/"
        },
        "id": "_Buz5Hglsryo",
        "outputId": "0f286141-776e-4299-bafd-7acf6c6e9b91"
      },
      "outputs": [
        {
          "name": "stderr",
          "output_type": "stream",
          "text": [
            "  5%|▌         | 1/20 [00:09<03:08,  9.94s/it]"
          ]
        },
        {
          "name": "stdout",
          "output_type": "stream",
          "text": [
            "Epoch 1/20, Training Loss: 0.1557585190770761, Validation Loss: 0.16719124146870204\n"
          ]
        },
        {
          "name": "stderr",
          "output_type": "stream",
          "text": [
            " 10%|█         | 2/20 [00:19<02:51,  9.55s/it]"
          ]
        },
        {
          "name": "stdout",
          "output_type": "stream",
          "text": [
            "Epoch 2/20, Training Loss: 0.1482561334686459, Validation Loss: 0.14036614341395243\n"
          ]
        },
        {
          "name": "stderr",
          "output_type": "stream",
          "text": [
            " 15%|█▌        | 3/20 [00:28<02:42,  9.57s/it]"
          ]
        },
        {
          "name": "stdout",
          "output_type": "stream",
          "text": [
            "Epoch 3/20, Training Loss: 0.15562320894227838, Validation Loss: 0.1468172754560198\n"
          ]
        },
        {
          "name": "stderr",
          "output_type": "stream",
          "text": [
            " 20%|██        | 4/20 [00:38<02:32,  9.51s/it]"
          ]
        },
        {
          "name": "stdout",
          "output_type": "stream",
          "text": [
            "Epoch 4/20, Training Loss: 0.15160191326208836, Validation Loss: 0.14798838006598608\n"
          ]
        },
        {
          "name": "stderr",
          "output_type": "stream",
          "text": [
            " 25%|██▌       | 5/20 [00:47<02:21,  9.41s/it]"
          ]
        },
        {
          "name": "stdout",
          "output_type": "stream",
          "text": [
            "Epoch 5/20, Training Loss: 0.15534744228956834, Validation Loss: 0.1518268489411899\n"
          ]
        },
        {
          "name": "stderr",
          "output_type": "stream",
          "text": [
            " 30%|███       | 6/20 [00:57<02:12,  9.48s/it]"
          ]
        },
        {
          "name": "stdout",
          "output_type": "stream",
          "text": [
            "Epoch 6/20, Training Loss: 0.15259203785714112, Validation Loss: 0.14763783024890081\n"
          ]
        },
        {
          "name": "stderr",
          "output_type": "stream",
          "text": [
            " 35%|███▌      | 7/20 [01:05<02:00,  9.29s/it]"
          ]
        },
        {
          "name": "stdout",
          "output_type": "stream",
          "text": [
            "Epoch 7/20, Training Loss: 0.14687840190698515, Validation Loss: 0.1385468989610672\n"
          ]
        },
        {
          "name": "stderr",
          "output_type": "stream",
          "text": [
            " 40%|████      | 8/20 [01:14<01:49,  9.13s/it]"
          ]
        },
        {
          "name": "stdout",
          "output_type": "stream",
          "text": [
            "Epoch 8/20, Training Loss: 0.15872969548657256, Validation Loss: 0.1834961058838027\n"
          ]
        },
        {
          "name": "stderr",
          "output_type": "stream",
          "text": [
            " 45%|████▌     | 9/20 [01:23<01:40,  9.15s/it]"
          ]
        },
        {
          "name": "stdout",
          "output_type": "stream",
          "text": [
            "Epoch 9/20, Training Loss: 0.14620774407994072, Validation Loss: 0.13025289667504175\n"
          ]
        },
        {
          "name": "stderr",
          "output_type": "stream",
          "text": [
            " 50%|█████     | 10/20 [01:33<01:32,  9.27s/it]"
          ]
        },
        {
          "name": "stdout",
          "output_type": "stream",
          "text": [
            "Epoch 10/20, Training Loss: 0.1509381912226947, Validation Loss: 0.1541611828974315\n"
          ]
        },
        {
          "name": "stderr",
          "output_type": "stream",
          "text": [
            " 55%|█████▌    | 11/20 [01:42<01:23,  9.23s/it]"
          ]
        },
        {
          "name": "stdout",
          "output_type": "stream",
          "text": [
            "Epoch 11/20, Training Loss: 0.15113078296746849, Validation Loss: 0.13923792008842742\n"
          ]
        },
        {
          "name": "stderr",
          "output_type": "stream",
          "text": [
            " 60%|██████    | 12/20 [01:51<01:12,  9.09s/it]"
          ]
        },
        {
          "name": "stdout",
          "output_type": "stream",
          "text": [
            "Epoch 12/20, Training Loss: 0.15874744220724646, Validation Loss: 0.15257213371140615\n"
          ]
        },
        {
          "name": "stderr",
          "output_type": "stream",
          "text": [
            " 65%|██████▌   | 13/20 [02:01<01:05,  9.33s/it]"
          ]
        },
        {
          "name": "stdout",
          "output_type": "stream",
          "text": [
            "Epoch 13/20, Training Loss: 0.14881130856163097, Validation Loss: 0.15201021518026078\n"
          ]
        },
        {
          "name": "stderr",
          "output_type": "stream",
          "text": [
            " 70%|███████   | 14/20 [02:11<00:56,  9.45s/it]"
          ]
        },
        {
          "name": "stdout",
          "output_type": "stream",
          "text": [
            "Epoch 14/20, Training Loss: 0.1454398045843502, Validation Loss: 0.1436812031481947\n"
          ]
        },
        {
          "name": "stderr",
          "output_type": "stream",
          "text": [
            " 75%|███████▌  | 15/20 [02:22<00:50, 10.11s/it]"
          ]
        },
        {
          "name": "stdout",
          "output_type": "stream",
          "text": [
            "Epoch 15/20, Training Loss: 0.15036764389501428, Validation Loss: 0.1539782445345606\n"
          ]
        },
        {
          "name": "stderr",
          "output_type": "stream",
          "text": [
            " 80%|████████  | 16/20 [02:34<00:42, 10.58s/it]"
          ]
        },
        {
          "name": "stdout",
          "output_type": "stream",
          "text": [
            "Epoch 16/20, Training Loss: 0.15008869851535223, Validation Loss: 0.13899109619004385\n"
          ]
        },
        {
          "name": "stderr",
          "output_type": "stream",
          "text": [
            " 85%|████████▌ | 17/20 [02:44<00:31, 10.46s/it]"
          ]
        },
        {
          "name": "stdout",
          "output_type": "stream",
          "text": [
            "Epoch 17/20, Training Loss: 0.14791840680365292, Validation Loss: 0.13758060655423573\n"
          ]
        },
        {
          "name": "stderr",
          "output_type": "stream",
          "text": [
            " 90%|█████████ | 18/20 [02:53<00:20, 10.08s/it]"
          ]
        },
        {
          "name": "stdout",
          "output_type": "stream",
          "text": [
            "Epoch 18/20, Training Loss: 0.150636706430957, Validation Loss: 0.1374913283756801\n"
          ]
        },
        {
          "name": "stderr",
          "output_type": "stream",
          "text": [
            " 95%|█████████▌| 19/20 [03:04<00:10, 10.17s/it]"
          ]
        },
        {
          "name": "stdout",
          "output_type": "stream",
          "text": [
            "Epoch 19/20, Training Loss: 0.1438074066953839, Validation Loss: 0.15198526850768498\n"
          ]
        },
        {
          "name": "stderr",
          "output_type": "stream",
          "text": [
            "100%|██████████| 20/20 [03:14<00:00,  9.70s/it]"
          ]
        },
        {
          "name": "stdout",
          "output_type": "stream",
          "text": [
            "Epoch 20/20, Training Loss: 0.15243135195858074, Validation Loss: 0.1338441041963441\n",
            "Training completed\n"
          ]
        },
        {
          "name": "stderr",
          "output_type": "stream",
          "text": [
            "\n"
          ]
        }
      ],
      "source": [
        "\n",
        "from tqdm import trange\n",
        "\n",
        "# Define the loss function and optimizer\n",
        "optimizer = Adam(net.parameters().astorch(), lr=1e-3)  # Use Adam optimizer with a learning rate of 1e-3\n",
        "loss_fun = MSELoss()  # Using MSE Loss as the loss function, targets are of float type\n",
        "n_epochs = 20  # Set the number of training epochs\n",
        "\n",
        "# Create a list to store the loss for each epoch\n",
        "\n",
        "train_losses = []\n",
        "val_losses = []\n",
        "\n",
        "# Training and Validation loop\n",
        "for epoch in trange(n_epochs):  # Progress bar for epochs\n",
        "    net.train()  # Set the model to training mode\n",
        "    epoch_loss = 0.0  # Initialize running loss for training\n",
        "\n",
        "    # Training phase\n",
        "    for inputs, targets in train_loader:\n",
        "        optimizer.zero_grad()  # Clear gradients\n",
        "\n",
        "        # Adjust input dimensions to match model expectations\n",
        "        inputs = inputs.transpose(1, 2)  # [batch_size, n_time, n_channels]\n",
        "\n",
        "        # Forward pass through the network\n",
        "        output, _, _ = net(inputs)  # Output shape [batch_size, n_time, n_classes]\n",
        "        output = output.mean(dim=1)  # mean spikes over the time dimension [batch_size, n_classes]\n",
        "\n",
        "        # Ensure targets are of float type as required by MSELoss\n",
        "        targets = targets.float().unsqueeze(1)  # Reshape targets to [batch_size, 1]\n",
        "\n",
        "        # Compute the loss\n",
        "        loss = loss_fun(output, targets)\n",
        "\n",
        "        # Backward pass and optimization\n",
        "        loss.backward()  # Compute gradients\n",
        "        optimizer.step()  # Update model parameters\n",
        "\n",
        "        # Accumulate loss for this batch\n",
        "        epoch_loss += loss.item()\n",
        "\n",
        "    # Calculate average training loss for the epoch\n",
        "    train_losses.append(epoch_loss / len(train_loader))\n",
        "\n",
        "    # Validation phase\n",
        "    net.eval()  # Set the model to evaluation mode\n",
        "    val_loss = 0.0  # Initialize running loss for validation\n",
        "    with torch.no_grad():  # Disable gradient calculation for validation\n",
        "        for inputs, targets in val_loader:\n",
        "            # Adjust input dimensions to match model expectations\n",
        "            inputs = inputs.transpose(1, 2)  # [batch_size, n_time, n_channels]\n",
        "\n",
        "            # Forward pass through the network\n",
        "            output, _, _ = net(inputs)\n",
        "            output = output.mean(dim=1)  # mean spikes over the time dimension\n",
        "\n",
        "            # Ensure targets are of float type\n",
        "            targets = targets.float().unsqueeze(1)\n",
        "\n",
        "            # Compute validation loss\n",
        "            loss = loss_fun(output, targets)\n",
        "\n",
        "            # Accumulate validation loss\n",
        "            val_loss += loss.item()\n",
        "\n",
        "    # Calculate average validation loss for the epoch\n",
        "    val_losses.append(val_loss / len(val_loader))\n",
        "\n",
        "    # Print training and validation losses for the current epoch\n",
        "    print(f'Epoch {epoch + 1}/{n_epochs}, Training Loss: {train_losses[-1]}, Validation Loss: {val_losses[-1]}')\n",
        "\n",
        "# End of training\n",
        "print('Training completed')\n"
      ]
    },
    {
      "cell_type": "markdown",
      "metadata": {
        "id": "Gs_IHt52sryo"
      },
      "source": [
        "# Loss Curve Plot"
      ]
    },
    {
      "cell_type": "code",
      "execution_count": 26,
      "metadata": {
        "colab": {
          "base_uri": "https://localhost:8080/",
          "height": 211
        },
        "id": "3TshIQ5czX-t",
        "outputId": "2c8e7699-e564-4a97-c73d-5adc78190e97"
      },
      "outputs": [
        {
          "data": {
            "image/png": "[encoded data removed]",
            "text/plain": [
              "<Figure size 640x480 with 1 Axes>"
            ]
          },
          "metadata": {},
          "output_type": "display_data"
        }
      ],
      "source": [
        "import matplotlib.pyplot as plt\n",
        "\n",
        "plt.plot(train_losses, label='Training Loss')\n",
        "plt.plot(val_losses, label='Validation Loss')\n",
        "plt.xlabel('Epoch')\n",
        "plt.ylabel('Loss')\n",
        "plt.legend()\n",
        "plt.show()"
      ]
    },
    {
      "cell_type": "code",
      "execution_count": 27,
      "metadata": {
        "colab": {
          "base_uri": "https://localhost:8080/"
        },
        "id": "DjUJavjzQqMq",
        "outputId": "590c7544-813a-441e-dd54-0ecfea54bbac"
      },
      "outputs": [
        {
          "name": "stdout",
          "output_type": "stream",
          "text": [
            "Accuracy: 69.34%\n"
          ]
        }
      ],
      "source": [
        "import torch\n",
        "import torch.nn.functional as F\n",
        "from sklearn.metrics import accuracy_score, confusion_matrix\n",
        "\n",
        "# Define a function to calculate accuracy\n",
        "def calculate_accuracy(model, data_loader):\n",
        "    model.eval()  # Set the model to evaluation mode\n",
        "    correct = 0\n",
        "    total = 0\n",
        "\n",
        "    all_targets = []\n",
        "    all_predictions = []\n",
        "\n",
        "    with torch.no_grad():  # Disable gradient calculations\n",
        "        for inputs, targets in data_loader:\n",
        "            inputs = inputs.transpose(1, 2)  # Ensure input shape matches model requirements\n",
        "            outputs, _, _ = model(inputs)  # Forward pass through the model\n",
        "\n",
        "            # If summing over time steps is used to get the final output:\n",
        "            outputs = outputs.mean(dim=1)  # mean spikes over the time dimension\n",
        "\n",
        "            # Use Sigmoid activation to normalize output between 0 and 1 (for binary classification)\n",
        "            predictions = torch.round(torch.sigmoid(outputs))\n",
        "\n",
        "            # Compare predictions with ground truth targets\n",
        "            correct += (predictions == targets.unsqueeze(1)).sum().item()  # Accumulate correct predictions\n",
        "            total += targets.size(0)  # Total number of samples\n",
        "\n",
        "            # Save all targets and predictions for confusion matrix\n",
        "            all_targets.extend(targets.cpu().numpy())\n",
        "            all_predictions.extend(predictions.cpu().numpy())\n",
        "\n",
        "    accuracy = correct / total  # Calculate accuracy\n",
        "    return accuracy, all_targets, all_predictions\n",
        "\n",
        "# Using the validation or test data loader\n",
        "accuracy, all_targets, all_predictions = calculate_accuracy(net, test_loader)\n",
        "\n",
        "# Print the accuracy\n",
        "print(f'Accuracy: {accuracy * 100:.2f}%')"
      ]
    },
    {
      "cell_type": "markdown",
      "metadata": {},
      "source": [
        "# train with Weights and Biases (W&B) "
      ]
    },
    {
      "cell_type": "code",
      "execution_count": 7,
      "metadata": {},
      "outputs": [],
      "source": [
        "import torch\n",
        "from torch.optim import Adam\n",
        "from torch.nn import MSELoss\n",
        "from rockpool.nn.networks import SynNet\n",
        "from tqdm import trange\n"
      ]
    },
    {
      "cell_type": "code",
      "execution_count": 38,
      "metadata": {},
      "outputs": [],
      "source": [
        "# Function to calculate accuracy\n",
        "def calculate_accuracy(model, data_loader):\n",
        "    model.eval()  # Set the model to evaluation mode\n",
        "    correct = 0\n",
        "    total = 0\n",
        "\n",
        "    with torch.no_grad():  # Disable gradient calculations\n",
        "        for inputs, targets in data_loader:\n",
        "            inputs = inputs.transpose(1, 2)  # Ensure input shape matches model requirements\n",
        "            outputs, _, _ = model(inputs)\n",
        "            outputs = outputs.mean(dim=1)\n",
        "\n",
        "            predictions = torch.round(torch.sigmoid(outputs))  # For binary classification\n",
        "            correct += (predictions == targets.unsqueeze(1)).sum().item()\n",
        "            total += targets.size(0)\n",
        "\n",
        "    accuracy = correct / total\n",
        "    return accuracy"
      ]
    },
    {
      "cell_type": "code",
      "execution_count": 50,
      "metadata": {},
      "outputs": [
        {
          "name": "stderr",
          "output_type": "stream",
          "text": [
            "\u001b[34m\u001b[1mwandb\u001b[0m: \u001b[33mWARNING\u001b[0m If you're specifying your api key in code, ensure this code is not shared publicly.\n",
            "\u001b[34m\u001b[1mwandb\u001b[0m: \u001b[33mWARNING\u001b[0m Consider setting the WANDB_API_KEY environment variable, or running `wandb login` from the command line.\n",
            "\u001b[34m\u001b[1mwandb\u001b[0m: Appending key for api.wandb.ai to your netrc file: /Users/xiaoyuliu/.netrc\n"
          ]
        },
        {
          "data": {
            "text/html": [
              "Tracking run with wandb version 0.18.1"
            ],
            "text/plain": [
              "<IPython.core.display.HTML object>"
            ]
          },
          "metadata": {},
          "output_type": "display_data"
        },
        {
          "data": {
            "text/html": [
              "Run data is saved locally in <code>/Users/xiaoyuliu/Documents/school/capstone/project-12-prototype-bio-acoustic-detection-system-soundsentinel/wandb/run-20240917_142327-bawbyxgq</code>"
            ],
            "text/plain": [
              "<IPython.core.display.HTML object>"
            ]
          },
          "metadata": {},
          "output_type": "display_data"
        },
        {
          "data": {
            "text/html": [
              "Syncing run <strong><a href='https://wandb.ai/18750937507-uwa/SNN_meerkat/runs/bawbyxgq' target=\"_blank\">outputs.mean(dim=1),learning_rate=1e-3</a></strong> to <a href='https://wandb.ai/18750937507-uwa/SNN_meerkat' target=\"_blank\">Weights & Biases</a> (<a href='https://wandb.me/run' target=\"_blank\">docs</a>)<br/>"
            ],
            "text/plain": [
              "<IPython.core.display.HTML object>"
            ]
          },
          "metadata": {},
          "output_type": "display_data"
        },
        {
          "data": {
            "text/html": [
              " View project at <a href='https://wandb.ai/18750937507-uwa/SNN_meerkat' target=\"_blank\">https://wandb.ai/18750937507-uwa/SNN_meerkat</a>"
            ],
            "text/plain": [
              "<IPython.core.display.HTML object>"
            ]
          },
          "metadata": {},
          "output_type": "display_data"
        },
        {
          "data": {
            "text/html": [
              " View run at <a href='https://wandb.ai/18750937507-uwa/SNN_meerkat/runs/bawbyxgq' target=\"_blank\">https://wandb.ai/18750937507-uwa/SNN_meerkat/runs/bawbyxgq</a>"
            ],
            "text/plain": [
              "<IPython.core.display.HTML object>"
            ]
          },
          "metadata": {},
          "output_type": "display_data"
        }
      ],
      "source": [
        "import torch\n",
        "from sklearn.metrics import accuracy_score\n",
        "import wandb\n",
        "# Initialize a new W&B run\n",
        "wandb.login(key=\"2ac9bb7cd9b60300ecd28184faa02b29add8e82b\")\n",
        "#wandb.init(project=\"SNN_meerkat\", name=\"run_with_new_lr\")\n",
        "\n",
        "wandb.init(project=\"SNN_meerkat\", config={\n",
        "    \"learning_rate\": 1e-3,\n",
        "    \"epochs\": 10,\n",
        "    \"batch_size\": 32,\n",
        "},name=\"outputs.mean(dim=1),learning_rate=1e-3\")\n",
        "# Access hyperparameters\n",
        "learning_rate = wandb.config.learning_rate\n",
        "n_epochs = wandb.config.epochs\n",
        "batch_size = wandb.config.batch_size\n",
        "\n",
        "\n",
        "# Define the loss function and optimizer\n",
        "optimizer = Adam(net.parameters().astorch(), lr=1e-3)\n",
        "loss_fun = MSELoss()\n",
        "n_epochs = 10\n"
      ]
    },
    {
      "cell_type": "code",
      "execution_count": 51,
      "metadata": {},
      "outputs": [
        {
          "name": "stdout",
          "output_type": "stream",
          "text": [
            "Epoch 1/10, Training Loss: 0.1653227058221709, Validation Loss: 0.17155092741761888, Validation Accuracy: 71.63%\n",
            "Epoch 2/10, Training Loss: 0.16347199411324734, Validation Loss: 0.16534180247357913, Validation Accuracy: 82.69%\n",
            "Epoch 3/10, Training Loss: 0.15784211049102387, Validation Loss: 0.13914733486516134, Validation Accuracy: 71.15%\n",
            "Epoch 4/10, Training Loss: 0.15940422466341056, Validation Loss: 0.14992621115275792, Validation Accuracy: 72.12%\n",
            "Epoch 5/10, Training Loss: 0.1500370832827856, Validation Loss: 0.1560626881463187, Validation Accuracy: 67.31%\n",
            "Epoch 6/10, Training Loss: 0.15300051136961523, Validation Loss: 0.1496483130114419, Validation Accuracy: 82.21%\n",
            "Epoch 7/10, Training Loss: 0.153404305284878, Validation Loss: 0.15588063161287988, Validation Accuracy: 82.69%\n",
            "Epoch 8/10, Training Loss: 0.15095414404036864, Validation Loss: 0.17053867982966558, Validation Accuracy: 81.73%\n",
            "Epoch 9/10, Training Loss: 0.14264052853269396, Validation Loss: 0.1644481590815953, Validation Accuracy: 71.63%\n",
            "Epoch 10/10, Training Loss: 0.14915527782912524, Validation Loss: 0.1416891004358019, Validation Accuracy: 71.63%\n",
            "Training completed\n",
            "Test Accuracy: 72.64%\n"
          ]
        },
        {
          "data": {
            "text/html": [
              "<style>\n",
              "    table.wandb td:nth-child(1) { padding: 0 10px; text-align: left ; width: auto;} td:nth-child(2) {text-align: left ; width: 100%}\n",
              "    .wandb-row { display: flex; flex-direction: row; flex-wrap: wrap; justify-content: flex-start; width: 100% }\n",
              "    .wandb-col { display: flex; flex-direction: column; flex-basis: 100%; flex: 1; padding: 10px; }\n",
              "    </style>\n",
              "<div class=\"wandb-row\"><div class=\"wandb-col\"><h3>Run history:</h3><br/><table class=\"wandb\"><tr><td>epoch</td><td>▁▂▃▃▄▅▆▆▇█</td></tr><tr><td>test_accuracy</td><td>▁</td></tr><tr><td>train_loss</td><td>█▇▆▆▃▄▄▄▁▃</td></tr><tr><td>val_accuracy</td><td>▃█▃▃▁███▃▃</td></tr><tr><td>val_loss</td><td>█▇▁▃▅▃▅█▆▂</td></tr></table><br/></div><div class=\"wandb-col\"><h3>Run summary:</h3><br/><table class=\"wandb\"><tr><td>epoch</td><td>10</td></tr><tr><td>test_accuracy</td><td>0.72642</td></tr><tr><td>train_loss</td><td>0.14916</td></tr><tr><td>val_accuracy</td><td>0.71635</td></tr><tr><td>val_loss</td><td>0.14169</td></tr></table><br/></div></div>"
            ],
            "text/plain": [
              "<IPython.core.display.HTML object>"
            ]
          },
          "metadata": {},
          "output_type": "display_data"
        },
        {
          "data": {
            "text/html": [
              " View run <strong style=\"color:#cdcd00\">outputs.mean(dim=1),learning_rate=1e-3</strong> at: <a href='https://wandb.ai/18750937507-uwa/SNN_meerkat/runs/bawbyxgq' target=\"_blank\">https://wandb.ai/18750937507-uwa/SNN_meerkat/runs/bawbyxgq</a><br/> View project at: <a href='https://wandb.ai/18750937507-uwa/SNN_meerkat' target=\"_blank\">https://wandb.ai/18750937507-uwa/SNN_meerkat</a><br/>Synced 5 W&B file(s), 0 media file(s), 0 artifact file(s) and 1 other file(s)"
            ],
            "text/plain": [
              "<IPython.core.display.HTML object>"
            ]
          },
          "metadata": {},
          "output_type": "display_data"
        },
        {
          "data": {
            "text/html": [
              "Find logs at: <code>./wandb/run-20240917_142327-bawbyxgq/logs</code>"
            ],
            "text/plain": [
              "<IPython.core.display.HTML object>"
            ]
          },
          "metadata": {},
          "output_type": "display_data"
        }
      ],
      "source": [
        "# Training and Validation loop\n",
        "for epoch in range(n_epochs):  # Progress bar for epochs\n",
        "    net.train()  # Set the model to training mode\n",
        "    epoch_loss = 0.0  # Initialize running loss for training\n",
        "\n",
        "    # Training phase\n",
        "    for inputs, targets in train_loader:\n",
        "        optimizer.zero_grad()  # Clear gradients\n",
        "\n",
        "        # Adjust input dimensions to match model expectations\n",
        "        inputs = inputs.transpose(1, 2)  # [batch_size, n_time, n_channels]\n",
        "\n",
        "        # Forward pass through the network\n",
        "        output, _, _ = net(inputs)  # Output shape [batch_size, n_time, n_classes]\n",
        "        output = output.mean(dim=1)  # mean spikes over the time dimension [batch_size, n_classes]\n",
        "\n",
        "        # Ensure targets are of float type as required by MSELoss\n",
        "        targets = targets.float().unsqueeze(1)  # Reshape targets to [batch_size, 1]\n",
        "\n",
        "        # Compute the loss\n",
        "        loss = loss_fun(output, targets)\n",
        "\n",
        "        # Backward pass and optimization\n",
        "        loss.backward()  # Compute gradients\n",
        "        optimizer.step()  # Update model parameters\n",
        "\n",
        "        # Accumulate loss for this batch\n",
        "        epoch_loss += loss.item()\n",
        "\n",
        "    # Calculate average training loss for the epoch\n",
        "    avg_train_loss = epoch_loss / len(train_loader)\n",
        "\n",
        "    # Validation phase\n",
        "    net.eval()  # Set the model to evaluation mode\n",
        "    val_loss = 0.0  # Initialize running loss for validation\n",
        "    with torch.no_grad():  # Disable gradient calculation for validation\n",
        "        for inputs, targets in val_loader:\n",
        "            # Adjust input dimensions to match model expectations\n",
        "            inputs = inputs.transpose(1, 2)  # [batch_size, n_time, n_channels]\n",
        "\n",
        "            # Forward pass through the network\n",
        "            output, _, _ = net(inputs)\n",
        "            output = output.mean(dim=1)  # mean spikes over the time dimension\n",
        "\n",
        "            # Ensure targets are of float type\n",
        "            targets = targets.float().unsqueeze(1)\n",
        "\n",
        "            # Compute validation loss\n",
        "            loss = loss_fun(output, targets)\n",
        "\n",
        "            # Accumulate validation loss\n",
        "            val_loss += loss.item()\n",
        "\n",
        "    # Calculate average validation loss for the epoch\n",
        "    avg_val_loss = val_loss / len(val_loader)\n",
        "\n",
        "    # Calculate validation accuracy\n",
        "    val_accuracy = calculate_accuracy(net, val_loader)\n",
        "\n",
        "    # Log training loss, validation loss, and accuracy to W&B\n",
        "    wandb.log({\n",
        "        \"epoch\": epoch + 1,\n",
        "        \"train_loss\": avg_train_loss,\n",
        "        \"val_loss\": avg_val_loss,\n",
        "        \"val_accuracy\": val_accuracy  # Log accuracy\n",
        "    })\n",
        "\n",
        "    # Print training and validation losses, and validation accuracy for the current epoch\n",
        "    print(f'Epoch {epoch + 1}/{n_epochs}, Training Loss: {avg_train_loss}, Validation Loss: {avg_val_loss}, Validation Accuracy: {val_accuracy * 100:.2f}%')\n",
        "\n",
        "# End of training\n",
        "print('Training completed')\n",
        "\n",
        "\n",
        "\n",
        "# Final evaluation on test data (to evaluate generalization after training)\n",
        "test_accuracy = calculate_accuracy(net, test_loader)\n",
        "\n",
        "# Log test accuracy to W&B\n",
        "wandb.log({\"test_accuracy\": test_accuracy})\n",
        "\n",
        "# Print the final test accuracy\n",
        "print(f'Test Accuracy: {test_accuracy * 100:.2f}%')\n",
        "\n",
        "\n",
        "# Optionally save the model using W&B\n",
        "torch.save(net.state_dict(), \"model_mean.pth\")\n",
        "wandb.save(\"model_mean.pth\")\n",
        "\n",
        "# Finish the W&B run\n",
        "wandb.finish()\n"
      ]
    },
    {
      "cell_type": "code",
      "execution_count": 52,
      "metadata": {},
      "outputs": [
        {
          "data": {
            "text/html": [
              "Tracking run with wandb version 0.18.1"
            ],
            "text/plain": [
              "<IPython.core.display.HTML object>"
            ]
          },
          "metadata": {},
          "output_type": "display_data"
        },
        {
          "data": {
            "text/html": [
              "Run data is saved locally in <code>/Users/xiaoyuliu/Documents/school/capstone/project-12-prototype-bio-acoustic-detection-system-soundsentinel/wandb/run-20240917_142536-6wivehhs</code>"
            ],
            "text/plain": [
              "<IPython.core.display.HTML object>"
            ]
          },
          "metadata": {},
          "output_type": "display_data"
        },
        {
          "data": {
            "text/html": [
              "Syncing run <strong><a href='https://wandb.ai/18750937507-uwa/SNN_meerkat/runs/6wivehhs' target=\"_blank\">outputs.sum(dim=1),learning_rate=1e-3</a></strong> to <a href='https://wandb.ai/18750937507-uwa/SNN_meerkat' target=\"_blank\">Weights & Biases</a> (<a href='https://wandb.me/run' target=\"_blank\">docs</a>)<br/>"
            ],
            "text/plain": [
              "<IPython.core.display.HTML object>"
            ]
          },
          "metadata": {},
          "output_type": "display_data"
        },
        {
          "data": {
            "text/html": [
              " View project at <a href='https://wandb.ai/18750937507-uwa/SNN_meerkat' target=\"_blank\">https://wandb.ai/18750937507-uwa/SNN_meerkat</a>"
            ],
            "text/plain": [
              "<IPython.core.display.HTML object>"
            ]
          },
          "metadata": {},
          "output_type": "display_data"
        },
        {
          "data": {
            "text/html": [
              " View run at <a href='https://wandb.ai/18750937507-uwa/SNN_meerkat/runs/6wivehhs' target=\"_blank\">https://wandb.ai/18750937507-uwa/SNN_meerkat/runs/6wivehhs</a>"
            ],
            "text/plain": [
              "<IPython.core.display.HTML object>"
            ]
          },
          "metadata": {},
          "output_type": "display_data"
        },
        {
          "name": "stdout",
          "output_type": "stream",
          "text": [
            "Epoch 1/10, Training Loss: 760.1167452830189, Validation Loss: 290.2767857142857, Validation Accuracy: 85.10%\n",
            "Epoch 2/10, Training Loss: 149.82724056603774, Validation Loss: 97.97321428571429, Validation Accuracy: 79.81%\n",
            "Epoch 3/10, Training Loss: 40.70518867924528, Validation Loss: 25.977678571428573, Validation Accuracy: 67.79%\n",
            "Epoch 4/10, Training Loss: 7.476415094339623, Validation Loss: 7.325892857142857, Validation Accuracy: 56.25%\n",
            "Epoch 5/10, Training Loss: 2.2258254716981134, Validation Loss: 5.102678571428571, Validation Accuracy: 53.37%\n",
            "Epoch 6/10, Training Loss: 1.5047169811320755, Validation Loss: 2.5580357142857144, Validation Accuracy: 51.92%\n",
            "Epoch 7/10, Training Loss: 0.8307783018867925, Validation Loss: 1.1160714285714286, Validation Accuracy: 50.00%\n",
            "Epoch 8/10, Training Loss: 0.6173349056603774, Validation Loss: 0.8214285714285714, Validation Accuracy: 50.00%\n",
            "Epoch 9/10, Training Loss: 0.5819575471698113, Validation Loss: 0.6919642857142857, Validation Accuracy: 50.48%\n",
            "Epoch 10/10, Training Loss: 0.5518867924528302, Validation Loss: 0.6919642857142857, Validation Accuracy: 50.48%\n",
            "Training completed\n",
            "Test Accuracy: 50.94%\n"
          ]
        },
        {
          "data": {
            "text/html": [
              "<style>\n",
              "    table.wandb td:nth-child(1) { padding: 0 10px; text-align: left ; width: auto;} td:nth-child(2) {text-align: left ; width: 100%}\n",
              "    .wandb-row { display: flex; flex-direction: row; flex-wrap: wrap; justify-content: flex-start; width: 100% }\n",
              "    .wandb-col { display: flex; flex-direction: column; flex-basis: 100%; flex: 1; padding: 10px; }\n",
              "    </style>\n",
              "<div class=\"wandb-row\"><div class=\"wandb-col\"><h3>Run history:</h3><br/><table class=\"wandb\"><tr><td>epoch</td><td>▁▂▃▃▄▅▆▆▇█</td></tr><tr><td>test_accuracy</td><td>▁</td></tr><tr><td>train_loss</td><td>█▂▁▁▁▁▁▁▁▁</td></tr><tr><td>val_accuracy</td><td>█▇▅▂▂▁▁▁▁▁</td></tr><tr><td>val_loss</td><td>█▃▂▁▁▁▁▁▁▁</td></tr></table><br/></div><div class=\"wandb-col\"><h3>Run summary:</h3><br/><table class=\"wandb\"><tr><td>epoch</td><td>10</td></tr><tr><td>test_accuracy</td><td>0.50943</td></tr><tr><td>train_loss</td><td>0.55189</td></tr><tr><td>val_accuracy</td><td>0.50481</td></tr><tr><td>val_loss</td><td>0.69196</td></tr></table><br/></div></div>"
            ],
            "text/plain": [
              "<IPython.core.display.HTML object>"
            ]
          },
          "metadata": {},
          "output_type": "display_data"
        },
        {
          "data": {
            "text/html": [
              " View run <strong style=\"color:#cdcd00\">outputs.sum(dim=1),learning_rate=1e-3</strong> at: <a href='https://wandb.ai/18750937507-uwa/SNN_meerkat/runs/6wivehhs' target=\"_blank\">https://wandb.ai/18750937507-uwa/SNN_meerkat/runs/6wivehhs</a><br/> View project at: <a href='https://wandb.ai/18750937507-uwa/SNN_meerkat' target=\"_blank\">https://wandb.ai/18750937507-uwa/SNN_meerkat</a><br/>Synced 5 W&B file(s), 0 media file(s), 0 artifact file(s) and 1 other file(s)"
            ],
            "text/plain": [
              "<IPython.core.display.HTML object>"
            ]
          },
          "metadata": {},
          "output_type": "display_data"
        },
        {
          "data": {
            "text/html": [
              "Find logs at: <code>./wandb/run-20240917_142536-6wivehhs/logs</code>"
            ],
            "text/plain": [
              "<IPython.core.display.HTML object>"
            ]
          },
          "metadata": {},
          "output_type": "display_data"
        }
      ],
      "source": [
        "# outputs.sum(dim=1)\n",
        "wandb.init(project=\"SNN_meerkat\", config={\n",
        "    \"learning_rate\": 1e-3,\n",
        "    \"epochs\": 10,\n",
        "    \"batch_size\": 32,\n",
        "},name=\"outputs.sum(dim=1),learning_rate=1e-3\")\n",
        "# Access hyperparameters\n",
        "learning_rate = wandb.config.learning_rate\n",
        "n_epochs = wandb.config.epochs\n",
        "batch_size = wandb.config.batch_size\n",
        "\n",
        "\n",
        "# Define the loss function and optimizer\n",
        "optimizer = Adam(net.parameters().astorch(), lr=1e-3)\n",
        "loss_fun = MSELoss()\n",
        "n_epochs = 10\n",
        "\n",
        "# Function to calculate accuracy\n",
        "def calculate_accuracy_sum(model, data_loader):\n",
        "    model.eval()  # Set the model to evaluation mode\n",
        "    correct = 0\n",
        "    total = 0\n",
        "\n",
        "    with torch.no_grad():  # Disable gradient calculations\n",
        "        for inputs, targets in data_loader:\n",
        "            inputs = inputs.transpose(1, 2)  # Ensure input shape matches model requirements\n",
        "            outputs, _, _ = model(inputs)\n",
        "            outputs = outputs.sum(dim=1)\n",
        "\n",
        "            predictions = torch.round(torch.sigmoid(outputs))  # For binary classification\n",
        "            correct += (predictions == targets.unsqueeze(1)).sum().item()\n",
        "            total += targets.size(0)\n",
        "\n",
        "    accuracy = correct / total\n",
        "    return accuracy\n",
        "# Training and Validation loop\n",
        "for epoch in range(n_epochs):  # Progress bar for epochs\n",
        "    net.train()  # Set the model to training mode\n",
        "    epoch_loss = 0.0  # Initialize running loss for training\n",
        "\n",
        "    # Training phase\n",
        "    for inputs, targets in train_loader:\n",
        "        optimizer.zero_grad()  # Clear gradients\n",
        "\n",
        "        # Adjust input dimensions to match model expectations\n",
        "        inputs = inputs.transpose(1, 2)  # [batch_size, n_time, n_channels]\n",
        "\n",
        "        # Forward pass through the network\n",
        "        output, _, _ = net(inputs)  # Output shape [batch_size, n_time, n_classes]\n",
        "        output = output.sum(dim=1)  # sum spikes over the time dimension [batch_size, n_classes]\n",
        "\n",
        "        # Ensure targets are of float type as required by MSELoss\n",
        "        targets = targets.float().unsqueeze(1)  # Reshape targets to [batch_size, 1]\n",
        "\n",
        "        # Compute the loss\n",
        "        loss = loss_fun(output, targets)\n",
        "\n",
        "        # Backward pass and optimization\n",
        "        loss.backward()  # Compute gradients\n",
        "        optimizer.step()  # Update model parameters\n",
        "\n",
        "        # Accumulate loss for this batch\n",
        "        epoch_loss += loss.item()\n",
        "\n",
        "    # Calculate average training loss for the epoch\n",
        "    avg_train_loss = epoch_loss / len(train_loader)\n",
        "\n",
        "    # Validation phase\n",
        "    net.eval()  # Set the model to evaluation mode\n",
        "    val_loss = 0.0  # Initialize running loss for validation\n",
        "    with torch.no_grad():  # Disable gradient calculation for validation\n",
        "        for inputs, targets in val_loader:\n",
        "            # Adjust input dimensions to match model expectations\n",
        "            inputs = inputs.transpose(1, 2)  # [batch_size, n_time, n_channels]\n",
        "\n",
        "            # Forward pass through the network\n",
        "            output, _, _ = net(inputs)\n",
        "            output = output.sum(dim=1)  # sum spikes over the time dimension\n",
        "\n",
        "            # Ensure targets are of float type\n",
        "            targets = targets.float().unsqueeze(1)\n",
        "\n",
        "            # Compute validation loss\n",
        "            loss = loss_fun(output, targets)\n",
        "\n",
        "            # Accumulate validation loss\n",
        "            val_loss += loss.item()\n",
        "\n",
        "    # Calculate average validation loss for the epoch\n",
        "    avg_val_loss = val_loss / len(val_loader)\n",
        "\n",
        "    # Calculate validation accuracy\n",
        "    val_accuracy = calculate_accuracy_sum(net, val_loader)\n",
        "\n",
        "    # Log training loss, validation loss, and accuracy to W&B\n",
        "    wandb.log({\n",
        "        \"epoch\": epoch + 1,\n",
        "        \"train_loss\": avg_train_loss,\n",
        "        \"val_loss\": avg_val_loss,\n",
        "        \"val_accuracy\": val_accuracy  # Log accuracy\n",
        "    })\n",
        "\n",
        "    # Print training and validation losses, and validation accuracy for the current epoch\n",
        "    print(f'Epoch {epoch + 1}/{n_epochs}, Training Loss: {avg_train_loss}, Validation Loss: {avg_val_loss}, Validation Accuracy: {val_accuracy * 100:.2f}%')\n",
        "\n",
        "# End of training\n",
        "print('Training completed')\n",
        "\n",
        "\n",
        "\n",
        "# Final evaluation on test data (to evaluate generalization after training)\n",
        "test_accuracy = calculate_accuracy_sum(net, test_loader)\n",
        "\n",
        "# Log test accuracy to W&B\n",
        "wandb.log({\"test_accuracy\": test_accuracy})\n",
        "\n",
        "# Print the final test accuracy\n",
        "print(f'Test Accuracy: {test_accuracy * 100:.2f}%')\n",
        "\n",
        "\n",
        "# Optionally save the model using W&B\n",
        "torch.save(net.state_dict(), \"model_sum.pth\")\n",
        "wandb.save(\"model_sum.pth\")\n",
        "\n",
        "# Finish the W&B run\n",
        "wandb.finish()\n"
      ]
    },
    {
      "cell_type": "markdown",
      "metadata": {},
      "source": [
        "training and validation loss are similar through epochs, and validation accuracy drops and fluctuates\n",
        "test accuracy is higher than validation accuracy"
      ]
    },
    {
      "cell_type": "markdown",
      "metadata": {
        "id": "893okgXHEAt3"
      },
      "source": []
    },
    {
      "cell_type": "code",
      "execution_count": null,
      "metadata": {
        "id": "trl2Cl_8zURu"
      },
      "outputs": [],
      "source": [
        "# Data augmentation\n"
      ]
    },
    {
      "cell_type": "code",
      "execution_count": 53,
      "metadata": {
        "id": "WHw08seNzS-q"
      },
      "outputs": [],
      "source": [
        "import numpy as np\n",
        "import torch\n",
        "from torch.utils.data import DataLoader\n",
        "\n",
        "# Data augmentation functions\n",
        "\n",
        "# Time shift function：Shifts the event data along the time axis.\n",
        "def time_shift(event_data, max_shift=5):\n",
        "    shift = np.random.randint(-max_shift, max_shift)  # Randomly choose a shift amount\n",
        "    return np.roll(event_data, shift, axis=0)  # Apply shift along the time axis\n",
        "\n",
        "# Add noise function：Adds Gaussian noise to event data.\n",
        "def add_noise(event_data, noise_factor=0.01):\n",
        "    noise = np.random.normal(0, noise_factor, event_data.shape)  # Generate Gaussian noise\n",
        "    return event_data + noise  # Add noise to the data\n",
        "\n",
        "# Random drop function：Randomly drops parts of the event data.\n",
        "def random_drop(event_data, drop_rate=0.1):\n",
        "    mask = np.random.binomial(1, 1 - drop_rate, event_data.shape)  # Generate a mask to randomly drop parts of the data\n",
        "    return event_data * mask  # Apply the mask to the data\n",
        "\n",
        "# Combine augmentation functions\n",
        "def augment_data(event_data, augmentation_funcs):\n",
        "    for func in augmentation_funcs:\n",
        "        event_data = func(event_data)  # Apply each augmentation function in sequence\n",
        "    return event_data\n",
        "\n",
        "\n",
        "\n",
        "# Data loader with augmentation applied to label 1 (event call) samples\n",
        "def augment_train_data(train_loader):\n",
        "    augmentation_funcs = [time_shift, add_noise, random_drop]  # List of augmentation functions to apply\n",
        "\n",
        "    for batch_idx, (data, labels) in enumerate(train_loader):\n",
        "        for i in range(data.shape[0]):  # Iterate over each sample in the batch\n",
        "            if labels[i] == 1:  # Only augment data with label 1 (event call)\n",
        "                # Apply augmentations and convert back to torch.Tensor\n",
        "                augmented_data = augment_data(data[i].numpy(), augmentation_funcs)  # Apply augmentations\n",
        "                data[i] = torch.from_numpy(augmented_data).to(data[i].device)  # Ensure the tensor is on the same device (CPU or GPU)\n",
        "        yield data, labels  # Yield augmented data and labels for training\n",
        "\n"
      ]
    },
    {
      "cell_type": "code",
      "execution_count": 45,
      "metadata": {
        "colab": {
          "base_uri": "https://localhost:8080/"
        },
        "id": "AGjZIP-KOyXQ",
        "outputId": "ad3359a4-6dec-4077-b2d6-518c4de7358b"
      },
      "outputs": [
        {
          "name": "stdout",
          "output_type": "stream",
          "text": [
            "Train Labels distribution: tensor([836, 836])\n"
          ]
        }
      ],
      "source": [
        "train_loader_augmented=augment_train_data(train_loader)\n",
        "train_labels_augmented = torch.cat([batch[1] for batch in train_loader_augmented])\n",
        "print(f'Train Labels distribution: {torch.bincount(train_labels_augmented.int())}')"
      ]
    },
    {
      "cell_type": "code",
      "execution_count": 54,
      "metadata": {
        "colab": {
          "base_uri": "https://localhost:8080/"
        },
        "id": "vdpbA_oQENuE",
        "outputId": "c8f07201-32bd-4e2d-ac71-bf0d80e06a22"
      },
      "outputs": [
        {
          "data": {
            "text/html": [
              "Tracking run with wandb version 0.18.1"
            ],
            "text/plain": [
              "<IPython.core.display.HTML object>"
            ]
          },
          "metadata": {},
          "output_type": "display_data"
        },
        {
          "data": {
            "text/html": [
              "Run data is saved locally in <code>/Users/xiaoyuliu/Documents/school/capstone/project-12-prototype-bio-acoustic-detection-system-soundsentinel/wandb/run-20240917_142815-hwfxczww</code>"
            ],
            "text/plain": [
              "<IPython.core.display.HTML object>"
            ]
          },
          "metadata": {},
          "output_type": "display_data"
        },
        {
          "data": {
            "text/html": [
              "Syncing run <strong><a href='https://wandb.ai/18750937507-uwa/SNN_meerkat/runs/hwfxczww' target=\"_blank\">augmented data,outputs.mean,learning_rate=1e-3</a></strong> to <a href='https://wandb.ai/18750937507-uwa/SNN_meerkat' target=\"_blank\">Weights & Biases</a> (<a href='https://wandb.me/run' target=\"_blank\">docs</a>)<br/>"
            ],
            "text/plain": [
              "<IPython.core.display.HTML object>"
            ]
          },
          "metadata": {},
          "output_type": "display_data"
        },
        {
          "data": {
            "text/html": [
              " View project at <a href='https://wandb.ai/18750937507-uwa/SNN_meerkat' target=\"_blank\">https://wandb.ai/18750937507-uwa/SNN_meerkat</a>"
            ],
            "text/plain": [
              "<IPython.core.display.HTML object>"
            ]
          },
          "metadata": {},
          "output_type": "display_data"
        },
        {
          "data": {
            "text/html": [
              " View run at <a href='https://wandb.ai/18750937507-uwa/SNN_meerkat/runs/hwfxczww' target=\"_blank\">https://wandb.ai/18750937507-uwa/SNN_meerkat/runs/hwfxczww</a>"
            ],
            "text/plain": [
              "<IPython.core.display.HTML object>"
            ]
          },
          "metadata": {},
          "output_type": "display_data"
        },
        {
          "name": "stdout",
          "output_type": "stream",
          "text": [
            "Epoch 1/10, Training Loss: 0.4913842616216192, Validation Loss: 0.4837008224089264, Validation Accuracy: 69.23%\n",
            "Epoch 2/10, Training Loss: 0.19448882791231265, Validation Loss: 0.1568618044257164, Validation Accuracy: 72.12%\n",
            "Epoch 3/10, Training Loss: 0.12692724027723637, Validation Loss: 0.21648787866745675, Validation Accuracy: 74.04%\n",
            "Epoch 4/10, Training Loss: 0.12457389539142824, Validation Loss: 0.22916695848107338, Validation Accuracy: 84.62%\n",
            "Epoch 5/10, Training Loss: 0.11334106459651354, Validation Loss: 0.19446578568645886, Validation Accuracy: 68.75%\n",
            "Epoch 6/10, Training Loss: 0.11239857184437085, Validation Loss: 0.21634126667465484, Validation Accuracy: 69.71%\n",
            "Epoch 7/10, Training Loss: 0.10239671803307983, Validation Loss: 0.27744829441819874, Validation Accuracy: 72.60%\n",
            "Epoch 8/10, Training Loss: 0.09736697990798725, Validation Loss: 0.2323922993881362, Validation Accuracy: 61.54%\n",
            "Epoch 9/10, Training Loss: 0.09009550677014971, Validation Loss: 0.256587684952787, Validation Accuracy: 67.79%\n",
            "Epoch 10/10, Training Loss: 0.10532356292571661, Validation Loss: 0.24032482345189368, Validation Accuracy: 66.83%\n",
            "Training completed\n",
            "Test Accuracy: 75.00%\n"
          ]
        },
        {
          "data": {
            "text/html": [
              "<style>\n",
              "    table.wandb td:nth-child(1) { padding: 0 10px; text-align: left ; width: auto;} td:nth-child(2) {text-align: left ; width: 100%}\n",
              "    .wandb-row { display: flex; flex-direction: row; flex-wrap: wrap; justify-content: flex-start; width: 100% }\n",
              "    .wandb-col { display: flex; flex-direction: column; flex-basis: 100%; flex: 1; padding: 10px; }\n",
              "    </style>\n",
              "<div class=\"wandb-row\"><div class=\"wandb-col\"><h3>Run history:</h3><br/><table class=\"wandb\"><tr><td>epoch</td><td>▁▂▃▃▄▅▆▆▇█</td></tr><tr><td>test_accuracy</td><td>▁</td></tr><tr><td>train_loss</td><td>█▃▂▂▁▁▁▁▁▁</td></tr><tr><td>val_accuracy</td><td>▃▄▅█▃▃▄▁▃▃</td></tr><tr><td>val_loss</td><td>█▁▂▃▂▂▄▃▃▃</td></tr></table><br/></div><div class=\"wandb-col\"><h3>Run summary:</h3><br/><table class=\"wandb\"><tr><td>epoch</td><td>10</td></tr><tr><td>test_accuracy</td><td>0.75</td></tr><tr><td>train_loss</td><td>0.10532</td></tr><tr><td>val_accuracy</td><td>0.66827</td></tr><tr><td>val_loss</td><td>0.24032</td></tr></table><br/></div></div>"
            ],
            "text/plain": [
              "<IPython.core.display.HTML object>"
            ]
          },
          "metadata": {},
          "output_type": "display_data"
        },
        {
          "data": {
            "text/html": [
              " View run <strong style=\"color:#cdcd00\">augmented data,outputs.mean,learning_rate=1e-3</strong> at: <a href='https://wandb.ai/18750937507-uwa/SNN_meerkat/runs/hwfxczww' target=\"_blank\">https://wandb.ai/18750937507-uwa/SNN_meerkat/runs/hwfxczww</a><br/> View project at: <a href='https://wandb.ai/18750937507-uwa/SNN_meerkat' target=\"_blank\">https://wandb.ai/18750937507-uwa/SNN_meerkat</a><br/>Synced 5 W&B file(s), 0 media file(s), 0 artifact file(s) and 1 other file(s)"
            ],
            "text/plain": [
              "<IPython.core.display.HTML object>"
            ]
          },
          "metadata": {},
          "output_type": "display_data"
        },
        {
          "data": {
            "text/html": [
              "Find logs at: <code>./wandb/run-20240917_142815-hwfxczww/logs</code>"
            ],
            "text/plain": [
              "<IPython.core.display.HTML object>"
            ]
          },
          "metadata": {},
          "output_type": "display_data"
        }
      ],
      "source": [
        "wandb.init(project=\"SNN_meerkat\", config={\n",
        "    \"learning_rate\": 1e-3,\n",
        "    \"epochs\": 10,\n",
        "    \"batch_size\": 32,\n",
        "},name=\"augmented data,outputs.mean,learning_rate=1e-3\")\n",
        "\n",
        "# Access hyperparameters\n",
        "learning_rate = wandb.config.learning_rate\n",
        "n_epochs = wandb.config.epochs\n",
        "batch_size = wandb.config.batch_size\n",
        "\n",
        "\n",
        "# Define the loss function and optimizer\n",
        "optimizer = Adam(net.parameters().astorch(), lr=1e-3)\n",
        "loss_fun = MSELoss()\n",
        "n_epochs = 10\n",
        "\n",
        "# Training and Validation loop\n",
        "for epoch in range(n_epochs):  # Progress bar for epochs\n",
        "    net.train()  # Set the model to training mode\n",
        "    epoch_loss = 0.0  # Initialize running loss for training\n",
        "\n",
        "    # Training phase\n",
        "    for inputs, targets in augment_train_data(train_loader): # Use augmented data\n",
        "\n",
        "        optimizer.zero_grad()  # Clear gradients\n",
        "\n",
        "        # Adjust input dimensions to match model expectations\n",
        "        inputs = inputs.transpose(1, 2)  # [batch_size, n_time, n_channels]\n",
        "\n",
        "        # Forward pass through the network\n",
        "        output, _, _ = net(inputs)  # Output shape [batch_size, n_time, n_classes]\n",
        "        output = output.mean(dim=1)  # mean spikes over the time dimension [batch_size, n_classes]\n",
        "\n",
        "        # Ensure targets are of float type as required by MSELoss\n",
        "        targets = targets.float().unsqueeze(1)  # Reshape targets to [batch_size, 1]\n",
        "\n",
        "        # Compute the loss\n",
        "        loss = loss_fun(output, targets)\n",
        "\n",
        "        # Backward pass and optimization\n",
        "        loss.backward()  # Compute gradients\n",
        "        optimizer.step()  # Update model parameters\n",
        "\n",
        "        # Accumulate loss for this batch\n",
        "        epoch_loss += loss.item()\n",
        "\n",
        "    # Calculate average training loss for the epoch\n",
        "    avg_train_loss = epoch_loss / len(train_loader)\n",
        "\n",
        "    # Validation phase\n",
        "    net.eval()  # Set the model to evaluation mode\n",
        "    val_loss = 0.0  # Initialize running loss for validation\n",
        "    with torch.no_grad():  # Disable gradient calculation for validation\n",
        "        for inputs, targets in val_loader:\n",
        "            # Adjust input dimensions to match model expectations\n",
        "            inputs = inputs.transpose(1, 2)  # [batch_size, n_time, n_channels]\n",
        "\n",
        "            # Forward pass through the network\n",
        "            output, _, _ = net(inputs)\n",
        "            output = output.mean(dim=1)  # mean spikes over the time dimension\n",
        "\n",
        "            # Ensure targets are of float type\n",
        "            targets = targets.float().unsqueeze(1)\n",
        "\n",
        "            # Compute validation loss\n",
        "            loss = loss_fun(output, targets)\n",
        "\n",
        "            # Accumulate validation loss\n",
        "            val_loss += loss.item()\n",
        "\n",
        "    # Calculate average validation loss for the epoch\n",
        "    avg_val_loss = val_loss / len(val_loader)\n",
        "\n",
        "    # Calculate validation accuracy\n",
        "    val_accuracy = calculate_accuracy(net, val_loader)\n",
        "\n",
        "    # Log training loss, validation loss, and accuracy to W&B\n",
        "    wandb.log({\n",
        "        \"epoch\": epoch + 1,\n",
        "        \"train_loss\": avg_train_loss,\n",
        "        \"val_loss\": avg_val_loss,\n",
        "        \"val_accuracy\": val_accuracy  # Log accuracy\n",
        "    })\n",
        "\n",
        "    # Print training and validation losses, and validation accuracy for the current epoch\n",
        "    print(f'Epoch {epoch + 1}/{n_epochs}, Training Loss: {avg_train_loss}, Validation Loss: {avg_val_loss}, Validation Accuracy: {val_accuracy * 100:.2f}%')\n",
        "\n",
        "# End of training\n",
        "print('Training completed')\n",
        "\n",
        "\n",
        "\n",
        "# Final evaluation on test data (to evaluate generalization after training)\n",
        "test_accuracy = calculate_accuracy(net, test_loader)\n",
        "\n",
        "# Log test accuracy to W&B\n",
        "wandb.log({\"test_accuracy\": test_accuracy})\n",
        "\n",
        "# Print the final test accuracy\n",
        "print(f'Test Accuracy: {test_accuracy * 100:.2f}%')\n",
        "\n",
        "\n",
        "# Optionally save the model using W&B\n",
        "torch.save(net.state_dict(), \"model_augmented.pth\")\n",
        "wandb.save(\"model_augmented.pth\")\n",
        "\n",
        "# Finish the W&B run\n",
        "wandb.finish()\n",
        "\n",
        "\n",
        "\n",
        "\n",
        "\n"
      ]
    },
    {
      "cell_type": "markdown",
      "metadata": {},
      "source": [
        "# synnet with more hidden layer"
      ]
    },
    {
      "cell_type": "code",
      "execution_count": 56,
      "metadata": {},
      "outputs": [
        {
          "name": "stdout",
          "output_type": "stream",
          "text": [
            "SynNet  with shape (16, 1) {\n",
            "    TorchSequential 'seq' with shape (16, 1) {\n",
            "        LinearTorch '0_LinearTorch' with shape (16, 32)\n",
            "        LIFTorch '1_LIFTorch' with shape (32, 32)\n",
            "        TimeStepDropout '2_TimeStepDropout' with shape (32,)\n",
            "        LinearTorch '3_LinearTorch' with shape (32, 32)\n",
            "        LIFTorch '4_LIFTorch' with shape (32, 32)\n",
            "        TimeStepDropout '5_TimeStepDropout' with shape (32,)\n",
            "        LinearTorch '6_LinearTorch' with shape (32, 32)\n",
            "        LIFTorch '7_LIFTorch' with shape (32, 32)\n",
            "        TimeStepDropout '8_TimeStepDropout' with shape (32,)\n",
            "        LinearTorch '9_LinearTorch' with shape (32, 1)\n",
            "        LIFTorch '10_LIFTorch' with shape (1, 1)\n",
            "    }\n",
            "}\n"
          ]
        }
      ],
      "source": [
        "# Define dataset characteristics\n",
        "n_channels = 16  # Number of input channels\n",
        "n_classes = 1    # the output of MSELoss is discrite\n",
        "n_time = 101     # Number of time steps\n",
        "batch_size = 32  # Batch size\n",
        "\n",
        "# Initialize the SynNet model\n",
        "net_32 = SynNet(\n",
        "    p_dropout = 0.1,                        # Dropout proportion to use\n",
        "    n_channels=n_channels,                # Number of input channels\n",
        "    n_classes=n_classes,                  # Number of output classes (2 for binary classification)\n",
        "    size_hidden_layers=[32, 32, 32],      # Number of neurons in each hidden layer\n",
        "    time_constants_per_layer=[2, 4, 8],   # Time constants for each layer\n",
        ")\n",
        "print(net_32)"
      ]
    },
    {
      "cell_type": "code",
      "execution_count": 57,
      "metadata": {},
      "outputs": [
        {
          "data": {
            "text/html": [
              "Finishing last run (ID:1vs2xfrv) before initializing another..."
            ],
            "text/plain": [
              "<IPython.core.display.HTML object>"
            ]
          },
          "metadata": {},
          "output_type": "display_data"
        },
        {
          "data": {
            "text/html": [
              " View run <strong style=\"color:#cdcd00\">32layer,outputs.mean,learning_rate=1e-3</strong> at: <a href='https://wandb.ai/18750937507-uwa/SNN_meerkat/runs/1vs2xfrv' target=\"_blank\">https://wandb.ai/18750937507-uwa/SNN_meerkat/runs/1vs2xfrv</a><br/> View project at: <a href='https://wandb.ai/18750937507-uwa/SNN_meerkat' target=\"_blank\">https://wandb.ai/18750937507-uwa/SNN_meerkat</a><br/>Synced 5 W&B file(s), 0 media file(s), 0 artifact file(s) and 0 other file(s)"
            ],
            "text/plain": [
              "<IPython.core.display.HTML object>"
            ]
          },
          "metadata": {},
          "output_type": "display_data"
        },
        {
          "data": {
            "text/html": [
              "Find logs at: <code>./wandb/run-20240917_143057-1vs2xfrv/logs</code>"
            ],
            "text/plain": [
              "<IPython.core.display.HTML object>"
            ]
          },
          "metadata": {},
          "output_type": "display_data"
        },
        {
          "data": {
            "text/html": [
              "Successfully finished last run (ID:1vs2xfrv). Initializing new run:<br/>"
            ],
            "text/plain": [
              "<IPython.core.display.HTML object>"
            ]
          },
          "metadata": {},
          "output_type": "display_data"
        },
        {
          "data": {
            "text/html": [
              "Tracking run with wandb version 0.18.1"
            ],
            "text/plain": [
              "<IPython.core.display.HTML object>"
            ]
          },
          "metadata": {},
          "output_type": "display_data"
        },
        {
          "data": {
            "text/html": [
              "Run data is saved locally in <code>/Users/xiaoyuliu/Documents/school/capstone/project-12-prototype-bio-acoustic-detection-system-soundsentinel/wandb/run-20240917_143116-120g0q1y</code>"
            ],
            "text/plain": [
              "<IPython.core.display.HTML object>"
            ]
          },
          "metadata": {},
          "output_type": "display_data"
        },
        {
          "data": {
            "text/html": [
              "Syncing run <strong><a href='https://wandb.ai/18750937507-uwa/SNN_meerkat/runs/120g0q1y' target=\"_blank\">32layer,outputs.mean,learning_rate=1e-3</a></strong> to <a href='https://wandb.ai/18750937507-uwa/SNN_meerkat' target=\"_blank\">Weights & Biases</a> (<a href='https://wandb.me/run' target=\"_blank\">docs</a>)<br/>"
            ],
            "text/plain": [
              "<IPython.core.display.HTML object>"
            ]
          },
          "metadata": {},
          "output_type": "display_data"
        },
        {
          "data": {
            "text/html": [
              " View project at <a href='https://wandb.ai/18750937507-uwa/SNN_meerkat' target=\"_blank\">https://wandb.ai/18750937507-uwa/SNN_meerkat</a>"
            ],
            "text/plain": [
              "<IPython.core.display.HTML object>"
            ]
          },
          "metadata": {},
          "output_type": "display_data"
        },
        {
          "data": {
            "text/html": [
              " View run at <a href='https://wandb.ai/18750937507-uwa/SNN_meerkat/runs/120g0q1y' target=\"_blank\">https://wandb.ai/18750937507-uwa/SNN_meerkat/runs/120g0q1y</a>"
            ],
            "text/plain": [
              "<IPython.core.display.HTML object>"
            ]
          },
          "metadata": {},
          "output_type": "display_data"
        },
        {
          "name": "stdout",
          "output_type": "stream",
          "text": [
            "Epoch 1/10, Training Loss: 0.42079283128369527, Validation Loss: 0.2697376566273825, Validation Accuracy: 50.96%\n",
            "Epoch 2/10, Training Loss: 0.22867982975154552, Validation Loss: 0.1687925388770444, Validation Accuracy: 61.06%\n",
            "Epoch 3/10, Training Loss: 0.182396041194223, Validation Loss: 0.1818794927426747, Validation Accuracy: 62.98%\n",
            "Epoch 4/10, Training Loss: 0.16924123381668665, Validation Loss: 0.1606433806674821, Validation Accuracy: 60.10%\n",
            "Epoch 5/10, Training Loss: 0.16453985659019002, Validation Loss: 0.1351281138403075, Validation Accuracy: 62.02%\n",
            "Epoch 6/10, Training Loss: 0.15683511082293852, Validation Loss: 0.15400975570082664, Validation Accuracy: 62.50%\n",
            "Epoch 7/10, Training Loss: 0.15670026360817677, Validation Loss: 0.14597657855067933, Validation Accuracy: 65.38%\n",
            "Epoch 8/10, Training Loss: 0.1594391960018086, Validation Loss: 0.15101241639682225, Validation Accuracy: 60.58%\n",
            "Epoch 9/10, Training Loss: 0.1554591141219409, Validation Loss: 0.13859897745507105, Validation Accuracy: 65.87%\n",
            "Epoch 10/10, Training Loss: 0.15841953807844306, Validation Loss: 0.15293799127851213, Validation Accuracy: 64.42%\n",
            "Training completed\n",
            "Test Accuracy: 68.40%\n"
          ]
        },
        {
          "data": {
            "text/html": [
              "<style>\n",
              "    table.wandb td:nth-child(1) { padding: 0 10px; text-align: left ; width: auto;} td:nth-child(2) {text-align: left ; width: 100%}\n",
              "    .wandb-row { display: flex; flex-direction: row; flex-wrap: wrap; justify-content: flex-start; width: 100% }\n",
              "    .wandb-col { display: flex; flex-direction: column; flex-basis: 100%; flex: 1; padding: 10px; }\n",
              "    </style>\n",
              "<div class=\"wandb-row\"><div class=\"wandb-col\"><h3>Run history:</h3><br/><table class=\"wandb\"><tr><td>epoch</td><td>▁▂▃▃▄▅▆▆▇█</td></tr><tr><td>test_accuracy</td><td>▁</td></tr><tr><td>train_loss</td><td>█▃▂▁▁▁▁▁▁▁</td></tr><tr><td>val_accuracy</td><td>▁▆▇▅▆▆█▆█▇</td></tr><tr><td>val_loss</td><td>█▃▃▂▁▂▂▂▁▂</td></tr></table><br/></div><div class=\"wandb-col\"><h3>Run summary:</h3><br/><table class=\"wandb\"><tr><td>epoch</td><td>10</td></tr><tr><td>test_accuracy</td><td>0.68396</td></tr><tr><td>train_loss</td><td>0.15842</td></tr><tr><td>val_accuracy</td><td>0.64423</td></tr><tr><td>val_loss</td><td>0.15294</td></tr></table><br/></div></div>"
            ],
            "text/plain": [
              "<IPython.core.display.HTML object>"
            ]
          },
          "metadata": {},
          "output_type": "display_data"
        },
        {
          "data": {
            "text/html": [
              " View run <strong style=\"color:#cdcd00\">32layer,outputs.mean,learning_rate=1e-3</strong> at: <a href='https://wandb.ai/18750937507-uwa/SNN_meerkat/runs/120g0q1y' target=\"_blank\">https://wandb.ai/18750937507-uwa/SNN_meerkat/runs/120g0q1y</a><br/> View project at: <a href='https://wandb.ai/18750937507-uwa/SNN_meerkat' target=\"_blank\">https://wandb.ai/18750937507-uwa/SNN_meerkat</a><br/>Synced 5 W&B file(s), 0 media file(s), 0 artifact file(s) and 1 other file(s)"
            ],
            "text/plain": [
              "<IPython.core.display.HTML object>"
            ]
          },
          "metadata": {},
          "output_type": "display_data"
        },
        {
          "data": {
            "text/html": [
              "Find logs at: <code>./wandb/run-20240917_143116-120g0q1y/logs</code>"
            ],
            "text/plain": [
              "<IPython.core.display.HTML object>"
            ]
          },
          "metadata": {},
          "output_type": "display_data"
        }
      ],
      "source": [
        "wandb.init(project=\"SNN_meerkat\", config={\n",
        "    \"learning_rate\": 1e-3,\n",
        "    \"epochs\": 10,\n",
        "    \"batch_size\": 32,\n",
        "},name=\"32layer,outputs.mean,learning_rate=1e-3\")\n",
        "\n",
        "# Access hyperparameters\n",
        "learning_rate = wandb.config.learning_rate\n",
        "n_epochs = wandb.config.epochs\n",
        "batch_size = wandb.config.batch_size\n",
        "\n",
        "\n",
        "# Define the loss function and optimizer\n",
        "optimizer = Adam(net_32.parameters().astorch(), lr=1e-3)\n",
        "loss_fun = MSELoss()\n",
        "n_epochs = 10\n",
        "\n",
        "def calculate_accuracy(model, data_loader):\n",
        "    model.eval()  # Set the model to evaluation mode\n",
        "    correct = 0\n",
        "    total = 0\n",
        "\n",
        "    with torch.no_grad():  # Disable gradient calculations\n",
        "        for inputs, targets in data_loader:\n",
        "            inputs = inputs.transpose(1, 2)  # Ensure input shape matches model requirements\n",
        "            outputs, _, _ = model(inputs)\n",
        "            outputs = outputs.mean(dim=1)\n",
        "\n",
        "            predictions = torch.round(torch.sigmoid(outputs))  # For binary classification\n",
        "            correct += (predictions == targets.unsqueeze(1)).sum().item()\n",
        "            total += targets.size(0)\n",
        "\n",
        "    accuracy = correct / total\n",
        "    return accuracy\n",
        "\n",
        "# Training and Validation loop\n",
        "for epoch in range(n_epochs):  # Progress bar for epochs\n",
        "    net_32.train()  # Set the model to training mode\n",
        "    epoch_loss = 0.0  # Initialize running loss for training\n",
        "\n",
        "    # Training phase\n",
        "    for inputs, targets in train_loader: # Use augmented data\n",
        "\n",
        "        optimizer.zero_grad()  # Clear gradients\n",
        "\n",
        "        # Adjust input dimensions to match model expectations\n",
        "        inputs = inputs.transpose(1, 2)  # [batch_size, n_time, n_channels]\n",
        "\n",
        "        # Forward pass through the network\n",
        "        output, _, _ = net_32(inputs)  # Output shape [batch_size, n_time, n_classes]\n",
        "        output = output.mean(dim=1)  # mean spikes over the time dimension [batch_size, n_classes]\n",
        "\n",
        "        # Ensure targets are of float type as required by MSELoss\n",
        "        targets = targets.float().unsqueeze(1)  # Reshape targets to [batch_size, 1]\n",
        "\n",
        "        # Compute the loss\n",
        "        loss = loss_fun(output, targets)\n",
        "\n",
        "        # Backward pass and optimization\n",
        "        loss.backward()  # Compute gradients\n",
        "        optimizer.step()  # Update model parameters\n",
        "\n",
        "        # Accumulate loss for this batch\n",
        "        epoch_loss += loss.item()\n",
        "\n",
        "    # Calculate average training loss for the epoch\n",
        "    avg_train_loss = epoch_loss / len(train_loader)\n",
        "\n",
        "    # Validation phase\n",
        "    net_32.eval()  # Set the model to evaluation mode\n",
        "    val_loss = 0.0  # Initialize running loss for validation\n",
        "    with torch.no_grad():  # Disable gradient calculation for validation\n",
        "        for inputs, targets in val_loader:\n",
        "            # Adjust input dimensions to match model expectations\n",
        "            inputs = inputs.transpose(1, 2)  # [batch_size, n_time, n_channels]\n",
        "\n",
        "            # Forward pass through the network\n",
        "            output, _, _ = net_32(inputs)\n",
        "            output = output.mean(dim=1)  # mean spikes over the time dimension\n",
        "\n",
        "            # Ensure targets are of float type\n",
        "            targets = targets.float().unsqueeze(1)\n",
        "\n",
        "            # Compute validation loss\n",
        "            loss = loss_fun(output, targets)\n",
        "\n",
        "            # Accumulate validation loss\n",
        "            val_loss += loss.item()\n",
        "\n",
        "    # Calculate average validation loss for the epoch\n",
        "    avg_val_loss = val_loss / len(val_loader)\n",
        "\n",
        "    # Calculate validation accuracy\n",
        "    val_accuracy = calculate_accuracy(net_32, val_loader)\n",
        "\n",
        "    # Log training loss, validation loss, and accuracy to W&B\n",
        "    wandb.log({\n",
        "        \"epoch\": epoch + 1,\n",
        "        \"train_loss\": avg_train_loss,\n",
        "        \"val_loss\": avg_val_loss,\n",
        "        \"val_accuracy\": val_accuracy  # Log accuracy\n",
        "    })\n",
        "\n",
        "    # Print training and validation losses, and validation accuracy for the current epoch\n",
        "    print(f'Epoch {epoch + 1}/{n_epochs}, Training Loss: {avg_train_loss}, Validation Loss: {avg_val_loss}, Validation Accuracy: {val_accuracy * 100:.2f}%')\n",
        "\n",
        "# End of training\n",
        "print('Training completed')\n",
        "\n",
        "\n",
        "\n",
        "# Final evaluation on test data (to evaluate generalization after training)\n",
        "test_accuracy = calculate_accuracy(net_32, test_loader)\n",
        "\n",
        "# Log test accuracy to W&B\n",
        "wandb.log({\"test_accuracy\": test_accuracy})\n",
        "\n",
        "# Print the final test accuracy\n",
        "print(f'Test Accuracy: {test_accuracy * 100:.2f}%')\n",
        "\n",
        "\n",
        "# Optionally save the model using W&B\n",
        "torch.save(net_32.state_dict(), \"model_32layer.pth\")\n",
        "wandb.save(\"model_32layer.pth\")\n",
        "\n",
        "# Finish the W&B run\n",
        "wandb.finish()\n",
        "\n",
        "\n",
        "\n",
        "\n",
        "\n"
      ]
    },
    {
      "cell_type": "code",
      "execution_count": 59,
      "metadata": {},
      "outputs": [
        {
          "data": {
            "text/html": [
              "Tracking run with wandb version 0.18.1"
            ],
            "text/plain": [
              "<IPython.core.display.HTML object>"
            ]
          },
          "metadata": {},
          "output_type": "display_data"
        },
        {
          "data": {
            "text/html": [
              "Run data is saved locally in <code>/Users/xiaoyuliu/Documents/school/capstone/project-12-prototype-bio-acoustic-detection-system-soundsentinel/wandb/run-20240917_143546-glst3o1o</code>"
            ],
            "text/plain": [
              "<IPython.core.display.HTML object>"
            ]
          },
          "metadata": {},
          "output_type": "display_data"
        },
        {
          "data": {
            "text/html": [
              "Syncing run <strong><a href='https://wandb.ai/18750937507-uwa/SNN_meerkat/runs/glst3o1o' target=\"_blank\">32layer, augmented_data, outputs.mean,learning_rate=1e-3</a></strong> to <a href='https://wandb.ai/18750937507-uwa/SNN_meerkat' target=\"_blank\">Weights & Biases</a> (<a href='https://wandb.me/run' target=\"_blank\">docs</a>)<br/>"
            ],
            "text/plain": [
              "<IPython.core.display.HTML object>"
            ]
          },
          "metadata": {},
          "output_type": "display_data"
        },
        {
          "data": {
            "text/html": [
              " View project at <a href='https://wandb.ai/18750937507-uwa/SNN_meerkat' target=\"_blank\">https://wandb.ai/18750937507-uwa/SNN_meerkat</a>"
            ],
            "text/plain": [
              "<IPython.core.display.HTML object>"
            ]
          },
          "metadata": {},
          "output_type": "display_data"
        },
        {
          "data": {
            "text/html": [
              " View run at <a href='https://wandb.ai/18750937507-uwa/SNN_meerkat/runs/glst3o1o' target=\"_blank\">https://wandb.ai/18750937507-uwa/SNN_meerkat/runs/glst3o1o</a>"
            ],
            "text/plain": [
              "<IPython.core.display.HTML object>"
            ]
          },
          "metadata": {},
          "output_type": "display_data"
        },
        {
          "name": "stdout",
          "output_type": "stream",
          "text": [
            "Epoch 1/10, Training Loss: 0.2213059365749359, Validation Loss: 0.1532522173864501, Validation Accuracy: 61.54%\n",
            "Epoch 2/10, Training Loss: 0.15318813371770787, Validation Loss: 0.17787078022956848, Validation Accuracy: 69.71%\n",
            "Epoch 3/10, Training Loss: 0.13010383931533345, Validation Loss: 0.20635932896818435, Validation Accuracy: 72.60%\n",
            "Epoch 4/10, Training Loss: 0.12081131627256016, Validation Loss: 0.2315936285470213, Validation Accuracy: 70.19%\n",
            "Epoch 5/10, Training Loss: 0.11947404206642565, Validation Loss: 0.2381734305194446, Validation Accuracy: 69.23%\n",
            "Epoch 6/10, Training Loss: 0.11295692510199996, Validation Loss: 0.24698603126619542, Validation Accuracy: 72.12%\n",
            "Epoch 7/10, Training Loss: 0.10187934563969667, Validation Loss: 0.24181102961301804, Validation Accuracy: 72.60%\n",
            "Epoch 8/10, Training Loss: 0.10372613040062617, Validation Loss: 0.26845232849674566, Validation Accuracy: 73.08%\n",
            "Epoch 9/10, Training Loss: 0.10059525086632315, Validation Loss: 0.26810265864644733, Validation Accuracy: 78.85%\n",
            "Epoch 10/10, Training Loss: 0.0975064514380581, Validation Loss: 0.2757354046085051, Validation Accuracy: 83.65%\n",
            "Training completed\n",
            "Test Accuracy: 80.19%\n"
          ]
        },
        {
          "data": {
            "text/html": [
              "<style>\n",
              "    table.wandb td:nth-child(1) { padding: 0 10px; text-align: left ; width: auto;} td:nth-child(2) {text-align: left ; width: 100%}\n",
              "    .wandb-row { display: flex; flex-direction: row; flex-wrap: wrap; justify-content: flex-start; width: 100% }\n",
              "    .wandb-col { display: flex; flex-direction: column; flex-basis: 100%; flex: 1; padding: 10px; }\n",
              "    </style>\n",
              "<div class=\"wandb-row\"><div class=\"wandb-col\"><h3>Run history:</h3><br/><table class=\"wandb\"><tr><td>epoch</td><td>▁▂▃▃▄▅▆▆▇█</td></tr><tr><td>test_accuracy</td><td>▁</td></tr><tr><td>train_loss</td><td>█▄▃▂▂▂▁▁▁▁</td></tr><tr><td>val_accuracy</td><td>▁▄▅▄▃▄▅▅▆█</td></tr><tr><td>val_loss</td><td>▁▂▄▅▆▆▆███</td></tr></table><br/></div><div class=\"wandb-col\"><h3>Run summary:</h3><br/><table class=\"wandb\"><tr><td>epoch</td><td>10</td></tr><tr><td>test_accuracy</td><td>0.80189</td></tr><tr><td>train_loss</td><td>0.09751</td></tr><tr><td>val_accuracy</td><td>0.83654</td></tr><tr><td>val_loss</td><td>0.27574</td></tr></table><br/></div></div>"
            ],
            "text/plain": [
              "<IPython.core.display.HTML object>"
            ]
          },
          "metadata": {},
          "output_type": "display_data"
        },
        {
          "data": {
            "text/html": [
              " View run <strong style=\"color:#cdcd00\">32layer, augmented_data, outputs.mean,learning_rate=1e-3</strong> at: <a href='https://wandb.ai/18750937507-uwa/SNN_meerkat/runs/glst3o1o' target=\"_blank\">https://wandb.ai/18750937507-uwa/SNN_meerkat/runs/glst3o1o</a><br/> View project at: <a href='https://wandb.ai/18750937507-uwa/SNN_meerkat' target=\"_blank\">https://wandb.ai/18750937507-uwa/SNN_meerkat</a><br/>Synced 5 W&B file(s), 0 media file(s), 0 artifact file(s) and 1 other file(s)"
            ],
            "text/plain": [
              "<IPython.core.display.HTML object>"
            ]
          },
          "metadata": {},
          "output_type": "display_data"
        },
        {
          "data": {
            "text/html": [
              "Find logs at: <code>./wandb/run-20240917_143546-glst3o1o/logs</code>"
            ],
            "text/plain": [
              "<IPython.core.display.HTML object>"
            ]
          },
          "metadata": {},
          "output_type": "display_data"
        }
      ],
      "source": [
        "wandb.init(project=\"SNN_meerkat\", config={\n",
        "    \"learning_rate\": 1e-3,\n",
        "    \"epochs\": 10,\n",
        "    \"batch_size\": 32,\n",
        "},name=\"32layer, augmented_data, outputs.mean,learning_rate=1e-3\")\n",
        "\n",
        "# Access hyperparameters\n",
        "learning_rate = wandb.config.learning_rate\n",
        "n_epochs = wandb.config.epochs\n",
        "batch_size = wandb.config.batch_size\n",
        "\n",
        "\n",
        "# Define the loss function and optimizer\n",
        "optimizer = Adam(net_32.parameters().astorch(), lr=1e-3)\n",
        "loss_fun = MSELoss()\n",
        "n_epochs = 10\n",
        "\n",
        "def calculate_accuracy(model, data_loader):\n",
        "    model.eval()  # Set the model to evaluation mode\n",
        "    correct = 0\n",
        "    total = 0\n",
        "\n",
        "    with torch.no_grad():  # Disable gradient calculations\n",
        "        for inputs, targets in data_loader:\n",
        "            inputs = inputs.transpose(1, 2)  # Ensure input shape matches model requirements\n",
        "            outputs, _, _ = model(inputs)\n",
        "            outputs = outputs.mean(dim=1)\n",
        "\n",
        "            predictions = torch.round(torch.sigmoid(outputs))  # For binary classification\n",
        "            correct += (predictions == targets.unsqueeze(1)).sum().item()\n",
        "            total += targets.size(0)\n",
        "\n",
        "    accuracy = correct / total\n",
        "    return accuracy\n",
        "\n",
        "# Training and Validation loop\n",
        "for epoch in range(n_epochs):  # Progress bar for epochs\n",
        "    net_32.train()  # Set the model to training mode\n",
        "    epoch_loss = 0.0  # Initialize running loss for training\n",
        "\n",
        "    # Training phase\n",
        "    for inputs, targets in augment_train_data(train_loader): # Use augmented data\n",
        "\n",
        "        optimizer.zero_grad()  # Clear gradients\n",
        "\n",
        "        # Adjust input dimensions to match model expectations\n",
        "        inputs = inputs.transpose(1, 2)  # [batch_size, n_time, n_channels]\n",
        "\n",
        "        # Forward pass through the network\n",
        "        output, _, _ = net_32(inputs)  # Output shape [batch_size, n_time, n_classes]\n",
        "        output = output.mean(dim=1)  # mean spikes over the time dimension [batch_size, n_classes]\n",
        "\n",
        "        # Ensure targets are of float type as required by MSELoss\n",
        "        targets = targets.float().unsqueeze(1)  # Reshape targets to [batch_size, 1]\n",
        "\n",
        "        # Compute the loss\n",
        "        loss = loss_fun(output, targets)\n",
        "\n",
        "        # Backward pass and optimization\n",
        "        loss.backward()  # Compute gradients\n",
        "        optimizer.step()  # Update model parameters\n",
        "\n",
        "        # Accumulate loss for this batch\n",
        "        epoch_loss += loss.item()\n",
        "\n",
        "    # Calculate average training loss for the epoch\n",
        "    avg_train_loss = epoch_loss / len(train_loader)\n",
        "\n",
        "    # Validation phase\n",
        "    net_32.eval()  # Set the model to evaluation mode\n",
        "    val_loss = 0.0  # Initialize running loss for validation\n",
        "    with torch.no_grad():  # Disable gradient calculation for validation\n",
        "        for inputs, targets in val_loader:\n",
        "            # Adjust input dimensions to match model expectations\n",
        "            inputs = inputs.transpose(1, 2)  # [batch_size, n_time, n_channels]\n",
        "\n",
        "            # Forward pass through the network\n",
        "            output, _, _ = net_32(inputs)\n",
        "            output = output.mean(dim=1)  # mean spikes over the time dimension\n",
        "\n",
        "            # Ensure targets are of float type\n",
        "            targets = targets.float().unsqueeze(1)\n",
        "\n",
        "            # Compute validation loss\n",
        "            loss = loss_fun(output, targets)\n",
        "\n",
        "            # Accumulate validation loss\n",
        "            val_loss += loss.item()\n",
        "\n",
        "    # Calculate average validation loss for the epoch\n",
        "    avg_val_loss = val_loss / len(val_loader)\n",
        "\n",
        "    # Calculate validation accuracy\n",
        "    val_accuracy = calculate_accuracy(net_32, val_loader)\n",
        "\n",
        "    # Log training loss, validation loss, and accuracy to W&B\n",
        "    wandb.log({\n",
        "        \"epoch\": epoch + 1,\n",
        "        \"train_loss\": avg_train_loss,\n",
        "        \"val_loss\": avg_val_loss,\n",
        "        \"val_accuracy\": val_accuracy  # Log accuracy\n",
        "    })\n",
        "\n",
        "    # Print training and validation losses, and validation accuracy for the current epoch\n",
        "    print(f'Epoch {epoch + 1}/{n_epochs}, Training Loss: {avg_train_loss}, Validation Loss: {avg_val_loss}, Validation Accuracy: {val_accuracy * 100:.2f}%')\n",
        "\n",
        "# End of training\n",
        "print('Training completed')\n",
        "\n",
        "\n",
        "\n",
        "# Final evaluation on test data (to evaluate generalization after training)\n",
        "test_accuracy = calculate_accuracy(net_32, test_loader)\n",
        "\n",
        "# Log test accuracy to W&B\n",
        "wandb.log({\"test_accuracy\": test_accuracy})\n",
        "\n",
        "# Print the final test accuracy\n",
        "print(f'Test Accuracy: {test_accuracy * 100:.2f}%')\n",
        "\n",
        "\n",
        "# Optionally save the model using W&B\n",
        "torch.save(net_32.state_dict(), \"model_32layer_augmented.pth\")\n",
        "wandb.save(\"model_32layer_augmented.pth\")\n",
        "\n",
        "# Finish the W&B run\n",
        "wandb.finish()\n",
        "\n"
      ]
    },
    {
      "cell_type": "markdown",
      "metadata": {
        "id": "CRgWeVjXsryo"
      },
      "source": [
        "# Visualize Single Intermediate Activations"
      ]
    },
    {
      "cell_type": "code",
      "execution_count": 58,
      "metadata": {
        "colab": {
          "base_uri": "https://localhost:8080/",
          "height": 533
        },
        "id": "YayQYt2lsryo",
        "outputId": "65fd2d9b-a56e-4b25-c10c-3d2aba9d2fbc"
      },
      "outputs": [
        {
          "name": "stdout",
          "output_type": "stream",
          "text": [
            "Activation from 0_LinearTorch:  torch.Size([1, 101, 24])\n",
            "Activation from 1_LIFTorch:  torch.Size([1, 101, 24])\n",
            "Activation from 3_LinearTorch:  torch.Size([1, 101, 24])\n"
          ]
        },
        {
          "data": {
            "image/png": "[encoded data removed]",
            "text/plain": [
              "<Figure size 1500x500 with 3 Axes>"
            ]
          },
          "metadata": {},
          "output_type": "display_data"
        }
      ],
      "source": [
        "# Testing a single sample to visualize intermediate activations\n",
        "\n",
        "# Dictionary to store activations\n",
        "activations = {}\n",
        "\n",
        "# Define a hook to capture the output of a specific layer\n",
        "def get_activation(name):\n",
        "    def hook(model, input, output):\n",
        "        activations[name] = output.detach()  # Save the output without gradients\n",
        "    return hook\n",
        "\n",
        "# Register the hook to layers inside 'seq'\n",
        "net.seq[0].register_forward_hook(get_activation('0_LinearTorch'))  # First Linear layer\n",
        "net.seq[1].register_forward_hook(get_activation('1_LIFTorch'))  # First LIF layer\n",
        "net.seq[3].register_forward_hook(get_activation('3_LinearTorch'))  # Second Linear layer\n",
        "\n",
        "# Testing a single sample\n",
        "inputs, target = next(iter(train_loader))  # Get a batch of data\n",
        "single_input = inputs[0].unsqueeze(0)  # Select a single sample and add batch dimension\n",
        "\n",
        "# Adjust the single input's dimensions (transpose) before forwarding through the network\n",
        "single_input = single_input.transpose(1, 2)  # Ensure input has shape [batch_size, n_time, n_channels]\n",
        "\n",
        "# Forward pass\n",
        "net(single_input)\n",
        "\n",
        "# Visualize the activation of a specific layer\n",
        "# Print activation shapes for each registered layer\n",
        "print(\"Activation from 0_LinearTorch: \", activations['0_LinearTorch'].shape)\n",
        "print(\"Activation from 1_LIFTorch: \", activations['1_LIFTorch'].shape)\n",
        "print(\"Activation from 3_LinearTorch: \", activations['3_LinearTorch'].shape)\n",
        "\n",
        "# Example: Visualize activations of the first neuron in each layer\n",
        "\n",
        "# Plot activation for 0_LinearTorch\n",
        "plt.figure(figsize=(15, 5))\n",
        "\n",
        "plt.subplot(1, 3, 1)\n",
        "plt.imshow(activations['0_LinearTorch'][0].cpu().numpy(), cmap='hot', interpolation='nearest')\n",
        "plt.title('Activation in 0_LinearTorch')\n",
        "\n",
        "# Plot activation for 1_LIFTorch\n",
        "plt.subplot(1, 3, 2)\n",
        "plt.imshow(activations['1_LIFTorch'][0].cpu().numpy(), cmap='hot', interpolation='nearest')\n",
        "plt.title('Activation in 1_LIFTorch')\n",
        "\n",
        "# Plot activation for 3_LinearTorch\n",
        "plt.subplot(1, 3, 3)\n",
        "plt.imshow(activations['3_LinearTorch'][0].cpu().numpy(), cmap='hot', interpolation='nearest')\n",
        "plt.title('Activation in 3_LinearTorch')\n",
        "\n",
        "plt.tight_layout()\n",
        "plt.show()\n",
        "\n"
      ]
    }
  ],
  "metadata": {
    "colab": {
      "provenance": []
    },
    "kernelspec": {
      "display_name": "Python 3",
      "name": "python3"
    },
    "language_info": {
      "codemirror_mode": {
        "name": "ipython",
        "version": 3
      },
      "file_extension": ".py",
      "mimetype": "text/x-python",
      "name": "python",
      "nbconvert_exporter": "python",
      "pygments_lexer": "ipython3",
      "version": "3.8.19"
    }
  },
  "nbformat": 4,
  "nbformat_minor": 0
}
