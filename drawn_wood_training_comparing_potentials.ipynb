{
 "cells": [
  {
   "cell_type": "code",
   "execution_count": 1,
   "metadata": {},
   "outputs": [
    {
     "name": "stderr",
     "output_type": "stream",
     "text": [
      "c:\\Users\\Angela\\anaconda3\\envs\\capstone_gpu\\lib\\site-packages\\tqdm\\auto.py:21: TqdmWarning: IProgress not found. Please update jupyter and ipywidgets. See https://ipywidgets.readthedocs.io/en/stable/user_install.html\n",
      "  from .autonotebook import tqdm as notebook_tqdm\n"
     ]
    }
   ],
   "source": [
    "import torch\n",
    "from torch.nn import MSELoss\n",
    "from tqdm import trange\n",
    "from torch.optim import Adam\n",
    "import matplotlib.pyplot as plt\n",
    "import numpy as np\n",
    "import pickle\n",
    "import wandb\n",
    "\n",
    "from torch.utils.data import Dataset, DataLoader, Subset, random_split\n",
    "import tonic\n",
    "\n",
    "seed = 42\n",
    "torch.manual_seed(seed)\n",
    "torch.cuda.manual_seed(seed)\n",
    "np.random.seed(seed)\n",
    "\n",
    "class CCMKDataset(Dataset):\n",
    "    def __init__(self, spikes_tensor, labels_tensor, nchannels=None, target_label=2, seed=None, device=None):\n",
    "        if seed is not None:\n",
    "            np.random.seed(seed)\n",
    "            torch.manual_seed(seed)\n",
    "        \n",
    "        self.device = device if device else torch.device('cuda' if torch.cuda.is_available() else 'cpu')\n",
    "        self.spikes_tensor = spikes_tensor.to(device)\n",
    "        self.labels_tensor = labels_tensor.to(device)\n",
    "\n",
    "        if nchannels is not None:\n",
    "            self.spikes_tensor = self.spikes_tensor[:, nchannels, :]\n",
    "        \n",
    "        # Ignore labels 1, 3, and 4\n",
    "        valid_mask = (self.labels_tensor == 0) | (self.labels_tensor == target_label)\n",
    "        self.spikes_tensor = self.spikes_tensor[valid_mask]\n",
    "        self.labels_tensor = self.labels_tensor[valid_mask]\n",
    "        \n",
    "        # Convert the target label (2) to 1\n",
    "        self.labels_tensor[self.labels_tensor == target_label] = 1\n",
    "        \n",
    "        # Downsampling: Match the number of label 0 samples to the number of label 1 samples\n",
    "        label_0_indices = torch.where(self.labels_tensor == 0)[0]\n",
    "        label_1_indices = torch.where(self.labels_tensor == 1)[0]\n",
    "        num_samples = min(len(label_1_indices), len(label_0_indices))\n",
    "\n",
    "        # Randomly sample from label 0 and label 1 indices\n",
    "        #CPU\n",
    "        # selected_label_0_indices = torch.tensor(np.random.choice(label_0_indices.cpu(), size=num_samples, replace=False), device=self.device)\n",
    "        # selected_label_1_indices = torch.tensor(np.random.choice(label_1_indices.cpu(), size=num_samples, replace=False), device=self.device)\n",
    "\n",
    "        # GPU\n",
    "        selected_label_0_indices = label_0_indices[torch.randperm(len(label_0_indices))[:num_samples]].to(self.device)\n",
    "        selected_label_1_indices = label_1_indices[torch.randperm(len(label_1_indices))[:num_samples]].to(self.device)\n",
    "\n",
    "\n",
    "        # Combine the downsampled label 0 indices with label 1 indices\n",
    "        balanced_indices = torch.cat([selected_label_0_indices, selected_label_1_indices])\n",
    "\n",
    "        # Apply the balanced indices to spikes and labels\n",
    "        self.spikes_tensor = self.spikes_tensor[balanced_indices]\n",
    "        self.labels_tensor = self.labels_tensor[balanced_indices]\n",
    "\n",
    "        # Debugging: Check the distribution of labels after processing\n",
    "        print(f\"Filtered Labels distribution after processing: {torch.bincount(self.labels_tensor.int().cpu())}\")\n",
    "\n",
    "    def __len__(self):\n",
    "        return len(self.labels_tensor)\n",
    "    \n",
    "    def __getitem__(self, idx):\n",
    "        spike_data = self.spikes_tensor[idx]\n",
    "        label = self.labels_tensor[idx]\n",
    "        return spike_data, label"
   ]
  },
  {
   "cell_type": "code",
   "execution_count": 2,
   "metadata": {},
   "outputs": [
    {
     "name": "stderr",
     "output_type": "stream",
     "text": [
      "C:\\Users\\Angela\\AppData\\Local\\Temp\\ipykernel_93188\\3645305366.py:1: FutureWarning: You are using `torch.load` with `weights_only=False` (the current default value), which uses the default pickle module implicitly. It is possible to construct malicious pickle data which will execute arbitrary code during unpickling (See https://github.com/pytorch/pytorch/blob/main/SECURITY.md#untrusted-models for more details). In a future release, the default value for `weights_only` will be flipped to `True`. This limits the functions that could be executed during unpickling. Arbitrary objects will no longer be allowed to be loaded via this mode unless they are explicitly allowlisted by the user via `torch.serialization.add_safe_globals`. We recommend you start setting `weights_only=True` for any use case where you don't have full control of the loaded file. Please open an issue on GitHub for any issues related to this experimental feature.\n",
      "  train_loader = torch.load('saved_loaders_bs32/train_loader.pth')\n",
      "C:\\Users\\Angela\\AppData\\Local\\Temp\\ipykernel_93188\\3645305366.py:2: FutureWarning: You are using `torch.load` with `weights_only=False` (the current default value), which uses the default pickle module implicitly. It is possible to construct malicious pickle data which will execute arbitrary code during unpickling (See https://github.com/pytorch/pytorch/blob/main/SECURITY.md#untrusted-models for more details). In a future release, the default value for `weights_only` will be flipped to `True`. This limits the functions that could be executed during unpickling. Arbitrary objects will no longer be allowed to be loaded via this mode unless they are explicitly allowlisted by the user via `torch.serialization.add_safe_globals`. We recommend you start setting `weights_only=True` for any use case where you don't have full control of the loaded file. Please open an issue on GitHub for any issues related to this experimental feature.\n",
      "  val_loader = torch.load('saved_loaders_bs32/val_loader.pth')\n",
      "C:\\Users\\Angela\\AppData\\Local\\Temp\\ipykernel_93188\\3645305366.py:3: FutureWarning: You are using `torch.load` with `weights_only=False` (the current default value), which uses the default pickle module implicitly. It is possible to construct malicious pickle data which will execute arbitrary code during unpickling (See https://github.com/pytorch/pytorch/blob/main/SECURITY.md#untrusted-models for more details). In a future release, the default value for `weights_only` will be flipped to `True`. This limits the functions that could be executed during unpickling. Arbitrary objects will no longer be allowed to be loaded via this mode unless they are explicitly allowlisted by the user via `torch.serialization.add_safe_globals`. We recommend you start setting `weights_only=True` for any use case where you don't have full control of the loaded file. Please open an issue on GitHub for any issues related to this experimental feature.\n",
      "  test_loader = torch.load('saved_loaders_bs32/test_loader.pth')\n"
     ]
    }
   ],
   "source": [
    "train_loader = torch.load('saved_loaders_bs32/train_loader.pth')\n",
    "val_loader = torch.load('saved_loaders_bs32/val_loader.pth')\n",
    "test_loader = torch.load('saved_loaders_bs32/test_loader.pth')"
   ]
  },
  {
   "cell_type": "code",
   "execution_count": 3,
   "metadata": {},
   "outputs": [
    {
     "name": "stderr",
     "output_type": "stream",
     "text": [
      "c:\\Users\\Angela\\anaconda3\\envs\\capstone_gpu\\lib\\site-packages\\rockpool\\nn\\networks\\__init__.py:15: UserWarning: This module needs to be ported to teh v2 API.\n",
      "  warnings.warn(f\"{err}\")\n",
      "c:\\Users\\Angela\\anaconda3\\envs\\capstone_gpu\\lib\\site-packages\\rockpool\\nn\\networks\\__init__.py:20: UserWarning: This module needs to be ported to the v2 API.\n",
      "  warnings.warn(f\"{err}\")\n"
     ]
    },
    {
     "name": "stdout",
     "output_type": "stream",
     "text": [
      "SynNet  with shape (16, 1) {\n",
      "    TorchSequential 'seq' with shape (16, 1) {\n",
      "        LinearTorch '0_LinearTorch' with shape (16, 48)\n",
      "        LIFTorch '1_LIFTorch' with shape (48, 48)\n",
      "        TimeStepDropout '2_TimeStepDropout' with shape (48,)\n",
      "        LinearTorch '3_LinearTorch' with shape (48, 24)\n",
      "        LIFTorch '4_LIFTorch' with shape (24, 24)\n",
      "        TimeStepDropout '5_TimeStepDropout' with shape (24,)\n",
      "        LinearTorch '6_LinearTorch' with shape (24, 48)\n",
      "        LIFTorch '7_LIFTorch' with shape (48, 48)\n",
      "        TimeStepDropout '8_TimeStepDropout' with shape (48,)\n",
      "        LinearTorch '9_LinearTorch' with shape (48, 1)\n",
      "        LIFTorch '10_LIFTorch' with shape (1, 1)\n",
      "    }\n",
      "}\n"
     ]
    }
   ],
   "source": [
    "from rockpool.nn.networks import SynNet\n",
    "from rockpool.nn.modules import LIFTorch as LIFOtherSpiking\n",
    "\n",
    "n_channels = 16  \n",
    "n_classes = 1   \n",
    "n_time = 101\n",
    "dt = 10e-3     \n",
    "\n",
    "model = SynNet(\n",
    "    output=\"vmem\",\n",
    "    n_channels=n_channels,                        \n",
    "    n_classes=n_classes,\n",
    "    dt=dt,                           \n",
    "    size_hidden_layers=[48, 24, 48],        \n",
    "    time_constants_per_layer=[8, 10, 12],\n",
    "    tau_syn_base=0.02,  \n",
    "    tau_mem=0.02,\n",
    "    tau_syn_out=0.02\n",
    ")\n",
    "\n",
    "print(model)"
   ]
  },
  {
   "cell_type": "code",
   "execution_count": 4,
   "metadata": {},
   "outputs": [],
   "source": [
    "import os\n",
    "os.environ[\"WANDB_NOTEBOOK_NAME\"] = \"drawn_wood_training_comparing_potentials.ipynb\""
   ]
  },
  {
   "cell_type": "code",
   "execution_count": 6,
   "metadata": {},
   "outputs": [
    {
     "data": {
      "text/html": [
       "Tracking run with wandb version 0.18.2"
      ],
      "text/plain": [
       "<IPython.core.display.HTML object>"
      ]
     },
     "metadata": {},
     "output_type": "display_data"
    },
    {
     "data": {
      "text/html": [
       "Run data is saved locally in <code>c:\\Users\\Angela\\OneDrive - UWA\\SEM4\\CITS5553\\project-12-prototype-bio-acoustic-detection-system-soundsentinel\\wandb\\run-20241009_193307-ifa13j22</code>"
      ],
      "text/plain": [
       "<IPython.core.display.HTML object>"
      ]
     },
     "metadata": {},
     "output_type": "display_data"
    },
    {
     "data": {
      "text/html": [
       "Syncing run <strong><a href='https://wandb.ai/angelajcnto-the-university-of-western-australia/drawn_wood_42_training/runs/ifa13j22' target=\"_blank\">fiery-sound-5</a></strong> to <a href='https://wandb.ai/angelajcnto-the-university-of-western-australia/drawn_wood_42_training' target=\"_blank\">Weights & Biases</a> (<a href='https://wandb.me/run' target=\"_blank\">docs</a>)<br/>"
      ],
      "text/plain": [
       "<IPython.core.display.HTML object>"
      ]
     },
     "metadata": {},
     "output_type": "display_data"
    },
    {
     "data": {
      "text/html": [
       " View project at <a href='https://wandb.ai/angelajcnto-the-university-of-western-australia/drawn_wood_42_training' target=\"_blank\">https://wandb.ai/angelajcnto-the-university-of-western-australia/drawn_wood_42_training</a>"
      ],
      "text/plain": [
       "<IPython.core.display.HTML object>"
      ]
     },
     "metadata": {},
     "output_type": "display_data"
    },
    {
     "data": {
      "text/html": [
       " View run at <a href='https://wandb.ai/angelajcnto-the-university-of-western-australia/drawn_wood_42_training/runs/ifa13j22' target=\"_blank\">https://wandb.ai/angelajcnto-the-university-of-western-australia/drawn_wood_42_training/runs/ifa13j22</a>"
      ],
      "text/plain": [
       "<IPython.core.display.HTML object>"
      ]
     },
     "metadata": {},
     "output_type": "display_data"
    },
    {
     "name": "stderr",
     "output_type": "stream",
     "text": [
      "  0%|          | 1/200 [00:15<52:40, 15.88s/it]"
     ]
    },
    {
     "name": "stdout",
     "output_type": "stream",
     "text": [
      "Epoch 1/200, Training Loss: 3.295859440317694, Validation Loss: 0.9302844405174255\n"
     ]
    },
    {
     "name": "stderr",
     "output_type": "stream",
     "text": [
      "  1%|          | 2/200 [00:31<52:48, 16.00s/it]"
     ]
    },
    {
     "name": "stdout",
     "output_type": "stream",
     "text": [
      "Epoch 2/200, Training Loss: 0.9412934847597806, Validation Loss: 0.7614762229578835\n"
     ]
    },
    {
     "name": "stderr",
     "output_type": "stream",
     "text": [
      "  2%|▏         | 3/200 [00:47<52:29, 15.99s/it]"
     ]
    },
    {
     "name": "stdout",
     "output_type": "stream",
     "text": [
      "Epoch 3/200, Training Loss: 0.8901744237485921, Validation Loss: 0.6802837039743151\n"
     ]
    },
    {
     "name": "stderr",
     "output_type": "stream",
     "text": [
      "  2%|▏         | 4/200 [01:03<51:44, 15.84s/it]"
     ]
    },
    {
     "name": "stdout",
     "output_type": "stream",
     "text": [
      "Epoch 4/200, Training Loss: 0.7874173010295292, Validation Loss: 0.5614560927663531\n"
     ]
    },
    {
     "name": "stderr",
     "output_type": "stream",
     "text": [
      "  2%|▎         | 5/200 [01:18<50:01, 15.39s/it]"
     ]
    },
    {
     "name": "stdout",
     "output_type": "stream",
     "text": [
      "Epoch 5/200, Training Loss: 0.7763246851709654, Validation Loss: 0.6598587398018155\n"
     ]
    },
    {
     "name": "stderr",
     "output_type": "stream",
     "text": [
      "  3%|▎         | 6/200 [01:32<48:51, 15.11s/it]"
     ]
    },
    {
     "name": "stdout",
     "output_type": "stream",
     "text": [
      "Epoch 6/200, Training Loss: 0.7299245326024182, Validation Loss: 0.6439295794282641\n"
     ]
    },
    {
     "name": "stderr",
     "output_type": "stream",
     "text": [
      "  4%|▎         | 7/200 [01:48<49:06, 15.26s/it]"
     ]
    },
    {
     "name": "stdout",
     "output_type": "stream",
     "text": [
      "Epoch 7/200, Training Loss: 0.7236642123393293, Validation Loss: 0.7292817894901548\n"
     ]
    },
    {
     "name": "stderr",
     "output_type": "stream",
     "text": [
      "  4%|▍         | 8/200 [02:03<49:02, 15.33s/it]"
     ]
    },
    {
     "name": "stdout",
     "output_type": "stream",
     "text": [
      "Epoch 8/200, Training Loss: 0.7429310780651165, Validation Loss: 0.6908407488039562\n"
     ]
    },
    {
     "name": "stderr",
     "output_type": "stream",
     "text": [
      "  4%|▍         | 9/200 [02:19<48:48, 15.33s/it]"
     ]
    },
    {
     "name": "stdout",
     "output_type": "stream",
     "text": [
      "Epoch 9/200, Training Loss: 0.6442583400123524, Validation Loss: 0.7081597064222608\n"
     ]
    },
    {
     "name": "stderr",
     "output_type": "stream",
     "text": [
      "  5%|▌         | 10/200 [02:34<48:34, 15.34s/it]"
     ]
    },
    {
     "name": "stdout",
     "output_type": "stream",
     "text": [
      "Epoch 10/200, Training Loss: 0.6400810277686929, Validation Loss: 0.6190975457429886\n"
     ]
    },
    {
     "name": "stderr",
     "output_type": "stream",
     "text": [
      "  6%|▌         | 11/200 [02:49<48:20, 15.34s/it]"
     ]
    },
    {
     "name": "stdout",
     "output_type": "stream",
     "text": [
      "Epoch 11/200, Training Loss: 0.6057406155005941, Validation Loss: 0.6858645166669574\n"
     ]
    },
    {
     "name": "stderr",
     "output_type": "stream",
     "text": [
      "  6%|▌         | 12/200 [03:04<47:22, 15.12s/it]"
     ]
    },
    {
     "name": "stdout",
     "output_type": "stream",
     "text": [
      "Epoch 12/200, Training Loss: 0.5910675981134739, Validation Loss: 0.6124048786503928\n"
     ]
    },
    {
     "name": "stderr",
     "output_type": "stream",
     "text": [
      "  6%|▋         | 13/200 [03:19<46:41, 14.98s/it]"
     ]
    },
    {
     "name": "stdout",
     "output_type": "stream",
     "text": [
      "Epoch 13/200, Training Loss: 0.5539289201205632, Validation Loss: 0.5943718978336879\n"
     ]
    },
    {
     "name": "stderr",
     "output_type": "stream",
     "text": [
      "  7%|▋         | 14/200 [03:34<47:04, 15.18s/it]"
     ]
    },
    {
     "name": "stdout",
     "output_type": "stream",
     "text": [
      "Epoch 14/200, Training Loss: 0.6510953548944222, Validation Loss: 0.5839394543852124\n"
     ]
    },
    {
     "name": "stderr",
     "output_type": "stream",
     "text": [
      "  8%|▊         | 15/200 [03:49<46:43, 15.15s/it]"
     ]
    },
    {
     "name": "stdout",
     "output_type": "stream",
     "text": [
      "Epoch 15/200, Training Loss: 0.6230085323441703, Validation Loss: 0.6935127079486847\n"
     ]
    },
    {
     "name": "stderr",
     "output_type": "stream",
     "text": [
      "  8%|▊         | 16/200 [04:05<46:36, 15.20s/it]"
     ]
    },
    {
     "name": "stdout",
     "output_type": "stream",
     "text": [
      "Epoch 16/200, Training Loss: 0.5636787009689043, Validation Loss: 0.5894306344645364\n"
     ]
    },
    {
     "name": "stderr",
     "output_type": "stream",
     "text": [
      "  8%|▊         | 17/200 [04:20<46:23, 15.21s/it]"
     ]
    },
    {
     "name": "stdout",
     "output_type": "stream",
     "text": [
      "Epoch 17/200, Training Loss: 0.5220689824167287, Validation Loss: 0.5502605991704124\n"
     ]
    },
    {
     "name": "stderr",
     "output_type": "stream",
     "text": [
      "  9%|▉         | 18/200 [04:35<45:38, 15.05s/it]"
     ]
    },
    {
     "name": "stdout",
     "output_type": "stream",
     "text": [
      "Epoch 18/200, Training Loss: 0.4982006420504372, Validation Loss: 0.5460114479064941\n"
     ]
    },
    {
     "name": "stderr",
     "output_type": "stream",
     "text": [
      " 10%|▉         | 19/200 [04:49<45:04, 14.94s/it]"
     ]
    },
    {
     "name": "stdout",
     "output_type": "stream",
     "text": [
      "Epoch 19/200, Training Loss: 0.46511562927713934, Validation Loss: 0.4811962672642299\n"
     ]
    },
    {
     "name": "stderr",
     "output_type": "stream",
     "text": [
      " 10%|█         | 20/200 [05:05<45:14, 15.08s/it]"
     ]
    },
    {
     "name": "stdout",
     "output_type": "stream",
     "text": [
      "Epoch 20/200, Training Loss: 0.48983112989731553, Validation Loss: 0.5356622231858117\n"
     ]
    },
    {
     "name": "stderr",
     "output_type": "stream",
     "text": [
      " 10%|█         | 21/200 [05:20<45:07, 15.13s/it]"
     ]
    },
    {
     "name": "stdout",
     "output_type": "stream",
     "text": [
      "Epoch 21/200, Training Loss: 0.4582072038133189, Validation Loss: 0.5600917786359787\n"
     ]
    },
    {
     "name": "stderr",
     "output_type": "stream",
     "text": [
      " 11%|█         | 22/200 [05:35<44:32, 15.01s/it]"
     ]
    },
    {
     "name": "stdout",
     "output_type": "stream",
     "text": [
      "Epoch 22/200, Training Loss: 0.4911324402914857, Validation Loss: 0.4993762693234852\n"
     ]
    },
    {
     "name": "stderr",
     "output_type": "stream",
     "text": [
      " 12%|█▏        | 23/200 [05:49<43:57, 14.90s/it]"
     ]
    },
    {
     "name": "stdout",
     "output_type": "stream",
     "text": [
      "Epoch 23/200, Training Loss: 0.4466608802102647, Validation Loss: 0.49159795471600126\n"
     ]
    },
    {
     "name": "stderr",
     "output_type": "stream",
     "text": [
      " 12%|█▏        | 24/200 [06:05<44:50, 15.29s/it]"
     ]
    },
    {
     "name": "stdout",
     "output_type": "stream",
     "text": [
      "Epoch 24/200, Training Loss: 0.5562952763910564, Validation Loss: 0.6244658295597348\n"
     ]
    },
    {
     "name": "stderr",
     "output_type": "stream",
     "text": [
      " 12%|█▎        | 25/200 [06:21<45:10, 15.49s/it]"
     ]
    },
    {
     "name": "stdout",
     "output_type": "stream",
     "text": [
      "Epoch 25/200, Training Loss: 0.5201678068008063, Validation Loss: 0.5521039962768555\n"
     ]
    },
    {
     "name": "stderr",
     "output_type": "stream",
     "text": [
      " 13%|█▎        | 26/200 [06:37<44:36, 15.38s/it]"
     ]
    },
    {
     "name": "stdout",
     "output_type": "stream",
     "text": [
      "Epoch 26/200, Training Loss: 0.44160896792726695, Validation Loss: 0.4649705524955477\n"
     ]
    },
    {
     "name": "stderr",
     "output_type": "stream",
     "text": [
      " 14%|█▎        | 27/200 [06:51<43:59, 15.26s/it]"
     ]
    },
    {
     "name": "stdout",
     "output_type": "stream",
     "text": [
      "Epoch 27/200, Training Loss: 0.5662162208332205, Validation Loss: 0.6307749663080487\n"
     ]
    },
    {
     "name": "stderr",
     "output_type": "stream",
     "text": [
      " 14%|█▍        | 28/200 [07:08<44:31, 15.53s/it]"
     ]
    },
    {
     "name": "stdout",
     "output_type": "stream",
     "text": [
      "Epoch 28/200, Training Loss: 0.5190439443543272, Validation Loss: 0.5100704559258052\n"
     ]
    },
    {
     "name": "stderr",
     "output_type": "stream",
     "text": [
      " 14%|█▍        | 29/200 [07:23<44:02, 15.45s/it]"
     ]
    },
    {
     "name": "stdout",
     "output_type": "stream",
     "text": [
      "Epoch 29/200, Training Loss: 0.4394652030940326, Validation Loss: 0.5061399000031608\n"
     ]
    },
    {
     "name": "stderr",
     "output_type": "stream",
     "text": [
      " 15%|█▌        | 30/200 [07:38<43:18, 15.28s/it]"
     ]
    },
    {
     "name": "stdout",
     "output_type": "stream",
     "text": [
      "Epoch 30/200, Training Loss: 0.43530440246159174, Validation Loss: 0.5160555413791111\n"
     ]
    },
    {
     "name": "stderr",
     "output_type": "stream",
     "text": [
      " 16%|█▌        | 31/200 [07:53<42:41, 15.16s/it]"
     ]
    },
    {
     "name": "stdout",
     "output_type": "stream",
     "text": [
      "Epoch 31/200, Training Loss: 0.44122946346705816, Validation Loss: 0.5014162319047111\n"
     ]
    },
    {
     "name": "stderr",
     "output_type": "stream",
     "text": [
      " 16%|█▌        | 32/200 [08:08<42:13, 15.08s/it]"
     ]
    },
    {
     "name": "stdout",
     "output_type": "stream",
     "text": [
      "Epoch 32/200, Training Loss: 0.4174696048194507, Validation Loss: 0.46782239845820833\n"
     ]
    },
    {
     "name": "stderr",
     "output_type": "stream",
     "text": [
      " 16%|█▋        | 33/200 [08:23<42:04, 15.12s/it]"
     ]
    },
    {
     "name": "stdout",
     "output_type": "stream",
     "text": [
      "Epoch 33/200, Training Loss: 0.407493401389077, Validation Loss: 0.48208109395844595\n"
     ]
    },
    {
     "name": "stderr",
     "output_type": "stream",
     "text": [
      " 17%|█▋        | 34/200 [08:38<41:32, 15.02s/it]"
     ]
    },
    {
     "name": "stdout",
     "output_type": "stream",
     "text": [
      "Epoch 34/200, Training Loss: 0.4319153869489454, Validation Loss: 0.4704160179410662\n"
     ]
    },
    {
     "name": "stderr",
     "output_type": "stream",
     "text": [
      " 18%|█▊        | 35/200 [08:53<41:15, 15.00s/it]"
     ]
    },
    {
     "name": "stdout",
     "output_type": "stream",
     "text": [
      "Epoch 35/200, Training Loss: 0.36945840997515983, Validation Loss: 0.4657874213797705\n"
     ]
    },
    {
     "name": "stderr",
     "output_type": "stream",
     "text": [
      " 18%|█▊        | 36/200 [09:09<41:59, 15.36s/it]"
     ]
    },
    {
     "name": "stdout",
     "output_type": "stream",
     "text": [
      "Epoch 36/200, Training Loss: 0.3642007388033957, Validation Loss: 0.4784821484770094\n"
     ]
    },
    {
     "name": "stderr",
     "output_type": "stream",
     "text": [
      " 18%|█▊        | 37/200 [09:24<41:55, 15.44s/it]"
     ]
    },
    {
     "name": "stdout",
     "output_type": "stream",
     "text": [
      "Epoch 37/200, Training Loss: 0.4046227951657097, Validation Loss: 0.4277621124471937\n"
     ]
    },
    {
     "name": "stderr",
     "output_type": "stream",
     "text": [
      " 19%|█▉        | 38/200 [09:39<41:10, 15.25s/it]"
     ]
    },
    {
     "name": "stdout",
     "output_type": "stream",
     "text": [
      "Epoch 38/200, Training Loss: 0.3619612633900822, Validation Loss: 0.47385879499571665\n"
     ]
    },
    {
     "name": "stderr",
     "output_type": "stream",
     "text": [
      " 20%|█▉        | 39/200 [09:54<40:40, 15.16s/it]"
     ]
    },
    {
     "name": "stdout",
     "output_type": "stream",
     "text": [
      "Epoch 39/200, Training Loss: 0.3680910957309435, Validation Loss: 0.4802497263465609\n"
     ]
    },
    {
     "name": "stderr",
     "output_type": "stream",
     "text": [
      " 20%|██        | 40/200 [10:10<40:51, 15.32s/it]"
     ]
    },
    {
     "name": "stdout",
     "output_type": "stream",
     "text": [
      "Epoch 40/200, Training Loss: 0.3550330732228621, Validation Loss: 0.4542526389871325\n"
     ]
    },
    {
     "name": "stderr",
     "output_type": "stream",
     "text": [
      " 20%|██        | 41/200 [10:25<40:52, 15.43s/it]"
     ]
    },
    {
     "name": "stdout",
     "output_type": "stream",
     "text": [
      "Epoch 41/200, Training Loss: 0.3837773872996276, Validation Loss: 0.45739692875317167\n"
     ]
    },
    {
     "name": "stderr",
     "output_type": "stream",
     "text": [
      " 21%|██        | 42/200 [10:41<40:24, 15.34s/it]"
     ]
    },
    {
     "name": "stdout",
     "output_type": "stream",
     "text": [
      "Epoch 42/200, Training Loss: 0.3768472566076045, Validation Loss: 0.5197898639099938\n"
     ]
    },
    {
     "name": "stderr",
     "output_type": "stream",
     "text": [
      " 22%|██▏       | 43/200 [10:56<39:55, 15.26s/it]"
     ]
    },
    {
     "name": "stdout",
     "output_type": "stream",
     "text": [
      "Epoch 43/200, Training Loss: 0.36260373482726654, Validation Loss: 0.4631048824105944\n"
     ]
    },
    {
     "name": "stderr",
     "output_type": "stream",
     "text": [
      " 22%|██▏       | 44/200 [11:11<39:40, 15.26s/it]"
     ]
    },
    {
     "name": "stdout",
     "output_type": "stream",
     "text": [
      "Epoch 44/200, Training Loss: 0.344445194135297, Validation Loss: 0.5852234789303371\n"
     ]
    },
    {
     "name": "stderr",
     "output_type": "stream",
     "text": [
      " 22%|██▎       | 45/200 [11:26<39:30, 15.29s/it]"
     ]
    },
    {
     "name": "stdout",
     "output_type": "stream",
     "text": [
      "Epoch 45/200, Training Loss: 0.41699984472877577, Validation Loss: 0.4222067360367094\n"
     ]
    },
    {
     "name": "stderr",
     "output_type": "stream",
     "text": [
      " 23%|██▎       | 46/200 [11:42<39:10, 15.26s/it]"
     ]
    },
    {
     "name": "stdout",
     "output_type": "stream",
     "text": [
      "Epoch 46/200, Training Loss: 0.3529634468679158, Validation Loss: 0.5314340080533709\n"
     ]
    },
    {
     "name": "stderr",
     "output_type": "stream",
     "text": [
      " 24%|██▎       | 47/200 [11:57<39:04, 15.33s/it]"
     ]
    },
    {
     "name": "stdout",
     "output_type": "stream",
     "text": [
      "Epoch 47/200, Training Loss: 0.37142634419900067, Validation Loss: 0.5142826161214283\n"
     ]
    },
    {
     "name": "stderr",
     "output_type": "stream",
     "text": [
      " 24%|██▍       | 48/200 [12:14<40:26, 15.96s/it]"
     ]
    },
    {
     "name": "stdout",
     "output_type": "stream",
     "text": [
      "Epoch 48/200, Training Loss: 0.3668392414473138, Validation Loss: 0.4961767005068915\n"
     ]
    },
    {
     "name": "stderr",
     "output_type": "stream",
     "text": [
      " 24%|██▍       | 49/200 [12:30<39:45, 15.79s/it]"
     ]
    },
    {
     "name": "stdout",
     "output_type": "stream",
     "text": [
      "Epoch 49/200, Training Loss: 0.35569009845549204, Validation Loss: 0.43944439930575235\n"
     ]
    },
    {
     "name": "stderr",
     "output_type": "stream",
     "text": [
      " 25%|██▌       | 50/200 [12:45<38:51, 15.54s/it]"
     ]
    },
    {
     "name": "stdout",
     "output_type": "stream",
     "text": [
      "Epoch 50/200, Training Loss: 0.40957286279156524, Validation Loss: 0.42285539848463877\n"
     ]
    },
    {
     "name": "stderr",
     "output_type": "stream",
     "text": [
      " 26%|██▌       | 51/200 [13:00<38:06, 15.35s/it]"
     ]
    },
    {
     "name": "stdout",
     "output_type": "stream",
     "text": [
      "Epoch 51/200, Training Loss: 0.3514472819724173, Validation Loss: 0.4645242669752666\n"
     ]
    },
    {
     "name": "stderr",
     "output_type": "stream",
     "text": [
      " 26%|██▌       | 52/200 [13:16<38:32, 15.63s/it]"
     ]
    },
    {
     "name": "stdout",
     "output_type": "stream",
     "text": [
      "Epoch 52/200, Training Loss: 0.3883920216335441, Validation Loss: 0.4642559971128191\n"
     ]
    },
    {
     "name": "stderr",
     "output_type": "stream",
     "text": [
      " 26%|██▋       | 53/200 [13:32<38:15, 15.62s/it]"
     ]
    },
    {
     "name": "stdout",
     "output_type": "stream",
     "text": [
      "Epoch 53/200, Training Loss: 0.40831034588363935, Validation Loss: 0.43250354698726107\n"
     ]
    },
    {
     "name": "stderr",
     "output_type": "stream",
     "text": [
      " 27%|██▋       | 54/200 [13:47<37:30, 15.41s/it]"
     ]
    },
    {
     "name": "stdout",
     "output_type": "stream",
     "text": [
      "Epoch 54/200, Training Loss: 0.3769427962460608, Validation Loss: 0.40252553139414105\n"
     ]
    },
    {
     "name": "stderr",
     "output_type": "stream",
     "text": [
      " 28%|██▊       | 55/200 [14:01<36:54, 15.27s/it]"
     ]
    },
    {
     "name": "stdout",
     "output_type": "stream",
     "text": [
      "Epoch 55/200, Training Loss: 0.35377591047084556, Validation Loss: 0.4253148117235729\n"
     ]
    },
    {
     "name": "stderr",
     "output_type": "stream",
     "text": [
      " 28%|██▊       | 56/200 [14:16<36:14, 15.10s/it]"
     ]
    },
    {
     "name": "stdout",
     "output_type": "stream",
     "text": [
      "Epoch 56/200, Training Loss: 0.3401081249961313, Validation Loss: 0.4399241421903883\n"
     ]
    },
    {
     "name": "stderr",
     "output_type": "stream",
     "text": [
      " 28%|██▊       | 57/200 [14:31<35:54, 15.07s/it]"
     ]
    },
    {
     "name": "stdout",
     "output_type": "stream",
     "text": [
      "Epoch 57/200, Training Loss: 0.33862273662157777, Validation Loss: 0.4059625566005707\n"
     ]
    },
    {
     "name": "stderr",
     "output_type": "stream",
     "text": [
      " 29%|██▉       | 58/200 [14:46<35:46, 15.12s/it]"
     ]
    },
    {
     "name": "stdout",
     "output_type": "stream",
     "text": [
      "Epoch 58/200, Training Loss: 0.34239200636182193, Validation Loss: 0.40809876791068483\n"
     ]
    },
    {
     "name": "stderr",
     "output_type": "stream",
     "text": [
      " 30%|██▉       | 59/200 [15:01<35:26, 15.08s/it]"
     ]
    },
    {
     "name": "stdout",
     "output_type": "stream",
     "text": [
      "Epoch 59/200, Training Loss: 0.3464577115088139, Validation Loss: 0.39391542971134186\n"
     ]
    },
    {
     "name": "stderr",
     "output_type": "stream",
     "text": [
      " 30%|███       | 60/200 [15:17<35:51, 15.37s/it]"
     ]
    },
    {
     "name": "stdout",
     "output_type": "stream",
     "text": [
      "Epoch 60/200, Training Loss: 0.34801619176594717, Validation Loss: 0.39630487986973356\n"
     ]
    },
    {
     "name": "stderr",
     "output_type": "stream",
     "text": [
      " 30%|███       | 61/200 [15:33<35:42, 15.41s/it]"
     ]
    },
    {
     "name": "stdout",
     "output_type": "stream",
     "text": [
      "Epoch 61/200, Training Loss: 0.3429800884903602, Validation Loss: 0.41815558288778576\n"
     ]
    },
    {
     "name": "stderr",
     "output_type": "stream",
     "text": [
      " 31%|███       | 62/200 [15:48<35:08, 15.28s/it]"
     ]
    },
    {
     "name": "stdout",
     "output_type": "stream",
     "text": [
      "Epoch 62/200, Training Loss: 0.34593851414491544, Validation Loss: 0.4436795881816319\n"
     ]
    },
    {
     "name": "stderr",
     "output_type": "stream",
     "text": [
      " 32%|███▏      | 63/200 [16:03<34:43, 15.21s/it]"
     ]
    },
    {
     "name": "stdout",
     "output_type": "stream",
     "text": [
      "Epoch 63/200, Training Loss: 0.3817829846773507, Validation Loss: 0.38996998965740204\n"
     ]
    },
    {
     "name": "stderr",
     "output_type": "stream",
     "text": [
      " 32%|███▏      | 64/200 [16:19<34:56, 15.42s/it]"
     ]
    },
    {
     "name": "stdout",
     "output_type": "stream",
     "text": [
      "Epoch 64/200, Training Loss: 0.3401105335720305, Validation Loss: 0.42231027356215883\n"
     ]
    },
    {
     "name": "stderr",
     "output_type": "stream",
     "text": [
      " 32%|███▎      | 65/200 [16:34<34:40, 15.41s/it]"
     ]
    },
    {
     "name": "stdout",
     "output_type": "stream",
     "text": [
      "Epoch 65/200, Training Loss: 0.35403223869935524, Validation Loss: 0.4150478946311133\n"
     ]
    },
    {
     "name": "stderr",
     "output_type": "stream",
     "text": [
      " 33%|███▎      | 66/200 [16:49<34:11, 15.31s/it]"
     ]
    },
    {
     "name": "stdout",
     "output_type": "stream",
     "text": [
      "Epoch 66/200, Training Loss: 0.3291459814557489, Validation Loss: 0.45693698951176237\n"
     ]
    },
    {
     "name": "stderr",
     "output_type": "stream",
     "text": [
      " 34%|███▎      | 67/200 [17:04<33:49, 15.26s/it]"
     ]
    },
    {
     "name": "stdout",
     "output_type": "stream",
     "text": [
      "Epoch 67/200, Training Loss: 0.35784351769483314, Validation Loss: 0.42585198155471254\n"
     ]
    },
    {
     "name": "stderr",
     "output_type": "stream",
     "text": [
      " 34%|███▍      | 68/200 [17:20<33:32, 15.25s/it]"
     ]
    },
    {
     "name": "stdout",
     "output_type": "stream",
     "text": [
      "Epoch 68/200, Training Loss: 0.3663028308524276, Validation Loss: 0.41675524200711933\n"
     ]
    },
    {
     "name": "stderr",
     "output_type": "stream",
     "text": [
      " 34%|███▍      | 69/200 [17:35<33:17, 15.25s/it]"
     ]
    },
    {
     "name": "stdout",
     "output_type": "stream",
     "text": [
      "Epoch 69/200, Training Loss: 0.33153958478063905, Validation Loss: 0.40584393803562435\n"
     ]
    },
    {
     "name": "stderr",
     "output_type": "stream",
     "text": [
      " 35%|███▌      | 70/200 [17:50<33:00, 15.24s/it]"
     ]
    },
    {
     "name": "stdout",
     "output_type": "stream",
     "text": [
      "Epoch 70/200, Training Loss: 0.33946132125719536, Validation Loss: 0.39930954362664905\n"
     ]
    },
    {
     "name": "stderr",
     "output_type": "stream",
     "text": [
      " 36%|███▌      | 71/200 [18:05<32:24, 15.07s/it]"
     ]
    },
    {
     "name": "stdout",
     "output_type": "stream",
     "text": [
      "Epoch 71/200, Training Loss: 0.35064280356438654, Validation Loss: 0.46109622929777416\n"
     ]
    },
    {
     "name": "stderr",
     "output_type": "stream",
     "text": [
      " 36%|███▌      | 72/200 [18:21<32:49, 15.39s/it]"
     ]
    },
    {
     "name": "stdout",
     "output_type": "stream",
     "text": [
      "Epoch 72/200, Training Loss: 0.3524735617750096, Validation Loss: 0.43040199152060915\n"
     ]
    },
    {
     "name": "stderr",
     "output_type": "stream",
     "text": [
      " 36%|███▋      | 73/200 [18:36<32:22, 15.30s/it]"
     ]
    },
    {
     "name": "stdout",
     "output_type": "stream",
     "text": [
      "Epoch 73/200, Training Loss: 0.31914392141801007, Validation Loss: 0.4130022887672697\n"
     ]
    },
    {
     "name": "stderr",
     "output_type": "stream",
     "text": [
      " 37%|███▋      | 74/200 [18:52<32:15, 15.36s/it]"
     ]
    },
    {
     "name": "stdout",
     "output_type": "stream",
     "text": [
      "Epoch 74/200, Training Loss: 0.301454596362024, Validation Loss: 0.4166889616421291\n"
     ]
    },
    {
     "name": "stderr",
     "output_type": "stream",
     "text": [
      " 38%|███▊      | 75/200 [19:07<31:48, 15.26s/it]"
     ]
    },
    {
     "name": "stdout",
     "output_type": "stream",
     "text": [
      "Epoch 75/200, Training Loss: 0.3246428589775877, Validation Loss: 0.4431495453630175\n"
     ]
    },
    {
     "name": "stderr",
     "output_type": "stream",
     "text": [
      " 38%|███▊      | 76/200 [19:23<31:59, 15.48s/it]"
     ]
    },
    {
     "name": "stdout",
     "output_type": "stream",
     "text": [
      "Epoch 76/200, Training Loss: 0.3706211706377425, Validation Loss: 0.42955670186451506\n"
     ]
    },
    {
     "name": "stderr",
     "output_type": "stream",
     "text": [
      " 38%|███▊      | 77/200 [19:38<31:44, 15.48s/it]"
     ]
    },
    {
     "name": "stdout",
     "output_type": "stream",
     "text": [
      "Epoch 77/200, Training Loss: 0.3373584346670025, Validation Loss: 0.4589908740350178\n"
     ]
    },
    {
     "name": "stderr",
     "output_type": "stream",
     "text": [
      " 39%|███▉      | 78/200 [19:53<31:19, 15.41s/it]"
     ]
    },
    {
     "name": "stdout",
     "output_type": "stream",
     "text": [
      "Epoch 78/200, Training Loss: 0.3172291763267427, Validation Loss: 0.4152356684207916\n"
     ]
    },
    {
     "name": "stderr",
     "output_type": "stream",
     "text": [
      " 40%|███▉      | 79/200 [20:09<31:06, 15.42s/it]"
     ]
    },
    {
     "name": "stdout",
     "output_type": "stream",
     "text": [
      "Epoch 79/200, Training Loss: 0.3265647518466104, Validation Loss: 0.42288666112082346\n"
     ]
    },
    {
     "name": "stderr",
     "output_type": "stream",
     "text": [
      " 40%|████      | 80/200 [20:24<30:32, 15.27s/it]"
     ]
    },
    {
     "name": "stdout",
     "output_type": "stream",
     "text": [
      "Epoch 80/200, Training Loss: 0.3140898564092393, Validation Loss: 0.36940184235572815\n"
     ]
    },
    {
     "name": "stderr",
     "output_type": "stream",
     "text": [
      " 40%|████      | 81/200 [20:38<30:02, 15.15s/it]"
     ]
    },
    {
     "name": "stdout",
     "output_type": "stream",
     "text": [
      "Epoch 81/200, Training Loss: 0.3163050466550971, Validation Loss: 0.3830621455396925\n"
     ]
    },
    {
     "name": "stderr",
     "output_type": "stream",
     "text": [
      " 41%|████      | 82/200 [20:54<29:59, 15.25s/it]"
     ]
    },
    {
     "name": "stdout",
     "output_type": "stream",
     "text": [
      "Epoch 82/200, Training Loss: 0.31671655023435374, Validation Loss: 0.454572075179645\n"
     ]
    },
    {
     "name": "stderr",
     "output_type": "stream",
     "text": [
      " 42%|████▏     | 83/200 [21:10<30:11, 15.48s/it]"
     ]
    },
    {
     "name": "stdout",
     "output_type": "stream",
     "text": [
      "Epoch 83/200, Training Loss: 0.30149558270877264, Validation Loss: 0.4875829092093876\n"
     ]
    },
    {
     "name": "stderr",
     "output_type": "stream",
     "text": [
      " 42%|████▏     | 84/200 [21:26<30:11, 15.61s/it]"
     ]
    },
    {
     "name": "stdout",
     "output_type": "stream",
     "text": [
      "Epoch 84/200, Training Loss: 0.33736662953248564, Validation Loss: 0.4295611594404493\n"
     ]
    },
    {
     "name": "stderr",
     "output_type": "stream",
     "text": [
      " 42%|████▎     | 85/200 [21:42<29:54, 15.61s/it]"
     ]
    },
    {
     "name": "stdout",
     "output_type": "stream",
     "text": [
      "Epoch 85/200, Training Loss: 0.33850536748485743, Validation Loss: 0.3941043061869485\n"
     ]
    },
    {
     "name": "stderr",
     "output_type": "stream",
     "text": [
      " 43%|████▎     | 86/200 [21:56<29:11, 15.36s/it]"
     ]
    },
    {
     "name": "stdout",
     "output_type": "stream",
     "text": [
      "Epoch 86/200, Training Loss: 0.33527633041705723, Validation Loss: 0.41717736210141865\n"
     ]
    },
    {
     "name": "stderr",
     "output_type": "stream",
     "text": [
      " 44%|████▎     | 87/200 [22:11<28:40, 15.23s/it]"
     ]
    },
    {
     "name": "stdout",
     "output_type": "stream",
     "text": [
      "Epoch 87/200, Training Loss: 0.3189822701069544, Validation Loss: 0.4132421293428966\n"
     ]
    },
    {
     "name": "stderr",
     "output_type": "stream",
     "text": [
      " 44%|████▍     | 88/200 [22:27<28:47, 15.42s/it]"
     ]
    },
    {
     "name": "stdout",
     "output_type": "stream",
     "text": [
      "Epoch 88/200, Training Loss: 0.30856165641321326, Validation Loss: 0.4326513111591339\n"
     ]
    },
    {
     "name": "stderr",
     "output_type": "stream",
     "text": [
      " 44%|████▍     | 89/200 [22:42<28:25, 15.36s/it]"
     ]
    },
    {
     "name": "stdout",
     "output_type": "stream",
     "text": [
      "Epoch 89/200, Training Loss: 0.35360166107146246, Validation Loss: 0.42444147169589996\n"
     ]
    },
    {
     "name": "stderr",
     "output_type": "stream",
     "text": [
      " 45%|████▌     | 90/200 [22:57<27:50, 15.18s/it]"
     ]
    },
    {
     "name": "stdout",
     "output_type": "stream",
     "text": [
      "Epoch 90/200, Training Loss: 0.2956523039149788, Validation Loss: 0.3969792510781969\n"
     ]
    },
    {
     "name": "stderr",
     "output_type": "stream",
     "text": [
      " 46%|████▌     | 91/200 [23:12<27:22, 15.07s/it]"
     ]
    },
    {
     "name": "stdout",
     "output_type": "stream",
     "text": [
      "Epoch 91/200, Training Loss: 0.3145452763112086, Validation Loss: 0.4321845131261008\n"
     ]
    },
    {
     "name": "stderr",
     "output_type": "stream",
     "text": [
      " 46%|████▌     | 92/200 [23:27<27:00, 15.00s/it]"
     ]
    },
    {
     "name": "stdout",
     "output_type": "stream",
     "text": [
      "Epoch 92/200, Training Loss: 0.31835999663146036, Validation Loss: 0.41937299924237387\n"
     ]
    },
    {
     "name": "stderr",
     "output_type": "stream",
     "text": [
      " 46%|████▋     | 93/200 [23:41<26:32, 14.89s/it]"
     ]
    },
    {
     "name": "stdout",
     "output_type": "stream",
     "text": [
      "Epoch 93/200, Training Loss: 0.3515172749757767, Validation Loss: 0.46697951427527834\n"
     ]
    },
    {
     "name": "stderr",
     "output_type": "stream",
     "text": [
      " 47%|████▋     | 94/200 [23:56<26:23, 14.93s/it]"
     ]
    },
    {
     "name": "stdout",
     "output_type": "stream",
     "text": [
      "Epoch 94/200, Training Loss: 0.35832485978333456, Validation Loss: 0.4079484897000449\n"
     ]
    },
    {
     "name": "stderr",
     "output_type": "stream",
     "text": [
      " 48%|████▊     | 95/200 [24:11<25:58, 14.84s/it]"
     ]
    },
    {
     "name": "stdout",
     "output_type": "stream",
     "text": [
      "Epoch 95/200, Training Loss: 0.3146133810844062, Validation Loss: 0.3978246663297926\n"
     ]
    },
    {
     "name": "stderr",
     "output_type": "stream",
     "text": [
      " 48%|████▊     | 96/200 [24:27<26:14, 15.14s/it]"
     ]
    },
    {
     "name": "stdout",
     "output_type": "stream",
     "text": [
      "Epoch 96/200, Training Loss: 0.3270130165905323, Validation Loss: 0.4491752598966871\n"
     ]
    },
    {
     "name": "stderr",
     "output_type": "stream",
     "text": [
      " 48%|████▊     | 97/200 [24:42<26:05, 15.20s/it]"
     ]
    },
    {
     "name": "stdout",
     "output_type": "stream",
     "text": [
      "Epoch 97/200, Training Loss: 0.3071318301108648, Validation Loss: 0.4010712844984872\n"
     ]
    },
    {
     "name": "stderr",
     "output_type": "stream",
     "text": [
      " 49%|████▉     | 98/200 [24:57<25:36, 15.07s/it]"
     ]
    },
    {
     "name": "stdout",
     "output_type": "stream",
     "text": [
      "Epoch 98/200, Training Loss: 0.27383503268631, Validation Loss: 0.3920110762119293\n"
     ]
    },
    {
     "name": "stderr",
     "output_type": "stream",
     "text": [
      " 50%|████▉     | 99/200 [25:12<25:21, 15.07s/it]"
     ]
    },
    {
     "name": "stdout",
     "output_type": "stream",
     "text": [
      "Epoch 99/200, Training Loss: 0.3126660782211232, Validation Loss: 0.4341521156685693\n"
     ]
    },
    {
     "name": "stderr",
     "output_type": "stream",
     "text": [
      " 50%|█████     | 100/200 [25:28<25:30, 15.30s/it]"
     ]
    },
    {
     "name": "stdout",
     "output_type": "stream",
     "text": [
      "Epoch 100/200, Training Loss: 0.2836135272990982, Validation Loss: 0.40385634345667704\n"
     ]
    },
    {
     "name": "stderr",
     "output_type": "stream",
     "text": [
      " 50%|█████     | 101/200 [25:43<25:20, 15.35s/it]"
     ]
    },
    {
     "name": "stdout",
     "output_type": "stream",
     "text": [
      "Epoch 101/200, Training Loss: 0.32713175269792666, Validation Loss: 0.3460761627980641\n"
     ]
    },
    {
     "name": "stderr",
     "output_type": "stream",
     "text": [
      " 51%|█████     | 102/200 [25:58<24:43, 15.14s/it]"
     ]
    },
    {
     "name": "stdout",
     "output_type": "stream",
     "text": [
      "Epoch 102/200, Training Loss: 0.3190886603914342, Validation Loss: 0.40595036319323946\n"
     ]
    },
    {
     "name": "stderr",
     "output_type": "stream",
     "text": [
      " 52%|█████▏    | 103/200 [26:13<24:23, 15.09s/it]"
     ]
    },
    {
     "name": "stdout",
     "output_type": "stream",
     "text": [
      "Epoch 103/200, Training Loss: 0.3066232048396794, Validation Loss: 0.4012009437595095\n"
     ]
    },
    {
     "name": "stderr",
     "output_type": "stream",
     "text": [
      " 52%|█████▏    | 104/200 [26:28<23:55, 14.96s/it]"
     ]
    },
    {
     "name": "stdout",
     "output_type": "stream",
     "text": [
      "Epoch 104/200, Training Loss: 0.3043031359337411, Validation Loss: 0.39269683616501944\n"
     ]
    },
    {
     "name": "stderr",
     "output_type": "stream",
     "text": [
      " 52%|█████▎    | 105/200 [26:43<23:51, 15.06s/it]"
     ]
    },
    {
     "name": "stdout",
     "output_type": "stream",
     "text": [
      "Epoch 105/200, Training Loss: 0.2848706773991855, Validation Loss: 0.3918285093137196\n"
     ]
    },
    {
     "name": "stderr",
     "output_type": "stream",
     "text": [
      " 53%|█████▎    | 106/200 [26:58<23:34, 15.05s/it]"
     ]
    },
    {
     "name": "stdout",
     "output_type": "stream",
     "text": [
      "Epoch 106/200, Training Loss: 0.33742510428968464, Validation Loss: 0.38771538010665346\n"
     ]
    },
    {
     "name": "stderr",
     "output_type": "stream",
     "text": [
      " 54%|█████▎    | 107/200 [27:13<23:17, 15.03s/it]"
     ]
    },
    {
     "name": "stdout",
     "output_type": "stream",
     "text": [
      "Epoch 107/200, Training Loss: 0.2913671283508247, Validation Loss: 0.40335538344723837\n"
     ]
    },
    {
     "name": "stderr",
     "output_type": "stream",
     "text": [
      " 54%|█████▍    | 108/200 [27:29<23:23, 15.26s/it]"
     ]
    },
    {
     "name": "stdout",
     "output_type": "stream",
     "text": [
      "Epoch 108/200, Training Loss: 0.26506619697067674, Validation Loss: 0.38667742908000946\n"
     ]
    },
    {
     "name": "stderr",
     "output_type": "stream",
     "text": [
      " 55%|█████▍    | 109/200 [27:44<23:09, 15.26s/it]"
     ]
    },
    {
     "name": "stdout",
     "output_type": "stream",
     "text": [
      "Epoch 109/200, Training Loss: 0.29460671473786515, Validation Loss: 0.46596794043268475\n"
     ]
    },
    {
     "name": "stderr",
     "output_type": "stream",
     "text": [
      " 55%|█████▌    | 110/200 [27:59<22:45, 15.17s/it]"
     ]
    },
    {
     "name": "stdout",
     "output_type": "stream",
     "text": [
      "Epoch 110/200, Training Loss: 0.2909340684144002, Validation Loss: 0.43812258754457745\n"
     ]
    },
    {
     "name": "stderr",
     "output_type": "stream",
     "text": [
      " 56%|█████▌    | 111/200 [28:14<22:21, 15.07s/it]"
     ]
    },
    {
     "name": "stdout",
     "output_type": "stream",
     "text": [
      "Epoch 111/200, Training Loss: 0.2839175561126673, Validation Loss: 0.4240512124129704\n"
     ]
    },
    {
     "name": "stderr",
     "output_type": "stream",
     "text": [
      " 56%|█████▌    | 112/200 [28:30<22:29, 15.34s/it]"
     ]
    },
    {
     "name": "stdout",
     "output_type": "stream",
     "text": [
      "Epoch 112/200, Training Loss: 0.27745507826220317, Validation Loss: 0.3919258564710617\n"
     ]
    },
    {
     "name": "stderr",
     "output_type": "stream",
     "text": [
      " 56%|█████▋    | 113/200 [28:45<22:13, 15.33s/it]"
     ]
    },
    {
     "name": "stdout",
     "output_type": "stream",
     "text": [
      "Epoch 113/200, Training Loss: 0.29119482060086055, Validation Loss: 0.41941278747149874\n"
     ]
    },
    {
     "name": "stderr",
     "output_type": "stream",
     "text": [
      " 57%|█████▋    | 114/200 [29:00<21:45, 15.18s/it]"
     ]
    },
    {
     "name": "stdout",
     "output_type": "stream",
     "text": [
      "Epoch 114/200, Training Loss: 0.2888730114923333, Validation Loss: 0.418719293815749\n"
     ]
    },
    {
     "name": "stderr",
     "output_type": "stream",
     "text": [
      " 57%|█████▊    | 115/200 [29:15<21:19, 15.05s/it]"
     ]
    },
    {
     "name": "stdout",
     "output_type": "stream",
     "text": [
      "Epoch 115/200, Training Loss: 0.2863268288520147, Validation Loss: 0.3824786863156727\n"
     ]
    },
    {
     "name": "stderr",
     "output_type": "stream",
     "text": [
      " 58%|█████▊    | 116/200 [29:29<20:58, 14.99s/it]"
     ]
    },
    {
     "name": "stdout",
     "output_type": "stream",
     "text": [
      "Epoch 116/200, Training Loss: 0.32118129631820713, Validation Loss: 0.37024584838322233\n"
     ]
    },
    {
     "name": "stderr",
     "output_type": "stream",
     "text": [
      " 58%|█████▊    | 117/200 [29:44<20:40, 14.95s/it]"
     ]
    },
    {
     "name": "stdout",
     "output_type": "stream",
     "text": [
      "Epoch 117/200, Training Loss: 0.25910800090938246, Validation Loss: 0.3812956192663738\n"
     ]
    },
    {
     "name": "stderr",
     "output_type": "stream",
     "text": [
      " 59%|█████▉    | 118/200 [30:00<20:32, 15.03s/it]"
     ]
    },
    {
     "name": "stdout",
     "output_type": "stream",
     "text": [
      "Epoch 118/200, Training Loss: 0.26942699775099754, Validation Loss: 0.41229150550706045\n"
     ]
    },
    {
     "name": "stderr",
     "output_type": "stream",
     "text": [
      " 60%|█████▉    | 119/200 [30:16<21:02, 15.59s/it]"
     ]
    },
    {
     "name": "stdout",
     "output_type": "stream",
     "text": [
      "Epoch 119/200, Training Loss: 0.25974209937003423, Validation Loss: 0.3571166970900127\n"
     ]
    },
    {
     "name": "stderr",
     "output_type": "stream",
     "text": [
      " 60%|██████    | 120/200 [30:33<21:17, 15.97s/it]"
     ]
    },
    {
     "name": "stdout",
     "output_type": "stream",
     "text": [
      "Epoch 120/200, Training Loss: 0.2699077810108099, Validation Loss: 0.39424549468926023\n"
     ]
    },
    {
     "name": "stderr",
     "output_type": "stream",
     "text": [
      " 60%|██████    | 121/200 [30:50<21:07, 16.05s/it]"
     ]
    },
    {
     "name": "stdout",
     "output_type": "stream",
     "text": [
      "Epoch 121/200, Training Loss: 0.25065761249301566, Validation Loss: 0.4032127154724939\n"
     ]
    },
    {
     "name": "stderr",
     "output_type": "stream",
     "text": [
      " 61%|██████    | 122/200 [31:05<20:43, 15.95s/it]"
     ]
    },
    {
     "name": "stdout",
     "output_type": "stream",
     "text": [
      "Epoch 122/200, Training Loss: 0.268677505752388, Validation Loss: 0.4187167372022356\n"
     ]
    },
    {
     "name": "stderr",
     "output_type": "stream",
     "text": [
      " 62%|██████▏   | 123/200 [31:26<22:19, 17.40s/it]"
     ]
    },
    {
     "name": "stdout",
     "output_type": "stream",
     "text": [
      "Epoch 123/200, Training Loss: 0.2593536859835094, Validation Loss: 0.35854276376111166\n"
     ]
    },
    {
     "name": "stderr",
     "output_type": "stream",
     "text": [
      " 62%|██████▏   | 124/200 [31:43<22:01, 17.39s/it]"
     ]
    },
    {
     "name": "stdout",
     "output_type": "stream",
     "text": [
      "Epoch 124/200, Training Loss: 0.24105999197037714, Validation Loss: 0.41513764006750925\n"
     ]
    },
    {
     "name": "stderr",
     "output_type": "stream",
     "text": [
      " 62%|██████▎   | 125/200 [32:00<21:33, 17.25s/it]"
     ]
    },
    {
     "name": "stdout",
     "output_type": "stream",
     "text": [
      "Epoch 125/200, Training Loss: 0.24686890699953404, Validation Loss: 0.38351269492081236\n"
     ]
    },
    {
     "name": "stderr",
     "output_type": "stream",
     "text": [
      " 63%|██████▎   | 126/200 [32:16<20:36, 16.71s/it]"
     ]
    },
    {
     "name": "stdout",
     "output_type": "stream",
     "text": [
      "Epoch 126/200, Training Loss: 0.2479931371251367, Validation Loss: 0.38607989038739887\n"
     ]
    },
    {
     "name": "stderr",
     "output_type": "stream",
     "text": [
      " 64%|██████▎   | 127/200 [32:31<19:48, 16.28s/it]"
     ]
    },
    {
     "name": "stdout",
     "output_type": "stream",
     "text": [
      "Epoch 127/200, Training Loss: 0.2643581266813683, Validation Loss: 0.4190086828810828\n"
     ]
    },
    {
     "name": "stderr",
     "output_type": "stream",
     "text": [
      " 64%|██████▍   | 128/200 [32:46<19:02, 15.87s/it]"
     ]
    },
    {
     "name": "stdout",
     "output_type": "stream",
     "text": [
      "Epoch 128/200, Training Loss: 0.28570755796050123, Validation Loss: 0.36107986526829855\n"
     ]
    },
    {
     "name": "stderr",
     "output_type": "stream",
     "text": [
      " 64%|██████▍   | 129/200 [33:01<18:34, 15.70s/it]"
     ]
    },
    {
     "name": "stdout",
     "output_type": "stream",
     "text": [
      "Epoch 129/200, Training Loss: 0.2582277157256063, Validation Loss: 0.39841202752930777\n"
     ]
    },
    {
     "name": "stderr",
     "output_type": "stream",
     "text": [
      " 65%|██████▌   | 130/200 [33:17<18:19, 15.71s/it]"
     ]
    },
    {
     "name": "stdout",
     "output_type": "stream",
     "text": [
      "Epoch 130/200, Training Loss: 0.25788152695826766, Validation Loss: 0.4186621116740363\n"
     ]
    },
    {
     "name": "stderr",
     "output_type": "stream",
     "text": [
      " 66%|██████▌   | 131/200 [33:33<18:08, 15.77s/it]"
     ]
    },
    {
     "name": "stdout",
     "output_type": "stream",
     "text": [
      "Epoch 131/200, Training Loss: 0.25357699109557663, Validation Loss: 0.39428312863622395\n"
     ]
    },
    {
     "name": "stderr",
     "output_type": "stream",
     "text": [
      " 66%|██████▌   | 132/200 [33:48<17:39, 15.58s/it]"
     ]
    },
    {
     "name": "stdout",
     "output_type": "stream",
     "text": [
      "Epoch 132/200, Training Loss: 0.24852973447655732, Validation Loss: 0.37416097415345057\n"
     ]
    },
    {
     "name": "stderr",
     "output_type": "stream",
     "text": [
      " 66%|██████▋   | 133/200 [34:03<17:12, 15.42s/it]"
     ]
    },
    {
     "name": "stdout",
     "output_type": "stream",
     "text": [
      "Epoch 133/200, Training Loss: 0.2460586553052911, Validation Loss: 0.38459917477199007\n"
     ]
    },
    {
     "name": "stderr",
     "output_type": "stream",
     "text": [
      " 67%|██████▋   | 134/200 [34:19<17:09, 15.59s/it]"
     ]
    },
    {
     "name": "stdout",
     "output_type": "stream",
     "text": [
      "Epoch 134/200, Training Loss: 0.2586848811720902, Validation Loss: 0.3642693800585611\n"
     ]
    },
    {
     "name": "stderr",
     "output_type": "stream",
     "text": [
      " 68%|██████▊   | 135/200 [34:35<16:50, 15.54s/it]"
     ]
    },
    {
     "name": "stdout",
     "output_type": "stream",
     "text": [
      "Epoch 135/200, Training Loss: 0.2433737704776368, Validation Loss: 0.37963069549628664\n"
     ]
    },
    {
     "name": "stderr",
     "output_type": "stream",
     "text": [
      " 68%|██████▊   | 136/200 [34:50<16:27, 15.43s/it]"
     ]
    },
    {
     "name": "stdout",
     "output_type": "stream",
     "text": [
      "Epoch 136/200, Training Loss: 0.24387855564226518, Validation Loss: 0.39929003162043436\n"
     ]
    },
    {
     "name": "stderr",
     "output_type": "stream",
     "text": [
      " 68%|██████▊   | 137/200 [35:05<16:03, 15.30s/it]"
     ]
    },
    {
     "name": "stdout",
     "output_type": "stream",
     "text": [
      "Epoch 137/200, Training Loss: 0.23876547707982784, Validation Loss: 0.3625736193997519\n"
     ]
    },
    {
     "name": "stderr",
     "output_type": "stream",
     "text": [
      " 69%|██████▉   | 138/200 [35:20<15:49, 15.32s/it]"
     ]
    },
    {
     "name": "stdout",
     "output_type": "stream",
     "text": [
      "Epoch 138/200, Training Loss: 0.2395029127035501, Validation Loss: 0.3645333583865847\n"
     ]
    },
    {
     "name": "stderr",
     "output_type": "stream",
     "text": [
      " 70%|██████▉   | 139/200 [35:35<15:28, 15.22s/it]"
     ]
    },
    {
     "name": "stdout",
     "output_type": "stream",
     "text": [
      "Epoch 139/200, Training Loss: 0.23226091230534157, Validation Loss: 0.4136463095034872\n"
     ]
    },
    {
     "name": "stderr",
     "output_type": "stream",
     "text": [
      " 70%|███████   | 140/200 [35:50<15:14, 15.24s/it]"
     ]
    },
    {
     "name": "stdout",
     "output_type": "stream",
     "text": [
      "Epoch 140/200, Training Loss: 0.25155175631901006, Validation Loss: 0.34102348344666616\n"
     ]
    },
    {
     "name": "stderr",
     "output_type": "stream",
     "text": [
      " 70%|███████   | 141/200 [36:06<14:58, 15.22s/it]"
     ]
    },
    {
     "name": "stdout",
     "output_type": "stream",
     "text": [
      "Epoch 141/200, Training Loss: 0.2571338274568882, Validation Loss: 0.40227686507361277\n"
     ]
    },
    {
     "name": "stderr",
     "output_type": "stream",
     "text": [
      " 71%|███████   | 142/200 [36:22<15:00, 15.52s/it]"
     ]
    },
    {
     "name": "stdout",
     "output_type": "stream",
     "text": [
      "Epoch 142/200, Training Loss: 0.23885912040494522, Validation Loss: 0.39604950164045605\n"
     ]
    },
    {
     "name": "stderr",
     "output_type": "stream",
     "text": [
      " 72%|███████▏  | 143/200 [36:37<14:44, 15.52s/it]"
     ]
    },
    {
     "name": "stdout",
     "output_type": "stream",
     "text": [
      "Epoch 143/200, Training Loss: 0.25162945687770844, Validation Loss: 0.3932122566870281\n"
     ]
    },
    {
     "name": "stderr",
     "output_type": "stream",
     "text": [
      " 72%|███████▏  | 144/200 [36:52<14:21, 15.38s/it]"
     ]
    },
    {
     "name": "stdout",
     "output_type": "stream",
     "text": [
      "Epoch 144/200, Training Loss: 0.2282780481256404, Validation Loss: 0.35456946066447664\n"
     ]
    },
    {
     "name": "stderr",
     "output_type": "stream",
     "text": [
      " 72%|███████▎  | 145/200 [37:08<14:06, 15.39s/it]"
     ]
    },
    {
     "name": "stdout",
     "output_type": "stream",
     "text": [
      "Epoch 145/200, Training Loss: 0.24062315314867586, Validation Loss: 0.38369067651884897\n"
     ]
    },
    {
     "name": "stderr",
     "output_type": "stream",
     "text": [
      " 73%|███████▎  | 146/200 [37:23<13:52, 15.41s/it]"
     ]
    },
    {
     "name": "stdout",
     "output_type": "stream",
     "text": [
      "Epoch 146/200, Training Loss: 0.25282459804471935, Validation Loss: 0.42501718763794216\n"
     ]
    },
    {
     "name": "stderr",
     "output_type": "stream",
     "text": [
      " 74%|███████▎  | 147/200 [37:38<13:33, 15.35s/it]"
     ]
    },
    {
     "name": "stdout",
     "output_type": "stream",
     "text": [
      "Epoch 147/200, Training Loss: 0.2607914534098697, Validation Loss: 0.38072032162121366\n"
     ]
    },
    {
     "name": "stderr",
     "output_type": "stream",
     "text": [
      " 74%|███████▍  | 148/200 [37:53<13:09, 15.17s/it]"
     ]
    },
    {
     "name": "stdout",
     "output_type": "stream",
     "text": [
      "Epoch 148/200, Training Loss: 0.2296112578291938, Validation Loss: 0.3922904559544155\n"
     ]
    },
    {
     "name": "stderr",
     "output_type": "stream",
     "text": [
      " 74%|███████▍  | 149/200 [38:11<13:32, 15.93s/it]"
     ]
    },
    {
     "name": "stdout",
     "output_type": "stream",
     "text": [
      "Epoch 149/200, Training Loss: 0.2521174008132152, Validation Loss: 0.3783621277127947\n"
     ]
    },
    {
     "name": "stderr",
     "output_type": "stream",
     "text": [
      " 75%|███████▌  | 150/200 [38:28<13:30, 16.21s/it]"
     ]
    },
    {
     "name": "stdout",
     "output_type": "stream",
     "text": [
      "Epoch 150/200, Training Loss: 0.22981566162604206, Validation Loss: 0.3823511643069131\n"
     ]
    },
    {
     "name": "stderr",
     "output_type": "stream",
     "text": [
      " 76%|███████▌  | 151/200 [38:44<13:13, 16.20s/it]"
     ]
    },
    {
     "name": "stdout",
     "output_type": "stream",
     "text": [
      "Epoch 151/200, Training Loss: 0.26044137210075585, Validation Loss: 0.37026392987796236\n"
     ]
    },
    {
     "name": "stderr",
     "output_type": "stream",
     "text": [
      " 76%|███████▌  | 152/200 [38:59<12:46, 15.97s/it]"
     ]
    },
    {
     "name": "stdout",
     "output_type": "stream",
     "text": [
      "Epoch 152/200, Training Loss: 0.2527755547385171, Validation Loss: 0.35137973938669476\n"
     ]
    },
    {
     "name": "stderr",
     "output_type": "stream",
     "text": [
      " 76%|███████▋  | 153/200 [39:16<12:36, 16.10s/it]"
     ]
    },
    {
     "name": "stdout",
     "output_type": "stream",
     "text": [
      "Epoch 153/200, Training Loss: 0.24941926098094797, Validation Loss: 0.3583063270364489\n"
     ]
    },
    {
     "name": "stderr",
     "output_type": "stream",
     "text": [
      " 77%|███████▋  | 154/200 [39:33<12:30, 16.31s/it]"
     ]
    },
    {
     "name": "stdout",
     "output_type": "stream",
     "text": [
      "Epoch 154/200, Training Loss: 0.24207446063464544, Validation Loss: 0.3384521561009543\n"
     ]
    },
    {
     "name": "stderr",
     "output_type": "stream",
     "text": [
      " 78%|███████▊  | 155/200 [39:48<12:08, 16.19s/it]"
     ]
    },
    {
     "name": "stdout",
     "output_type": "stream",
     "text": [
      "Epoch 155/200, Training Loss: 0.23649245602482893, Validation Loss: 0.3835199347564152\n"
     ]
    },
    {
     "name": "stderr",
     "output_type": "stream",
     "text": [
      " 78%|███████▊  | 156/200 [40:04<11:42, 15.98s/it]"
     ]
    },
    {
     "name": "stdout",
     "output_type": "stream",
     "text": [
      "Epoch 156/200, Training Loss: 0.2269753820772441, Validation Loss: 0.36695281522614615\n"
     ]
    },
    {
     "name": "stderr",
     "output_type": "stream",
     "text": [
      " 78%|███████▊  | 157/200 [40:20<11:25, 15.94s/it]"
     ]
    },
    {
     "name": "stdout",
     "output_type": "stream",
     "text": [
      "Epoch 157/200, Training Loss: 0.2267909231332113, Validation Loss: 0.34399426196302685\n"
     ]
    },
    {
     "name": "stderr",
     "output_type": "stream",
     "text": [
      " 79%|███████▉  | 158/200 [40:39<11:45, 16.81s/it]"
     ]
    },
    {
     "name": "stdout",
     "output_type": "stream",
     "text": [
      "Epoch 158/200, Training Loss: 0.23559352460334887, Validation Loss: 0.3766083951507296\n"
     ]
    },
    {
     "name": "stderr",
     "output_type": "stream",
     "text": [
      " 80%|███████▉  | 159/200 [40:57<11:42, 17.15s/it]"
     ]
    },
    {
     "name": "stdout",
     "output_type": "stream",
     "text": [
      "Epoch 159/200, Training Loss: 0.24492901999433087, Validation Loss: 0.36821508620466503\n"
     ]
    },
    {
     "name": "stderr",
     "output_type": "stream",
     "text": [
      " 80%|████████  | 160/200 [41:14<11:25, 17.14s/it]"
     ]
    },
    {
     "name": "stdout",
     "output_type": "stream",
     "text": [
      "Epoch 160/200, Training Loss: 0.24352960119832237, Validation Loss: 0.45380446314811707\n"
     ]
    },
    {
     "name": "stderr",
     "output_type": "stream",
     "text": [
      " 80%|████████  | 161/200 [41:30<11:02, 16.98s/it]"
     ]
    },
    {
     "name": "stdout",
     "output_type": "stream",
     "text": [
      "Epoch 161/200, Training Loss: 0.23644964411011282, Validation Loss: 0.36921259335109163\n"
     ]
    },
    {
     "name": "stderr",
     "output_type": "stream",
     "text": [
      " 81%|████████  | 162/200 [41:46<10:32, 16.65s/it]"
     ]
    },
    {
     "name": "stdout",
     "output_type": "stream",
     "text": [
      "Epoch 162/200, Training Loss: 0.27818376599055417, Validation Loss: 0.3693145641258785\n"
     ]
    },
    {
     "name": "stderr",
     "output_type": "stream",
     "text": [
      " 82%|████████▏ | 163/200 [42:02<10:07, 16.43s/it]"
     ]
    },
    {
     "name": "stdout",
     "output_type": "stream",
     "text": [
      "Epoch 163/200, Training Loss: 0.2599289025759922, Validation Loss: 0.34802079839365824\n"
     ]
    },
    {
     "name": "stderr",
     "output_type": "stream",
     "text": [
      " 82%|████████▏ | 164/200 [42:18<09:41, 16.15s/it]"
     ]
    },
    {
     "name": "stdout",
     "output_type": "stream",
     "text": [
      "Epoch 164/200, Training Loss: 0.2527888168422681, Validation Loss: 0.385645506637437\n"
     ]
    },
    {
     "name": "stderr",
     "output_type": "stream",
     "text": [
      " 82%|████████▎ | 165/200 [42:34<09:28, 16.25s/it]"
     ]
    },
    {
     "name": "stdout",
     "output_type": "stream",
     "text": [
      "Epoch 165/200, Training Loss: 0.24235829429806405, Validation Loss: 0.37191500621182577\n"
     ]
    },
    {
     "name": "stderr",
     "output_type": "stream",
     "text": [
      " 83%|████████▎ | 166/200 [42:50<09:13, 16.28s/it]"
     ]
    },
    {
     "name": "stdout",
     "output_type": "stream",
     "text": [
      "Epoch 166/200, Training Loss: 0.22230914495182488, Validation Loss: 0.4034054683787482\n"
     ]
    },
    {
     "name": "stderr",
     "output_type": "stream",
     "text": [
      " 84%|████████▎ | 167/200 [43:06<08:46, 15.97s/it]"
     ]
    },
    {
     "name": "stdout",
     "output_type": "stream",
     "text": [
      "Epoch 167/200, Training Loss: 0.22175056684129643, Validation Loss: 0.3652891367673874\n"
     ]
    },
    {
     "name": "stderr",
     "output_type": "stream",
     "text": [
      " 84%|████████▍ | 168/200 [43:21<08:27, 15.86s/it]"
     ]
    },
    {
     "name": "stdout",
     "output_type": "stream",
     "text": [
      "Epoch 168/200, Training Loss: 0.22379485071408298, Validation Loss: 0.38505234888621737\n"
     ]
    },
    {
     "name": "stderr",
     "output_type": "stream",
     "text": [
      " 84%|████████▍ | 169/200 [43:39<08:27, 16.36s/it]"
     ]
    },
    {
     "name": "stdout",
     "output_type": "stream",
     "text": [
      "Epoch 169/200, Training Loss: 0.2379542498515462, Validation Loss: 0.3440271977867399\n"
     ]
    },
    {
     "name": "stderr",
     "output_type": "stream",
     "text": [
      " 85%|████████▌ | 170/200 [43:55<08:09, 16.32s/it]"
     ]
    },
    {
     "name": "stdout",
     "output_type": "stream",
     "text": [
      "Epoch 170/200, Training Loss: 0.2187749935700646, Validation Loss: 0.35436150644506725\n"
     ]
    },
    {
     "name": "stderr",
     "output_type": "stream",
     "text": [
      " 86%|████████▌ | 171/200 [44:10<07:46, 16.07s/it]"
     ]
    },
    {
     "name": "stdout",
     "output_type": "stream",
     "text": [
      "Epoch 171/200, Training Loss: 0.21965754313288993, Validation Loss: 0.37158198016030447\n"
     ]
    },
    {
     "name": "stderr",
     "output_type": "stream",
     "text": [
      " 86%|████████▌ | 172/200 [44:26<07:26, 15.95s/it]"
     ]
    },
    {
     "name": "stdout",
     "output_type": "stream",
     "text": [
      "Epoch 172/200, Training Loss: 0.22615966882626964, Validation Loss: 0.39732757210731506\n"
     ]
    },
    {
     "name": "stderr",
     "output_type": "stream",
     "text": [
      " 86%|████████▋ | 173/200 [44:42<07:08, 15.86s/it]"
     ]
    },
    {
     "name": "stdout",
     "output_type": "stream",
     "text": [
      "Epoch 173/200, Training Loss: 0.2336229389568545, Validation Loss: 0.3508516550064087\n"
     ]
    },
    {
     "name": "stderr",
     "output_type": "stream",
     "text": [
      " 87%|████████▋ | 174/200 [44:57<06:50, 15.78s/it]"
     ]
    },
    {
     "name": "stdout",
     "output_type": "stream",
     "text": [
      "Epoch 174/200, Training Loss: 0.22913562232312165, Validation Loss: 0.3752815233809607\n"
     ]
    },
    {
     "name": "stderr",
     "output_type": "stream",
     "text": [
      " 88%|████████▊ | 175/200 [45:13<06:31, 15.68s/it]"
     ]
    },
    {
     "name": "stdout",
     "output_type": "stream",
     "text": [
      "Epoch 175/200, Training Loss: 0.23042879907308883, Validation Loss: 0.36035191799913135\n"
     ]
    },
    {
     "name": "stderr",
     "output_type": "stream",
     "text": [
      " 88%|████████▊ | 176/200 [45:29<06:20, 15.84s/it]"
     ]
    },
    {
     "name": "stdout",
     "output_type": "stream",
     "text": [
      "Epoch 176/200, Training Loss: 0.22325810558109913, Validation Loss: 0.3881278463772365\n"
     ]
    },
    {
     "name": "stderr",
     "output_type": "stream",
     "text": [
      " 88%|████████▊ | 177/200 [45:46<06:10, 16.10s/it]"
     ]
    },
    {
     "name": "stdout",
     "output_type": "stream",
     "text": [
      "Epoch 177/200, Training Loss: 0.228584090774914, Validation Loss: 0.3674990598644529\n"
     ]
    },
    {
     "name": "stderr",
     "output_type": "stream",
     "text": [
      " 89%|████████▉ | 178/200 [46:02<05:52, 16.03s/it]"
     ]
    },
    {
     "name": "stdout",
     "output_type": "stream",
     "text": [
      "Epoch 178/200, Training Loss: 0.22521822527050972, Validation Loss: 0.37671644134180887\n"
     ]
    },
    {
     "name": "stderr",
     "output_type": "stream",
     "text": [
      " 90%|████████▉ | 179/200 [46:17<05:34, 15.94s/it]"
     ]
    },
    {
     "name": "stdout",
     "output_type": "stream",
     "text": [
      "Epoch 179/200, Training Loss: 0.2288065786069294, Validation Loss: 0.4010158096040998\n"
     ]
    },
    {
     "name": "stderr",
     "output_type": "stream",
     "text": [
      " 90%|█████████ | 180/200 [46:33<05:17, 15.86s/it]"
     ]
    },
    {
     "name": "stdout",
     "output_type": "stream",
     "text": [
      "Epoch 180/200, Training Loss: 0.24315630602386762, Validation Loss: 0.3580331142459597\n"
     ]
    },
    {
     "name": "stderr",
     "output_type": "stream",
     "text": [
      " 90%|█████████ | 181/200 [46:50<05:05, 16.08s/it]"
     ]
    },
    {
     "name": "stdout",
     "output_type": "stream",
     "text": [
      "Epoch 181/200, Training Loss: 0.2146230957839849, Validation Loss: 0.367072514125279\n"
     ]
    },
    {
     "name": "stderr",
     "output_type": "stream",
     "text": [
      " 91%|█████████ | 182/200 [47:06<04:49, 16.07s/it]"
     ]
    },
    {
     "name": "stdout",
     "output_type": "stream",
     "text": [
      "Epoch 182/200, Training Loss: 0.2356900061779427, Validation Loss: 0.39096151292324066\n"
     ]
    },
    {
     "name": "stderr",
     "output_type": "stream",
     "text": [
      " 92%|█████████▏| 183/200 [47:21<04:30, 15.93s/it]"
     ]
    },
    {
     "name": "stdout",
     "output_type": "stream",
     "text": [
      "Epoch 183/200, Training Loss: 0.223868316461174, Validation Loss: 0.401616456253188\n"
     ]
    },
    {
     "name": "stderr",
     "output_type": "stream",
     "text": [
      " 92%|█████████▏| 184/200 [47:37<04:13, 15.83s/it]"
     ]
    },
    {
     "name": "stdout",
     "output_type": "stream",
     "text": [
      "Epoch 184/200, Training Loss: 0.2125961643485528, Validation Loss: 0.3798358610698155\n"
     ]
    },
    {
     "name": "stderr",
     "output_type": "stream",
     "text": [
      " 92%|█████████▎| 185/200 [47:53<04:00, 16.05s/it]"
     ]
    },
    {
     "name": "stdout",
     "output_type": "stream",
     "text": [
      "Epoch 185/200, Training Loss: 0.22305859966238714, Validation Loss: 0.3796446131808417\n"
     ]
    },
    {
     "name": "stderr",
     "output_type": "stream",
     "text": [
      " 93%|█████████▎| 186/200 [48:10<03:44, 16.06s/it]"
     ]
    },
    {
     "name": "stdout",
     "output_type": "stream",
     "text": [
      "Epoch 186/200, Training Loss: 0.23167844039370428, Validation Loss: 0.34386366605758667\n"
     ]
    },
    {
     "name": "stderr",
     "output_type": "stream",
     "text": [
      " 94%|█████████▎| 187/200 [48:25<03:26, 15.92s/it]"
     ]
    },
    {
     "name": "stdout",
     "output_type": "stream",
     "text": [
      "Epoch 187/200, Training Loss: 0.2542042356195315, Validation Loss: 0.368370737348284\n"
     ]
    },
    {
     "name": "stderr",
     "output_type": "stream",
     "text": [
      " 94%|█████████▍| 188/200 [48:41<03:12, 16.01s/it]"
     ]
    },
    {
     "name": "stdout",
     "output_type": "stream",
     "text": [
      "Epoch 188/200, Training Loss: 0.22624830915680472, Validation Loss: 0.3703992281641279\n"
     ]
    },
    {
     "name": "stderr",
     "output_type": "stream",
     "text": [
      " 94%|█████████▍| 189/200 [48:58<02:59, 16.30s/it]"
     ]
    },
    {
     "name": "stdout",
     "output_type": "stream",
     "text": [
      "Epoch 189/200, Training Loss: 0.21645793698306354, Validation Loss: 0.37365702858992983\n"
     ]
    },
    {
     "name": "stderr",
     "output_type": "stream",
     "text": [
      " 95%|█████████▌| 190/200 [49:14<02:40, 16.04s/it]"
     ]
    },
    {
     "name": "stdout",
     "output_type": "stream",
     "text": [
      "Epoch 190/200, Training Loss: 0.22304755603929735, Validation Loss: 0.3492960035800934\n"
     ]
    },
    {
     "name": "stderr",
     "output_type": "stream",
     "text": [
      " 96%|█████████▌| 191/200 [49:29<02:23, 15.93s/it]"
     ]
    },
    {
     "name": "stdout",
     "output_type": "stream",
     "text": [
      "Epoch 191/200, Training Loss: 0.21787327717778818, Validation Loss: 0.39638770265238626\n"
     ]
    },
    {
     "name": "stderr",
     "output_type": "stream",
     "text": [
      " 96%|█████████▌| 192/200 [49:45<02:06, 15.81s/it]"
     ]
    },
    {
     "name": "stdout",
     "output_type": "stream",
     "text": [
      "Epoch 192/200, Training Loss: 0.2182446929784316, Validation Loss: 0.3799772390297481\n"
     ]
    },
    {
     "name": "stderr",
     "output_type": "stream",
     "text": [
      " 96%|█████████▋| 193/200 [50:02<01:52, 16.08s/it]"
     ]
    },
    {
     "name": "stdout",
     "output_type": "stream",
     "text": [
      "Epoch 193/200, Training Loss: 0.2158392035876805, Validation Loss: 0.3757200411387852\n"
     ]
    },
    {
     "name": "stderr",
     "output_type": "stream",
     "text": [
      " 97%|█████████▋| 194/200 [50:18<01:36, 16.11s/it]"
     ]
    },
    {
     "name": "stdout",
     "output_type": "stream",
     "text": [
      "Epoch 194/200, Training Loss: 0.22521809123034747, Validation Loss: 0.3886818992240088\n"
     ]
    },
    {
     "name": "stderr",
     "output_type": "stream",
     "text": [
      " 98%|█████████▊| 195/200 [50:33<01:19, 15.89s/it]"
     ]
    },
    {
     "name": "stdout",
     "output_type": "stream",
     "text": [
      "Epoch 195/200, Training Loss: 0.21939210453123417, Validation Loss: 0.38097548484802246\n"
     ]
    },
    {
     "name": "stderr",
     "output_type": "stream",
     "text": [
      " 98%|█████████▊| 196/200 [50:49<01:03, 15.85s/it]"
     ]
    },
    {
     "name": "stdout",
     "output_type": "stream",
     "text": [
      "Epoch 196/200, Training Loss: 0.2269883117164081, Validation Loss: 0.4200098067522049\n"
     ]
    },
    {
     "name": "stderr",
     "output_type": "stream",
     "text": [
      " 98%|█████████▊| 197/200 [51:04<00:47, 15.72s/it]"
     ]
    },
    {
     "name": "stdout",
     "output_type": "stream",
     "text": [
      "Epoch 197/200, Training Loss: 0.21357869089774364, Validation Loss: 0.37561132439545225\n"
     ]
    },
    {
     "name": "stderr",
     "output_type": "stream",
     "text": [
      " 99%|█████████▉| 198/200 [51:20<00:31, 15.63s/it]"
     ]
    },
    {
     "name": "stdout",
     "output_type": "stream",
     "text": [
      "Epoch 198/200, Training Loss: 0.2145147220987194, Validation Loss: 0.38391874943460735\n"
     ]
    },
    {
     "name": "stderr",
     "output_type": "stream",
     "text": [
      "100%|█████████▉| 199/200 [51:35<00:15, 15.63s/it]"
     ]
    },
    {
     "name": "stdout",
     "output_type": "stream",
     "text": [
      "Epoch 199/200, Training Loss: 0.2258923237897315, Validation Loss: 0.408360698393413\n"
     ]
    },
    {
     "name": "stderr",
     "output_type": "stream",
     "text": [
      "100%|██████████| 200/200 [51:52<00:00, 15.56s/it]"
     ]
    },
    {
     "name": "stdout",
     "output_type": "stream",
     "text": [
      "Epoch 200/200, Training Loss: 0.21366850480015548, Validation Loss: 0.39360407846314566\n",
      "Final Training Accuracy: 94.56%, Precision: 0.96, Recall: 0.93\n",
      "Final Validation Accuracy: 88.94%, Precision: 0.89, Recall: 0.89\n"
     ]
    },
    {
     "name": "stderr",
     "output_type": "stream",
     "text": [
      "\n"
     ]
    },
    {
     "data": {
      "text/html": [
       "<style>\n",
       "    table.wandb td:nth-child(1) { padding: 0 10px; text-align: left ; width: auto;} td:nth-child(2) {text-align: left ; width: 100%}\n",
       "    .wandb-row { display: flex; flex-direction: row; flex-wrap: wrap; justify-content: flex-start; width: 100% }\n",
       "    .wandb-col { display: flex; flex-direction: column; flex-basis: 100%; flex: 1; padding: 10px; }\n",
       "    </style>\n",
       "<div class=\"wandb-row\"><div class=\"wandb-col\"><h3>Run history:</h3><br/><table class=\"wandb\"><tr><td>epoch</td><td>▁▁▁▂▂▂▂▂▃▃▃▃▃▄▄▄▄▄▅▅▅▅▅▅▆▆▆▆▆▆▆▆▆▇▇▇████</td></tr><tr><td>final_train_accuracy</td><td>▁</td></tr><tr><td>final_train_precision</td><td>▁</td></tr><tr><td>final_train_recall</td><td>▁</td></tr><tr><td>final_val_accuracy</td><td>▁</td></tr><tr><td>final_val_precision</td><td>▁</td></tr><tr><td>final_val_recall</td><td>▁</td></tr><tr><td>train_loss</td><td>█▇▇▆▆▆▅▄▄▄▃▃▃▃▂▂▃▃▃▂▂▂▂▂▁▁▂▁▁▁▁▁▁▂▁▁▁▁▁▁</td></tr><tr><td>val_loss</td><td>██▄▄▃▅▃▃▃▂▂▂▂▃▂▃▃▂▃▂▂▃▂▂▂▂▂▂▁▃▂▁▂▂▁▂▁▂▂▂</td></tr></table><br/></div><div class=\"wandb-col\"><h3>Run summary:</h3><br/><table class=\"wandb\"><tr><td>epoch</td><td>200</td></tr><tr><td>final_train_accuracy</td><td>94.55742</td></tr><tr><td>final_train_precision</td><td>0.95594</td></tr><tr><td>final_train_recall</td><td>0.93421</td></tr><tr><td>final_val_accuracy</td><td>88.94231</td></tr><tr><td>final_val_precision</td><td>0.88571</td></tr><tr><td>final_val_recall</td><td>0.89423</td></tr><tr><td>train_loss</td><td>0.21367</td></tr><tr><td>val_loss</td><td>0.3936</td></tr></table><br/></div></div>"
      ],
      "text/plain": [
       "<IPython.core.display.HTML object>"
      ]
     },
     "metadata": {},
     "output_type": "display_data"
    },
    {
     "data": {
      "text/html": [
       " View run <strong style=\"color:#cdcd00\">fiery-sound-5</strong> at: <a href='https://wandb.ai/angelajcnto-the-university-of-western-australia/drawn_wood_42_training/runs/ifa13j22' target=\"_blank\">https://wandb.ai/angelajcnto-the-university-of-western-australia/drawn_wood_42_training/runs/ifa13j22</a><br/> View project at: <a href='https://wandb.ai/angelajcnto-the-university-of-western-australia/drawn_wood_42_training' target=\"_blank\">https://wandb.ai/angelajcnto-the-university-of-western-australia/drawn_wood_42_training</a><br/>Synced 5 W&B file(s), 0 media file(s), 0 artifact file(s) and 0 other file(s)"
      ],
      "text/plain": [
       "<IPython.core.display.HTML object>"
      ]
     },
     "metadata": {},
     "output_type": "display_data"
    },
    {
     "data": {
      "text/html": [
       "Find logs at: <code>.\\wandb\\run-20241009_193307-ifa13j22\\logs</code>"
      ],
      "text/plain": [
       "<IPython.core.display.HTML object>"
      ]
     },
     "metadata": {},
     "output_type": "display_data"
    },
    {
     "data": {
      "text/html": [
       "Tracking run with wandb version 0.18.2"
      ],
      "text/plain": [
       "<IPython.core.display.HTML object>"
      ]
     },
     "metadata": {},
     "output_type": "display_data"
    },
    {
     "data": {
      "text/html": [
       "Run data is saved locally in <code>c:\\Users\\Angela\\OneDrive - UWA\\SEM4\\CITS5553\\project-12-prototype-bio-acoustic-detection-system-soundsentinel\\wandb\\run-20241009_202504-9araqmgh</code>"
      ],
      "text/plain": [
       "<IPython.core.display.HTML object>"
      ]
     },
     "metadata": {},
     "output_type": "display_data"
    },
    {
     "data": {
      "text/html": [
       "Syncing run <strong><a href='https://wandb.ai/angelajcnto-the-university-of-western-australia/drawn_wood_42_training/runs/9araqmgh' target=\"_blank\">twilight-armadillo-6</a></strong> to <a href='https://wandb.ai/angelajcnto-the-university-of-western-australia/drawn_wood_42_training' target=\"_blank\">Weights & Biases</a> (<a href='https://wandb.me/run' target=\"_blank\">docs</a>)<br/>"
      ],
      "text/plain": [
       "<IPython.core.display.HTML object>"
      ]
     },
     "metadata": {},
     "output_type": "display_data"
    },
    {
     "data": {
      "text/html": [
       " View project at <a href='https://wandb.ai/angelajcnto-the-university-of-western-australia/drawn_wood_42_training' target=\"_blank\">https://wandb.ai/angelajcnto-the-university-of-western-australia/drawn_wood_42_training</a>"
      ],
      "text/plain": [
       "<IPython.core.display.HTML object>"
      ]
     },
     "metadata": {},
     "output_type": "display_data"
    },
    {
     "data": {
      "text/html": [
       " View run at <a href='https://wandb.ai/angelajcnto-the-university-of-western-australia/drawn_wood_42_training/runs/9araqmgh' target=\"_blank\">https://wandb.ai/angelajcnto-the-university-of-western-australia/drawn_wood_42_training/runs/9araqmgh</a>"
      ],
      "text/plain": [
       "<IPython.core.display.HTML object>"
      ]
     },
     "metadata": {},
     "output_type": "display_data"
    },
    {
     "name": "stderr",
     "output_type": "stream",
     "text": [
      "  0%|          | 1/200 [00:16<54:09, 16.33s/it]"
     ]
    },
    {
     "name": "stdout",
     "output_type": "stream",
     "text": [
      "Epoch 1/200, Training Loss: 10.038821751216673, Validation Loss: 8.775254930768694\n"
     ]
    },
    {
     "name": "stderr",
     "output_type": "stream",
     "text": [
      "  1%|          | 2/200 [00:32<54:21, 16.47s/it]"
     ]
    },
    {
     "name": "stdout",
     "output_type": "stream",
     "text": [
      "Epoch 2/200, Training Loss: 7.952500730190637, Validation Loss: 6.209308470998492\n"
     ]
    },
    {
     "name": "stderr",
     "output_type": "stream",
     "text": [
      "  2%|▏         | 3/200 [00:49<53:40, 16.35s/it]"
     ]
    },
    {
     "name": "stdout",
     "output_type": "stream",
     "text": [
      "Epoch 3/200, Training Loss: 6.826557726230261, Validation Loss: 6.18799672807966\n"
     ]
    },
    {
     "name": "stderr",
     "output_type": "stream",
     "text": [
      "  2%|▏         | 4/200 [01:05<53:35, 16.40s/it]"
     ]
    },
    {
     "name": "stdout",
     "output_type": "stream",
     "text": [
      "Epoch 4/200, Training Loss: 6.097104189530858, Validation Loss: 5.752850668770926\n"
     ]
    },
    {
     "name": "stderr",
     "output_type": "stream",
     "text": [
      "  2%|▎         | 5/200 [01:20<51:52, 15.96s/it]"
     ]
    },
    {
     "name": "stdout",
     "output_type": "stream",
     "text": [
      "Epoch 5/200, Training Loss: 5.530449167737421, Validation Loss: 5.6709348899977545\n"
     ]
    },
    {
     "name": "stderr",
     "output_type": "stream",
     "text": [
      "  3%|▎         | 6/200 [01:36<51:03, 15.79s/it]"
     ]
    },
    {
     "name": "stdout",
     "output_type": "stream",
     "text": [
      "Epoch 6/200, Training Loss: 5.417021450006737, Validation Loss: 5.862440994807652\n"
     ]
    },
    {
     "name": "stderr",
     "output_type": "stream",
     "text": [
      "  4%|▎         | 7/200 [01:51<50:26, 15.68s/it]"
     ]
    },
    {
     "name": "stdout",
     "output_type": "stream",
     "text": [
      "Epoch 7/200, Training Loss: 5.190330042029327, Validation Loss: 5.626814390931811\n"
     ]
    },
    {
     "name": "stderr",
     "output_type": "stream",
     "text": [
      "  4%|▍         | 8/200 [02:08<50:56, 15.92s/it]"
     ]
    },
    {
     "name": "stdout",
     "output_type": "stream",
     "text": [
      "Epoch 8/200, Training Loss: 5.209924072589514, Validation Loss: 5.783322061811175\n"
     ]
    },
    {
     "name": "stderr",
     "output_type": "stream",
     "text": [
      "  4%|▍         | 9/200 [02:24<51:17, 16.11s/it]"
     ]
    },
    {
     "name": "stdout",
     "output_type": "stream",
     "text": [
      "Epoch 9/200, Training Loss: 5.109653787792854, Validation Loss: 5.4787536178316385\n"
     ]
    },
    {
     "name": "stderr",
     "output_type": "stream",
     "text": [
      "  5%|▌         | 10/200 [02:41<51:24, 16.24s/it]"
     ]
    },
    {
     "name": "stdout",
     "output_type": "stream",
     "text": [
      "Epoch 10/200, Training Loss: 5.101852133588971, Validation Loss: 5.479215928486416\n"
     ]
    },
    {
     "name": "stderr",
     "output_type": "stream",
     "text": [
      "  6%|▌         | 11/200 [02:57<51:20, 16.30s/it]"
     ]
    },
    {
     "name": "stdout",
     "output_type": "stream",
     "text": [
      "Epoch 11/200, Training Loss: 4.855437994003296, Validation Loss: 5.599144288471767\n"
     ]
    },
    {
     "name": "stderr",
     "output_type": "stream",
     "text": [
      "  6%|▌         | 12/200 [03:14<51:14, 16.35s/it]"
     ]
    },
    {
     "name": "stdout",
     "output_type": "stream",
     "text": [
      "Epoch 12/200, Training Loss: 4.861895408270494, Validation Loss: 5.89902469090053\n"
     ]
    },
    {
     "name": "stderr",
     "output_type": "stream",
     "text": [
      "  6%|▋         | 13/200 [03:29<50:18, 16.14s/it]"
     ]
    },
    {
     "name": "stdout",
     "output_type": "stream",
     "text": [
      "Epoch 13/200, Training Loss: 4.687701346739283, Validation Loss: 4.729882836341858\n"
     ]
    },
    {
     "name": "stderr",
     "output_type": "stream",
     "text": [
      "  7%|▋         | 14/200 [03:47<51:15, 16.53s/it]"
     ]
    },
    {
     "name": "stdout",
     "output_type": "stream",
     "text": [
      "Epoch 14/200, Training Loss: 4.346054620337936, Validation Loss: 4.5565818548202515\n"
     ]
    },
    {
     "name": "stderr",
     "output_type": "stream",
     "text": [
      "  8%|▊         | 15/200 [04:04<51:22, 16.66s/it]"
     ]
    },
    {
     "name": "stdout",
     "output_type": "stream",
     "text": [
      "Epoch 15/200, Training Loss: 4.26034898577996, Validation Loss: 4.259398698806763\n"
     ]
    },
    {
     "name": "stderr",
     "output_type": "stream",
     "text": [
      "  8%|▊         | 16/200 [04:20<50:42, 16.53s/it]"
     ]
    },
    {
     "name": "stdout",
     "output_type": "stream",
     "text": [
      "Epoch 16/200, Training Loss: 3.9353876788661166, Validation Loss: 4.407335349491665\n"
     ]
    },
    {
     "name": "stderr",
     "output_type": "stream",
     "text": [
      "  8%|▊         | 17/200 [04:36<50:25, 16.53s/it]"
     ]
    },
    {
     "name": "stdout",
     "output_type": "stream",
     "text": [
      "Epoch 17/200, Training Loss: 3.5843059814201212, Validation Loss: 3.8127782685416087\n"
     ]
    },
    {
     "name": "stderr",
     "output_type": "stream",
     "text": [
      "  9%|▉         | 18/200 [04:52<49:13, 16.23s/it]"
     ]
    },
    {
     "name": "stdout",
     "output_type": "stream",
     "text": [
      "Epoch 18/200, Training Loss: 3.69832936322914, Validation Loss: 4.210066897528512\n"
     ]
    },
    {
     "name": "stderr",
     "output_type": "stream",
     "text": [
      " 10%|▉         | 19/200 [05:08<48:28, 16.07s/it]"
     ]
    },
    {
     "name": "stdout",
     "output_type": "stream",
     "text": [
      "Epoch 19/200, Training Loss: 3.5228442066120653, Validation Loss: 4.137182371956961\n"
     ]
    },
    {
     "name": "stderr",
     "output_type": "stream",
     "text": [
      " 10%|█         | 20/200 [05:24<48:17, 16.10s/it]"
     ]
    },
    {
     "name": "stdout",
     "output_type": "stream",
     "text": [
      "Epoch 20/200, Training Loss: 3.5884349481114803, Validation Loss: 3.593164784567697\n"
     ]
    },
    {
     "name": "stderr",
     "output_type": "stream",
     "text": [
      " 10%|█         | 21/200 [05:40<48:26, 16.24s/it]"
     ]
    },
    {
     "name": "stdout",
     "output_type": "stream",
     "text": [
      "Epoch 21/200, Training Loss: 3.405115062335752, Validation Loss: 4.099986927849906\n"
     ]
    },
    {
     "name": "stderr",
     "output_type": "stream",
     "text": [
      " 11%|█         | 22/200 [05:56<47:14, 15.93s/it]"
     ]
    },
    {
     "name": "stdout",
     "output_type": "stream",
     "text": [
      "Epoch 22/200, Training Loss: 3.457278694746629, Validation Loss: 3.988475969859532\n"
     ]
    },
    {
     "name": "stderr",
     "output_type": "stream",
     "text": [
      " 12%|█▏        | 23/200 [06:12<47:20, 16.05s/it]"
     ]
    },
    {
     "name": "stdout",
     "output_type": "stream",
     "text": [
      "Epoch 23/200, Training Loss: 3.230623530891706, Validation Loss: 5.6639401231493265\n"
     ]
    },
    {
     "name": "stderr",
     "output_type": "stream",
     "text": [
      " 12%|█▏        | 24/200 [06:29<48:23, 16.50s/it]"
     ]
    },
    {
     "name": "stdout",
     "output_type": "stream",
     "text": [
      "Epoch 24/200, Training Loss: 3.5007415065225564, Validation Loss: 4.558202675410679\n"
     ]
    },
    {
     "name": "stderr",
     "output_type": "stream",
     "text": [
      " 12%|█▎        | 25/200 [06:46<48:04, 16.48s/it]"
     ]
    },
    {
     "name": "stdout",
     "output_type": "stream",
     "text": [
      "Epoch 25/200, Training Loss: 3.3187142767996156, Validation Loss: 4.301690578460693\n"
     ]
    },
    {
     "name": "stderr",
     "output_type": "stream",
     "text": [
      " 13%|█▎        | 26/200 [07:01<46:58, 16.20s/it]"
     ]
    },
    {
     "name": "stdout",
     "output_type": "stream",
     "text": [
      "Epoch 26/200, Training Loss: 3.3244645977919958, Validation Loss: 3.7904771906988963\n"
     ]
    },
    {
     "name": "stderr",
     "output_type": "stream",
     "text": [
      " 14%|█▎        | 27/200 [07:17<45:55, 15.93s/it]"
     ]
    },
    {
     "name": "stdout",
     "output_type": "stream",
     "text": [
      "Epoch 27/200, Training Loss: 3.4074727094398356, Validation Loss: 4.023185304233006\n"
     ]
    },
    {
     "name": "stderr",
     "output_type": "stream",
     "text": [
      " 14%|█▍        | 28/200 [07:34<46:32, 16.24s/it]"
     ]
    },
    {
     "name": "stdout",
     "output_type": "stream",
     "text": [
      "Epoch 28/200, Training Loss: 3.2999738511049523, Validation Loss: 3.6266926527023315\n"
     ]
    },
    {
     "name": "stderr",
     "output_type": "stream",
     "text": [
      " 14%|█▍        | 29/200 [07:50<46:21, 16.26s/it]"
     ]
    },
    {
     "name": "stdout",
     "output_type": "stream",
     "text": [
      "Epoch 29/200, Training Loss: 3.0685322295944646, Validation Loss: 4.282666291509356\n"
     ]
    },
    {
     "name": "stderr",
     "output_type": "stream",
     "text": [
      " 15%|█▌        | 30/200 [08:06<45:38, 16.11s/it]"
     ]
    },
    {
     "name": "stdout",
     "output_type": "stream",
     "text": [
      "Epoch 30/200, Training Loss: 3.09185162355315, Validation Loss: 3.9307932002203807\n"
     ]
    },
    {
     "name": "stderr",
     "output_type": "stream",
     "text": [
      " 16%|█▌        | 31/200 [08:21<44:43, 15.88s/it]"
     ]
    },
    {
     "name": "stdout",
     "output_type": "stream",
     "text": [
      "Epoch 31/200, Training Loss: 3.460427266246868, Validation Loss: 3.962707281112671\n"
     ]
    },
    {
     "name": "stderr",
     "output_type": "stream",
     "text": [
      " 16%|█▌        | 32/200 [08:37<44:26, 15.87s/it]"
     ]
    },
    {
     "name": "stdout",
     "output_type": "stream",
     "text": [
      "Epoch 32/200, Training Loss: 3.2545905158204853, Validation Loss: 4.357240302222116\n"
     ]
    },
    {
     "name": "stderr",
     "output_type": "stream",
     "text": [
      " 16%|█▋        | 33/200 [08:52<43:35, 15.66s/it]"
     ]
    },
    {
     "name": "stdout",
     "output_type": "stream",
     "text": [
      "Epoch 33/200, Training Loss: 3.2187116753380254, Validation Loss: 4.229357532092503\n"
     ]
    },
    {
     "name": "stderr",
     "output_type": "stream",
     "text": [
      " 17%|█▋        | 34/200 [09:08<43:51, 15.85s/it]"
     ]
    },
    {
     "name": "stdout",
     "output_type": "stream",
     "text": [
      "Epoch 34/200, Training Loss: 3.419736131182257, Validation Loss: 3.961603352001735\n"
     ]
    },
    {
     "name": "stderr",
     "output_type": "stream",
     "text": [
      " 18%|█▊        | 35/200 [09:24<43:46, 15.92s/it]"
     ]
    },
    {
     "name": "stdout",
     "output_type": "stream",
     "text": [
      "Epoch 35/200, Training Loss: 3.0242138876105256, Validation Loss: 3.88348616872515\n"
     ]
    },
    {
     "name": "stderr",
     "output_type": "stream",
     "text": [
      " 18%|█▊        | 36/200 [09:41<44:09, 16.16s/it]"
     ]
    },
    {
     "name": "stdout",
     "output_type": "stream",
     "text": [
      "Epoch 36/200, Training Loss: 2.864186257686255, Validation Loss: 3.867215633392334\n"
     ]
    },
    {
     "name": "stderr",
     "output_type": "stream",
     "text": [
      " 18%|█▊        | 37/200 [09:57<43:19, 15.95s/it]"
     ]
    },
    {
     "name": "stdout",
     "output_type": "stream",
     "text": [
      "Epoch 37/200, Training Loss: 2.9546626266443505, Validation Loss: 3.496255806514195\n"
     ]
    },
    {
     "name": "stderr",
     "output_type": "stream",
     "text": [
      " 19%|█▉        | 38/200 [10:12<42:32, 15.76s/it]"
     ]
    },
    {
     "name": "stdout",
     "output_type": "stream",
     "text": [
      "Epoch 38/200, Training Loss: 2.8418243578020133, Validation Loss: 3.7889591370310103\n"
     ]
    },
    {
     "name": "stderr",
     "output_type": "stream",
     "text": [
      " 20%|█▉        | 39/200 [10:29<43:09, 16.08s/it]"
     ]
    },
    {
     "name": "stdout",
     "output_type": "stream",
     "text": [
      "Epoch 39/200, Training Loss: 2.9797482344339477, Validation Loss: 3.75798157283238\n"
     ]
    },
    {
     "name": "stderr",
     "output_type": "stream",
     "text": [
      " 20%|██        | 40/200 [10:45<42:50, 16.06s/it]"
     ]
    },
    {
     "name": "stdout",
     "output_type": "stream",
     "text": [
      "Epoch 40/200, Training Loss: 2.760972779876781, Validation Loss: 3.604035496711731\n"
     ]
    },
    {
     "name": "stderr",
     "output_type": "stream",
     "text": [
      " 20%|██        | 41/200 [11:00<42:13, 15.93s/it]"
     ]
    },
    {
     "name": "stdout",
     "output_type": "stream",
     "text": [
      "Epoch 41/200, Training Loss: 2.8343423526242093, Validation Loss: 4.252019337245396\n"
     ]
    },
    {
     "name": "stderr",
     "output_type": "stream",
     "text": [
      " 21%|██        | 42/200 [11:16<41:33, 15.78s/it]"
     ]
    },
    {
     "name": "stdout",
     "output_type": "stream",
     "text": [
      "Epoch 42/200, Training Loss: 2.95813513364432, Validation Loss: 4.723720584596906\n"
     ]
    },
    {
     "name": "stderr",
     "output_type": "stream",
     "text": [
      " 22%|██▏       | 43/200 [11:31<40:56, 15.65s/it]"
     ]
    },
    {
     "name": "stdout",
     "output_type": "stream",
     "text": [
      "Epoch 43/200, Training Loss: 2.84236907509138, Validation Loss: 3.8217741591589793\n"
     ]
    },
    {
     "name": "stderr",
     "output_type": "stream",
     "text": [
      " 22%|██▏       | 44/200 [11:46<40:22, 15.53s/it]"
     ]
    },
    {
     "name": "stdout",
     "output_type": "stream",
     "text": [
      "Epoch 44/200, Training Loss: 2.6648162052316486, Validation Loss: 4.076498542513166\n"
     ]
    },
    {
     "name": "stderr",
     "output_type": "stream",
     "text": [
      " 22%|██▎       | 45/200 [12:02<39:50, 15.42s/it]"
     ]
    },
    {
     "name": "stdout",
     "output_type": "stream",
     "text": [
      "Epoch 45/200, Training Loss: 2.8115627484501533, Validation Loss: 4.153822047369821\n"
     ]
    },
    {
     "name": "stderr",
     "output_type": "stream",
     "text": [
      " 23%|██▎       | 46/200 [12:17<39:22, 15.34s/it]"
     ]
    },
    {
     "name": "stdout",
     "output_type": "stream",
     "text": [
      "Epoch 46/200, Training Loss: 2.8193835065049946, Validation Loss: 3.9070928437369212\n"
     ]
    },
    {
     "name": "stderr",
     "output_type": "stream",
     "text": [
      " 24%|██▎       | 47/200 [12:33<39:43, 15.58s/it]"
     ]
    },
    {
     "name": "stdout",
     "output_type": "stream",
     "text": [
      "Epoch 47/200, Training Loss: 2.7093524606722705, Validation Loss: 4.095932109015329\n"
     ]
    },
    {
     "name": "stderr",
     "output_type": "stream",
     "text": [
      " 24%|██▍       | 48/200 [12:48<39:24, 15.56s/it]"
     ]
    },
    {
     "name": "stdout",
     "output_type": "stream",
     "text": [
      "Epoch 48/200, Training Loss: 2.789836586646314, Validation Loss: 4.357975312641689\n"
     ]
    },
    {
     "name": "stderr",
     "output_type": "stream",
     "text": [
      " 24%|██▍       | 49/200 [13:04<39:15, 15.60s/it]"
     ]
    },
    {
     "name": "stdout",
     "output_type": "stream",
     "text": [
      "Epoch 49/200, Training Loss: 2.718367467511375, Validation Loss: 3.670444829123361\n"
     ]
    },
    {
     "name": "stderr",
     "output_type": "stream",
     "text": [
      " 25%|██▌       | 50/200 [13:20<39:14, 15.70s/it]"
     ]
    },
    {
     "name": "stdout",
     "output_type": "stream",
     "text": [
      "Epoch 50/200, Training Loss: 2.93093263765551, Validation Loss: 3.7296845572335378\n"
     ]
    },
    {
     "name": "stderr",
     "output_type": "stream",
     "text": [
      " 26%|██▌       | 51/200 [13:37<39:38, 15.96s/it]"
     ]
    },
    {
     "name": "stdout",
     "output_type": "stream",
     "text": [
      "Epoch 51/200, Training Loss: 2.6531038419255673, Validation Loss: 4.409902163914272\n"
     ]
    },
    {
     "name": "stderr",
     "output_type": "stream",
     "text": [
      " 26%|██▌       | 52/200 [13:53<39:34, 16.04s/it]"
     ]
    },
    {
     "name": "stdout",
     "output_type": "stream",
     "text": [
      "Epoch 52/200, Training Loss: 2.7223893522091633, Validation Loss: 3.898470776421683\n"
     ]
    },
    {
     "name": "stderr",
     "output_type": "stream",
     "text": [
      " 26%|██▋       | 53/200 [14:08<38:59, 15.92s/it]"
     ]
    },
    {
     "name": "stdout",
     "output_type": "stream",
     "text": [
      "Epoch 53/200, Training Loss: 2.7763675305078612, Validation Loss: 3.81402097429548\n"
     ]
    },
    {
     "name": "stderr",
     "output_type": "stream",
     "text": [
      " 27%|██▋       | 54/200 [14:25<38:56, 16.01s/it]"
     ]
    },
    {
     "name": "stdout",
     "output_type": "stream",
     "text": [
      "Epoch 54/200, Training Loss: 2.5217665096498885, Validation Loss: 3.5340507711683\n"
     ]
    },
    {
     "name": "stderr",
     "output_type": "stream",
     "text": [
      " 28%|██▊       | 55/200 [14:40<38:26, 15.90s/it]"
     ]
    },
    {
     "name": "stdout",
     "output_type": "stream",
     "text": [
      "Epoch 55/200, Training Loss: 2.5912261307239532, Validation Loss: 4.224504164287022\n"
     ]
    },
    {
     "name": "stderr",
     "output_type": "stream",
     "text": [
      " 28%|██▊       | 56/200 [14:56<37:59, 15.83s/it]"
     ]
    },
    {
     "name": "stdout",
     "output_type": "stream",
     "text": [
      "Epoch 56/200, Training Loss: 2.51416632926689, Validation Loss: 3.9030563150133406\n"
     ]
    },
    {
     "name": "stderr",
     "output_type": "stream",
     "text": [
      " 28%|██▊       | 57/200 [15:11<37:23, 15.69s/it]"
     ]
    },
    {
     "name": "stdout",
     "output_type": "stream",
     "text": [
      "Epoch 57/200, Training Loss: 2.534461977346888, Validation Loss: 3.6008287497929166\n"
     ]
    },
    {
     "name": "stderr",
     "output_type": "stream",
     "text": [
      " 29%|██▉       | 58/200 [15:27<37:11, 15.72s/it]"
     ]
    },
    {
     "name": "stdout",
     "output_type": "stream",
     "text": [
      "Epoch 58/200, Training Loss: 2.5235224040049427, Validation Loss: 3.861057553972517\n"
     ]
    },
    {
     "name": "stderr",
     "output_type": "stream",
     "text": [
      " 30%|██▉       | 59/200 [15:44<37:56, 16.15s/it]"
     ]
    },
    {
     "name": "stdout",
     "output_type": "stream",
     "text": [
      "Epoch 59/200, Training Loss: 2.443477599125988, Validation Loss: 3.6346024104527066\n"
     ]
    },
    {
     "name": "stderr",
     "output_type": "stream",
     "text": [
      " 30%|███       | 60/200 [16:00<37:09, 15.92s/it]"
     ]
    },
    {
     "name": "stdout",
     "output_type": "stream",
     "text": [
      "Epoch 60/200, Training Loss: 2.6456142888878875, Validation Loss: 3.5825564690998624\n"
     ]
    },
    {
     "name": "stderr",
     "output_type": "stream",
     "text": [
      " 30%|███       | 61/200 [16:15<36:37, 15.81s/it]"
     ]
    },
    {
     "name": "stdout",
     "output_type": "stream",
     "text": [
      "Epoch 61/200, Training Loss: 2.543071172147427, Validation Loss: 3.946456892149789\n"
     ]
    },
    {
     "name": "stderr",
     "output_type": "stream",
     "text": [
      " 31%|███       | 62/200 [16:31<36:07, 15.70s/it]"
     ]
    },
    {
     "name": "stdout",
     "output_type": "stream",
     "text": [
      "Epoch 62/200, Training Loss: 2.6047434536915905, Validation Loss: 3.9301115104130337\n"
     ]
    },
    {
     "name": "stderr",
     "output_type": "stream",
     "text": [
      " 32%|███▏      | 63/200 [16:48<36:44, 16.09s/it]"
     ]
    },
    {
     "name": "stdout",
     "output_type": "stream",
     "text": [
      "Epoch 63/200, Training Loss: 2.434923051663165, Validation Loss: 3.9161525624138966\n"
     ]
    },
    {
     "name": "stderr",
     "output_type": "stream",
     "text": [
      " 32%|███▏      | 64/200 [17:04<36:24, 16.06s/it]"
     ]
    },
    {
     "name": "stdout",
     "output_type": "stream",
     "text": [
      "Epoch 64/200, Training Loss: 2.5692710477226184, Validation Loss: 4.286502429417202\n"
     ]
    },
    {
     "name": "stderr",
     "output_type": "stream",
     "text": [
      " 32%|███▎      | 65/200 [17:19<35:44, 15.89s/it]"
     ]
    },
    {
     "name": "stdout",
     "output_type": "stream",
     "text": [
      "Epoch 65/200, Training Loss: 2.610841361981518, Validation Loss: 3.7521404709134782\n"
     ]
    },
    {
     "name": "stderr",
     "output_type": "stream",
     "text": [
      " 33%|███▎      | 66/200 [17:35<35:08, 15.74s/it]"
     ]
    },
    {
     "name": "stdout",
     "output_type": "stream",
     "text": [
      "Epoch 66/200, Training Loss: 2.496369829717672, Validation Loss: 3.681810736656189\n"
     ]
    },
    {
     "name": "stderr",
     "output_type": "stream",
     "text": [
      " 34%|███▎      | 67/200 [17:50<34:51, 15.72s/it]"
     ]
    },
    {
     "name": "stdout",
     "output_type": "stream",
     "text": [
      "Epoch 67/200, Training Loss: 2.7400945683695235, Validation Loss: 4.024470738002232\n"
     ]
    },
    {
     "name": "stderr",
     "output_type": "stream",
     "text": [
      " 34%|███▍      | 68/200 [18:06<34:20, 15.61s/it]"
     ]
    },
    {
     "name": "stdout",
     "output_type": "stream",
     "text": [
      "Epoch 68/200, Training Loss: 2.7340669317065545, Validation Loss: 4.238762446812221\n"
     ]
    },
    {
     "name": "stderr",
     "output_type": "stream",
     "text": [
      " 34%|███▍      | 69/200 [18:21<33:45, 15.46s/it]"
     ]
    },
    {
     "name": "stdout",
     "output_type": "stream",
     "text": [
      "Epoch 69/200, Training Loss: 2.572007823665187, Validation Loss: 4.174134901591709\n"
     ]
    },
    {
     "name": "stderr",
     "output_type": "stream",
     "text": [
      " 35%|███▌      | 70/200 [18:37<33:56, 15.66s/it]"
     ]
    },
    {
     "name": "stdout",
     "output_type": "stream",
     "text": [
      "Epoch 70/200, Training Loss: 2.4613891525088616, Validation Loss: 3.793762104851859\n"
     ]
    },
    {
     "name": "stderr",
     "output_type": "stream",
     "text": [
      " 36%|███▌      | 71/200 [18:53<34:09, 15.89s/it]"
     ]
    },
    {
     "name": "stdout",
     "output_type": "stream",
     "text": [
      "Epoch 71/200, Training Loss: 2.543468709261912, Validation Loss: 3.806365132331848\n"
     ]
    },
    {
     "name": "stderr",
     "output_type": "stream",
     "text": [
      " 36%|███▌      | 72/200 [19:09<33:51, 15.87s/it]"
     ]
    },
    {
     "name": "stdout",
     "output_type": "stream",
     "text": [
      "Epoch 72/200, Training Loss: 2.3615437844451868, Validation Loss: 3.781769973891122\n"
     ]
    },
    {
     "name": "stderr",
     "output_type": "stream",
     "text": [
      " 36%|███▋      | 73/200 [19:24<33:10, 15.68s/it]"
     ]
    },
    {
     "name": "stdout",
     "output_type": "stream",
     "text": [
      "Epoch 73/200, Training Loss: 2.315496322119011, Validation Loss: 3.970801966530936\n"
     ]
    },
    {
     "name": "stderr",
     "output_type": "stream",
     "text": [
      " 37%|███▋      | 74/200 [19:40<32:55, 15.68s/it]"
     ]
    },
    {
     "name": "stdout",
     "output_type": "stream",
     "text": [
      "Epoch 74/200, Training Loss: 2.3791933756954267, Validation Loss: 4.341219237872532\n"
     ]
    },
    {
     "name": "stderr",
     "output_type": "stream",
     "text": [
      " 38%|███▊      | 75/200 [19:57<33:10, 15.93s/it]"
     ]
    },
    {
     "name": "stdout",
     "output_type": "stream",
     "text": [
      "Epoch 75/200, Training Loss: 2.3870964241477677, Validation Loss: 4.005329813276019\n"
     ]
    },
    {
     "name": "stderr",
     "output_type": "stream",
     "text": [
      " 38%|███▊      | 76/200 [20:13<33:21, 16.14s/it]"
     ]
    },
    {
     "name": "stdout",
     "output_type": "stream",
     "text": [
      "Epoch 76/200, Training Loss: 2.681995601024268, Validation Loss: 3.7488798243658885\n"
     ]
    },
    {
     "name": "stderr",
     "output_type": "stream",
     "text": [
      " 38%|███▊      | 77/200 [20:31<33:54, 16.54s/it]"
     ]
    },
    {
     "name": "stdout",
     "output_type": "stream",
     "text": [
      "Epoch 77/200, Training Loss: 2.4224747104464837, Validation Loss: 4.4874379975455145\n"
     ]
    },
    {
     "name": "stderr",
     "output_type": "stream",
     "text": [
      " 39%|███▉      | 78/200 [20:50<35:17, 17.36s/it]"
     ]
    },
    {
     "name": "stdout",
     "output_type": "stream",
     "text": [
      "Epoch 78/200, Training Loss: 2.5223680599680485, Validation Loss: 3.709424155099051\n"
     ]
    },
    {
     "name": "stderr",
     "output_type": "stream",
     "text": [
      " 40%|███▉      | 79/200 [21:09<35:59, 17.85s/it]"
     ]
    },
    {
     "name": "stdout",
     "output_type": "stream",
     "text": [
      "Epoch 79/200, Training Loss: 2.4273816808214725, Validation Loss: 4.219425167356219\n"
     ]
    },
    {
     "name": "stderr",
     "output_type": "stream",
     "text": [
      " 40%|████      | 80/200 [21:29<36:54, 18.46s/it]"
     ]
    },
    {
     "name": "stdout",
     "output_type": "stream",
     "text": [
      "Epoch 80/200, Training Loss: 2.319798433555747, Validation Loss: 3.950739230428423\n"
     ]
    },
    {
     "name": "stderr",
     "output_type": "stream",
     "text": [
      " 40%|████      | 81/200 [21:49<37:53, 19.11s/it]"
     ]
    },
    {
     "name": "stdout",
     "output_type": "stream",
     "text": [
      "Epoch 81/200, Training Loss: 2.2891273093673417, Validation Loss: 3.879539830344064\n"
     ]
    },
    {
     "name": "stderr",
     "output_type": "stream",
     "text": [
      " 41%|████      | 82/200 [22:07<36:54, 18.77s/it]"
     ]
    },
    {
     "name": "stdout",
     "output_type": "stream",
     "text": [
      "Epoch 82/200, Training Loss: 2.352539156967739, Validation Loss: 4.1278868573052545\n"
     ]
    },
    {
     "name": "stderr",
     "output_type": "stream",
     "text": [
      " 42%|████▏     | 83/200 [22:23<34:48, 17.85s/it]"
     ]
    },
    {
     "name": "stdout",
     "output_type": "stream",
     "text": [
      "Epoch 83/200, Training Loss: 2.1722111437680587, Validation Loss: 3.9753120967320035\n"
     ]
    },
    {
     "name": "stderr",
     "output_type": "stream",
     "text": [
      " 42%|████▏     | 84/200 [22:40<33:46, 17.47s/it]"
     ]
    },
    {
     "name": "stdout",
     "output_type": "stream",
     "text": [
      "Epoch 84/200, Training Loss: 2.3725754804206343, Validation Loss: 3.8732850211007253\n"
     ]
    },
    {
     "name": "stderr",
     "output_type": "stream",
     "text": [
      " 42%|████▎     | 85/200 [23:01<35:42, 18.63s/it]"
     ]
    },
    {
     "name": "stdout",
     "output_type": "stream",
     "text": [
      "Epoch 85/200, Training Loss: 2.29107636100841, Validation Loss: 3.5650266919817244\n"
     ]
    },
    {
     "name": "stderr",
     "output_type": "stream",
     "text": [
      " 43%|████▎     | 86/200 [23:19<35:18, 18.58s/it]"
     ]
    },
    {
     "name": "stdout",
     "output_type": "stream",
     "text": [
      "Epoch 86/200, Training Loss: 2.3692439265970915, Validation Loss: 4.9704039096832275\n"
     ]
    },
    {
     "name": "stderr",
     "output_type": "stream",
     "text": [
      " 44%|████▎     | 87/200 [23:35<33:10, 17.62s/it]"
     ]
    },
    {
     "name": "stdout",
     "output_type": "stream",
     "text": [
      "Epoch 87/200, Training Loss: 2.5475277045987688, Validation Loss: 4.017071349280221\n"
     ]
    },
    {
     "name": "stderr",
     "output_type": "stream",
     "text": [
      " 44%|████▍     | 88/200 [23:50<31:45, 17.01s/it]"
     ]
    },
    {
     "name": "stdout",
     "output_type": "stream",
     "text": [
      "Epoch 88/200, Training Loss: 2.3073906459898317, Validation Loss: 4.0855670145579746\n"
     ]
    },
    {
     "name": "stderr",
     "output_type": "stream",
     "text": [
      " 44%|████▍     | 89/200 [24:06<30:39, 16.57s/it]"
     ]
    },
    {
     "name": "stdout",
     "output_type": "stream",
     "text": [
      "Epoch 89/200, Training Loss: 2.454200466848769, Validation Loss: 3.622173718043736\n"
     ]
    },
    {
     "name": "stderr",
     "output_type": "stream",
     "text": [
      " 45%|████▌     | 90/200 [24:22<29:55, 16.32s/it]"
     ]
    },
    {
     "name": "stdout",
     "output_type": "stream",
     "text": [
      "Epoch 90/200, Training Loss: 2.253541833949539, Validation Loss: 3.920054861477443\n"
     ]
    },
    {
     "name": "stderr",
     "output_type": "stream",
     "text": [
      " 46%|████▌     | 91/200 [24:37<29:05, 16.01s/it]"
     ]
    },
    {
     "name": "stdout",
     "output_type": "stream",
     "text": [
      "Epoch 91/200, Training Loss: 2.1335351647071117, Validation Loss: 3.8445809738976613\n"
     ]
    },
    {
     "name": "stderr",
     "output_type": "stream",
     "text": [
      " 46%|████▌     | 92/200 [24:55<29:43, 16.51s/it]"
     ]
    },
    {
     "name": "stdout",
     "output_type": "stream",
     "text": [
      "Epoch 92/200, Training Loss: 2.2367344591415153, Validation Loss: 3.9233617101396834\n"
     ]
    },
    {
     "name": "stderr",
     "output_type": "stream",
     "text": [
      " 46%|████▋     | 93/200 [25:11<29:28, 16.53s/it]"
     ]
    },
    {
     "name": "stdout",
     "output_type": "stream",
     "text": [
      "Epoch 93/200, Training Loss: 2.523047493313843, Validation Loss: 4.299141951969692\n"
     ]
    },
    {
     "name": "stderr",
     "output_type": "stream",
     "text": [
      " 47%|████▋     | 94/200 [25:27<28:34, 16.17s/it]"
     ]
    },
    {
     "name": "stdout",
     "output_type": "stream",
     "text": [
      "Epoch 94/200, Training Loss: 2.601953829234501, Validation Loss: 3.9367791754858836\n"
     ]
    },
    {
     "name": "stderr",
     "output_type": "stream",
     "text": [
      " 48%|████▊     | 95/200 [25:42<28:01, 16.02s/it]"
     ]
    },
    {
     "name": "stdout",
     "output_type": "stream",
     "text": [
      "Epoch 95/200, Training Loss: 2.3037969200116284, Validation Loss: 3.871394055230277\n"
     ]
    },
    {
     "name": "stderr",
     "output_type": "stream",
     "text": [
      " 48%|████▊     | 96/200 [25:59<28:05, 16.21s/it]"
     ]
    },
    {
     "name": "stdout",
     "output_type": "stream",
     "text": [
      "Epoch 96/200, Training Loss: 2.3642815996734603, Validation Loss: 4.193184580121722\n"
     ]
    },
    {
     "name": "stderr",
     "output_type": "stream",
     "text": [
      " 48%|████▊     | 97/200 [26:15<27:51, 16.23s/it]"
     ]
    },
    {
     "name": "stdout",
     "output_type": "stream",
     "text": [
      "Epoch 97/200, Training Loss: 2.2986818989211657, Validation Loss: 3.9112158502851213\n"
     ]
    },
    {
     "name": "stderr",
     "output_type": "stream",
     "text": [
      " 49%|████▉     | 98/200 [26:30<27:07, 15.95s/it]"
     ]
    },
    {
     "name": "stdout",
     "output_type": "stream",
     "text": [
      "Epoch 98/200, Training Loss: 2.219072456629771, Validation Loss: 3.8705365317208424\n"
     ]
    },
    {
     "name": "stderr",
     "output_type": "stream",
     "text": [
      " 50%|████▉     | 99/200 [26:46<26:40, 15.84s/it]"
     ]
    },
    {
     "name": "stdout",
     "output_type": "stream",
     "text": [
      "Epoch 99/200, Training Loss: 2.2897203845797844, Validation Loss: 4.202551995004926\n"
     ]
    },
    {
     "name": "stderr",
     "output_type": "stream",
     "text": [
      " 50%|█████     | 100/200 [27:02<26:12, 15.72s/it]"
     ]
    },
    {
     "name": "stdout",
     "output_type": "stream",
     "text": [
      "Epoch 100/200, Training Loss: 2.2383163650080844, Validation Loss: 3.7220677648271834\n"
     ]
    },
    {
     "name": "stderr",
     "output_type": "stream",
     "text": [
      " 50%|█████     | 101/200 [27:17<25:58, 15.74s/it]"
     ]
    },
    {
     "name": "stdout",
     "output_type": "stream",
     "text": [
      "Epoch 101/200, Training Loss: 2.5425313441258557, Validation Loss: 3.9160285336630687\n"
     ]
    },
    {
     "name": "stderr",
     "output_type": "stream",
     "text": [
      " 51%|█████     | 102/200 [27:34<25:57, 15.89s/it]"
     ]
    },
    {
     "name": "stdout",
     "output_type": "stream",
     "text": [
      "Epoch 102/200, Training Loss: 2.433976932516638, Validation Loss: 3.7036326101848056\n"
     ]
    },
    {
     "name": "stderr",
     "output_type": "stream",
     "text": [
      " 52%|█████▏    | 103/200 [27:54<28:03, 17.36s/it]"
     ]
    },
    {
     "name": "stdout",
     "output_type": "stream",
     "text": [
      "Epoch 103/200, Training Loss: 2.3522798986929767, Validation Loss: 3.749289172036307\n"
     ]
    },
    {
     "name": "stderr",
     "output_type": "stream",
     "text": [
      " 52%|█████▏    | 104/200 [28:15<29:09, 18.22s/it]"
     ]
    },
    {
     "name": "stdout",
     "output_type": "stream",
     "text": [
      "Epoch 104/200, Training Loss: 2.3550936062380954, Validation Loss: 3.6817121505737305\n"
     ]
    },
    {
     "name": "stderr",
     "output_type": "stream",
     "text": [
      " 52%|█████▎    | 105/200 [28:35<29:41, 18.76s/it]"
     ]
    },
    {
     "name": "stdout",
     "output_type": "stream",
     "text": [
      "Epoch 105/200, Training Loss: 2.308769501605124, Validation Loss: 3.8206297840390886\n"
     ]
    },
    {
     "name": "stderr",
     "output_type": "stream",
     "text": [
      " 53%|█████▎    | 106/200 [28:51<28:07, 17.96s/it]"
     ]
    },
    {
     "name": "stdout",
     "output_type": "stream",
     "text": [
      "Epoch 106/200, Training Loss: 2.6271393209133507, Validation Loss: 3.6438984189714705\n"
     ]
    },
    {
     "name": "stderr",
     "output_type": "stream",
     "text": [
      " 54%|█████▎    | 107/200 [29:08<27:39, 17.84s/it]"
     ]
    },
    {
     "name": "stdout",
     "output_type": "stream",
     "text": [
      "Epoch 107/200, Training Loss: 2.1716225878247677, Validation Loss: 3.9804137434278215\n"
     ]
    },
    {
     "name": "stderr",
     "output_type": "stream",
     "text": [
      " 54%|█████▍    | 108/200 [29:24<26:34, 17.33s/it]"
     ]
    },
    {
     "name": "stdout",
     "output_type": "stream",
     "text": [
      "Epoch 108/200, Training Loss: 2.1508661410156287, Validation Loss: 3.7371408939361572\n"
     ]
    },
    {
     "name": "stderr",
     "output_type": "stream",
     "text": [
      " 55%|█████▍    | 109/200 [29:40<25:44, 16.97s/it]"
     ]
    },
    {
     "name": "stdout",
     "output_type": "stream",
     "text": [
      "Epoch 109/200, Training Loss: 2.171250336575058, Validation Loss: 4.158669199262347\n"
     ]
    },
    {
     "name": "stderr",
     "output_type": "stream",
     "text": [
      " 55%|█████▌    | 110/200 [29:56<24:53, 16.59s/it]"
     ]
    },
    {
     "name": "stdout",
     "output_type": "stream",
     "text": [
      "Epoch 110/200, Training Loss: 2.1610672628542162, Validation Loss: 4.068109478269305\n"
     ]
    },
    {
     "name": "stderr",
     "output_type": "stream",
     "text": [
      " 56%|█████▌    | 111/200 [30:12<24:27, 16.49s/it]"
     ]
    },
    {
     "name": "stdout",
     "output_type": "stream",
     "text": [
      "Epoch 111/200, Training Loss: 2.0713387941414454, Validation Loss: 3.9902338641030446\n"
     ]
    },
    {
     "name": "stderr",
     "output_type": "stream",
     "text": [
      " 56%|█████▌    | 112/200 [30:28<23:49, 16.24s/it]"
     ]
    },
    {
     "name": "stdout",
     "output_type": "stream",
     "text": [
      "Epoch 112/200, Training Loss: 2.260604257853526, Validation Loss: 3.6629422392163957\n"
     ]
    },
    {
     "name": "stderr",
     "output_type": "stream",
     "text": [
      " 56%|█████▋    | 113/200 [30:44<23:19, 16.08s/it]"
     ]
    },
    {
     "name": "stdout",
     "output_type": "stream",
     "text": [
      "Epoch 113/200, Training Loss: 2.212642065196667, Validation Loss: 4.034411770956857\n"
     ]
    },
    {
     "name": "stderr",
     "output_type": "stream",
     "text": [
      " 57%|█████▋    | 114/200 [31:01<23:34, 16.45s/it]"
     ]
    },
    {
     "name": "stdout",
     "output_type": "stream",
     "text": [
      "Epoch 114/200, Training Loss: 2.163407970149562, Validation Loss: 3.8256945610046387\n"
     ]
    },
    {
     "name": "stderr",
     "output_type": "stream",
     "text": [
      " 57%|█████▊    | 115/200 [31:18<23:23, 16.51s/it]"
     ]
    },
    {
     "name": "stdout",
     "output_type": "stream",
     "text": [
      "Epoch 115/200, Training Loss: 2.3318470058576115, Validation Loss: 3.8114889689854214\n"
     ]
    },
    {
     "name": "stderr",
     "output_type": "stream",
     "text": [
      " 58%|█████▊    | 116/200 [31:34<22:50, 16.32s/it]"
     ]
    },
    {
     "name": "stdout",
     "output_type": "stream",
     "text": [
      "Epoch 116/200, Training Loss: 3.3694617950691366, Validation Loss: 3.9933182852608815\n"
     ]
    },
    {
     "name": "stderr",
     "output_type": "stream",
     "text": [
      " 58%|█████▊    | 117/200 [31:49<22:17, 16.11s/it]"
     ]
    },
    {
     "name": "stdout",
     "output_type": "stream",
     "text": [
      "Epoch 117/200, Training Loss: 2.2916722151468383, Validation Loss: 3.8200587204524448\n"
     ]
    },
    {
     "name": "stderr",
     "output_type": "stream",
     "text": [
      " 59%|█████▉    | 118/200 [32:06<22:21, 16.36s/it]"
     ]
    },
    {
     "name": "stdout",
     "output_type": "stream",
     "text": [
      "Epoch 118/200, Training Loss: 2.236125449526985, Validation Loss: 3.8366359301975796\n"
     ]
    },
    {
     "name": "stderr",
     "output_type": "stream",
     "text": [
      " 60%|█████▉    | 119/200 [32:22<21:50, 16.18s/it]"
     ]
    },
    {
     "name": "stdout",
     "output_type": "stream",
     "text": [
      "Epoch 119/200, Training Loss: 2.311006965502253, Validation Loss: 3.879295996257237\n"
     ]
    },
    {
     "name": "stderr",
     "output_type": "stream",
     "text": [
      " 60%|██████    | 120/200 [32:40<22:13, 16.67s/it]"
     ]
    },
    {
     "name": "stdout",
     "output_type": "stream",
     "text": [
      "Epoch 120/200, Training Loss: 2.046041674209091, Validation Loss: 4.0085287775312155\n"
     ]
    },
    {
     "name": "stderr",
     "output_type": "stream",
     "text": [
      " 60%|██████    | 121/200 [33:00<23:20, 17.72s/it]"
     ]
    },
    {
     "name": "stdout",
     "output_type": "stream",
     "text": [
      "Epoch 121/200, Training Loss: 1.9638542442951563, Validation Loss: 4.002736023494175\n"
     ]
    },
    {
     "name": "stderr",
     "output_type": "stream",
     "text": [
      " 61%|██████    | 122/200 [33:19<23:42, 18.24s/it]"
     ]
    },
    {
     "name": "stdout",
     "output_type": "stream",
     "text": [
      "Epoch 122/200, Training Loss: 2.2407089752971, Validation Loss: 3.8166110856192454\n"
     ]
    },
    {
     "name": "stderr",
     "output_type": "stream",
     "text": [
      " 62%|██████▏   | 123/200 [33:38<23:27, 18.28s/it]"
     ]
    },
    {
     "name": "stdout",
     "output_type": "stream",
     "text": [
      "Epoch 123/200, Training Loss: 2.1339452306054674, Validation Loss: 3.7036451612200056\n"
     ]
    },
    {
     "name": "stderr",
     "output_type": "stream",
     "text": [
      " 62%|██████▏   | 124/200 [33:54<22:19, 17.62s/it]"
     ]
    },
    {
     "name": "stdout",
     "output_type": "stream",
     "text": [
      "Epoch 124/200, Training Loss: 2.071764606349873, Validation Loss: 4.027117661067417\n"
     ]
    },
    {
     "name": "stderr",
     "output_type": "stream",
     "text": [
      " 62%|██████▎   | 125/200 [34:11<21:52, 17.50s/it]"
     ]
    },
    {
     "name": "stdout",
     "output_type": "stream",
     "text": [
      "Epoch 125/200, Training Loss: 2.0172728300094604, Validation Loss: 3.876446860177176\n"
     ]
    },
    {
     "name": "stderr",
     "output_type": "stream",
     "text": [
      " 63%|██████▎   | 126/200 [34:27<20:57, 17.00s/it]"
     ]
    },
    {
     "name": "stdout",
     "output_type": "stream",
     "text": [
      "Epoch 126/200, Training Loss: 2.080985183985728, Validation Loss: 3.6334295443126132\n"
     ]
    },
    {
     "name": "stderr",
     "output_type": "stream",
     "text": [
      " 64%|██████▎   | 127/200 [34:42<20:05, 16.51s/it]"
     ]
    },
    {
     "name": "stdout",
     "output_type": "stream",
     "text": [
      "Epoch 127/200, Training Loss: 2.376030589049717, Validation Loss: 4.415036269596645\n"
     ]
    },
    {
     "name": "stderr",
     "output_type": "stream",
     "text": [
      " 64%|██████▍   | 128/200 [34:59<19:45, 16.47s/it]"
     ]
    },
    {
     "name": "stdout",
     "output_type": "stream",
     "text": [
      "Epoch 128/200, Training Loss: 2.28483047800244, Validation Loss: 3.684907981327602\n"
     ]
    },
    {
     "name": "stderr",
     "output_type": "stream",
     "text": [
      " 64%|██████▍   | 129/200 [35:15<19:25, 16.42s/it]"
     ]
    },
    {
     "name": "stdout",
     "output_type": "stream",
     "text": [
      "Epoch 129/200, Training Loss: 2.1947176445205256, Validation Loss: 3.7226788657052174\n"
     ]
    },
    {
     "name": "stderr",
     "output_type": "stream",
     "text": [
      " 65%|██████▌   | 130/200 [35:31<19:07, 16.39s/it]"
     ]
    },
    {
     "name": "stdout",
     "output_type": "stream",
     "text": [
      "Epoch 130/200, Training Loss: 2.1169957380812123, Validation Loss: 4.003045507839748\n"
     ]
    },
    {
     "name": "stderr",
     "output_type": "stream",
     "text": [
      " 66%|██████▌   | 131/200 [35:46<18:24, 16.01s/it]"
     ]
    },
    {
     "name": "stdout",
     "output_type": "stream",
     "text": [
      "Epoch 131/200, Training Loss: 2.004890462699926, Validation Loss: 3.87557806287493\n"
     ]
    },
    {
     "name": "stderr",
     "output_type": "stream",
     "text": [
      " 66%|██████▌   | 132/200 [36:02<18:01, 15.91s/it]"
     ]
    },
    {
     "name": "stdout",
     "output_type": "stream",
     "text": [
      "Epoch 132/200, Training Loss: 2.125447413831387, Validation Loss: 3.7032416377748762\n"
     ]
    },
    {
     "name": "stderr",
     "output_type": "stream",
     "text": [
      " 66%|██████▋   | 133/200 [36:18<17:41, 15.84s/it]"
     ]
    },
    {
     "name": "stdout",
     "output_type": "stream",
     "text": [
      "Epoch 133/200, Training Loss: 2.0019125196169005, Validation Loss: 4.114838089261736\n"
     ]
    },
    {
     "name": "stderr",
     "output_type": "stream",
     "text": [
      " 67%|██████▋   | 134/200 [36:34<17:29, 15.91s/it]"
     ]
    },
    {
     "name": "stdout",
     "output_type": "stream",
     "text": [
      "Epoch 134/200, Training Loss: 2.1389738028904177, Validation Loss: 4.021152870995658\n"
     ]
    },
    {
     "name": "stderr",
     "output_type": "stream",
     "text": [
      " 68%|██████▊   | 135/200 [36:50<17:20, 16.01s/it]"
     ]
    },
    {
     "name": "stdout",
     "output_type": "stream",
     "text": [
      "Epoch 135/200, Training Loss: 1.957411988726202, Validation Loss: 3.7876833506992886\n"
     ]
    },
    {
     "name": "stderr",
     "output_type": "stream",
     "text": [
      " 68%|██████▊   | 136/200 [37:07<17:18, 16.23s/it]"
     ]
    },
    {
     "name": "stdout",
     "output_type": "stream",
     "text": [
      "Epoch 136/200, Training Loss: 2.0077749012776143, Validation Loss: 3.745033468518938\n"
     ]
    },
    {
     "name": "stderr",
     "output_type": "stream",
     "text": [
      " 68%|██████▊   | 137/200 [37:25<17:46, 16.93s/it]"
     ]
    },
    {
     "name": "stdout",
     "output_type": "stream",
     "text": [
      "Epoch 137/200, Training Loss: 1.98694505669036, Validation Loss: 3.646474463599069\n"
     ]
    },
    {
     "name": "stderr",
     "output_type": "stream",
     "text": [
      " 69%|██████▉   | 138/200 [37:42<17:20, 16.78s/it]"
     ]
    },
    {
     "name": "stdout",
     "output_type": "stream",
     "text": [
      "Epoch 138/200, Training Loss: 1.9390727672374473, Validation Loss: 4.099639960697719\n"
     ]
    },
    {
     "name": "stderr",
     "output_type": "stream",
     "text": [
      " 70%|██████▉   | 139/200 [38:02<18:09, 17.86s/it]"
     ]
    },
    {
     "name": "stdout",
     "output_type": "stream",
     "text": [
      "Epoch 139/200, Training Loss: 2.014372131734524, Validation Loss: 3.7210273912974765\n"
     ]
    },
    {
     "name": "stderr",
     "output_type": "stream",
     "text": [
      " 70%|███████   | 140/200 [38:23<18:48, 18.81s/it]"
     ]
    },
    {
     "name": "stdout",
     "output_type": "stream",
     "text": [
      "Epoch 140/200, Training Loss: 2.0128274115751372, Validation Loss: 3.660344753946577\n"
     ]
    },
    {
     "name": "stderr",
     "output_type": "stream",
     "text": [
      " 70%|███████   | 141/200 [38:43<18:55, 19.25s/it]"
     ]
    },
    {
     "name": "stdout",
     "output_type": "stream",
     "text": [
      "Epoch 141/200, Training Loss: 2.0688286867906465, Validation Loss: 3.8217010157448903\n"
     ]
    },
    {
     "name": "stderr",
     "output_type": "stream",
     "text": [
      " 71%|███████   | 142/200 [38:59<17:38, 18.26s/it]"
     ]
    },
    {
     "name": "stdout",
     "output_type": "stream",
     "text": [
      "Epoch 142/200, Training Loss: 1.9393783706539083, Validation Loss: 4.043546199798584\n"
     ]
    },
    {
     "name": "stderr",
     "output_type": "stream",
     "text": [
      " 72%|███████▏  | 143/200 [39:15<16:38, 17.52s/it]"
     ]
    },
    {
     "name": "stdout",
     "output_type": "stream",
     "text": [
      "Epoch 143/200, Training Loss: 2.0102123668733634, Validation Loss: 3.870759998049055\n"
     ]
    },
    {
     "name": "stderr",
     "output_type": "stream",
     "text": [
      " 72%|███████▏  | 144/200 [39:31<15:53, 17.03s/it]"
     ]
    },
    {
     "name": "stdout",
     "output_type": "stream",
     "text": [
      "Epoch 144/200, Training Loss: 1.8734880539606202, Validation Loss: 3.5763370990753174\n"
     ]
    },
    {
     "name": "stderr",
     "output_type": "stream",
     "text": [
      " 72%|███████▎  | 145/200 [39:48<15:26, 16.85s/it]"
     ]
    },
    {
     "name": "stdout",
     "output_type": "stream",
     "text": [
      "Epoch 145/200, Training Loss: 1.9257357514129494, Validation Loss: 3.589369075638907\n"
     ]
    },
    {
     "name": "stderr",
     "output_type": "stream",
     "text": [
      " 73%|███████▎  | 146/200 [40:03<14:54, 16.57s/it]"
     ]
    },
    {
     "name": "stdout",
     "output_type": "stream",
     "text": [
      "Epoch 146/200, Training Loss: 2.205728925623984, Validation Loss: 3.854611907686506\n"
     ]
    },
    {
     "name": "stderr",
     "output_type": "stream",
     "text": [
      " 74%|███████▎  | 147/200 [40:21<14:55, 16.89s/it]"
     ]
    },
    {
     "name": "stdout",
     "output_type": "stream",
     "text": [
      "Epoch 147/200, Training Loss: 1.9902561037045605, Validation Loss: 3.588540690285819\n"
     ]
    },
    {
     "name": "stderr",
     "output_type": "stream",
     "text": [
      " 74%|███████▍  | 148/200 [40:38<14:31, 16.76s/it]"
     ]
    },
    {
     "name": "stdout",
     "output_type": "stream",
     "text": [
      "Epoch 148/200, Training Loss: 1.8926196851820316, Validation Loss: 3.513131482260568\n"
     ]
    },
    {
     "name": "stderr",
     "output_type": "stream",
     "text": [
      " 74%|███████▍  | 149/200 [40:54<14:02, 16.52s/it]"
     ]
    },
    {
     "name": "stdout",
     "output_type": "stream",
     "text": [
      "Epoch 149/200, Training Loss: 2.1007419127338336, Validation Loss: 3.379892008645194\n"
     ]
    },
    {
     "name": "stderr",
     "output_type": "stream",
     "text": [
      " 75%|███████▌  | 150/200 [41:11<13:56, 16.74s/it]"
     ]
    },
    {
     "name": "stdout",
     "output_type": "stream",
     "text": [
      "Epoch 150/200, Training Loss: 1.9191747847593055, Validation Loss: 3.8762777192252025\n"
     ]
    },
    {
     "name": "stderr",
     "output_type": "stream",
     "text": [
      " 76%|███████▌  | 151/200 [41:28<13:44, 16.83s/it]"
     ]
    },
    {
     "name": "stdout",
     "output_type": "stream",
     "text": [
      "Epoch 151/200, Training Loss: 2.0601289575954653, Validation Loss: 3.4775858776909963\n"
     ]
    },
    {
     "name": "stderr",
     "output_type": "stream",
     "text": [
      " 76%|███████▌  | 152/200 [41:43<13:06, 16.39s/it]"
     ]
    },
    {
     "name": "stdout",
     "output_type": "stream",
     "text": [
      "Epoch 152/200, Training Loss: 2.1302583358197844, Validation Loss: 3.5313615458352223\n"
     ]
    },
    {
     "name": "stderr",
     "output_type": "stream",
     "text": [
      " 76%|███████▋  | 153/200 [41:59<12:49, 16.37s/it]"
     ]
    },
    {
     "name": "stdout",
     "output_type": "stream",
     "text": [
      "Epoch 153/200, Training Loss: 2.001190680377888, Validation Loss: 3.4626215355736867\n"
     ]
    },
    {
     "name": "stderr",
     "output_type": "stream",
     "text": [
      " 77%|███████▋  | 154/200 [42:15<12:19, 16.08s/it]"
     ]
    },
    {
     "name": "stdout",
     "output_type": "stream",
     "text": [
      "Epoch 154/200, Training Loss: 1.8960170436580226, Validation Loss: 3.9762557404381886\n"
     ]
    },
    {
     "name": "stderr",
     "output_type": "stream",
     "text": [
      " 78%|███████▊  | 155/200 [42:30<11:53, 15.85s/it]"
     ]
    },
    {
     "name": "stdout",
     "output_type": "stream",
     "text": [
      "Epoch 155/200, Training Loss: 1.881171150589889, Validation Loss: 3.5147810322897777\n"
     ]
    },
    {
     "name": "stderr",
     "output_type": "stream",
     "text": [
      " 78%|███████▊  | 156/200 [42:46<11:34, 15.77s/it]"
     ]
    },
    {
     "name": "stdout",
     "output_type": "stream",
     "text": [
      "Epoch 156/200, Training Loss: 1.889955054476576, Validation Loss: 3.3054445471082414\n"
     ]
    },
    {
     "name": "stderr",
     "output_type": "stream",
     "text": [
      " 78%|███████▊  | 157/200 [43:02<11:23, 15.88s/it]"
     ]
    },
    {
     "name": "stdout",
     "output_type": "stream",
     "text": [
      "Epoch 157/200, Training Loss: 1.9222341191093877, Validation Loss: 3.6731126649039134\n"
     ]
    },
    {
     "name": "stderr",
     "output_type": "stream",
     "text": [
      " 79%|███████▉  | 158/200 [43:19<11:24, 16.30s/it]"
     ]
    },
    {
     "name": "stdout",
     "output_type": "stream",
     "text": [
      "Epoch 158/200, Training Loss: 2.0096623279013723, Validation Loss: 3.489420396941049\n"
     ]
    },
    {
     "name": "stderr",
     "output_type": "stream",
     "text": [
      " 80%|███████▉  | 159/200 [43:35<11:02, 16.15s/it]"
     ]
    },
    {
     "name": "stdout",
     "output_type": "stream",
     "text": [
      "Epoch 159/200, Training Loss: 1.8323573357654068, Validation Loss: 3.742206028529576\n"
     ]
    },
    {
     "name": "stderr",
     "output_type": "stream",
     "text": [
      " 80%|████████  | 160/200 [43:52<10:53, 16.34s/it]"
     ]
    },
    {
     "name": "stdout",
     "output_type": "stream",
     "text": [
      "Epoch 160/200, Training Loss: 2.170667846247835, Validation Loss: 3.97922260420663\n"
     ]
    },
    {
     "name": "stderr",
     "output_type": "stream",
     "text": [
      " 80%|████████  | 161/200 [44:08<10:33, 16.25s/it]"
     ]
    },
    {
     "name": "stdout",
     "output_type": "stream",
     "text": [
      "Epoch 161/200, Training Loss: 1.9232047633180078, Validation Loss: 3.619248185838972\n"
     ]
    },
    {
     "name": "stderr",
     "output_type": "stream",
     "text": [
      " 81%|████████  | 162/200 [44:26<10:34, 16.69s/it]"
     ]
    },
    {
     "name": "stdout",
     "output_type": "stream",
     "text": [
      "Epoch 162/200, Training Loss: 2.074692704767551, Validation Loss: 3.689675211906433\n"
     ]
    },
    {
     "name": "stderr",
     "output_type": "stream",
     "text": [
      " 82%|████████▏ | 163/200 [44:42<10:13, 16.59s/it]"
     ]
    },
    {
     "name": "stdout",
     "output_type": "stream",
     "text": [
      "Epoch 163/200, Training Loss: 2.0467262335543364, Validation Loss: 3.5809941632407054\n"
     ]
    },
    {
     "name": "stderr",
     "output_type": "stream",
     "text": [
      " 82%|████████▏ | 164/200 [44:58<09:53, 16.50s/it]"
     ]
    },
    {
     "name": "stdout",
     "output_type": "stream",
     "text": [
      "Epoch 164/200, Training Loss: 2.123199219973582, Validation Loss: 3.9705468586512973\n"
     ]
    },
    {
     "name": "stderr",
     "output_type": "stream",
     "text": [
      " 82%|████████▎ | 165/200 [45:14<09:26, 16.20s/it]"
     ]
    },
    {
     "name": "stdout",
     "output_type": "stream",
     "text": [
      "Epoch 165/200, Training Loss: 1.9694547979336865, Validation Loss: 3.7222074440547397\n"
     ]
    },
    {
     "name": "stderr",
     "output_type": "stream",
     "text": [
      " 83%|████████▎ | 166/200 [45:30<09:07, 16.10s/it]"
     ]
    },
    {
     "name": "stdout",
     "output_type": "stream",
     "text": [
      "Epoch 166/200, Training Loss: 1.8592899509196013, Validation Loss: 3.6526876517704556\n"
     ]
    },
    {
     "name": "stderr",
     "output_type": "stream",
     "text": [
      " 84%|████████▎ | 167/200 [45:46<08:51, 16.11s/it]"
     ]
    },
    {
     "name": "stdout",
     "output_type": "stream",
     "text": [
      "Epoch 167/200, Training Loss: 1.9116946461628068, Validation Loss: 3.548228314944676\n"
     ]
    },
    {
     "name": "stderr",
     "output_type": "stream",
     "text": [
      " 84%|████████▍ | 168/200 [46:02<08:35, 16.11s/it]"
     ]
    },
    {
     "name": "stdout",
     "output_type": "stream",
     "text": [
      "Epoch 168/200, Training Loss: 1.9801358943277936, Validation Loss: 3.9418589728219167\n"
     ]
    },
    {
     "name": "stderr",
     "output_type": "stream",
     "text": [
      " 84%|████████▍ | 169/200 [46:19<08:27, 16.39s/it]"
     ]
    },
    {
     "name": "stdout",
     "output_type": "stream",
     "text": [
      "Epoch 169/200, Training Loss: 1.9081358718422223, Validation Loss: 3.9722985540117537\n"
     ]
    },
    {
     "name": "stderr",
     "output_type": "stream",
     "text": [
      " 85%|████████▌ | 170/200 [46:35<08:13, 16.44s/it]"
     ]
    },
    {
     "name": "stdout",
     "output_type": "stream",
     "text": [
      "Epoch 170/200, Training Loss: 1.930409497247552, Validation Loss: 3.559934684208461\n"
     ]
    },
    {
     "name": "stderr",
     "output_type": "stream",
     "text": [
      " 86%|████████▌ | 171/200 [46:52<07:54, 16.35s/it]"
     ]
    },
    {
     "name": "stdout",
     "output_type": "stream",
     "text": [
      "Epoch 171/200, Training Loss: 1.9911206881954986, Validation Loss: 3.364176937511989\n"
     ]
    },
    {
     "name": "stderr",
     "output_type": "stream",
     "text": [
      " 86%|████████▌ | 172/200 [47:08<07:36, 16.29s/it]"
     ]
    },
    {
     "name": "stdout",
     "output_type": "stream",
     "text": [
      "Epoch 172/200, Training Loss: 1.881124438963971, Validation Loss: 3.66663019997733\n"
     ]
    },
    {
     "name": "stderr",
     "output_type": "stream",
     "text": [
      " 86%|████████▋ | 173/200 [47:25<07:25, 16.49s/it]"
     ]
    },
    {
     "name": "stdout",
     "output_type": "stream",
     "text": [
      "Epoch 173/200, Training Loss: 2.047848736902453, Validation Loss: 3.4878734179905484\n"
     ]
    },
    {
     "name": "stderr",
     "output_type": "stream",
     "text": [
      " 87%|████████▋ | 174/200 [47:41<07:07, 16.42s/it]"
     ]
    },
    {
     "name": "stdout",
     "output_type": "stream",
     "text": [
      "Epoch 174/200, Training Loss: 1.9385296775484986, Validation Loss: 3.664917537144252\n"
     ]
    },
    {
     "name": "stderr",
     "output_type": "stream",
     "text": [
      " 88%|████████▊ | 175/200 [47:57<06:46, 16.25s/it]"
     ]
    },
    {
     "name": "stdout",
     "output_type": "stream",
     "text": [
      "Epoch 175/200, Training Loss: 1.813975324608245, Validation Loss: 3.6047488961900984\n"
     ]
    },
    {
     "name": "stderr",
     "output_type": "stream",
     "text": [
      " 88%|████████▊ | 176/200 [48:12<06:24, 16.04s/it]"
     ]
    },
    {
     "name": "stdout",
     "output_type": "stream",
     "text": [
      "Epoch 176/200, Training Loss: 1.8768544624436576, Validation Loss: 3.4124938930783952\n"
     ]
    },
    {
     "name": "stderr",
     "output_type": "stream",
     "text": [
      " 88%|████████▊ | 177/200 [48:28<06:03, 15.81s/it]"
     ]
    },
    {
     "name": "stdout",
     "output_type": "stream",
     "text": [
      "Epoch 177/200, Training Loss: 1.9559459742510095, Validation Loss: 3.612631389072963\n"
     ]
    },
    {
     "name": "stderr",
     "output_type": "stream",
     "text": [
      " 89%|████████▉ | 178/200 [48:43<05:48, 15.84s/it]"
     ]
    },
    {
     "name": "stdout",
     "output_type": "stream",
     "text": [
      "Epoch 178/200, Training Loss: 1.9557718870774754, Validation Loss: 3.669314844267709\n"
     ]
    },
    {
     "name": "stderr",
     "output_type": "stream",
     "text": [
      " 90%|████████▉ | 179/200 [48:59<05:31, 15.77s/it]"
     ]
    },
    {
     "name": "stdout",
     "output_type": "stream",
     "text": [
      "Epoch 179/200, Training Loss: 1.9562158247209944, Validation Loss: 3.7190280982426236\n"
     ]
    },
    {
     "name": "stderr",
     "output_type": "stream",
     "text": [
      " 90%|█████████ | 180/200 [49:15<05:17, 15.90s/it]"
     ]
    },
    {
     "name": "stdout",
     "output_type": "stream",
     "text": [
      "Epoch 180/200, Training Loss: 1.9407496913424078, Validation Loss: 3.7146949427468434\n"
     ]
    },
    {
     "name": "stderr",
     "output_type": "stream",
     "text": [
      " 90%|█████████ | 181/200 [49:32<05:07, 16.17s/it]"
     ]
    },
    {
     "name": "stdout",
     "output_type": "stream",
     "text": [
      "Epoch 181/200, Training Loss: 1.811074067399187, Validation Loss: 3.7237066200801303\n"
     ]
    },
    {
     "name": "stderr",
     "output_type": "stream",
     "text": [
      " 91%|█████████ | 182/200 [49:48<04:50, 16.12s/it]"
     ]
    },
    {
     "name": "stdout",
     "output_type": "stream",
     "text": [
      "Epoch 182/200, Training Loss: 2.0300694124878578, Validation Loss: 3.402038642338344\n"
     ]
    },
    {
     "name": "stderr",
     "output_type": "stream",
     "text": [
      " 92%|█████████▏| 183/200 [50:04<04:31, 15.96s/it]"
     ]
    },
    {
     "name": "stdout",
     "output_type": "stream",
     "text": [
      "Epoch 183/200, Training Loss: 1.9696041514288705, Validation Loss: 3.6099803107125417\n"
     ]
    },
    {
     "name": "stderr",
     "output_type": "stream",
     "text": [
      " 92%|█████████▏| 184/200 [50:20<04:14, 15.92s/it]"
     ]
    },
    {
     "name": "stdout",
     "output_type": "stream",
     "text": [
      "Epoch 184/200, Training Loss: 1.7721880078315735, Validation Loss: 3.497525657926287\n"
     ]
    },
    {
     "name": "stderr",
     "output_type": "stream",
     "text": [
      " 92%|█████████▎| 185/200 [50:36<04:00, 16.05s/it]"
     ]
    },
    {
     "name": "stdout",
     "output_type": "stream",
     "text": [
      "Epoch 185/200, Training Loss: 1.936839391600411, Validation Loss: 3.4980722836085727\n"
     ]
    },
    {
     "name": "stderr",
     "output_type": "stream",
     "text": [
      " 93%|█████████▎| 186/200 [50:52<03:46, 16.20s/it]"
     ]
    },
    {
     "name": "stdout",
     "output_type": "stream",
     "text": [
      "Epoch 186/200, Training Loss: 1.7843966472823665, Validation Loss: 3.559363637651716\n"
     ]
    },
    {
     "name": "stderr",
     "output_type": "stream",
     "text": [
      " 94%|█████████▎| 187/200 [51:08<03:29, 16.08s/it]"
     ]
    },
    {
     "name": "stdout",
     "output_type": "stream",
     "text": [
      "Epoch 187/200, Training Loss: 2.1907730372446887, Validation Loss: 3.476097038814\n"
     ]
    },
    {
     "name": "stderr",
     "output_type": "stream",
     "text": [
      " 94%|█████████▍| 188/200 [51:24<03:10, 15.88s/it]"
     ]
    },
    {
     "name": "stdout",
     "output_type": "stream",
     "text": [
      "Epoch 188/200, Training Loss: 1.7929327915299613, Validation Loss: 3.4562138319015503\n"
     ]
    },
    {
     "name": "stderr",
     "output_type": "stream",
     "text": [
      " 94%|█████████▍| 189/200 [51:40<02:54, 15.90s/it]"
     ]
    },
    {
     "name": "stdout",
     "output_type": "stream",
     "text": [
      "Epoch 189/200, Training Loss: 1.8078500274217353, Validation Loss: 3.6482060977390836\n"
     ]
    },
    {
     "name": "stderr",
     "output_type": "stream",
     "text": [
      " 95%|█████████▌| 190/200 [51:56<02:39, 15.91s/it]"
     ]
    },
    {
     "name": "stdout",
     "output_type": "stream",
     "text": [
      "Epoch 190/200, Training Loss: 1.8820755751627796, Validation Loss: 3.5461490154266357\n"
     ]
    },
    {
     "name": "stderr",
     "output_type": "stream",
     "text": [
      " 96%|█████████▌| 191/200 [52:11<02:22, 15.85s/it]"
     ]
    },
    {
     "name": "stdout",
     "output_type": "stream",
     "text": [
      "Epoch 191/200, Training Loss: 1.835175577199684, Validation Loss: 3.518880009651184\n"
     ]
    },
    {
     "name": "stderr",
     "output_type": "stream",
     "text": [
      " 96%|█████████▌| 192/200 [52:27<02:06, 15.86s/it]"
     ]
    },
    {
     "name": "stdout",
     "output_type": "stream",
     "text": [
      "Epoch 192/200, Training Loss: 1.816803512708196, Validation Loss: 3.817340612411499\n"
     ]
    },
    {
     "name": "stderr",
     "output_type": "stream",
     "text": [
      " 96%|█████████▋| 193/200 [52:44<01:52, 16.12s/it]"
     ]
    },
    {
     "name": "stdout",
     "output_type": "stream",
     "text": [
      "Epoch 193/200, Training Loss: 1.857313262404136, Validation Loss: 3.3221432140895297\n"
     ]
    },
    {
     "name": "stderr",
     "output_type": "stream",
     "text": [
      " 97%|█████████▋| 194/200 [53:00<01:36, 16.03s/it]"
     ]
    },
    {
     "name": "stdout",
     "output_type": "stream",
     "text": [
      "Epoch 194/200, Training Loss: 1.860967034438871, Validation Loss: 3.416111333029611\n"
     ]
    },
    {
     "name": "stderr",
     "output_type": "stream",
     "text": [
      " 98%|█████████▊| 195/200 [53:15<01:19, 15.91s/it]"
     ]
    },
    {
     "name": "stdout",
     "output_type": "stream",
     "text": [
      "Epoch 195/200, Training Loss: 1.8655313725741405, Validation Loss: 3.592083896909441\n"
     ]
    },
    {
     "name": "stderr",
     "output_type": "stream",
     "text": [
      " 98%|█████████▊| 196/200 [53:31<01:03, 15.79s/it]"
     ]
    },
    {
     "name": "stdout",
     "output_type": "stream",
     "text": [
      "Epoch 196/200, Training Loss: 1.8656252268350348, Validation Loss: 3.7443367072514127\n"
     ]
    },
    {
     "name": "stderr",
     "output_type": "stream",
     "text": [
      " 98%|█████████▊| 197/200 [53:47<00:47, 15.95s/it]"
     ]
    },
    {
     "name": "stdout",
     "output_type": "stream",
     "text": [
      "Epoch 197/200, Training Loss: 1.8703906001909725, Validation Loss: 3.490467769759042\n"
     ]
    },
    {
     "name": "stderr",
     "output_type": "stream",
     "text": [
      " 99%|█████████▉| 198/200 [54:03<00:32, 16.08s/it]"
     ]
    },
    {
     "name": "stdout",
     "output_type": "stream",
     "text": [
      "Epoch 198/200, Training Loss: 1.7296668128022608, Validation Loss: 3.8805897576468333\n"
     ]
    },
    {
     "name": "stderr",
     "output_type": "stream",
     "text": [
      "100%|█████████▉| 199/200 [54:20<00:16, 16.06s/it]"
     ]
    },
    {
     "name": "stdout",
     "output_type": "stream",
     "text": [
      "Epoch 199/200, Training Loss: 1.871105063636348, Validation Loss: 3.8364622592926025\n"
     ]
    },
    {
     "name": "stderr",
     "output_type": "stream",
     "text": [
      "100%|██████████| 200/200 [54:36<00:00, 16.38s/it]"
     ]
    },
    {
     "name": "stdout",
     "output_type": "stream",
     "text": [
      "Epoch 200/200, Training Loss: 1.8308440649284508, Validation Loss: 3.2563063417162215\n",
      "Final Training Accuracy: 95.39%, Precision: 0.96, Recall: 0.95\n",
      "Final Validation Accuracy: 90.38%, Precision: 0.90, Recall: 0.91\n"
     ]
    },
    {
     "name": "stderr",
     "output_type": "stream",
     "text": [
      "\n"
     ]
    },
    {
     "data": {
      "text/html": [
       "<style>\n",
       "    table.wandb td:nth-child(1) { padding: 0 10px; text-align: left ; width: auto;} td:nth-child(2) {text-align: left ; width: 100%}\n",
       "    .wandb-row { display: flex; flex-direction: row; flex-wrap: wrap; justify-content: flex-start; width: 100% }\n",
       "    .wandb-col { display: flex; flex-direction: column; flex-basis: 100%; flex: 1; padding: 10px; }\n",
       "    </style>\n",
       "<div class=\"wandb-row\"><div class=\"wandb-col\"><h3>Run history:</h3><br/><table class=\"wandb\"><tr><td>epoch</td><td>▁▁▁▁▁▂▂▂▂▂▃▃▃▃▃▄▄▄▄▄▅▅▅▅▅▅▅▅▆▆▆▆▇▇▇▇▇███</td></tr><tr><td>final_train_accuracy</td><td>▁</td></tr><tr><td>final_train_precision</td><td>▁</td></tr><tr><td>final_train_recall</td><td>▁</td></tr><tr><td>final_val_accuracy</td><td>▁</td></tr><tr><td>final_val_precision</td><td>▁</td></tr><tr><td>final_val_recall</td><td>▁</td></tr><tr><td>train_loss</td><td>█▆▅▄▄▄▃▂▂▂▂▂▂▂▂▂▂▂▂▁▂▂▁▁▂▁▁▂▁▁▂▂▂▁▁▁▁▁▁▁</td></tr><tr><td>val_loss</td><td>█▄▄▄▄▂▂▁▃▁▂▂▂▂▁▁▂▃▁▂▁▁▁▂▁▂▂▁▂▁▂▁▂▁▂▁▁▁▁▂</td></tr></table><br/></div><div class=\"wandb-col\"><h3>Run summary:</h3><br/><table class=\"wandb\"><tr><td>epoch</td><td>200</td></tr><tr><td>final_train_accuracy</td><td>95.39474</td></tr><tr><td>final_train_precision</td><td>0.95778</td></tr><tr><td>final_train_recall</td><td>0.94976</td></tr><tr><td>final_val_accuracy</td><td>90.38462</td></tr><tr><td>final_val_precision</td><td>0.89623</td></tr><tr><td>final_val_recall</td><td>0.91346</td></tr><tr><td>train_loss</td><td>1.83084</td></tr><tr><td>val_loss</td><td>3.25631</td></tr></table><br/></div></div>"
      ],
      "text/plain": [
       "<IPython.core.display.HTML object>"
      ]
     },
     "metadata": {},
     "output_type": "display_data"
    },
    {
     "data": {
      "text/html": [
       " View run <strong style=\"color:#cdcd00\">twilight-armadillo-6</strong> at: <a href='https://wandb.ai/angelajcnto-the-university-of-western-australia/drawn_wood_42_training/runs/9araqmgh' target=\"_blank\">https://wandb.ai/angelajcnto-the-university-of-western-australia/drawn_wood_42_training/runs/9araqmgh</a><br/> View project at: <a href='https://wandb.ai/angelajcnto-the-university-of-western-australia/drawn_wood_42_training' target=\"_blank\">https://wandb.ai/angelajcnto-the-university-of-western-australia/drawn_wood_42_training</a><br/>Synced 5 W&B file(s), 0 media file(s), 0 artifact file(s) and 0 other file(s)"
      ],
      "text/plain": [
       "<IPython.core.display.HTML object>"
      ]
     },
     "metadata": {},
     "output_type": "display_data"
    },
    {
     "data": {
      "text/html": [
       "Find logs at: <code>.\\wandb\\run-20241009_202504-9araqmgh\\logs</code>"
      ],
      "text/plain": [
       "<IPython.core.display.HTML object>"
      ]
     },
     "metadata": {},
     "output_type": "display_data"
    }
   ],
   "source": [
    "import pickle\n",
    "import numpy as np\n",
    "from sklearn.metrics import precision_score, recall_score\n",
    "import wandb\n",
    "from torch.nn import MSELoss\n",
    "from torch.optim import Adam\n",
    "from tqdm import trange\n",
    "import matplotlib.pyplot as plt\n",
    "from rockpool.nn.networks import SynNet\n",
    "from rockpool.nn.modules import LIFTorch as LIFOtherSpiking\n",
    "\n",
    "\n",
    "seed = 42\n",
    "learning_rate = 1e-3\n",
    "size_hidden_layers=[48, 24, 48]        \n",
    "time_constants_per_layer=[8, 10, 12]\n",
    "\n",
    "device = torch.device(\"cpu\")  \n",
    "\n",
    "# Target class potential configurations\n",
    "potential_configs = [\n",
    "    {\"target_class_potential\": 1, \"non_target_class_potential\": -1, \"model_name\": \"drawn-wood-42-1\"},\n",
    "    {\"target_class_potential\": 3, \"non_target_class_potential\": -3, \"model_name\": \"drawn-wood-42-3\"}\n",
    "]\n",
    "\n",
    "for potential_config in potential_configs:\n",
    "    target_class_potential = potential_config[\"target_class_potential\"]\n",
    "    non_target_class_potential = potential_config[\"non_target_class_potential\"]\n",
    "    model_name = potential_config[\"model_name\"]\n",
    "    \n",
    "    wandb.init(\n",
    "        project=\"drawn_wood_42_training\",  \n",
    "        config={\n",
    "            \"learning_rate\": learning_rate,\n",
    "            \"size_hidden_layers\": size_hidden_layers,\n",
    "            \"time_constants_per_layer\": time_constants_per_layer,\n",
    "            \"architecture\": \"SNN\",\n",
    "            \"dataset\": \"Meerkat calls\",\n",
    "            \"epochs\": 200,\n",
    "            \"target_class_potential\": target_class_potential,\n",
    "            \"non_target_class_potential\": non_target_class_potential,\n",
    "            \"packages\": [\"torch\", \"numpy\", \"pickle\", \"wandb\"]\n",
    "        }\n",
    "    )\n",
    "\n",
    "    config = wandb.config\n",
    "\n",
    "    torch.manual_seed(seed)\n",
    "\n",
    "    # Initialize model \n",
    "    model = SynNet(\n",
    "        output=\"vmem\",\n",
    "        n_channels=16,                        \n",
    "        n_classes=1,\n",
    "        dt=10e-3,                           \n",
    "        size_hidden_layers=size_hidden_layers,        \n",
    "        time_constants_per_layer=time_constants_per_layer,\n",
    "        tau_syn_base=0.02,  \n",
    "        tau_mem=0.02,\n",
    "        tau_syn_out=0.02,\n",
    "    ).to(device)\n",
    "\n",
    "    # Hyperparameters\n",
    "    n_epochs = config.epochs\n",
    "    optimizer = Adam(model.parameters().astorch(), lr=learning_rate)\n",
    "    loss_fun = MSELoss()\n",
    "\n",
    "    # Store losses, internal states, and metrics\n",
    "    train_losses = []\n",
    "    val_losses = []\n",
    "    membrane_potentials = []\n",
    "    spike_outputs = []\n",
    "    synaptic_currents = []\n",
    "\n",
    "    # Training phase\n",
    "    for epoch in trange(n_epochs):\n",
    "        model.train()\n",
    "        epoch_loss = 0\n",
    "        predictions_train = []\n",
    "        ground_truths_train = []\n",
    "        \n",
    "        for batch in train_loader:\n",
    "            inputs, labels = batch\n",
    "            inputs = inputs.permute(0, 2, 1).to(device)\n",
    "            labels = labels.to(device)\n",
    "\n",
    "            optimizer.zero_grad()\n",
    "            outputs, _, _ = model(inputs, record=True)\n",
    "            outputs_vmem = outputs[:, -1, :].to(device)  # Last time step along the time axis\n",
    "\n",
    "            # Target membrane potential values\n",
    "            target_membrane_potential = torch.zeros_like(outputs_vmem).to(device)\n",
    "            target_membrane_potential[labels == 1] = target_class_potential  # Target class\n",
    "            target_membrane_potential[labels == 0] = non_target_class_potential  # Non-target class\n",
    "\n",
    "            # Compute loss\n",
    "            loss = loss_fun(outputs_vmem, target_membrane_potential)\n",
    "            loss.backward()\n",
    "            optimizer.step()\n",
    "            epoch_loss += loss.item()\n",
    "\n",
    "            # Only collect predictions and ground truths during the final epoch\n",
    "            if epoch == n_epochs - 1:\n",
    "                predictions_train.append(outputs_vmem.detach().cpu().numpy())\n",
    "                ground_truths_train.append(labels.cpu().numpy())\n",
    "\n",
    "            # Access internal layer membrane potentials, spikes, synaptic currents\n",
    "            for lyr_name in model.lif_names:\n",
    "                lyr = model.seq[lyr_name]\n",
    "\n",
    "                v_mem = lyr.vmem.detach().cpu().numpy()  \n",
    "                spikes = lyr.spikes.detach().cpu().numpy()  \n",
    "                i_syn = lyr.isyn.detach().cpu().numpy()  \n",
    "\n",
    "                membrane_potentials.append(v_mem)\n",
    "                spike_outputs.append(spikes)\n",
    "                synaptic_currents.append(i_syn)\n",
    "\n",
    "        train_losses.append(epoch_loss / len(train_loader))\n",
    "\n",
    "        # Validation phase\n",
    "        model.eval()\n",
    "        val_loss = 0\n",
    "        predictions_val = []\n",
    "        ground_truths_val = []\n",
    "        with torch.no_grad():\n",
    "            for batch in val_loader:\n",
    "                inputs, labels = batch\n",
    "                inputs = inputs.permute(0, 2, 1).to(device)\n",
    "                labels = labels.to(device)\n",
    "                outputs, _, _ = model(inputs, record=True)\n",
    "                outputs_vmem = outputs[:, -1, :].to(device)\n",
    "\n",
    "                # Target membrane potential values\n",
    "                target_membrane_potential = torch.zeros_like(outputs_vmem).to(device)\n",
    "                target_membrane_potential[labels == 1] = target_class_potential\n",
    "                target_membrane_potential[labels == 0] = non_target_class_potential\n",
    "\n",
    "                # Compute validation loss\n",
    "                loss = loss_fun(outputs_vmem, target_membrane_potential)\n",
    "                val_loss += loss.item()\n",
    "\n",
    "                # Only collect predictions and ground truths during the final epoch\n",
    "                if epoch == n_epochs - 1:\n",
    "                    predictions_val.append(outputs_vmem.detach().cpu().numpy())\n",
    "                    ground_truths_val.append(labels.cpu().numpy())\n",
    "\n",
    "        val_losses.append(val_loss / len(val_loader))\n",
    "\n",
    "        # Log loss for the current epoch\n",
    "        wandb.log({\n",
    "            \"epoch\": epoch + 1,\n",
    "            \"train_loss\": train_losses[-1],\n",
    "            \"val_loss\": val_losses[-1]\n",
    "        })\n",
    "        print(f\"Epoch {epoch+1}/{n_epochs}, Training Loss: {train_losses[-1]}, Validation Loss: {val_losses[-1]}\")\n",
    "\n",
    "    # Calculate metrics for training and validation at the final epoch\n",
    "    if predictions_train and ground_truths_train:\n",
    "        predicted_labels_train = np.where(np.concatenate(predictions_train) > 0, 1, 0).flatten()\n",
    "        ground_truths_train_flat = np.concatenate(ground_truths_train).flatten()\n",
    "        train_accuracy = (predicted_labels_train == ground_truths_train_flat).mean() * 100\n",
    "        train_precision = precision_score(ground_truths_train_flat, predicted_labels_train)\n",
    "        train_recall = recall_score(ground_truths_train_flat, predicted_labels_train)\n",
    "\n",
    "    if predictions_val and ground_truths_val:\n",
    "        predicted_labels_val = np.where(np.concatenate(predictions_val) > 0, 1, 0).flatten()\n",
    "        ground_truths_val_flat = np.concatenate(ground_truths_val).flatten()\n",
    "        val_accuracy = (predicted_labels_val == ground_truths_val_flat).mean() * 100\n",
    "        val_precision = precision_score(ground_truths_val_flat, predicted_labels_val)\n",
    "        val_recall = recall_score(ground_truths_val_flat, predicted_labels_val)\n",
    "\n",
    "    # Log metrics from the final epoch to wandb\n",
    "    wandb.log({\n",
    "        \"final_train_accuracy\": train_accuracy,\n",
    "        \"final_train_precision\": train_precision,\n",
    "        \"final_train_recall\": train_recall,\n",
    "        \"final_val_accuracy\": val_accuracy,\n",
    "        \"final_val_precision\": val_precision,\n",
    "        \"final_val_recall\": val_recall\n",
    "    })\n",
    "\n",
    "    print(f\"Final Training Accuracy: {train_accuracy:.2f}%, Precision: {train_precision:.2f}, Recall: {train_recall:.2f}\")\n",
    "    print(f\"Final Validation Accuracy: {val_accuracy:.2f}%, Precision: {val_precision:.2f}, Recall: {val_recall:.2f}\")\n",
    "\n",
    "    # Save results and model state for this configuration\n",
    "    results_folder = \"drawn_wood_results\"\n",
    "    os.makedirs(results_folder, exist_ok=True)\n",
    "\n",
    "    output_filename = f\"{results_folder}/{model_name}.pkl\"\n",
    "    with open(output_filename, 'wb') as f:\n",
    "        pickle.dump({\n",
    "            'train_losses': train_losses,\n",
    "            'val_losses': val_losses,\n",
    "            'train_accuracy': train_accuracy,\n",
    "            'train_precision': train_precision,\n",
    "            'train_recall': train_recall,\n",
    "            'val_accuracy': val_accuracy,\n",
    "            'val_precision': val_precision,\n",
    "            'val_recall': val_recall,\n",
    "            'membrane_potentials': membrane_potentials,\n",
    "            'spike_outputs': spike_outputs,\n",
    "            'synaptic_currents': synaptic_currents,\n",
    "            'predictions_train': predictions_train,\n",
    "            'ground_truths_train': ground_truths_train,\n",
    "            'predictions_val': predictions_val,\n",
    "            'ground_truths_val': ground_truths_val\n",
    "        }, f)\n",
    "\n",
    "    # Save model state\n",
    "    model_state_filename = f\"{results_folder}/{model_name}.pt\"\n",
    "    torch.save(model.state_dict(), model_state_filename)\n",
    "\n",
    "    # Finish the wandb run for this configuration\n",
    "    wandb.finish()"
   ]
  },
  {
   "cell_type": "code",
   "execution_count": 7,
   "metadata": {},
   "outputs": [
    {
     "name": "stderr",
     "output_type": "stream",
     "text": [
      "C:\\Users\\Angela\\AppData\\Local\\Temp\\ipykernel_93188\\1923086123.py:15: FutureWarning: You are using `torch.load` with `weights_only=False` (the current default value), which uses the default pickle module implicitly. It is possible to construct malicious pickle data which will execute arbitrary code during unpickling (See https://github.com/pytorch/pytorch/blob/main/SECURITY.md#untrusted-models for more details). In a future release, the default value for `weights_only` will be flipped to `True`. This limits the functions that could be executed during unpickling. Arbitrary objects will no longer be allowed to be loaded via this mode unless they are explicitly allowlisted by the user via `torch.serialization.add_safe_globals`. We recommend you start setting `weights_only=True` for any use case where you don't have full control of the loaded file. Please open an issue on GitHub for any issues related to this experimental feature.\n",
      "  model.load_state_dict(torch.load(model_state_path))\n"
     ]
    },
    {
     "data": {
      "text/plain": [
       "SynNet  with shape (16, 1) {\n",
       "    TorchSequential 'seq' with shape (16, 1) {\n",
       "        LinearTorch '0_LinearTorch' with shape (16, 48)\n",
       "        LIFTorch '1_LIFTorch' with shape (48, 48)\n",
       "        TimeStepDropout '2_TimeStepDropout' with shape (48,)\n",
       "        LinearTorch '3_LinearTorch' with shape (48, 24)\n",
       "        LIFTorch '4_LIFTorch' with shape (24, 24)\n",
       "        TimeStepDropout '5_TimeStepDropout' with shape (24,)\n",
       "        LinearTorch '6_LinearTorch' with shape (24, 48)\n",
       "        LIFTorch '7_LIFTorch' with shape (48, 48)\n",
       "        TimeStepDropout '8_TimeStepDropout' with shape (48,)\n",
       "        LinearTorch '9_LinearTorch' with shape (48, 1)\n",
       "        LIFTorch '10_LIFTorch' with shape (1, 1)\n",
       "    }\n",
       "}"
      ]
     },
     "execution_count": 7,
     "metadata": {},
     "output_type": "execute_result"
    }
   ],
   "source": [
    "model = SynNet(\n",
    "    output=\"vmem\",  \n",
    "    n_channels=16,                        \n",
    "    n_classes=1,\n",
    "    dt=10e-3,                           \n",
    "    size_hidden_layers=[48, 24, 48],  \n",
    "    time_constants_per_layer=[8, 10, 12],\n",
    "    tau_syn_base=0.02,  \n",
    "    tau_mem=0.02,\n",
    "    tau_syn_out=0.02,\n",
    ").to(device)\n",
    "\n",
    "# Load the saved state into the model\n",
    "model_state_path = 'drawn_wood_results/drawn-wood-42-1.pt' \n",
    "model.load_state_dict(torch.load(model_state_path))\n",
    "model.to(device)"
   ]
  },
  {
   "cell_type": "code",
   "execution_count": 8,
   "metadata": {},
   "outputs": [
    {
     "name": "stdout",
     "output_type": "stream",
     "text": [
      "Raw summed outputs before thresholding: [[  11.363523]\n",
      " [ -60.70052 ]\n",
      " [ -94.5216  ]\n",
      " [ -96.72665 ]\n",
      " [ -88.48549 ]\n",
      " [-118.41281 ]\n",
      " [ -50.02708 ]\n",
      " [ -97.06612 ]\n",
      " [-124.24757 ]\n",
      " [-112.22791 ]]\n",
      "Labels: [0 0 0 0 0 0 0 0 0 0]\n"
     ]
    },
    {
     "name": "stderr",
     "output_type": "stream",
     "text": [
      "C:\\Users\\Angela\\AppData\\Local\\Temp\\ipykernel_93188\\3409543609.py:1: FutureWarning: You are using `torch.load` with `weights_only=False` (the current default value), which uses the default pickle module implicitly. It is possible to construct malicious pickle data which will execute arbitrary code during unpickling (See https://github.com/pytorch/pytorch/blob/main/SECURITY.md#untrusted-models for more details). In a future release, the default value for `weights_only` will be flipped to `True`. This limits the functions that could be executed during unpickling. Arbitrary objects will no longer be allowed to be loaded via this mode unless they are explicitly allowlisted by the user via `torch.serialization.add_safe_globals`. We recommend you start setting `weights_only=True` for any use case where you don't have full control of the loaded file. Please open an issue on GitHub for any issues related to this experimental feature.\n",
      "  test_loader = torch.load('saved_loaders_bs32/test_loader.pth')\n"
     ]
    }
   ],
   "source": [
    "test_loader = torch.load('saved_loaders_bs32/test_loader.pth')\n",
    "\n",
    "for inputs, labels in test_loader:\n",
    "    inputs = inputs.permute(0, 2, 1).to(device)\n",
    "    labels = labels.to(device)\n",
    "\n",
    "    outputs, _, _ = model(inputs, record=True)\n",
    "    outputs_sum = outputs.sum(dim=1).detach().cpu().numpy()\n",
    "\n",
    "    print(\"Raw summed outputs before thresholding:\", outputs_sum[:10])\n",
    "    print(\"Labels:\", labels[:10].cpu().numpy())\n",
    "    break\n"
   ]
  },
  {
   "cell_type": "code",
   "execution_count": 9,
   "metadata": {},
   "outputs": [
    {
     "name": "stdout",
     "output_type": "stream",
     "text": [
      "Label distribution: Counter({0: 106, 1: 106})\n",
      "Range of summed outputs: min=-138.96678161621094, max=100.61782836914062\n"
     ]
    }
   ],
   "source": [
    "import collections\n",
    "\n",
    "# Store all summed outputs and their corresponding labels\n",
    "all_summed_outputs = []\n",
    "all_labels = []\n",
    "\n",
    "# Iterate over the entire test dataset\n",
    "for inputs, labels in test_loader:\n",
    "    inputs = inputs.permute(0, 2, 1).to(device)\n",
    "    labels = labels.to(device)\n",
    "\n",
    "    # Get model output (membrane potentials)\n",
    "    outputs, _, _ = model(inputs, record=True)\n",
    "\n",
    "    # Sum the outputs over the time dimension\n",
    "    outputs_sum = outputs.sum(dim=1).detach().cpu().numpy()\n",
    "\n",
    "    # Store the results\n",
    "    all_summed_outputs.extend(outputs_sum.flatten())\n",
    "    all_labels.extend(labels.cpu().numpy())\n",
    "\n",
    "# Convert to numpy arrays for easier analysis\n",
    "all_summed_outputs = np.array(all_summed_outputs)\n",
    "all_labels = np.array(all_labels)\n",
    "\n",
    "# Analyze the label distribution\n",
    "label_counts = collections.Counter(all_labels)\n",
    "print(f\"Label distribution: {label_counts}\")\n",
    "\n",
    "# Analyze the range of the summed outputs\n",
    "print(f\"Range of summed outputs: min={np.min(all_summed_outputs)}, max={np.max(all_summed_outputs)}\")\n"
   ]
  },
  {
   "cell_type": "code",
   "execution_count": 10,
   "metadata": {},
   "outputs": [
    {
     "data": {
      "image/png": "[encoded data removed]",
      "text/plain": [
       "<Figure size 1000x600 with 1 Axes>"
      ]
     },
     "metadata": {},
     "output_type": "display_data"
    }
   ],
   "source": [
    "import matplotlib.pyplot as plt\n",
    "\n",
    "# Separate summed outputs by label\n",
    "summed_outputs_0 = all_summed_outputs[all_labels == 0]\n",
    "summed_outputs_1 = all_summed_outputs[all_labels == 1]\n",
    "\n",
    "# Plot histograms of summed outputs for both classes\n",
    "plt.figure(figsize=(10, 6))\n",
    "plt.hist(summed_outputs_0, bins=30, alpha=0.6, label='Label 0 (Non-target)', color='blue')\n",
    "plt.hist(summed_outputs_1, bins=30, alpha=0.6, label='Label 1 (Target)', color='red')\n",
    "plt.xlabel('Summed Output')\n",
    "plt.ylabel('Frequency')\n",
    "plt.title('Histogram of Summed Outputs for Label 0 and Label 1')\n",
    "plt.legend(loc='upper right')\n",
    "plt.grid(True)\n",
    "plt.show()\n"
   ]
  },
  {
   "cell_type": "code",
   "execution_count": 11,
   "metadata": {},
   "outputs": [
    {
     "data": {
      "image/png": "[encoded data removed]",
      "text/plain": [
       "<Figure size 640x480 with 1 Axes>"
      ]
     },
     "metadata": {},
     "output_type": "display_data"
    },
    {
     "name": "stdout",
     "output_type": "stream",
     "text": [
      "AUC: 0.00\n"
     ]
    }
   ],
   "source": [
    "import numpy as np\n",
    "import matplotlib.pyplot as plt\n",
    "from sklearn.metrics import auc\n",
    "\n",
    "threshold_vals = np.arange(-100., 100., 5.0)\n",
    "\n",
    "# Function to plot the ROC curve and calculate AUC \n",
    "def plot_roc_curve(model, test_loader, threshold_vals):\n",
    "    TPRs = [] \n",
    "    FPRs = []  \n",
    "\n",
    "    model.output = 'spike'\n",
    "\n",
    "    for th in threshold_vals:\n",
    "        model.seq[-1].threshold = torch.tensor(th, dtype=torch.float32).to(device)\n",
    "        \n",
    "        true_positive = 0\n",
    "        false_positive = 0\n",
    "        true_negative = 0\n",
    "        false_negative = 0\n",
    "\n",
    "        for inputs, labels in test_loader:\n",
    "            inputs = inputs.permute(0, 2, 1).to(device)\n",
    "            labels = labels.to(device)\n",
    "\n",
    "            outputs, _, _ = model(inputs, record=True)\n",
    "            outputs_sum = outputs.sum(dim=1).detach().cpu().numpy()  \n",
    "\n",
    "            # Binary prediction based on summed spiking activity\n",
    "            predictions = (outputs_sum > 0).astype(int)\n",
    "            \n",
    "            true_positive += ((predictions == 1) & (labels.cpu().numpy() == 1)).sum()\n",
    "            false_positive += ((predictions == 1) & (labels.cpu().numpy() == 0)).sum()\n",
    "            true_negative += ((predictions == 0) & (labels.cpu().numpy() == 0)).sum()\n",
    "            false_negative += ((predictions == 0) & (labels.cpu().numpy() == 1)).sum()\n",
    "\n",
    "        # Calculate TPR and FPR for the current threshold\n",
    "        TPR = true_positive / (true_positive + false_negative) if (true_positive + false_negative) > 0 else 0.0\n",
    "        FPR = false_positive / (false_positive + true_negative) if (false_positive + true_negative) > 0 else 0.0\n",
    "        \n",
    "        TPRs.append(TPR)\n",
    "        FPRs.append(FPR)\n",
    "\n",
    "    auc_value = auc(FPRs, TPRs)\n",
    "\n",
    "    # Plot ROC Curve\n",
    "    plt.figure()\n",
    "    plt.plot(FPRs, TPRs, marker='.', label=f'AUC = {auc_value:.2f}')\n",
    "    plt.plot([0, 1], [0, 1], linestyle='--', color='gray')  \n",
    "    plt.xlabel('False Positive Rate')\n",
    "    plt.ylabel('True Positive Rate')\n",
    "    plt.title('ROC Curve')\n",
    "    plt.legend(loc='lower right')\n",
    "    plt.grid()\n",
    "    plt.show()\n",
    "\n",
    "    return TPRs, FPRs, auc_value\n",
    "\n",
    "# Compute and plot the ROC curve\n",
    "TPRs, FPRs, auc_value = plot_roc_curve(model, test_loader, threshold_vals)\n",
    "print(f\"AUC: {auc_value:.2f}\")"
   ]
  },
  {
   "cell_type": "code",
   "execution_count": 12,
   "metadata": {},
   "outputs": [
    {
     "name": "stdout",
     "output_type": "stream",
     "text": [
      "NaN detected in raw model outputs\n",
      "NaN detected in raw model outputs\n",
      "NaN detected in raw model outputs\n",
      "NaN detected in raw model outputs\n",
      "NaN detected in raw model outputs\n",
      "NaN detected in raw model outputs\n",
      "NaN detected in raw model outputs\n",
      "Number of NaNs in all_summed_outputs: 0\n"
     ]
    },
    {
     "data": {
      "image/png": "[encoded data removed]",
      "text/plain": [
       "<Figure size 1000x600 with 1 Axes>"
      ]
     },
     "metadata": {},
     "output_type": "display_data"
    }
   ],
   "source": [
    "import numpy as np\n",
    "import matplotlib.pyplot as plt\n",
    "\n",
    "all_summed_outputs = []\n",
    "all_labels = []\n",
    "\n",
    "for inputs, labels in test_loader:\n",
    "    inputs = inputs.permute(0, 2, 1).to(device)\n",
    "    labels = labels.to(device)\n",
    "\n",
    "    outputs, _, _ = model(inputs, record=True)\n",
    "\n",
    "    # Check for NaNs in the outputs before summing\n",
    "    if torch.isnan(outputs).any():\n",
    "        print(\"NaN detected in raw model outputs\")\n",
    "        continue\n",
    "\n",
    "    # Sum the outputs over the time dimension\n",
    "    outputs_sum = outputs.sum(dim=1).detach().cpu().numpy()\n",
    "\n",
    "    # Check for NaNs after summing\n",
    "    if np.isnan(outputs_sum).any():\n",
    "        print(\"NaN detected in summed outputs\")\n",
    "        continue\n",
    "\n",
    "    all_summed_outputs.extend(outputs_sum.flatten())\n",
    "    all_labels.extend(labels.cpu().numpy())\n",
    "\n",
    "# Convert to numpy arrays \n",
    "all_summed_outputs = np.array(all_summed_outputs)\n",
    "all_labels = np.array(all_labels)\n",
    "\n",
    "# Check for NaNs\n",
    "nan_count = np.isnan(all_summed_outputs).sum()\n",
    "print(f\"Number of NaNs in all_summed_outputs: {nan_count}\")\n",
    "\n",
    "# Filter Nans\n",
    "all_summed_outputs = all_summed_outputs[~np.isnan(all_summed_outputs)]\n",
    "all_labels = all_labels[~np.isnan(all_summed_outputs)]\n",
    "\n",
    "summed_outputs_0 = all_summed_outputs[all_labels == 0]\n",
    "summed_outputs_1 = all_summed_outputs[all_labels == 1]\n",
    "\n",
    "# Plot histograms of summed outputs for both classes\n",
    "plt.figure(figsize=(10, 6))\n",
    "plt.hist(summed_outputs_0, bins=30, alpha=0.6, label='Label 0 (Non-target)', color='blue')\n",
    "plt.hist(summed_outputs_1, bins=30, alpha=0.6, label='Label 1 (Target)', color='red')\n",
    "plt.xlabel('Summed Output')\n",
    "plt.ylabel('Frequency')\n",
    "plt.title('Histogram of Summed Outputs for Label 0 and Label 1')\n",
    "plt.legend(loc='upper right')\n",
    "plt.grid(True)\n",
    "plt.show()\n"
   ]
  },
  {
   "cell_type": "code",
   "execution_count": 13,
   "metadata": {},
   "outputs": [
    {
     "name": "stdout",
     "output_type": "stream",
     "text": [
      "Sample membrane potentials: [array([0., 0., 0., 0., 0., 0., 0., 0., 0., 0., 0., 0., 0., 0., 0., 0., 0.,\n",
      "       0., 0., 0., 0., 0., 0., 0., 0., 0., 0., 0., 0., 0., 0., 0., 0., 0.,\n",
      "       0., 0., 0., 0., 0., 0., 0., 0., 0., 0., 0., 0., 0., 0.],\n",
      "      dtype=float32), array([0., 0., 0., 0., 0., 0., 0., 0., 0., 0., 0., 0., 0., 0., 0., 0., 0.,\n",
      "       0., 0., 0., 0., 0., 0., 0.], dtype=float32)]\n",
      "Sample spike outputs: [array([0., 0., 0., 0., 0., 0., 0., 0., 0., 0., 0., 0., 0., 0., 0., 0., 0.,\n",
      "       0., 0., 0., 0., 0., 0., 0., 0., 0., 0., 0., 0., 0., 0., 0., 0., 0.,\n",
      "       0., 0., 0., 0., 0., 0., 0., 0., 0., 0., 0., 0., 0., 0.],\n",
      "      dtype=float32), array([0., 0., 0., 0., 0., 0., 0., 0., 0., 0., 0., 0., 0., 0., 0., 0., 0.,\n",
      "       0., 0., 0., 0., 0., 0., 0.], dtype=float32)]\n",
      "Sample synaptic currents: [array([[0.],\n",
      "       [0.],\n",
      "       [0.],\n",
      "       [0.],\n",
      "       [0.],\n",
      "       [0.],\n",
      "       [0.],\n",
      "       [0.],\n",
      "       [0.],\n",
      "       [0.],\n",
      "       [0.],\n",
      "       [0.],\n",
      "       [0.],\n",
      "       [0.],\n",
      "       [0.],\n",
      "       [0.],\n",
      "       [0.],\n",
      "       [0.],\n",
      "       [0.],\n",
      "       [0.],\n",
      "       [0.],\n",
      "       [0.],\n",
      "       [0.],\n",
      "       [0.],\n",
      "       [0.],\n",
      "       [0.],\n",
      "       [0.],\n",
      "       [0.],\n",
      "       [0.],\n",
      "       [0.],\n",
      "       [0.],\n",
      "       [0.],\n",
      "       [0.],\n",
      "       [0.],\n",
      "       [0.],\n",
      "       [0.],\n",
      "       [0.],\n",
      "       [0.],\n",
      "       [0.],\n",
      "       [0.],\n",
      "       [0.],\n",
      "       [0.],\n",
      "       [0.],\n",
      "       [0.],\n",
      "       [0.],\n",
      "       [0.],\n",
      "       [0.],\n",
      "       [0.]], dtype=float32), array([[0.],\n",
      "       [0.],\n",
      "       [0.],\n",
      "       [0.],\n",
      "       [0.],\n",
      "       [0.],\n",
      "       [0.],\n",
      "       [0.],\n",
      "       [0.],\n",
      "       [0.],\n",
      "       [0.],\n",
      "       [0.],\n",
      "       [0.],\n",
      "       [0.],\n",
      "       [0.],\n",
      "       [0.],\n",
      "       [0.],\n",
      "       [0.],\n",
      "       [0.],\n",
      "       [0.],\n",
      "       [0.],\n",
      "       [0.],\n",
      "       [0.],\n",
      "       [0.]], dtype=float32)]\n"
     ]
    }
   ],
   "source": [
    "import pickle\n",
    "import numpy as np\n",
    "\n",
    "with open('drawn_wood_results/drawn-wood-42-1.pkl', 'rb') as f:\n",
    "    model_data = pickle.load(f)\n",
    "\n",
    "membrane_potentials = model_data['membrane_potentials']\n",
    "spike_outputs = model_data['spike_outputs']\n",
    "synaptic_currents = model_data['synaptic_currents']\n",
    "\n",
    "def check_for_nans(data_list, name):\n",
    "    for i, data in enumerate(data_list):\n",
    "        if np.isnan(data).any():\n",
    "            print(f\"NaN detected in {name} at index {i}\")\n",
    "            break\n",
    "\n",
    "# Check each stored variable for NaNs\n",
    "check_for_nans(membrane_potentials, 'membrane_potentials')\n",
    "check_for_nans(spike_outputs, 'spike_outputs')\n",
    "check_for_nans(synaptic_currents, 'synaptic_currents')\n",
    "\n",
    "print(f\"Sample membrane potentials: {membrane_potentials[:2]}\")\n",
    "print(f\"Sample spike outputs: {spike_outputs[:2]}\")\n",
    "print(f\"Sample synaptic currents: {synaptic_currents[:2]}\")\n"
   ]
  }
 ],
 "metadata": {
  "kernelspec": {
   "display_name": "capstone_gpu",
   "language": "python",
   "name": "python3"
  },
  "language_info": {
   "codemirror_mode": {
    "name": "ipython",
    "version": 3
   },
   "file_extension": ".py",
   "mimetype": "text/x-python",
   "name": "python",
   "nbconvert_exporter": "python",
   "pygments_lexer": "ipython3",
   "version": "3.8.19"
  }
 },
 "nbformat": 4,
 "nbformat_minor": 2
}
