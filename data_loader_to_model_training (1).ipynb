{
 "cells": [
  {
   "cell_type": "code",
   "execution_count": 1,
   "metadata": {},
   "outputs": [
    {
     "name": "stdout",
     "output_type": "stream",
     "text": [
      "Original Labels distribution: tensor([1294,   95, 1046,   53,   40])\n"
     ]
    }
   ],
   "source": [
    "import warnings\n",
    "import torch\n",
    "import numpy as np\n",
    "\n",
    "warnings.filterwarnings(\"ignore\", category=FutureWarning)\n",
    "\n",
    "device = torch.device(\"cuda\" if torch.cuda.is_available() else \"cpu\")\n",
    "\n",
    "# Load tensor\n",
    "spikes_tensor = torch.load(\"C:/Users/dines/Capstone Project/tensors/spike_data_tensor.pt\" ,map_location=device)\n",
    "labels_tensor = torch.load(\"C:/Users/dines/Capstone Project/tensors/labels_tensor.pt\", map_location=device)\n",
    "\n",
    "label_distribution = torch.bincount(labels_tensor)\n",
    "print(f'Original Labels distribution: {label_distribution}')\n",
    "\n",
    "spikes_tensor = spikes_tensor.to(device)\n",
    "labels_tensor = labels_tensor.to(device)"
   ]
  },
  {
   "cell_type": "code",
   "execution_count": 3,
   "metadata": {},
   "outputs": [],
   "source": [
    "from torch.utils.data import Dataset, DataLoader, Subset, random_split\n",
    "import tonic\n",
    "\n",
    "class CCMKDataset(Dataset):\n",
    "    def __init__(self, spikes_tensor, labels_tensor, nchannels=None, target_label=2, seed=None, device=None):\n",
    "        # Random seed for reproducibility\n",
    "        if seed is not None:\n",
    "            np.random.seed(seed)\n",
    "            torch.manual_seed(seed)\n",
    "        \n",
    "        # Move tensors to the specified device\n",
    "        self.device = device if device else torch.device('cuda' if torch.cuda.is_available() else 'cpu')\n",
    "        self.spikes_tensor = spikes_tensor.to(device)\n",
    "        self.labels_tensor = labels_tensor.to(device)\n",
    "\n",
    "        if nchannels is not None:\n",
    "            self.spikes_tensor = self.spikes_tensor[:, nchannels, :]\n",
    "        \n",
    "        # Ignore labels 1, 3, and 4\n",
    "        valid_mask = (self.labels_tensor == 0) | (self.labels_tensor == target_label)\n",
    "        self.spikes_tensor = self.spikes_tensor[valid_mask]\n",
    "        self.labels_tensor = self.labels_tensor[valid_mask]\n",
    "        \n",
    "        # Convert the target label (2) to 1\n",
    "        self.labels_tensor[self.labels_tensor == target_label] = 1\n",
    "        \n",
    "        # Downsampling: Match the number of label 0 samples to the number of label 1 samples\n",
    "        label_0_indices = torch.where(self.labels_tensor == 0)[0]\n",
    "        label_1_indices = torch.where(self.labels_tensor == 1)[0]\n",
    "        num_samples = min(len(label_1_indices), len(label_0_indices))\n",
    "\n",
    "        # Randomly sample from label 0 and label 1 indices\n",
    "        #CPU\n",
    "        # selected_label_0_indices = torch.tensor(np.random.choice(label_0_indices.cpu(), size=num_samples, replace=False), device=self.device)\n",
    "        # selected_label_1_indices = torch.tensor(np.random.choice(label_1_indices.cpu(), size=num_samples, replace=False), device=self.device)\n",
    "\n",
    "        # GPU\n",
    "        selected_label_0_indices = label_0_indices[torch.randperm(len(label_0_indices))[:num_samples]].to(self.device)\n",
    "        selected_label_1_indices = label_1_indices[torch.randperm(len(label_1_indices))[:num_samples]].to(self.device)\n",
    "\n",
    "\n",
    "        # Combine the downsampled label 0 indices with label 1 indices\n",
    "        balanced_indices = torch.cat([selected_label_0_indices, selected_label_1_indices])\n",
    "\n",
    "        # Apply the balanced indices to spikes and labels\n",
    "        self.spikes_tensor = self.spikes_tensor[balanced_indices]\n",
    "        self.labels_tensor = self.labels_tensor[balanced_indices]\n",
    "\n",
    "        # Debugging: Check the distribution of labels after processing\n",
    "        print(f\"Filtered Labels distribution after processing: {torch.bincount(self.labels_tensor.int().cpu())}\")\n",
    "\n",
    "    def __len__(self):\n",
    "        return len(self.labels_tensor)\n",
    "    \n",
    "    def __getitem__(self, idx):\n",
    "        spike_data = self.spikes_tensor[idx]\n",
    "        label = self.labels_tensor[idx]\n",
    "        return spike_data, label"
   ]
  },
  {
   "cell_type": "markdown",
   "metadata": {},
   "source": [
    "### Dataset and DataLoader Configuration"
   ]
  },
  {
   "cell_type": "code",
   "execution_count": 4,
   "metadata": {},
   "outputs": [
    {
     "name": "stdout",
     "output_type": "stream",
     "text": [
      "Filtered Labels distribution after processing: tensor([1046, 1046])\n"
     ]
    }
   ],
   "source": [
    "dataset = CCMKDataset(spikes_tensor, labels_tensor, nchannels=list(range(16)), seed=42)\n",
    "\n",
    "# Balance the dataset by selecting equal samples from both classes\n",
    "label_0_indices = torch.where(dataset.labels_tensor == 0)[0]\n",
    "label_1_indices = torch.where(dataset.labels_tensor == 1)[0]\n",
    "\n",
    "dataset_0 = torch.utils.data.Subset(dataset, label_0_indices)\n",
    "dataset_1 = torch.utils.data.Subset(dataset, label_1_indices)\n",
    "\n",
    "# Split size\n",
    "train_size_0 = int(0.8 * len(dataset_0))\n",
    "val_size_0 = int(0.1 * len(dataset_0))\n",
    "test_size_0 = len(dataset_0) - train_size_0 - val_size_0\n",
    "\n",
    "train_size_1 = int(0.8 * len(dataset_1))\n",
    "val_size_1 = int(0.1 * len(dataset_1))\n",
    "test_size_1 = len(dataset_1) - train_size_1 - val_size_1\n",
    "\n",
    "# Split the dataset\n",
    "train_dataset_0, val_dataset_0, test_dataset_0 = random_split(dataset_0, [train_size_0, val_size_0, test_size_0], generator=torch.Generator().manual_seed(42))\n",
    "train_dataset_1, val_dataset_1, test_dataset_1 = random_split(dataset_1, [train_size_1, val_size_1, test_size_1], generator=torch.Generator().manual_seed(42))\n",
    "\n",
    "# Combine splits from both classes\n",
    "train_dataset = torch.utils.data.ConcatDataset([train_dataset_0, train_dataset_1])\n",
    "val_dataset = torch.utils.data.ConcatDataset([val_dataset_0, val_dataset_1])\n",
    "test_dataset = torch.utils.data.ConcatDataset([test_dataset_0, test_dataset_1])\n",
    "\n",
    "# Create DataLoaders\n",
    "train_loader = DataLoader(train_dataset, batch_size=32, shuffle=True)\n",
    "val_loader = DataLoader(val_dataset, batch_size=32, shuffle=False)\n",
    "test_loader = DataLoader(test_dataset, batch_size=32, shuffle=False)\n"
   ]
  },
  {
   "cell_type": "code",
   "execution_count": 5,
   "metadata": {},
   "outputs": [
    {
     "name": "stdout",
     "output_type": "stream",
     "text": [
      "Dataset length: 2092\n",
      "Shape of the first spikes tensor: torch.Size([16, 101])\n",
      "Label of the first sample: 0\n",
      "Batch 1:\n",
      " - Inputs shape: torch.Size([32, 16, 101])\n",
      " - Targets shape: torch.Size([32])\n",
      "Labels distribution: tensor([836, 836])\n"
     ]
    }
   ],
   "source": [
    "# Adapted from Esther's snn.ipynb notebook\n",
    "\n",
    "# Check the length of the dataset\n",
    "print(f\"Dataset length: {len(dataset)}\")\n",
    "\n",
    "# Get and print the shape of the first sample in the dataset\n",
    "first_spikes, first_label = dataset[0]\n",
    "print(f\"Shape of the first spikes tensor: {first_spikes.shape}\")\n",
    "print(f\"Label of the first sample: {first_label}\")\n",
    "\n",
    "# Check batch information in the dataloader\n",
    "for batch_idx, (inputs, targets) in enumerate(train_loader):\n",
    "    print(f\"Batch {batch_idx + 1}:\")\n",
    "    print(f\" - Inputs shape: {inputs.shape}\")  # Batch size x Number of channels x Number of time steps\n",
    "    print(f\" - Targets shape: {targets.shape}\")\n",
    "    break  # Only view the first batch\n",
    "\n",
    "# Get the distribution of labels\n",
    "labels = torch.cat([batch[1] for batch in train_loader])\n",
    "print(f'Labels distribution: {torch.bincount(labels.int())}')"
   ]
  },
  {
   "cell_type": "code",
   "execution_count": 6,
   "metadata": {},
   "outputs": [
    {
     "name": "stdout",
     "output_type": "stream",
     "text": [
      "Loader: Train Loader, Batch 1:\n",
      " - Inputs shape: torch.Size([32, 16, 101])\n",
      " - Labels shape: torch.Size([32])\n",
      "Loader: Validation Loader, Batch 1:\n",
      " - Inputs shape: torch.Size([32, 16, 101])\n",
      " - Labels shape: torch.Size([32])\n",
      "Loader: Test Loader, Batch 1:\n",
      " - Inputs shape: torch.Size([32, 16, 101])\n",
      " - Labels shape: torch.Size([32])\n"
     ]
    }
   ],
   "source": [
    "# Check the shape of tensors in a DataLoader\n",
    "def check_dataloader_shapes(dataloader, loader_name=\"\"):\n",
    "    for batch_idx, (inputs, labels) in enumerate(dataloader):\n",
    "        print(f\"Loader: {loader_name}, Batch {batch_idx + 1}:\")\n",
    "        print(f\" - Inputs shape: {inputs.shape}\")  \n",
    "        print(f\" - Labels shape: {labels.shape}\")  \n",
    "        break \n",
    "\n",
    "check_dataloader_shapes(train_loader, \"Train Loader\")\n",
    "check_dataloader_shapes(val_loader, \"Validation Loader\")\n",
    "check_dataloader_shapes(test_loader, \"Test Loader\")\n"
   ]
  },
  {
   "cell_type": "markdown",
   "metadata": {},
   "source": [
    "### Network Initialization"
   ]
  },
  {
   "cell_type": "code",
   "execution_count": 7,
   "metadata": {},
   "outputs": [
    {
     "name": "stderr",
     "output_type": "stream",
     "text": [
      "c:\\Users\\dines\\miniconda3\\envs\\capstone\\lib\\site-packages\\rockpool\\nn\\networks\\__init__.py:15: UserWarning: This module needs to be ported to teh v2 API.\n",
      "  warnings.warn(f\"{err}\")\n",
      "c:\\Users\\dines\\miniconda3\\envs\\capstone\\lib\\site-packages\\rockpool\\nn\\networks\\__init__.py:20: UserWarning: This module needs to be ported to the v2 API.\n",
      "  warnings.warn(f\"{err}\")\n"
     ]
    },
    {
     "name": "stdout",
     "output_type": "stream",
     "text": [
      "SynNet  with shape (16, 1) {\n",
      "    TorchSequential 'seq' with shape (16, 1) {\n",
      "        LinearTorch '0_LinearTorch' with shape (16, 24)\n",
      "        LIFTorch '1_LIFTorch' with shape (24, 24)\n",
      "        TimeStepDropout '2_TimeStepDropout' with shape (24,)\n",
      "        LinearTorch '3_LinearTorch' with shape (24, 24)\n",
      "        LIFTorch '4_LIFTorch' with shape (24, 24)\n",
      "        TimeStepDropout '5_TimeStepDropout' with shape (24,)\n",
      "        LinearTorch '6_LinearTorch' with shape (24, 24)\n",
      "        LIFTorch '7_LIFTorch' with shape (24, 24)\n",
      "        TimeStepDropout '8_TimeStepDropout' with shape (24,)\n",
      "        LinearTorch '9_LinearTorch' with shape (24, 1)\n",
      "        LIFTorch '10_LIFTorch' with shape (1, 1)\n",
      "    }\n",
      "}\n"
     ]
    }
   ],
   "source": [
    "from rockpool.nn.networks import SynNet\n",
    "from rockpool.nn.modules import LIFTorch as LIFOtherSpiking\n",
    "\n",
    "n_channels = 16  # Number of input channels\n",
    "n_classes = 1    # Number of output classes (assuming a binary classification task)\n",
    "n_time = 101     # Number of time steps\n",
    "batch_size = 32  # Batch size\n",
    "\n",
    "net = SynNet(\n",
    "    #p_dropout = 0.1,\n",
    "    n_channels=n_channels,                        \n",
    "    n_classes=n_classes,                           \n",
    "    size_hidden_layers=[24, 24, 24],        \n",
    "    time_constants_per_layer=[2, 4, 8]\n",
    ")\n",
    "\n",
    "print(net)"
   ]
  },
  {
   "cell_type": "markdown",
   "metadata": {},
   "source": [
    "### Train & Validation"
   ]
  },
  {
   "cell_type": "code",
   "execution_count": 8,
   "metadata": {},
   "outputs": [
    {
     "name": "stderr",
     "output_type": "stream",
     "text": [
      "  2%|▏         | 1/50 [00:24<20:03, 24.57s/it]"
     ]
    },
    {
     "name": "stdout",
     "output_type": "stream",
     "text": [
      "Epoch 1/50, Training Loss: 69.9752358490566, Validation Loss: 52.419642857142854\n"
     ]
    },
    {
     "name": "stderr",
     "output_type": "stream",
     "text": [
      "  4%|▍         | 2/50 [00:47<18:40, 23.35s/it]"
     ]
    },
    {
     "name": "stdout",
     "output_type": "stream",
     "text": [
      "Epoch 2/50, Training Loss: 47.09492924528302, Validation Loss: 47.64732142857143\n"
     ]
    },
    {
     "name": "stderr",
     "output_type": "stream",
     "text": [
      "  6%|▌         | 3/50 [01:09<17:59, 22.97s/it]"
     ]
    },
    {
     "name": "stdout",
     "output_type": "stream",
     "text": [
      "Epoch 3/50, Training Loss: 43.6373820754717, Validation Loss: 38.825892857142854\n"
     ]
    },
    {
     "name": "stderr",
     "output_type": "stream",
     "text": [
      "  8%|▊         | 4/50 [01:32<17:34, 22.92s/it]"
     ]
    },
    {
     "name": "stdout",
     "output_type": "stream",
     "text": [
      "Epoch 4/50, Training Loss: 40.66155660377358, Validation Loss: 43.973214285714285\n"
     ]
    },
    {
     "name": "stderr",
     "output_type": "stream",
     "text": [
      " 10%|█         | 5/50 [01:55<17:12, 22.95s/it]"
     ]
    },
    {
     "name": "stdout",
     "output_type": "stream",
     "text": [
      "Epoch 5/50, Training Loss: 38.71108490566038, Validation Loss: 39.55357142857143\n"
     ]
    },
    {
     "name": "stderr",
     "output_type": "stream",
     "text": [
      " 12%|█▏        | 6/50 [02:18<16:45, 22.85s/it]"
     ]
    },
    {
     "name": "stdout",
     "output_type": "stream",
     "text": [
      "Epoch 6/50, Training Loss: 36.216981132075475, Validation Loss: 34.92857142857143\n"
     ]
    },
    {
     "name": "stderr",
     "output_type": "stream",
     "text": [
      " 14%|█▍        | 7/50 [02:40<16:20, 22.80s/it]"
     ]
    },
    {
     "name": "stdout",
     "output_type": "stream",
     "text": [
      "Epoch 7/50, Training Loss: 35.981721698113205, Validation Loss: 43.629464285714285\n"
     ]
    },
    {
     "name": "stderr",
     "output_type": "stream",
     "text": [
      " 16%|█▌        | 8/50 [03:03<15:54, 22.71s/it]"
     ]
    },
    {
     "name": "stdout",
     "output_type": "stream",
     "text": [
      "Epoch 8/50, Training Loss: 36.769457547169814, Validation Loss: 39.526785714285715\n"
     ]
    },
    {
     "name": "stderr",
     "output_type": "stream",
     "text": [
      " 18%|█▊        | 9/50 [03:25<15:30, 22.69s/it]"
     ]
    },
    {
     "name": "stdout",
     "output_type": "stream",
     "text": [
      "Epoch 9/50, Training Loss: 33.956957547169814, Validation Loss: 37.33482142857143\n"
     ]
    },
    {
     "name": "stderr",
     "output_type": "stream",
     "text": [
      " 20%|██        | 10/50 [03:48<15:07, 22.70s/it]"
     ]
    },
    {
     "name": "stdout",
     "output_type": "stream",
     "text": [
      "Epoch 10/50, Training Loss: 34.747051886792455, Validation Loss: 36.29017857142857\n"
     ]
    },
    {
     "name": "stderr",
     "output_type": "stream",
     "text": [
      " 22%|██▏       | 11/50 [04:11<14:43, 22.66s/it]"
     ]
    },
    {
     "name": "stdout",
     "output_type": "stream",
     "text": [
      "Epoch 11/50, Training Loss: 32.46639150943396, Validation Loss: 70.49553571428571\n"
     ]
    },
    {
     "name": "stderr",
     "output_type": "stream",
     "text": [
      " 24%|██▍       | 12/50 [04:33<14:19, 22.61s/it]"
     ]
    },
    {
     "name": "stdout",
     "output_type": "stream",
     "text": [
      "Epoch 12/50, Training Loss: 32.94870283018868, Validation Loss: 37.66517857142857\n"
     ]
    },
    {
     "name": "stderr",
     "output_type": "stream",
     "text": [
      " 26%|██▌       | 13/50 [04:56<13:58, 22.67s/it]"
     ]
    },
    {
     "name": "stdout",
     "output_type": "stream",
     "text": [
      "Epoch 13/50, Training Loss: 32.32016509433962, Validation Loss: 34.10267857142857\n"
     ]
    },
    {
     "name": "stderr",
     "output_type": "stream",
     "text": [
      " 28%|██▊       | 14/50 [05:18<13:33, 22.60s/it]"
     ]
    },
    {
     "name": "stdout",
     "output_type": "stream",
     "text": [
      "Epoch 14/50, Training Loss: 30.141509433962263, Validation Loss: 30.022321428571427\n"
     ]
    },
    {
     "name": "stderr",
     "output_type": "stream",
     "text": [
      " 30%|███       | 15/50 [05:41<13:10, 22.57s/it]"
     ]
    },
    {
     "name": "stdout",
     "output_type": "stream",
     "text": [
      "Epoch 15/50, Training Loss: 28.8313679245283, Validation Loss: 56.575892857142854\n"
     ]
    },
    {
     "name": "stderr",
     "output_type": "stream",
     "text": [
      " 32%|███▏      | 16/50 [06:04<12:53, 22.75s/it]"
     ]
    },
    {
     "name": "stdout",
     "output_type": "stream",
     "text": [
      "Epoch 16/50, Training Loss: 30.14563679245283, Validation Loss: 36.776785714285715\n"
     ]
    },
    {
     "name": "stderr",
     "output_type": "stream",
     "text": [
      " 34%|███▍      | 17/50 [06:27<12:30, 22.73s/it]"
     ]
    },
    {
     "name": "stdout",
     "output_type": "stream",
     "text": [
      "Epoch 17/50, Training Loss: 28.80483490566038, Validation Loss: 31.558035714285715\n"
     ]
    },
    {
     "name": "stderr",
     "output_type": "stream",
     "text": [
      " 36%|███▌      | 18/50 [06:49<12:04, 22.63s/it]"
     ]
    },
    {
     "name": "stdout",
     "output_type": "stream",
     "text": [
      "Epoch 18/50, Training Loss: 27.73820754716981, Validation Loss: 30.888392857142858\n"
     ]
    },
    {
     "name": "stderr",
     "output_type": "stream",
     "text": [
      " 38%|███▊      | 19/50 [07:12<11:41, 22.62s/it]"
     ]
    },
    {
     "name": "stdout",
     "output_type": "stream",
     "text": [
      "Epoch 19/50, Training Loss: 25.923349056603772, Validation Loss: 48.357142857142854\n"
     ]
    },
    {
     "name": "stderr",
     "output_type": "stream",
     "text": [
      " 40%|████      | 20/50 [07:35<11:19, 22.64s/it]"
     ]
    },
    {
     "name": "stdout",
     "output_type": "stream",
     "text": [
      "Epoch 20/50, Training Loss: 31.31426886792453, Validation Loss: 40.174107142857146\n"
     ]
    },
    {
     "name": "stderr",
     "output_type": "stream",
     "text": [
      " 42%|████▏     | 21/50 [07:57<10:52, 22.51s/it]"
     ]
    },
    {
     "name": "stdout",
     "output_type": "stream",
     "text": [
      "Epoch 21/50, Training Loss: 31.671580188679247, Validation Loss: 31.308035714285715\n"
     ]
    },
    {
     "name": "stderr",
     "output_type": "stream",
     "text": [
      " 44%|████▍     | 22/50 [08:19<10:28, 22.44s/it]"
     ]
    },
    {
     "name": "stdout",
     "output_type": "stream",
     "text": [
      "Epoch 22/50, Training Loss: 28.912735849056602, Validation Loss: 30.549107142857142\n"
     ]
    },
    {
     "name": "stderr",
     "output_type": "stream",
     "text": [
      " 46%|████▌     | 23/50 [08:41<10:03, 22.37s/it]"
     ]
    },
    {
     "name": "stdout",
     "output_type": "stream",
     "text": [
      "Epoch 23/50, Training Loss: 27.53301886792453, Validation Loss: 29.410714285714285\n"
     ]
    },
    {
     "name": "stderr",
     "output_type": "stream",
     "text": [
      " 48%|████▊     | 24/50 [09:04<09:47, 22.59s/it]"
     ]
    },
    {
     "name": "stdout",
     "output_type": "stream",
     "text": [
      "Epoch 24/50, Training Loss: 28.96933962264151, Validation Loss: 31.535714285714285\n"
     ]
    },
    {
     "name": "stderr",
     "output_type": "stream",
     "text": [
      " 50%|█████     | 25/50 [09:28<09:30, 22.82s/it]"
     ]
    },
    {
     "name": "stdout",
     "output_type": "stream",
     "text": [
      "Epoch 25/50, Training Loss: 26.90448113207547, Validation Loss: 28.459821428571427\n"
     ]
    },
    {
     "name": "stderr",
     "output_type": "stream",
     "text": [
      " 52%|█████▏    | 26/50 [09:50<09:04, 22.70s/it]"
     ]
    },
    {
     "name": "stdout",
     "output_type": "stream",
     "text": [
      "Epoch 26/50, Training Loss: 25.04245283018868, Validation Loss: 27.0625\n"
     ]
    },
    {
     "name": "stderr",
     "output_type": "stream",
     "text": [
      " 54%|█████▍    | 27/50 [10:12<08:39, 22.59s/it]"
     ]
    },
    {
     "name": "stdout",
     "output_type": "stream",
     "text": [
      "Epoch 27/50, Training Loss: 25.33490566037736, Validation Loss: 33.11607142857143\n"
     ]
    },
    {
     "name": "stderr",
     "output_type": "stream",
     "text": [
      " 56%|█████▌    | 28/50 [10:35<08:14, 22.47s/it]"
     ]
    },
    {
     "name": "stdout",
     "output_type": "stream",
     "text": [
      "Epoch 28/50, Training Loss: 26.349056603773583, Validation Loss: 27.46875\n"
     ]
    },
    {
     "name": "stderr",
     "output_type": "stream",
     "text": [
      " 58%|█████▊    | 29/50 [10:57<07:50, 22.38s/it]"
     ]
    },
    {
     "name": "stdout",
     "output_type": "stream",
     "text": [
      "Epoch 29/50, Training Loss: 24.474646226415093, Validation Loss: 31.790178571428573\n"
     ]
    },
    {
     "name": "stderr",
     "output_type": "stream",
     "text": [
      " 60%|██████    | 30/50 [11:19<07:27, 22.35s/it]"
     ]
    },
    {
     "name": "stdout",
     "output_type": "stream",
     "text": [
      "Epoch 30/50, Training Loss: 24.60554245283019, Validation Loss: 47.09375\n"
     ]
    },
    {
     "name": "stderr",
     "output_type": "stream",
     "text": [
      " 62%|██████▏   | 31/50 [11:41<07:03, 22.31s/it]"
     ]
    },
    {
     "name": "stdout",
     "output_type": "stream",
     "text": [
      "Epoch 31/50, Training Loss: 23.714622641509433, Validation Loss: 25.508928571428573\n"
     ]
    },
    {
     "name": "stderr",
     "output_type": "stream",
     "text": [
      " 64%|██████▍   | 32/50 [12:04<06:41, 22.31s/it]"
     ]
    },
    {
     "name": "stdout",
     "output_type": "stream",
     "text": [
      "Epoch 32/50, Training Loss: 24.598466981132077, Validation Loss: 26.191964285714285\n"
     ]
    },
    {
     "name": "stderr",
     "output_type": "stream",
     "text": [
      " 66%|██████▌   | 33/50 [12:26<06:18, 22.25s/it]"
     ]
    },
    {
     "name": "stdout",
     "output_type": "stream",
     "text": [
      "Epoch 33/50, Training Loss: 24.90683962264151, Validation Loss: 24.308035714285715\n"
     ]
    },
    {
     "name": "stderr",
     "output_type": "stream",
     "text": [
      " 68%|██████▊   | 34/50 [12:48<05:55, 22.25s/it]"
     ]
    },
    {
     "name": "stdout",
     "output_type": "stream",
     "text": [
      "Epoch 34/50, Training Loss: 21.80188679245283, Validation Loss: 29.482142857142858\n"
     ]
    },
    {
     "name": "stderr",
     "output_type": "stream",
     "text": [
      " 70%|███████   | 35/50 [13:10<05:33, 22.21s/it]"
     ]
    },
    {
     "name": "stdout",
     "output_type": "stream",
     "text": [
      "Epoch 35/50, Training Loss: 21.85672169811321, Validation Loss: 22.991071428571427\n"
     ]
    },
    {
     "name": "stderr",
     "output_type": "stream",
     "text": [
      " 72%|███████▏  | 36/50 [13:32<05:11, 22.26s/it]"
     ]
    },
    {
     "name": "stdout",
     "output_type": "stream",
     "text": [
      "Epoch 36/50, Training Loss: 21.742924528301888, Validation Loss: 22.375\n"
     ]
    },
    {
     "name": "stderr",
     "output_type": "stream",
     "text": [
      " 74%|███████▍  | 37/50 [13:55<04:48, 22.22s/it]"
     ]
    },
    {
     "name": "stdout",
     "output_type": "stream",
     "text": [
      "Epoch 37/50, Training Loss: 19.9498820754717, Validation Loss: 23.026785714285715\n"
     ]
    },
    {
     "name": "stderr",
     "output_type": "stream",
     "text": [
      " 76%|███████▌  | 38/50 [14:17<04:26, 22.22s/it]"
     ]
    },
    {
     "name": "stdout",
     "output_type": "stream",
     "text": [
      "Epoch 38/50, Training Loss: 21.70047169811321, Validation Loss: 29.446428571428573\n"
     ]
    },
    {
     "name": "stderr",
     "output_type": "stream",
     "text": [
      " 78%|███████▊  | 39/50 [14:39<04:05, 22.30s/it]"
     ]
    },
    {
     "name": "stdout",
     "output_type": "stream",
     "text": [
      "Epoch 39/50, Training Loss: 21.6686320754717, Validation Loss: 85.48214285714286\n"
     ]
    },
    {
     "name": "stderr",
     "output_type": "stream",
     "text": [
      " 80%|████████  | 40/50 [15:02<03:42, 22.29s/it]"
     ]
    },
    {
     "name": "stdout",
     "output_type": "stream",
     "text": [
      "Epoch 40/50, Training Loss: 22.743514150943398, Validation Loss: 26.348214285714285\n"
     ]
    },
    {
     "name": "stderr",
     "output_type": "stream",
     "text": [
      " 82%|████████▏ | 41/50 [15:23<03:19, 22.16s/it]"
     ]
    },
    {
     "name": "stdout",
     "output_type": "stream",
     "text": [
      "Epoch 41/50, Training Loss: 26.85259433962264, Validation Loss: 22.674107142857142\n"
     ]
    },
    {
     "name": "stderr",
     "output_type": "stream",
     "text": [
      " 84%|████████▍ | 42/50 [15:46<02:57, 22.16s/it]"
     ]
    },
    {
     "name": "stdout",
     "output_type": "stream",
     "text": [
      "Epoch 42/50, Training Loss: 20.98172169811321, Validation Loss: 21.65625\n"
     ]
    },
    {
     "name": "stderr",
     "output_type": "stream",
     "text": [
      " 86%|████████▌ | 43/50 [16:07<02:34, 22.07s/it]"
     ]
    },
    {
     "name": "stdout",
     "output_type": "stream",
     "text": [
      "Epoch 43/50, Training Loss: 22.369693396226417, Validation Loss: 26.160714285714285\n"
     ]
    },
    {
     "name": "stderr",
     "output_type": "stream",
     "text": [
      " 88%|████████▊ | 44/50 [16:29<02:12, 22.03s/it]"
     ]
    },
    {
     "name": "stdout",
     "output_type": "stream",
     "text": [
      "Epoch 44/50, Training Loss: 20.34198113207547, Validation Loss: 21.669642857142858\n"
     ]
    },
    {
     "name": "stderr",
     "output_type": "stream",
     "text": [
      " 90%|█████████ | 45/50 [16:52<01:51, 22.30s/it]"
     ]
    },
    {
     "name": "stdout",
     "output_type": "stream",
     "text": [
      "Epoch 45/50, Training Loss: 20.264150943396228, Validation Loss: 33.05357142857143\n"
     ]
    },
    {
     "name": "stderr",
     "output_type": "stream",
     "text": [
      " 92%|█████████▏| 46/50 [17:15<01:29, 22.33s/it]"
     ]
    },
    {
     "name": "stdout",
     "output_type": "stream",
     "text": [
      "Epoch 46/50, Training Loss: 19.45872641509434, Validation Loss: 24.696428571428573\n"
     ]
    },
    {
     "name": "stderr",
     "output_type": "stream",
     "text": [
      " 94%|█████████▍| 47/50 [17:37<01:07, 22.45s/it]"
     ]
    },
    {
     "name": "stdout",
     "output_type": "stream",
     "text": [
      "Epoch 47/50, Training Loss: 20.650353773584907, Validation Loss: 25.013392857142858\n"
     ]
    },
    {
     "name": "stderr",
     "output_type": "stream",
     "text": [
      " 96%|█████████▌| 48/50 [18:00<00:44, 22.47s/it]"
     ]
    },
    {
     "name": "stdout",
     "output_type": "stream",
     "text": [
      "Epoch 48/50, Training Loss: 19.377948113207548, Validation Loss: 22.763392857142858\n"
     ]
    },
    {
     "name": "stderr",
     "output_type": "stream",
     "text": [
      " 98%|█████████▊| 49/50 [18:23<00:22, 22.60s/it]"
     ]
    },
    {
     "name": "stdout",
     "output_type": "stream",
     "text": [
      "Epoch 49/50, Training Loss: 19.17924528301887, Validation Loss: 24.758928571428573\n"
     ]
    },
    {
     "name": "stderr",
     "output_type": "stream",
     "text": [
      "100%|██████████| 50/50 [18:45<00:00, 22.51s/it]"
     ]
    },
    {
     "name": "stdout",
     "output_type": "stream",
     "text": [
      "Epoch 50/50, Training Loss: 20.432193396226417, Validation Loss: 51.964285714285715\n"
     ]
    },
    {
     "name": "stderr",
     "output_type": "stream",
     "text": [
      "\n"
     ]
    },
    {
     "data": {
      "image/png": "[encoded data removed]",
      "text/plain": [
       "<Figure size 640x480 with 1 Axes>"
      ]
     },
     "metadata": {},
     "output_type": "display_data"
    }
   ],
   "source": [
    "from torch.nn import MSELoss\n",
    "from tqdm import trange\n",
    "from torch.optim import Adam\n",
    "import matplotlib.pyplot as plt\n",
    "\n",
    "device = torch.device(\"cuda\" if torch.cuda.is_available() else \"cpu\")\n",
    "net = net.to(device)\n",
    "\n",
    "# Hyperparameters\n",
    "n_epochs = 50\n",
    "learning_rate = 1e-3\n",
    "target_firing_rate_value = 10  \n",
    "\n",
    "optimizer = Adam(net.parameters().astorch(), lr=learning_rate)\n",
    "loss_fun = MSELoss()\n",
    "\n",
    "# Store losses for plotting\n",
    "train_losses = []\n",
    "val_losses = []\n",
    "\n",
    "# Training phase\n",
    "for epoch in trange(n_epochs):\n",
    "    net.train()\n",
    "    epoch_loss = 0\n",
    "    for batch in train_loader:\n",
    "        inputs, labels = batch\n",
    "        inputs = inputs.permute(0, 2, 1)\n",
    "        optimizer.zero_grad()\n",
    "        outputs, _, _ = net(inputs)\n",
    "        outputs_sum = outputs.sum(dim=1)  # Sum over the time dimension\n",
    "\n",
    "        # target firing rate tensor\n",
    "        target_firing_rate = torch.zeros_like(outputs_sum).to(device)\n",
    "        target_firing_rate[labels == 1] = target_firing_rate_value\n",
    "        target_firing_rate[labels == 0] = 0\n",
    "\n",
    "        loss = loss_fun(outputs_sum, target_firing_rate)\n",
    "        loss.backward()\n",
    "        optimizer.step()\n",
    "        epoch_loss += loss.item()\n",
    "    \n",
    "    train_losses.append(epoch_loss / len(train_loader))\n",
    "\n",
    "    \n",
    "    # Validation phase\n",
    "    net.eval()\n",
    "    val_loss = 0\n",
    "    with torch.no_grad():\n",
    "        for batch in val_loader:\n",
    "            inputs, labels = batch\n",
    "            inputs = inputs.permute(0, 2, 1)\n",
    "            outputs, _, _ = net(inputs)\n",
    "            outputs_sum = outputs.sum(dim=1)\n",
    "            target_firing_rate = torch.zeros_like(outputs_sum).to(device)\n",
    "            target_firing_rate[labels == 1] = target_firing_rate_value\n",
    "            target_firing_rate[labels == 0] = 0\n",
    "            loss = loss_fun(outputs_sum, target_firing_rate)\n",
    "            val_loss += loss.item()\n",
    "    val_losses.append(val_loss / len(val_loader))  \n",
    "\n",
    "    print(f\"Epoch {epoch+1}/{n_epochs}, Training Loss: {train_losses[-1]}, Validation Loss: {val_losses[-1]}\")\n",
    "\n",
    "plt.plot(train_losses, label='Training Loss')\n",
    "plt.plot(val_losses, label='Validation Loss')\n",
    "plt.xlabel('Epoch')\n",
    "plt.ylabel('Loss')\n",
    "plt.legend()\n",
    "plt.show() "
   ]
  },
  {
   "cell_type": "code",
   "execution_count": 12,
   "metadata": {},
   "outputs": [
    {
     "name": "stdout",
     "output_type": "stream",
     "text": [
      "torch.Size([32, 1])\n",
      "torch.Size([32])\n"
     ]
    }
   ],
   "source": [
    "print(outputs.shape)  # Should be [batch_size, num_classes]\n",
    "print(labels.shape)    # Should be [batch_size]\n"
   ]
  },
  {
   "cell_type": "code",
   "execution_count": 18,
   "metadata": {},
   "outputs": [
    {
     "name": "stdout",
     "output_type": "stream",
     "text": [
      "Epoch 50/50, Training Loss: 0.5697396380721398, Validation Loss: 0.5542820351464408\n"
     ]
    }
   ],
   "source": [
    "from torch.nn import BCEWithLogitsLoss\n",
    "\n",
    "# Hyperparameters\n",
    "n_epochs = 50\n",
    "learning_rate = 1e-3\n",
    "\n",
    "optimizer = Adam(net.parameters().astorch(), lr=learning_rate)\n",
    "loss_fun = BCEWithLogitsLoss()\n",
    "\n",
    "# Store losses for plotting\n",
    "train_losses = []\n",
    "val_losses = []\n",
    "\n",
    "# Training phase\n",
    "for epoch in range(n_epochs):\n",
    "    net.train()\n",
    "    epoch_loss = 0\n",
    "    for batch in train_loader:\n",
    "        inputs, labels = batch\n",
    "        inputs = inputs.permute(0, 2, 1)\n",
    "        optimizer.zero_grad()\n",
    "        outputs, _, _ = net(inputs)\n",
    "        outputs = outputs[:, -1, :].squeeze()  # Squeeze the output to shape [batch_size]\n",
    "        loss = loss_fun(outputs, labels.float())  # Use float labels for BCEWithLogitsLoss\n",
    "        loss.backward()\n",
    "        optimizer.step()\n",
    "        epoch_loss += loss.item()\n",
    "    \n",
    "    train_losses.append(epoch_loss / len(train_loader))\n",
    "\n",
    "# Track all predictions and true labels\n",
    "all_outputs = []\n",
    "all_labels = []\n",
    "\n",
    "# Validation phase\n",
    "net.eval()\n",
    "val_loss = 0\n",
    "with torch.no_grad():\n",
    "    for batch in val_loader:\n",
    "        inputs, labels = batch\n",
    "        inputs = inputs.permute(0, 2, 1)\n",
    "        outputs, _, _ = net(inputs)\n",
    "        outputs = outputs[:, -1, :].squeeze()  # Squeeze the output to shape [batch_size]\n",
    "        loss = loss_fun(outputs, labels.float())  # Use float labels\n",
    "        val_loss += loss.item()\n",
    "\n",
    "        # Collect predictions and true labels\n",
    "        all_outputs.append(outputs)\n",
    "        all_labels.append(labels)\n",
    "\n",
    "# Concatenate all predictions and labels\n",
    "all_outputs = torch.cat(all_outputs).cpu()\n",
    "all_labels = torch.cat(all_labels).cpu()\n",
    "\n",
    "# Convert to numpy for metric calculations\n",
    "y_pred_proba = all_outputs.numpy()\n",
    "y_true = all_labels.numpy()\n",
    "\n",
    "val_losses.append(val_loss / len(val_loader))\n",
    "\n",
    "print(f\"Epoch {epoch+1}/{n_epochs}, Training Loss: {train_losses[-1]}, Validation Loss: {val_losses[-1]}\")\n"
   ]
  },
  {
   "cell_type": "code",
   "execution_count": 21,
   "metadata": {},
   "outputs": [],
   "source": [
    "import numpy as np\n",
    "\n",
    "def calculate_metrics_at_threshold(outputs, labels, threshold):\n",
    "    \"\"\"\n",
    "    Calculate False Detection Rate (FDR) and Miss Rate based on the firing threshold.\n",
    "    \n",
    "    Parameters:\n",
    "    - outputs: Spike outputs from the SNN (shape: [n_samples, n_classes])\n",
    "    - labels: True class labels (shape: [n_samples])\n",
    "    - threshold: Firing threshold for classifying an output as a positive event\n",
    "    \n",
    "    Returns:\n",
    "    - fdr: False Detection Rate\n",
    "    - miss_rate: Miss Rate\n",
    "    \"\"\"\n",
    "    # Apply threshold to outputs: 1 if neuron spike rate is above threshold, 0 otherwise\n",
    "    predicted = (outputs > threshold).astype(int)\n",
    "    \n",
    "    # Assuming binary classification (0 and 1)\n",
    "    tp = np.sum((predicted == 1) & (labels == 1))  # True Positives\n",
    "    fp = np.sum((predicted == 1) & (labels == 0))  # False Positives\n",
    "    fn = np.sum((predicted == 0) & (labels == 1))  # False Negatives\n",
    "    tn = np.sum((predicted == 0) & (labels == 0))  # True Negatives\n",
    "    \n",
    "    # Calculate FDR and Miss Rate\n",
    "    fdr = fp / (fp + tn) if (fp + tn) > 0 else 0\n",
    "    miss_rate = fn / (fn + tp) if (fn + tp) > 0 else 0\n",
    "    \n",
    "    return fdr, miss_rate\n"
   ]
  },
  {
   "cell_type": "markdown",
   "metadata": {},
   "source": [
    "Vary the Firing Threshold and Calculate Metrics"
   ]
  },
  {
   "cell_type": "code",
   "execution_count": 24,
   "metadata": {},
   "outputs": [
    {
     "data": {
      "image/png": "[encoded data removed]",
      "text/plain": [
       "<Figure size 640x480 with 1 Axes>"
      ]
     },
     "metadata": {},
     "output_type": "display_data"
    }
   ],
   "source": [
    "# Define thresholds to evaluate (e.g., vary from 0 to 1 with 50 steps)\n",
    "thresholds = np.linspace(0, 1, 50)\n",
    "\n",
    "fdr_values = []\n",
    "miss_rate_values = []\n",
    "\n",
    "# Loop over thresholds and calculate FDR and Miss Rate at each threshold\n",
    "for threshold in thresholds:\n",
    "    fdr, miss_rate = calculate_metrics_at_threshold(y_pred_proba, y_true, threshold)\n",
    "    fdr_values.append(fdr)\n",
    "    miss_rate_values.append(miss_rate)\n",
    "\n",
    "\n",
    "# Plot FDR vs. Miss Rate\n",
    "plt.plot(fdr_values, miss_rate_values, label='ROC-like Curve (FDR vs. Miss Rate)')\n",
    "plt.xlabel('False Detection Rate (FDR)')\n",
    "plt.ylabel('Miss Rate')\n",
    "plt.title('ROC-like Curve for SNN')\n",
    "plt.grid(True)\n",
    "plt.legend()\n",
    "plt.show()"
   ]
  },
  {
   "cell_type": "code",
   "execution_count": 25,
   "metadata": {},
   "outputs": [
    {
     "name": "stdout",
     "output_type": "stream",
     "text": [
      "Custom AUC: -0.08\n"
     ]
    }
   ],
   "source": [
    "# Calculate AUC using the trapezoidal rule\n",
    "auc_value = np.trapz(miss_rate_values, fdr_values)\n",
    "print(f\"Custom AUC: {auc_value:.2f}\")\n"
   ]
  },
  {
   "cell_type": "markdown",
   "metadata": {},
   "source": []
  }
 ],
 "metadata": {
  "kernelspec": {
   "display_name": "capstone",
   "language": "python",
   "name": "python3"
  },
  "language_info": {
   "codemirror_mode": {
    "name": "ipython",
    "version": 3
   },
   "file_extension": ".py",
   "mimetype": "text/x-python",
   "name": "python",
   "nbconvert_exporter": "python",
   "pygments_lexer": "ipython3",
   "version": "3.8.19"
  }
 },
 "nbformat": 4,
 "nbformat_minor": 2
}
