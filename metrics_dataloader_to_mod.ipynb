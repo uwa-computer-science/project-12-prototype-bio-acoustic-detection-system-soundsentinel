{
 "cells": [
  {
   "cell_type": "code",
   "execution_count": null,
   "metadata": {},
   "outputs": [],
   "source": [
    "import numpy as np\n",
    "\n",
    "# Assuming predictions and ground_truths are already loaded and flattened\n",
    "predicted_labels = np.where(predictions > 0, 1, 0)  # Binary classification\n",
    "predicted_labels = predicted_labels.flatten()\n",
    "ground_truths = np.array(ground_truths).flatten()\n",
    "\n",
    "# Calculate Accuracy\n",
    "correct_predictions = (predicted_labels == ground_truths).sum()\n",
    "total_predictions = ground_truths.shape[0]\n",
    "accuracy = (correct_predictions / total_predictions) * 100\n",
    "\n",
    "# Calculate Precision, Recall, and F1-Score\n",
    "true_positives = ((predicted_labels == 1) & (ground_truths == 1)).sum()\n",
    "false_positives = ((predicted_labels == 1) & (ground_truths == 0)).sum()\n",
    "false_negatives = ((predicted_labels == 0) & (ground_truths == 1)).sum()\n",
    "\n",
    "# Precision: TP / (TP + FP)\n",
    "precision = true_positives / (true_positives + false_positives) if (true_positives + false_positives) > 0 else 0\n",
    "\n",
    "# Recall: TP / (TP + FN)\n",
    "recall = true_positives / (true_positives + false_negatives) if (true_positives + false_negatives) > 0 else 0\n",
    "\n",
    "# F1-Score: 2 * (Precision * Recall) / (Precision + Recall)\n",
    "f1_score = 2 * (precision * recall) / (precision + recall) if (precision + recall) > 0 else 0\n",
    "\n",
    "# Print results\n",
    "print(f\"Accuracy: {accuracy:.2f}%\")\n",
    "print(f\"Precision: {precision:.2f}\")\n",
    "print(f\"Recall: {recall:.2f}\")\n",
    "print(f\"F1-Score: {f1_score:.2f}\")\n"
   ]
  }
 ],
 "metadata": {
  "language_info": {
   "name": "python"
  }
 },
 "nbformat": 4,
 "nbformat_minor": 2
}
